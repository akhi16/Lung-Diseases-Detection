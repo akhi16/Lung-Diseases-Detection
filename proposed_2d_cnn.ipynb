{
  "cells": [
    {
      "cell_type": "code",
      "execution_count": null,
      "metadata": {
        "colab": {
          "base_uri": "https://localhost:8080/"
        },
        "id": "1LB96y-wfulP",
        "outputId": "1427fb41-2e81-4a6f-dd76-9cc5c9ccc59e"
      },
      "outputs": [
        {
          "output_type": "stream",
          "name": "stdout",
          "text": [
            "Mounted at /content/drive\n"
          ]
        }
      ],
      "source": [
        "from google.colab import drive\n",
        "drive.mount('/content/drive')"
      ]
    },
    {
      "cell_type": "code",
      "execution_count": null,
      "metadata": {
        "id": "0rYGdAjLf0tn"
      },
      "outputs": [],
      "source": [
        "import os\n",
        "import zipfile\n",
        "\n",
        "local_zip = '/content/drive/MyDrive/Final Dataset/COVID-19_CXR_Dataset_final.zip'  \n",
        "\n",
        "zip_ref = zipfile.ZipFile(local_zip, 'r')\n",
        "\n",
        "zip_ref.extractall('/content')\n",
        "zip_ref.close()"
      ]
    },
    {
      "cell_type": "code",
      "execution_count": null,
      "metadata": {
        "colab": {
          "base_uri": "https://localhost:8080/"
        },
        "id": "YoS7I0ajf0wM",
        "outputId": "c11a9abc-5957-4850-d4d0-132135fc1b1d"
      },
      "outputs": [
        {
          "output_type": "stream",
          "name": "stdout",
          "text": [
            "All changes made in this colab session should now be visible in Drive.\n"
          ]
        }
      ],
      "source": [
        "drive.flush_and_unmount()\n",
        "print('All changes made in this colab session should now be visible in Drive.')"
      ]
    },
    {
      "cell_type": "code",
      "execution_count": null,
      "metadata": {
        "colab": {
          "base_uri": "https://localhost:8080/"
        },
        "id": "6JqWEGYWf0yX",
        "outputId": "66f0d64b-35c1-4df2-c664-820b04bfa543"
      },
      "outputs": [
        {
          "output_type": "stream",
          "name": "stdout",
          "text": [
            "Looking in indexes: https://pypi.org/simple, https://us-python.pkg.dev/colab-wheels/public/simple/\n",
            "Collecting split-folders\n",
            "  Downloading split_folders-0.5.1-py3-none-any.whl (8.4 kB)\n",
            "Installing collected packages: split-folders\n",
            "Successfully installed split-folders-0.5.1\n"
          ]
        },
        {
          "output_type": "stream",
          "name": "stderr",
          "text": [
            "Copying files: 19909 files [00:09, 2064.54 files/s]\n"
          ]
        }
      ],
      "source": [
        "!pip install split-folders\n",
        "\n",
        "import splitfolders \n",
        "splitfolders.ratio('/content/COVID-19_CXR_Dataset_final', output=\"output\", seed=1337, ratio=(.8, 0.2))"
      ]
    },
    {
      "cell_type": "code",
      "execution_count": null,
      "metadata": {
        "colab": {
          "base_uri": "https://localhost:8080/"
        },
        "id": "v4LDb1lnf00s",
        "outputId": "fc0a9642-e939-48e9-eaa3-bf6f1f7cd361"
      },
      "outputs": [
        {
          "output_type": "stream",
          "name": "stdout",
          "text": [
            "1076\n"
          ]
        }
      ],
      "source": [
        "import glob\n",
        "print (len(glob.glob('/content/output/train/Viral Pneumonia/*')))"
      ]
    },
    {
      "cell_type": "code",
      "source": [
        "import glob\n",
        "print (len(glob.glob('/content/output/train/COVID/*')))"
      ],
      "metadata": {
        "colab": {
          "base_uri": "https://localhost:8080/"
        },
        "id": "Le22FBq5yPVc",
        "outputId": "c2488411-20cf-4b86-f81b-2ea916082dc5"
      },
      "execution_count": null,
      "outputs": [
        {
          "output_type": "stream",
          "name": "stdout",
          "text": [
            "2892\n"
          ]
        }
      ]
    },
    {
      "cell_type": "code",
      "source": [
        "import glob\n",
        "print (len(glob.glob('/content/output/train/Tuberculosis/*')))"
      ],
      "metadata": {
        "colab": {
          "base_uri": "https://localhost:8080/"
        },
        "id": "cTUm50JQx3N3",
        "outputId": "95ef1f7d-2078-4e05-aa8d-c67bf092742a"
      },
      "execution_count": null,
      "outputs": [
        {
          "output_type": "stream",
          "name": "stdout",
          "text": [
            "2800\n"
          ]
        }
      ]
    },
    {
      "cell_type": "code",
      "source": [
        "import glob\n",
        "print (len(glob.glob('/content/output/train/Fibrosis/*')))"
      ],
      "metadata": {
        "colab": {
          "base_uri": "https://localhost:8080/"
        },
        "id": "rTWzClPIyFTP",
        "outputId": "58fd4876-66dc-4b9a-ad15-ea70d4269737"
      },
      "execution_count": null,
      "outputs": [
        {
          "output_type": "stream",
          "name": "stdout",
          "text": [
            "1348\n"
          ]
        }
      ]
    },
    {
      "cell_type": "code",
      "execution_count": null,
      "metadata": {
        "colab": {
          "base_uri": "https://localhost:8080/"
        },
        "id": "6X7qsRb9f03A",
        "outputId": "3bd4a279-cd4d-4792-a1f0-de53667365ee"
      },
      "outputs": [
        {
          "output_type": "stream",
          "name": "stdout",
          "text": [
            "2024\n"
          ]
        }
      ],
      "source": [
        "import glob\n",
        "print (len(glob.glob('/content/output/train/Bacterial Pneumonia/*')))"
      ]
    },
    {
      "cell_type": "code",
      "execution_count": null,
      "metadata": {
        "colab": {
          "base_uri": "https://localhost:8080/"
        },
        "id": "oJASjqwwf05b",
        "outputId": "b90510d7-16c6-45cf-f5ff-494473201ccc"
      },
      "outputs": [
        {
          "output_type": "stream",
          "name": "stdout",
          "text": [
            "<class 'numpy.ndarray'>\n",
            "(940, 1242, 3)\n",
            "<class 'tuple'>\n"
          ]
        }
      ],
      "source": [
        "import cv2\n",
        "\n",
        "im = cv2.imread('/content/output/train/Bacterial Pneumonia/person1002_bacteria_2933.jpeg')\n",
        "\n",
        "print(type(im))\n",
        "# <class 'numpy.ndarray'>\n",
        "\n",
        "print(im.shape)\n",
        "print(type(im.shape))\n",
        "# (225, 400, 3)\n",
        "# <class 'tuple'>"
      ]
    },
    {
      "cell_type": "code",
      "execution_count": null,
      "metadata": {
        "id": "DH0k9BrJf07v"
      },
      "outputs": [],
      "source": [
        "from tensorflow.keras.preprocessing.image import ImageDataGenerator, array_to_img, img_to_array, load_img\n",
        "from PIL import Image\n",
        "datagen = ImageDataGenerator(\n",
        " rotation_range= 30,\n",
        " width_shift_range=0.2,\n",
        " height_shift_range=0.2,\n",
        " shear_range=0.2,\n",
        " zoom_range=0.2,\n",
        " horizontal_flip=False,\n",
        " fill_mode='nearest'\n",
        ")"
      ]
    },
    {
      "cell_type": "code",
      "execution_count": null,
      "metadata": {
        "id": "IY91eH-_f0-J"
      },
      "outputs": [],
      "source": [
        "img = load_img('/content/output/train/Bacterial Pneumonia/person1001_bacteria_2932.jpeg') \n",
        "x = img_to_array(img) \n",
        "x = x.reshape((1,) + x.shape)\n",
        "i = 0\n",
        "for batch in datagen.flow(x, batch_size=1,\n",
        " save_to_dir='/content/output/train/Bacterial Pneumonia',\n",
        " save_prefix='br', save_format='jpeg'):\n",
        " i += 1\n",
        " if i > 200:\n",
        "    break"
      ]
    },
    {
      "cell_type": "code",
      "execution_count": null,
      "metadata": {
        "id": "LLu5NpXKf1Ar"
      },
      "outputs": [],
      "source": [
        "img = load_img('/content/output/train/Bacterial Pneumonia/person19_bacteria_59.jpeg') \n",
        "x = img_to_array(img) \n",
        "x = x.reshape((1,) + x.shape)\n",
        "i = 0\n",
        "for batch in datagen.flow(x, batch_size=1,\n",
        " save_to_dir='/content/output/train/Bacterial Pneumonia',\n",
        " save_prefix='br', save_format='jpeg'):\n",
        " i += 1\n",
        " if i > 200:\n",
        "    break"
      ]
    },
    {
      "cell_type": "code",
      "execution_count": null,
      "metadata": {
        "id": "8YTgvq8ff1DQ"
      },
      "outputs": [],
      "source": [
        "img = load_img('/content/output/train/Bacterial Pneumonia/person1941_bacteria_4863.jpeg') \n",
        "x = img_to_array(img) \n",
        "x = x.reshape((1,) + x.shape)\n",
        "i = 0\n",
        "for batch in datagen.flow(x, batch_size=1,\n",
        " save_to_dir='/content/output/train/Bacterial Pneumonia',\n",
        " save_prefix='br', save_format='jpeg'):\n",
        " i += 1\n",
        " if i > 200:\n",
        "    break"
      ]
    },
    {
      "cell_type": "code",
      "execution_count": null,
      "metadata": {
        "id": "vtplAtAyf1Fp"
      },
      "outputs": [],
      "source": [
        "img = load_img('/content/output/train/Bacterial Pneumonia/person1941_bacteria_4863.jpeg') \n",
        "x = img_to_array(img) \n",
        "x = x.reshape((1,) + x.shape)\n",
        "i = 0\n",
        "for batch in datagen.flow(x, batch_size=1,\n",
        " save_to_dir='/content/output/train/Bacterial Pneumonia',\n",
        " save_prefix='br', save_format='jpeg'):\n",
        " i += 1\n",
        " if i > 200:\n",
        "    break"
      ]
    },
    {
      "cell_type": "code",
      "execution_count": null,
      "metadata": {
        "id": "eBdo2XH-f1IA"
      },
      "outputs": [],
      "source": [
        "img = load_img('/content/output/train/Bacterial Pneumonia/person1063_bacteria_2997.jpeg') \n",
        "x = img_to_array(img) \n",
        "x = x.reshape((1,) + x.shape)\n",
        "i = 0\n",
        "for batch in datagen.flow(x, batch_size=1,\n",
        " save_to_dir='/content/output/train/Bacterial Pneumonia',\n",
        " save_prefix='br', save_format='jpeg'):\n",
        " i += 1\n",
        " if i > 68:\n",
        "    break"
      ]
    },
    {
      "cell_type": "code",
      "execution_count": null,
      "metadata": {
        "id": "UifjfS9Mf1M6"
      },
      "outputs": [],
      "source": [
        "img = load_img('/content/output/train/Bacterial Pneumonia/person1084_bacteria_3024.jpeg') \n",
        "x = img_to_array(img) \n",
        "x = x.reshape((1,) + x.shape)\n",
        "i = 0\n",
        "for batch in datagen.flow(x, batch_size=1,\n",
        " save_to_dir='/content/output/train/Bacterial Pneumonia',\n",
        " save_prefix='br', save_format='jpeg'):\n",
        " i += 1\n",
        " if i > 26:\n",
        "    break"
      ]
    },
    {
      "cell_type": "code",
      "execution_count": null,
      "metadata": {
        "colab": {
          "base_uri": "https://localhost:8080/"
        },
        "id": "Q6QQfsbI4JWo",
        "outputId": "b3f96630-29cd-42ef-eafc-6164252f061b"
      },
      "outputs": [
        {
          "output_type": "stream",
          "name": "stdout",
          "text": [
            "2894\n"
          ]
        }
      ],
      "source": [
        "import glob\n",
        "print (len(glob.glob('/content/output/train/Bacterial Pneumonia/*')))"
      ]
    },
    {
      "cell_type": "code",
      "execution_count": null,
      "metadata": {
        "colab": {
          "base_uri": "https://localhost:8080/"
        },
        "id": "cAaSiVEXf1Pg",
        "outputId": "9aae7f62-1dce-4022-fd4c-bb81b9389d8f"
      },
      "outputs": [
        {
          "output_type": "stream",
          "name": "stdout",
          "text": [
            "2800\n"
          ]
        }
      ],
      "source": [
        "import glob\n",
        "print (len(glob.glob('/content/output/train/Tuberculosis/*')))"
      ]
    },
    {
      "cell_type": "code",
      "execution_count": null,
      "metadata": {
        "id": "V-USrdf7f1R9"
      },
      "outputs": [],
      "source": [
        "img = load_img('/content/output/train/Tuberculosis/Tuberculosis-1002.png') \n",
        "x = img_to_array(img) \n",
        "x = x.reshape((1,) + x.shape)\n",
        "i = 0\n",
        "for batch in datagen.flow(x, batch_size=1,\n",
        " save_to_dir='/content/output/train/Tuberculosis',\n",
        " save_prefix='br', save_format='jpeg'):\n",
        " i += 1\n",
        " if i >70 :\n",
        "    break"
      ]
    },
    {
      "cell_type": "code",
      "execution_count": null,
      "metadata": {
        "colab": {
          "base_uri": "https://localhost:8080/"
        },
        "id": "UVL-P-tkf1W2",
        "outputId": "164950a6-cf46-49c9-8fc7-dcc8cf942415"
      },
      "outputs": [
        {
          "output_type": "stream",
          "name": "stdout",
          "text": [
            "2871\n"
          ]
        }
      ],
      "source": [
        "import glob\n",
        "print (len(glob.glob('/content/output/train/Tuberculosis/*')))"
      ]
    },
    {
      "cell_type": "code",
      "execution_count": null,
      "metadata": {
        "id": "ZJ742BYU2LgD"
      },
      "outputs": [],
      "source": [
        "img = load_img('/content/output/train/Tuberculosis/Tuberculosis-10.png') \n",
        "x = img_to_array(img) \n",
        "x = x.reshape((1,) + x.shape)\n",
        "i = 0\n",
        "for batch in datagen.flow(x, batch_size=1,\n",
        " save_to_dir='/content/output/train/Tuberculosis',\n",
        " save_prefix='br', save_format='jpeg'):\n",
        " i += 1\n",
        " if i >20 :\n",
        "    break"
      ]
    },
    {
      "cell_type": "code",
      "execution_count": null,
      "metadata": {
        "colab": {
          "base_uri": "https://localhost:8080/"
        },
        "id": "2eL16U152Lm0",
        "outputId": "1c29d5b0-e13c-45d5-e0f4-81f652c9775f"
      },
      "outputs": [
        {
          "output_type": "stream",
          "name": "stdout",
          "text": [
            "2892\n"
          ]
        }
      ],
      "source": [
        "import glob\n",
        "print (len(glob.glob('/content/output/train/Tuberculosis/*')))"
      ]
    },
    {
      "cell_type": "code",
      "execution_count": null,
      "metadata": {
        "colab": {
          "base_uri": "https://localhost:8080/"
        },
        "id": "4cvJgXOh2LpJ",
        "outputId": "f9f2d4d6-587b-43a8-8b0f-6a822bcdfc76"
      },
      "outputs": [
        {
          "output_type": "stream",
          "name": "stdout",
          "text": [
            "1076\n"
          ]
        }
      ],
      "source": [
        "import glob\n",
        "print (len(glob.glob('/content/output/train/Viral Pneumonia/*')))"
      ]
    },
    {
      "cell_type": "code",
      "execution_count": null,
      "metadata": {
        "id": "WQpsBtBw2Lrj"
      },
      "outputs": [],
      "source": [
        "img = load_img('/content/output/train/Viral Pneumonia/Viral Pneumonia-1001.png') \n",
        "x = img_to_array(img) \n",
        "x = x.reshape((1,) + x.shape)\n",
        "i = 0\n",
        "for batch in datagen.flow(x, batch_size=1,\n",
        " save_to_dir='/content/output/train/Viral Pneumonia',\n",
        " save_prefix='br', save_format='jpeg'):\n",
        " i += 1\n",
        " if i >500 :\n",
        "    break"
      ]
    },
    {
      "cell_type": "code",
      "execution_count": null,
      "metadata": {
        "id": "wsequC992Ltm"
      },
      "outputs": [],
      "source": [
        "img = load_img('/content/output/train/Viral Pneumonia/Viral Pneumonia-1041.png') \n",
        "x = img_to_array(img) \n",
        "x = x.reshape((1,) + x.shape)\n",
        "i = 0\n",
        "for batch in datagen.flow(x, batch_size=1,\n",
        " save_to_dir='/content/output/train/Viral Pneumonia',\n",
        " save_prefix='br', save_format='jpeg'):\n",
        " i += 1\n",
        " if i >500 :\n",
        "    break"
      ]
    },
    {
      "cell_type": "code",
      "execution_count": null,
      "metadata": {
        "colab": {
          "base_uri": "https://localhost:8080/"
        },
        "id": "1KckJrF52LwH",
        "outputId": "62bf9a4c-edb9-4d2d-9703-c88fc8f4b63d"
      },
      "outputs": [
        {
          "output_type": "stream",
          "name": "stdout",
          "text": [
            "2033\n"
          ]
        }
      ],
      "source": [
        "import glob\n",
        "print (len(glob.glob('/content/output/train/Viral Pneumonia/*')))"
      ]
    },
    {
      "cell_type": "code",
      "execution_count": null,
      "metadata": {
        "id": "bkjQNFx72LyJ"
      },
      "outputs": [],
      "source": [
        "img = load_img('/content/output/train/Viral Pneumonia/Viral Pneumonia-1094.png') \n",
        "x = img_to_array(img) \n",
        "x = x.reshape((1,) + x.shape)\n",
        "i = 0\n",
        "for batch in datagen.flow(x, batch_size=1,\n",
        " save_to_dir='/content/output/train/Viral Pneumonia',\n",
        " save_prefix='br', save_format='jpeg'):\n",
        " i += 1\n",
        " if i >850 :\n",
        "    break"
      ]
    },
    {
      "cell_type": "code",
      "execution_count": null,
      "metadata": {
        "id": "IljvakUL2L0V"
      },
      "outputs": [],
      "source": [
        "img = load_img('/content/output/train/Viral Pneumonia/Viral Pneumonia-1085.png') \n",
        "x = img_to_array(img) \n",
        "x = x.reshape((1,) + x.shape)\n",
        "i = 0\n",
        "for batch in datagen.flow(x, batch_size=1,\n",
        " save_to_dir='/content/output/train/Viral Pneumonia',\n",
        " save_prefix='br', save_format='jpeg'):\n",
        " i += 1\n",
        " if i >136 :\n",
        "    break"
      ]
    },
    {
      "cell_type": "code",
      "execution_count": null,
      "metadata": {
        "colab": {
          "base_uri": "https://localhost:8080/"
        },
        "id": "rjJLLbh-f1b9",
        "outputId": "3298abc8-4160-48ee-f3a7-f525868884dd"
      },
      "outputs": [
        {
          "output_type": "stream",
          "name": "stdout",
          "text": [
            "2886\n"
          ]
        }
      ],
      "source": [
        "import glob\n",
        "print (len(glob.glob('/content/output/train/Viral Pneumonia/*')))"
      ]
    },
    {
      "cell_type": "code",
      "execution_count": null,
      "metadata": {
        "id": "_ANkbIPdAu84"
      },
      "outputs": [],
      "source": [
        "img = load_img('/content/output/train/Viral Pneumonia/Viral Pneumonia-707.png') \n",
        "x = img_to_array(img) \n",
        "x = x.reshape((1,) + x.shape)\n",
        "i = 0\n",
        "for batch in datagen.flow(x, batch_size=1,\n",
        " save_to_dir='/content/output/train/Viral Pneumonia',\n",
        " save_prefix='br', save_format='jpeg'):\n",
        " i += 1\n",
        " if i >27 :\n",
        "    break"
      ]
    },
    {
      "cell_type": "code",
      "execution_count": null,
      "metadata": {
        "id": "WvEEbnnfAvAy"
      },
      "outputs": [],
      "source": [
        "img = load_img('/content/output/train/Viral Pneumonia/Viral Pneumonia-704.png') \n",
        "x = img_to_array(img) \n",
        "x = x.reshape((1,) + x.shape)\n",
        "i = 0\n",
        "for batch in datagen.flow(x, batch_size=1,\n",
        " save_to_dir='/content/output/train/Viral Pneumonia',\n",
        " save_prefix='br', save_format='jpeg'):\n",
        " i += 1\n",
        " if i >5 :\n",
        "    break"
      ]
    },
    {
      "cell_type": "code",
      "source": [
        "import glob\n",
        "print (len(glob.glob('/content/output/train/Viral Pneumonia/*')))"
      ],
      "metadata": {
        "colab": {
          "base_uri": "https://localhost:8080/"
        },
        "id": "cQFr9UzFXk-R",
        "outputId": "e6c4d4f3-243d-408e-af04-7b1022bc0f23"
      },
      "execution_count": null,
      "outputs": [
        {
          "output_type": "stream",
          "name": "stdout",
          "text": [
            "2892\n"
          ]
        }
      ]
    },
    {
      "cell_type": "code",
      "execution_count": null,
      "metadata": {
        "id": "-87gEYCCBC-g"
      },
      "outputs": [],
      "source": [
        "img = load_img('/content/output/train/Fibrosis/00000061_013.png') \n",
        "x = img_to_array(img) \n",
        "x = x.reshape((1,) + x.shape)\n",
        "i = 0\n",
        "for batch in datagen.flow(x, batch_size=1,\n",
        " save_to_dir='/content/output/train/Fibrosis',\n",
        " save_prefix='br', save_format='jpeg'):\n",
        " i += 1\n",
        " if i ==1543 :\n",
        "    break"
      ]
    },
    {
      "cell_type": "markdown",
      "metadata": {
        "id": "zVCdg3NNEAXC"
      },
      "source": []
    },
    {
      "cell_type": "code",
      "execution_count": null,
      "metadata": {
        "id": "JlR4Ond_BDCp"
      },
      "outputs": [],
      "source": [
        "img = load_img('/content/output/train/Fibrosis/00000067_000.png') \n",
        "x = img_to_array(img) \n",
        "x = x.reshape((1,) + x.shape)\n",
        "i = 0\n",
        "for batch in datagen.flow(x, batch_size=1,\n",
        " save_to_dir='/content/output/train/Fibrosis',\n",
        " save_prefix='br', save_format='jpeg'):\n",
        " i += 1\n",
        " if i > 130 :\n",
        "    break"
      ]
    },
    {
      "cell_type": "code",
      "execution_count": null,
      "metadata": {
        "id": "AR1JZhZVBDFI"
      },
      "outputs": [],
      "source": [
        "img = load_img('/content/output/train/Fibrosis/00000099_013.png') \n",
        "x = img_to_array(img) \n",
        "x = x.reshape((1,) + x.shape)\n",
        "i = 0\n",
        "for batch in datagen.flow(x, batch_size=1,\n",
        " save_to_dir='/content/output/train/Fibrosis',\n",
        " save_prefix='br', save_format='jpeg'):\n",
        " i += 1\n",
        " if i > 13 :\n",
        "    break"
      ]
    },
    {
      "cell_type": "code",
      "execution_count": null,
      "metadata": {
        "colab": {
          "base_uri": "https://localhost:8080/"
        },
        "id": "1pzFHO4dBDHL",
        "outputId": "e2cb7556-8e55-4db5-8bc0-5542b5b90d3a"
      },
      "outputs": [
        {
          "output_type": "stream",
          "name": "stdout",
          "text": [
            "2892\n"
          ]
        }
      ],
      "source": [
        "import glob\n",
        "print (len(glob.glob('/content/output/train/Fibrosis/*')))"
      ]
    },
    {
      "cell_type": "code",
      "execution_count": null,
      "metadata": {
        "id": "GWPU95DrGLdu"
      },
      "outputs": [],
      "source": [
        "import pickle\n",
        "import gc\n",
        "import cv2\n",
        "import matplotlib.pyplot as plt\n",
        "import numpy as np\n",
        "import tensorflow as tf\n",
        "from keras import Model\n",
        "\n",
        "from keras.utils.np_utils import to_categorical\n",
        "import time\n",
        "from keras.models import Sequential\n",
        "from tensorflow.keras.optimizers import RMSprop\n",
        "import keras\n",
        "from keras.layers import Conv2D, MaxPool2D, Flatten, Dense, InputLayer, BatchNormalization, Dropout\n",
        "from keras.utils import np_utils\n",
        "from tensorflow.keras.optimizers import Adam\n",
        "from keras.callbacks import LearningRateScheduler, ModelCheckpoint\n",
        "from keras.preprocessing.image import ImageDataGenerator\n",
        "from keras.regularizers import l2\n",
        "import tensorflow as tf\n",
        "\n",
        "from tensorflow.keras.layers import BatchNormalization"
      ]
    },
    {
      "cell_type": "code",
      "execution_count": null,
      "metadata": {
        "colab": {
          "base_uri": "https://localhost:8080/"
        },
        "id": "PtGcLezfGLf_",
        "outputId": "7cff54dd-b831-4788-bc8b-34905e155e0a"
      },
      "outputs": [
        {
          "output_type": "stream",
          "name": "stdout",
          "text": [
            "Model: \"sequential_3\"\n",
            "_________________________________________________________________\n",
            " Layer (type)                Output Shape              Param #   \n",
            "=================================================================\n",
            " conv2d_9 (Conv2D)           (None, 299, 299, 32)      896       \n",
            "                                                                 \n",
            " max_pooling2d_9 (MaxPooling  (None, 100, 100, 32)     0         \n",
            " 2D)                                                             \n",
            "                                                                 \n",
            " conv2d_10 (Conv2D)          (None, 100, 100, 64)      18496     \n",
            "                                                                 \n",
            " max_pooling2d_10 (MaxPoolin  (None, 34, 34, 64)       0         \n",
            " g2D)                                                            \n",
            "                                                                 \n",
            " conv2d_11 (Conv2D)          (None, 34, 34, 128)       73856     \n",
            "                                                                 \n",
            " max_pooling2d_11 (MaxPoolin  (None, 12, 12, 128)      0         \n",
            " g2D)                                                            \n",
            "                                                                 \n",
            " flatten_3 (Flatten)         (None, 18432)             0         \n",
            "                                                                 \n",
            " dense_12 (Dense)            (None, 512)               9437696   \n",
            "                                                                 \n",
            " dropout_9 (Dropout)         (None, 512)               0         \n",
            "                                                                 \n",
            " dense_13 (Dense)            (None, 256)               131328    \n",
            "                                                                 \n",
            " dropout_10 (Dropout)        (None, 256)               0         \n",
            "                                                                 \n",
            " dense_14 (Dense)            (None, 128)               32896     \n",
            "                                                                 \n",
            " dropout_11 (Dropout)        (None, 128)               0         \n",
            "                                                                 \n",
            " dense_15 (Dense)            (None, 7)                 903       \n",
            "                                                                 \n",
            "=================================================================\n",
            "Total params: 9,696,071\n",
            "Trainable params: 9,696,071\n",
            "Non-trainable params: 0\n",
            "_________________________________________________________________\n"
          ]
        }
      ],
      "source": [
        "from keras.models import Sequential\n",
        "\n",
        "import keras\n",
        "from keras.layers import Conv2D, MaxPool2D, Flatten, Dense, InputLayer, BatchNormalization, Dropout\n",
        "from keras.utils import np_utils\n",
        "\n",
        "from keras.callbacks import LearningRateScheduler, ModelCheckpoint\n",
        "from keras.preprocessing.image import ImageDataGenerator\n",
        "from keras.regularizers import l2\n",
        "import tensorflow as tf\n",
        "\n",
        "# build a sequential model\n",
        "model = Sequential()\n",
        "model.add(InputLayer(input_shape=(299, 299, 3)))\n",
        "\n",
        "# 1st conv block\n",
        "#model.add(Conv2D(16, (3, 3), activation='relu', strides=(1, 1), padding='same'))\n",
        "#model.add(MaxPool2D(pool_size=(3, 3), padding='same'))\n",
        "# 2nd conv block\n",
        "model.add(Conv2D(32, (3, 3), activation='relu', strides=(1, 1), padding='same'))\n",
        "model.add(MaxPool2D(pool_size=(3, 3), padding='same'))\n",
        "\n",
        "\n",
        "# 3rd conv block\n",
        "model.add(Conv2D(64, (3, 3), activation='relu', strides=(1, 1), padding='same'))\n",
        "model.add(MaxPool2D(pool_size=(3, 3), padding='same'))\n",
        "\n",
        "#model.add(Dropout(0.5))\n",
        "\n",
        "model.add(Conv2D(128, (3, 3), activation='relu', strides=(1, 1), padding='same')) #,kernel_regularizer=l2(0.01)))\n",
        "model.add(MaxPool2D(pool_size=(3, 3), padding='same'))\n",
        "#model.add(BatchNormalization())\n",
        "#model.add(Dropout(0.1))\n",
        "# 4rd conv block\n",
        "#model.add(Conv2D(256, (3, 3), activation='relu', strides=(1, 1), padding='same'))#,kernel_regularizer=l2(0.01)))\n",
        "#model.add(MaxPool2D(pool_size=(3, 3), padding='same'))\n",
        "#model.add(BatchNormalization())\n",
        "#model.add(Dropout(0.3))\n",
        "\n",
        "# 5th conv block\n",
        "#model.add(Conv2D(512, (3, 3), activation='relu', strides=(1, 1), padding='same',name='conv_last_layer'))\n",
        "#model.add(MaxPool2D(pool_size=(3, 3), padding='same'))\n",
        "#model.add(BatchNormalization())\n",
        "#model.add(Dropout(0.5))\n",
        "\n",
        "# ANN block\n",
        "model.add(Flatten())\n",
        "#model.add(Dense(units=1024, activation='relu'))\n",
        "\n",
        "#model.add(Dropout(0.3))\n",
        "model.add(Dense(units=512, activation='relu'))\n",
        "\n",
        "model.add(Dropout(0.3))\n",
        "\n",
        "model.add(Dense(units=256, activation='relu',kernel_regularizer=l2(0.01)))\n",
        "\n",
        "model.add(Dropout(0.5))\n",
        "model.add(Dense(units=128, activation='relu'))\n",
        "model.add(Dropout(0.3))\n",
        "# output layer kernel_regularizer=tf.keras.regularizers.l2(0.01)\n",
        "model.add(Dense(units=7,kernel_regularizer=tf.keras.regularizers.l2(0.01),activation='softmax'))\n",
        "\n",
        "# compile model\n",
        "\n",
        "model.compile(optimizer=\"adam\",\n",
        "              loss='categorical_crossentropy',\n",
        "              metrics = ['accuracy'])\n",
        "#model.compile(loss='categorical_crossentropy', optimizer=\"adam\", metrics=['accuracy'])\n",
        "# fit on data for 30 epochs\n",
        "#model.fit_generator(train, epochs=30, validation_data=val)\n",
        "\n",
        "model.summary()"
      ]
    },
    {
      "cell_type": "code",
      "execution_count": null,
      "metadata": {
        "colab": {
          "base_uri": "https://localhost:8080/"
        },
        "id": "0l7PNFhvGLij",
        "outputId": "dbf87712-a4df-4825-99da-96f490723c19"
      },
      "outputs": [
        {
          "output_type": "stream",
          "name": "stdout",
          "text": [
            "Found 20244 images belonging to 7 classes.\n",
            "Found 3985 images belonging to 7 classes.\n"
          ]
        }
      ],
      "source": [
        "from keras.preprocessing.image import ImageDataGenerator\n",
        "\n",
        "train_datagen = ImageDataGenerator(rescale = 1./255 \n",
        "                              #horizontal_flip=False, \n",
        "                              #vertical_flip=False,\n",
        "                              #featurewise_center=True,\n",
        "                     #featurewise_std_normalization=True,\n",
        "                     #rotation_range=20,\n",
        "                     #width_shift_range=0.01,\n",
        "                     #height_shift_range=0.01,\n",
        "                     #zoom_range=0.2\n",
        "                            #featurewise_std_normalization=True\n",
        "                                  )\n",
        "                                  \n",
        "\n",
        "\n",
        "val_datagen = ImageDataGenerator(rescale = 1./255)\n",
        "\n",
        "training_set = train_datagen.flow_from_directory('/content/output/train',\n",
        "                                                 target_size = (299, 299),\n",
        "                                                 batch_size = 64,\n",
        "                                                 class_mode = 'categorical',\n",
        "                                                 shuffle=True\n",
        "                                                 )\n",
        "validation_set = val_datagen.flow_from_directory('/content/output/val',\n",
        "                                            target_size = (299, 299),\n",
        "                                            batch_size = 64,\n",
        "                                            class_mode = 'categorical',\n",
        "                                            shuffle=True) "
      ]
    },
    {
      "cell_type": "code",
      "execution_count": null,
      "metadata": {
        "colab": {
          "base_uri": "https://localhost:8080/"
        },
        "id": "egrN7_KCGLlT",
        "outputId": "2c210172-003e-4741-80c2-75603b521c4f"
      },
      "outputs": [
        {
          "output_type": "stream",
          "name": "stdout",
          "text": [
            "Epoch 1/25\n",
            "317/317 [==============================] - 152s 475ms/step - loss: 1.6673 - accuracy: 0.6118 - val_loss: 0.7472 - val_accuracy: 0.8053\n",
            "Epoch 2/25\n",
            "317/317 [==============================] - 150s 473ms/step - loss: 0.5893 - accuracy: 0.8510 - val_loss: 0.4530 - val_accuracy: 0.8848\n",
            "Epoch 3/25\n",
            "317/317 [==============================] - 149s 471ms/step - loss: 0.4178 - accuracy: 0.8966 - val_loss: 0.4909 - val_accuracy: 0.8572\n",
            "Epoch 4/25\n",
            "317/317 [==============================] - 151s 477ms/step - loss: 0.3478 - accuracy: 0.9141 - val_loss: 0.3704 - val_accuracy: 0.8989\n",
            "Epoch 5/25\n",
            "317/317 [==============================] - 149s 471ms/step - loss: 0.3055 - accuracy: 0.9258 - val_loss: 0.3127 - val_accuracy: 0.9139\n",
            "Epoch 6/25\n",
            "317/317 [==============================] - 150s 474ms/step - loss: 0.2784 - accuracy: 0.9318 - val_loss: 0.3140 - val_accuracy: 0.9127\n",
            "Epoch 7/25\n",
            "317/317 [==============================] - 148s 466ms/step - loss: 0.2424 - accuracy: 0.9417 - val_loss: 0.3039 - val_accuracy: 0.9189\n",
            "Epoch 8/25\n",
            "317/317 [==============================] - 147s 463ms/step - loss: 0.2635 - accuracy: 0.9374 - val_loss: 0.3037 - val_accuracy: 0.9282\n",
            "Epoch 9/25\n",
            "317/317 [==============================] - 147s 465ms/step - loss: 0.2134 - accuracy: 0.9512 - val_loss: 0.3216 - val_accuracy: 0.9102\n",
            "Epoch 10/25\n",
            "317/317 [==============================] - 147s 465ms/step - loss: 0.2026 - accuracy: 0.9538 - val_loss: 0.3417 - val_accuracy: 0.9072\n",
            "Epoch 11/25\n",
            "317/317 [==============================] - 147s 464ms/step - loss: 0.2053 - accuracy: 0.9569 - val_loss: 0.2874 - val_accuracy: 0.9285\n",
            "Epoch 12/25\n",
            "317/317 [==============================] - 148s 465ms/step - loss: 0.1776 - accuracy: 0.9629 - val_loss: 0.2906 - val_accuracy: 0.9272\n",
            "Epoch 13/25\n",
            "317/317 [==============================] - 147s 462ms/step - loss: 0.2238 - accuracy: 0.9522 - val_loss: 0.3622 - val_accuracy: 0.9122\n",
            "Epoch 14/25\n",
            "317/317 [==============================] - 147s 463ms/step - loss: 0.1747 - accuracy: 0.9648 - val_loss: 0.3120 - val_accuracy: 0.9290\n",
            "Epoch 15/25\n",
            "317/317 [==============================] - 147s 463ms/step - loss: 0.1558 - accuracy: 0.9695 - val_loss: 0.3034 - val_accuracy: 0.9267\n",
            "Epoch 16/25\n",
            "317/317 [==============================] - 147s 464ms/step - loss: 0.1709 - accuracy: 0.9686 - val_loss: 0.3063 - val_accuracy: 0.9260\n",
            "Epoch 17/25\n",
            "317/317 [==============================] - 147s 464ms/step - loss: 0.1287 - accuracy: 0.9760 - val_loss: 0.2854 - val_accuracy: 0.9312\n",
            "Epoch 18/25\n",
            "317/317 [==============================] - 146s 462ms/step - loss: 0.1355 - accuracy: 0.9739 - val_loss: 0.3670 - val_accuracy: 0.9064\n",
            "Epoch 19/25\n",
            "317/317 [==============================] - 147s 463ms/step - loss: 0.1522 - accuracy: 0.9762 - val_loss: 0.3368 - val_accuracy: 0.9270\n",
            "Epoch 20/25\n",
            "317/317 [==============================] - 148s 468ms/step - loss: 0.1274 - accuracy: 0.9790 - val_loss: 0.3059 - val_accuracy: 0.9302\n",
            "Epoch 21/25\n",
            "317/317 [==============================] - 147s 464ms/step - loss: 0.1271 - accuracy: 0.9785 - val_loss: 0.4043 - val_accuracy: 0.9139\n",
            "Epoch 22/25\n",
            "317/317 [==============================] - 157s 494ms/step - loss: 0.1124 - accuracy: 0.9816 - val_loss: 0.3295 - val_accuracy: 0.9252\n",
            "Epoch 23/25\n",
            "317/317 [==============================] - 148s 467ms/step - loss: 0.1402 - accuracy: 0.9779 - val_loss: 0.3205 - val_accuracy: 0.9297\n",
            "Epoch 24/25\n",
            "317/317 [==============================] - 147s 463ms/step - loss: 0.1159 - accuracy: 0.9831 - val_loss: 0.3216 - val_accuracy: 0.9305\n",
            "Epoch 25/25\n",
            "317/317 [==============================] - 147s 462ms/step - loss: 0.1041 - accuracy: 0.9844 - val_loss: 0.3176 - val_accuracy: 0.9315\n",
            "3764.5302584171295\n"
          ]
        }
      ],
      "source": [
        "start = time.time()\n",
        "\n",
        "\n",
        "r=model.fit(training_set,\n",
        "                        validation_data=validation_set,\n",
        "                          steps_per_epoch=len(training_set),\n",
        "                            epochs=25,\n",
        "                            validation_steps=len(validation_set)\n",
        "             \n",
        "            )\n",
        "\n",
        "end = time.time()\n",
        "elapsed = end - start\n",
        "print( elapsed)"
      ]
    },
    {
      "cell_type": "code",
      "source": [
        "model.save('proposed_2d_cnn.h5')"
      ],
      "metadata": {
        "id": "0NhjlhFBJNjd"
      },
      "execution_count": null,
      "outputs": []
    },
    {
      "cell_type": "code",
      "execution_count": null,
      "metadata": {
        "id": "6Il72TDfGLoE",
        "colab": {
          "base_uri": "https://localhost:8080/",
          "height": 573
        },
        "outputId": "9d4fdb16-bde8-49b5-d92e-e2c32a59bc5f"
      },
      "outputs": [
        {
          "output_type": "display_data",
          "data": {
            "text/plain": [
              "<Figure size 432x288 with 1 Axes>"
            ],
            "image/png": "[encoded data removed]"
          },
          "metadata": {
            "needs_background": "light"
          }
        },
        {
          "output_type": "display_data",
          "data": {
            "text/plain": [
              "<Figure size 432x288 with 1 Axes>"
            ],
            "image/png": "[encoded data removed]"
          },
          "metadata": {
            "needs_background": "light"
          }
        }
      ],
      "source": [
        "# plot the loss\n",
        "import matplotlib.pyplot as plt\n",
        "plt.plot(r.history['loss'], label='train loss')\n",
        "plt.plot(r.history['val_loss'], label='val loss')\n",
        "plt.legend()\n",
        "\n",
        "plt.ylabel('Loss')\n",
        "plt.xlabel('Epoch')\n",
        "plt.title('Proposed 2D-CNN Loss Curve')   \n",
        "plt.savefig('LossVal_loss_2d_CNN.png')\n",
        "plt.show()\n",
        "\n",
        "# plot the accuracy\n",
        "plt.plot(r.history['accuracy'], label='train acc')\n",
        "plt.plot(r.history['val_accuracy'], label='val acc')\n",
        "plt.legend()\n",
        "\n",
        "plt.ylabel('Accuracy')\n",
        "plt.xlabel('Epoch')\n",
        "plt.title('Proposed 2D-CNN Accuracy Curve') \n",
        "plt.savefig('AccVal_acc_2D_CNN.png')\n",
        "plt.show()"
      ]
    },
    {
      "cell_type": "code",
      "source": [
        "start=time.time()\n",
        "final = model.predict(validation_set)\n",
        "end = time.time()\n",
        "elapsed = end - start\n",
        "print(\"Total Testing  Time:\", elapsed)"
      ],
      "metadata": {
        "colab": {
          "base_uri": "https://localhost:8080/"
        },
        "id": "QRcml9s-IIeJ",
        "outputId": "ebcec983-7cca-49ac-e6a9-01b9efb6b849"
      },
      "execution_count": null,
      "outputs": [
        {
          "output_type": "stream",
          "name": "stdout",
          "text": [
            "63/63 [==============================] - 22s 341ms/step\n",
            "Total Testing  Time: 22.371593475341797\n"
          ]
        }
      ]
    },
    {
      "cell_type": "code",
      "source": [
        "start = time.time()\n",
        "preds = model.evaluate(validation_set)#validation_generator\n",
        "print (\"Validation Loss = \" + str(preds[0]))\n",
        "print (\"Validation Accuracy = \" + str(preds[1]))\n",
        "end = time.time()\n",
        "elapsed = end - start\n",
        "print(\"Total Time:\", elapsed)"
      ],
      "metadata": {
        "colab": {
          "base_uri": "https://localhost:8080/"
        },
        "id": "YS_PVZ17IIgo",
        "outputId": "49127a2f-5c4d-4814-8f80-3dc894f215e0"
      },
      "execution_count": null,
      "outputs": [
        {
          "output_type": "stream",
          "name": "stdout",
          "text": [
            "63/63 [==============================] - 21s 336ms/step - loss: 0.3176 - accuracy: 0.9315\n",
            "Validation Loss = 0.3176004886627197\n",
            "Validation Accuracy = 0.9314931035041809\n",
            "Total Time: 41.324615716934204\n"
          ]
        }
      ]
    },
    {
      "cell_type": "code",
      "source": [
        "import numpy as np\n",
        "from sklearn.metrics import confusion_matrix,classification_report\n",
        "batch_size = 64\n",
        "num_of_test_samples = 3985\n",
        "predictions = model.predict_generator(validation_set,  num_of_test_samples // batch_size+1)\n",
        "\n",
        "y_pred = np.argmax(predictions, axis=1)\n",
        "\n",
        "\n",
        "true_classes = validation_set.classes\n",
        "\n",
        "class_labels = list(validation_set.class_indices.keys())   \n",
        "\n",
        "print(class_labels)\n",
        "\n",
        "print(confusion_matrix(validation_set.classes, y_pred))\n",
        "\n",
        "report = classification_report(true_classes, y_pred, target_names=class_labels)\n",
        "print(report)"
      ],
      "metadata": {
        "colab": {
          "base_uri": "https://localhost:8080/"
        },
        "id": "2yWyi_dSIIjA",
        "outputId": "39c8b3ca-2243-4c2e-ee78-f5c5ad0341e0"
      },
      "execution_count": null,
      "outputs": [
        {
          "output_type": "stream",
          "name": "stderr",
          "text": [
            "/usr/local/lib/python3.7/dist-packages/ipykernel_launcher.py:5: UserWarning: `Model.predict_generator` is deprecated and will be removed in a future version. Please use `Model.predict`, which supports generators.\n",
            "  \"\"\"\n"
          ]
        },
        {
          "output_type": "stream",
          "name": "stdout",
          "text": [
            "['Bacterial Pneumonia', 'COVID', 'Fibrosis', 'Lung_Opacity', 'Normal', 'Tuberculosis', 'Viral Pneumonia']\n",
            "[[502   0   0   0   0   0   4]\n",
            " [  0 687   2  13  15   7   0]\n",
            " [  2   1 330   4   1   0   0]\n",
            " [  1  18   1 600 101   3   0]\n",
            " [  0   6   1  52 655   3   7]\n",
            " [  0   5   0   0   2 692   1]\n",
            " [ 15   1   0   1   6   0 246]]\n",
            "                     precision    recall  f1-score   support\n",
            "\n",
            "Bacterial Pneumonia       0.97      0.99      0.98       506\n",
            "              COVID       0.96      0.95      0.95       724\n",
            "           Fibrosis       0.99      0.98      0.98       338\n",
            "       Lung_Opacity       0.90      0.83      0.86       724\n",
            "             Normal       0.84      0.90      0.87       724\n",
            "       Tuberculosis       0.98      0.99      0.99       700\n",
            "    Viral Pneumonia       0.95      0.91      0.93       269\n",
            "\n",
            "           accuracy                           0.93      3985\n",
            "          macro avg       0.94      0.94      0.94      3985\n",
            "       weighted avg       0.93      0.93      0.93      3985\n",
            "\n"
          ]
        }
      ]
    },
    {
      "cell_type": "code",
      "source": [
        "import numpy as np\n",
        "\n",
        "\n",
        "def plot_confusion_matrix(cm,\n",
        "                          target_names,\n",
        "                          title='Confusion matrix',\n",
        "                          cmap=None,\n",
        "                          normalize=True):\n",
        "    \n",
        "    import matplotlib.pyplot as plt\n",
        "    import numpy as np\n",
        "    import itertools\n",
        "\n",
        "    accuracy = np.trace(cm) / float(np.sum(cm))\n",
        "    misclass = 1 - accuracy\n",
        "\n",
        "    if cmap is None:\n",
        "        cmap = plt.get_cmap('Blues')\n",
        "\n",
        "    plt.figure(figsize=(8, 6))\n",
        "    plt.imshow(cm, interpolation='nearest', cmap=cmap)\n",
        "    plt.title(title)\n",
        "    plt.colorbar()\n",
        "\n",
        "    if target_names is not None:\n",
        "        tick_marks = np.arange(len(target_names))\n",
        "        plt.xticks(tick_marks, target_names, rotation=45)\n",
        "        plt.yticks(tick_marks, target_names)\n",
        "\n",
        "    if normalize:\n",
        "        cm = cm.astype('float') / cm.sum(axis=1)[:, np.newaxis]\n",
        "\n",
        "\n",
        "    thresh = cm.max() / 1.5 if normalize else cm.max() / 2\n",
        "    for i, j in itertools.product(range(cm.shape[0]), range(cm.shape[1])):\n",
        "        if normalize:\n",
        "            plt.text(j, i, \"{:0.4f}\".format(cm[i, j]),\n",
        "                     horizontalalignment=\"center\",\n",
        "                     color=\"white\" if cm[i, j] > thresh else \"black\")\n",
        "        else:\n",
        "            plt.text(j, i, \"{:,}\".format(cm[i, j]),\n",
        "                     horizontalalignment=\"center\",\n",
        "                     color=\"white\" if cm[i, j] > thresh else \"black\")\n",
        "\n",
        "\n",
        "    plt.tight_layout()\n",
        "    plt.ylabel('True label')\n",
        "    plt.xlabel('Predicted label\\naccuracy={:0.4f}; misclass={:0.4f}'.format(accuracy, misclass))\n",
        "    plt.savefig('Confusion_Matrix_2D_CNN.png')\n",
        "    plt.show()\n",
        "\n",
        "plot_confusion_matrix(cm = np.array ([[502,   0 ,  0 ,  0 ,  0 , 0  , 4],\n",
        " [  0 ,687 ,  2,  13 , 15 ,  7 ,  0],\n",
        " [  2,   1, 330 ,  4  , 1  , 0  , 0],\n",
        " [  1,  18 ,  1 ,600 ,101,   3,   0],\n",
        " [  0 ,  6,   1 , 52 ,655,   3 ,  7],\n",
        " [  0   ,5 ,  0  , 0  , 2, 692 ,  1],\n",
        " [ 15 ,  1 ,  0 ,  1 ,  6 ,  0, 246]]),\n",
        "                      normalize    = False,\n",
        "                      target_names = ['Bacterial Pneumonia', 'COVID', 'Fibrosis', 'Lung_Opacity', 'Normal', 'Tuberculosis', 'Viral Pneumonia'],\n",
        "                      title = \"Proposed 2D-CNN Confusion Matrix\")\n",
        "                      \n"
      ],
      "metadata": {
        "colab": {
          "base_uri": "https://localhost:8080/",
          "height": 467
        },
        "id": "Ch29yTnCM0xL",
        "outputId": "66d89b97-9f78-4610-c03f-42da6c6137a6"
      },
      "execution_count": null,
      "outputs": [
        {
          "output_type": "display_data",
          "data": {
            "text/plain": [
              "<Figure size 576x432 with 2 Axes>"
            ],
            "image/png": "[encoded data removed]"
          },
          "metadata": {
            "needs_background": "light"
          }
        }
      ]
    },
    {
      "cell_type": "code",
      "source": [
        "%matplotlib inline\n",
        "from sklearn.metrics import confusion_matrix\n",
        "import itertools\n",
        "import matplotlib.pyplot as plt"
      ],
      "metadata": {
        "id": "safP2l4ePfdf"
      },
      "execution_count": null,
      "outputs": []
    },
    {
      "cell_type": "code",
      "source": [
        "cm = confusion_matrix(y_true=newtest_labels, y_pred=new_labels)"
      ],
      "metadata": {
        "id": "TxFKjRl3PfoK"
      },
      "execution_count": null,
      "outputs": []
    },
    {
      "cell_type": "code",
      "source": [
        "def plot_confusion_matrix(cm, classes,\n",
        "                        normalize=False,\n",
        "                        title='Confusion matrix',\n",
        "                        cmap=plt.cm.Blues):\n",
        "    \"\"\"\n",
        "    This function prints and plots the confusion matrix.\n",
        "    Normalization can be applied by setting `normalize=True`.\n",
        "    \"\"\"\n",
        "    plt.figure(figsize=(8,8))\n",
        "    plt.imshow(cm, interpolation='nearest', cmap=cmap)\n",
        "    plt.title(title)\n",
        "    plt.colorbar()\n",
        "    tick_marks = np.arange(len(classes))\n",
        "    plt.xticks(tick_marks, classes, rotation=45)\n",
        "    plt.yticks(tick_marks, classes)\n",
        "\n",
        "    if normalize:\n",
        "        cm = cm.astype('float') / cm.sum(axis=1)[:, np.newaxis]\n",
        "        print(\"Normalized confusion matrix\")\n",
        "    else:\n",
        "        print('Confusion matrix, without normalization')\n",
        "\n",
        "    print(cm)\n",
        "\n",
        "    thresh = cm.max() / 2.\n",
        "    for i, j in itertools.product(range(cm.shape[0]), range(cm.shape[1])):\n",
        "        plt.text(j, i, cm[i, j],\n",
        "            horizontalalignment=\"center\",\n",
        "            color=\"white\" if cm[i, j] > thresh else \"black\")\n",
        "\n",
        "    plt.tight_layout()\n",
        "    plt.ylabel('True label')\n",
        "    plt.xlabel('Predicted label')\n",
        "    \n",
        "    # plt.savefig(\"vgg19Matrix.eps\")\n",
        "    plt.savefig(\"2D-CNN_Confusion_Matrix.png\")"
      ],
      "metadata": {
        "id": "vI_ieqWqPf0f"
      },
      "execution_count": null,
      "outputs": []
    },
    {
      "cell_type": "code",
      "source": [
        "class_names = ['Bacterial Pneumonia', 'COVID', 'Fibrosis', 'Lung_Opacity', 'Normal', 'Tuberculosis', 'Viral Pneumonia']\n",
        "plot_confusion_matrix(cm=cm, classes=class_names, title='Inception-v3 Confusion Matrix')"
      ],
      "metadata": {
        "colab": {
          "base_uri": "https://localhost:8080/",
          "height": 711
        },
        "id": "7cwAX_Z1PyMR",
        "outputId": "a212b1d2-5e18-4a60-81bb-6ab6f9a03aae"
      },
      "execution_count": null,
      "outputs": [
        {
          "output_type": "stream",
          "name": "stdout",
          "text": [
            "Confusion matrix, without normalization\n",
            "[[502   0   0   0   0   0   4]\n",
            " [  0 687   2  13  15   7   0]\n",
            " [  2   1 330   4   1   0   0]\n",
            " [  1  18   1 600 101   3   0]\n",
            " [  0   6   1  52 655   3   7]\n",
            " [  0   5   0   0   2 692   1]\n",
            " [ 15   1   0   1   6   0 246]]\n"
          ]
        },
        {
          "output_type": "display_data",
          "data": {
            "text/plain": [
              "<Figure size 576x576 with 2 Axes>"
            ],
            "image/png": "[encoded data removed]"
          },
          "metadata": {
            "needs_background": "light"
          }
        }
      ]
    },
    {
      "cell_type": "code",
      "source": [
        "import math\n",
        "number_of_examples = len(validation_set.filenames)\n",
        "number_of_generator_calls = math.ceil(number_of_examples / (1.0 * 64)) \n",
        "# 1.0 above is to skip integer division\n",
        "\n",
        "test_labels = []\n",
        "test_images = []\n",
        "for i in range(0,int(number_of_generator_calls)):\n",
        "    test_labels.extend(np.array(validation_set[i][1]))\n",
        "\n",
        "for i in range(0,int(number_of_generator_calls)):\n",
        "    test_images.extend(np.array(validation_set[i][0]))"
      ],
      "metadata": {
        "id": "5NPvKFLcM0zg"
      },
      "execution_count": null,
      "outputs": []
    },
    {
      "cell_type": "code",
      "source": [
        "new_labels = []\n",
        "for i in range(0,3985):\n",
        "  new_labels.append(np.argmax(predictions[i]))"
      ],
      "metadata": {
        "id": "f3DMSruEM017"
      },
      "execution_count": null,
      "outputs": []
    },
    {
      "cell_type": "code",
      "source": [
        "newtest_labels = []\n",
        "for i in range(0,3985):\n",
        "  newtest_labels.append(np.argmax(test_labels[i]))"
      ],
      "metadata": {
        "id": "iKjTl7STM05a"
      },
      "execution_count": null,
      "outputs": []
    },
    {
      "cell_type": "code",
      "source": [
        "from sklearn import metrics\n",
        "import matplotlib.pyplot as plt\n",
        "from itertools import cycle\n",
        "from scipy import interp\n",
        "noofClasses = 7\n",
        "\n",
        "score = model.evaluate(validation_set, verbose=0)\n",
        "print('Test Score = ', score[0])\n",
        "print('Test Accuracy = ', score[1])\n",
        "from sklearn.metrics import confusion_matrix, classification_report, roc_auc_score, roc_curve, auc\n",
        "\n",
        "\n",
        "# Get the confusion matrix\n",
        "\n",
        "score = metrics.accuracy_score(y_true=newtest_labels, y_pred=new_labels)\n",
        "print(\"Accuracy score: {}\".format(score))\n",
        "pred_prob =model.predict_generator(validation_set,  num_of_test_samples // batch_size+1)\n",
        "\n",
        "c = roc_auc_score(newtest_labels, pred_prob, multi_class='ovo')\n",
        "print(\"AUC:\", c)\n",
        "# Compute ROC curve and ROC area for each class\n",
        "fpr = {}\n",
        "tpr = {}\n",
        "roc_auc = {}\n",
        "thresh = {}\n",
        "lw = 2\n",
        "precision = {}\n",
        "recall = {}\n",
        "for i in range(noofClasses):\n",
        "    fpr[i], tpr[i], thresh[i] = roc_curve(newtest_labels, pred_prob[:, i], pos_label=i)\n",
        "    precision[i], recall[i], _ = roc_curve(newtest_labels, pred_prob[:, i], pos_label=i)\n",
        "    roc_auc[i] = auc(fpr[i], tpr[i])\n",
        "  \n",
        "\n",
        "n_classes = 7\n",
        "\n",
        "# First aggregate all false positive rates\n",
        "all_fpr = np.unique(np.concatenate([fpr[i] for i in range(n_classes)]))\n",
        "\n",
        "# Then interpolate all ROC curves at this points\n",
        "mean_tpr = np.zeros_like(all_fpr)\n",
        "for i in range(n_classes):\n",
        "    mean_tpr += interp(all_fpr, fpr[i], tpr[i])\n",
        "\n",
        "# Finally average it and compute AUC\n",
        "mean_tpr /= n_classes\n",
        "\n",
        "fpr[\"macro\"] = all_fpr\n",
        "tpr[\"macro\"] = mean_tpr\n",
        "roc_auc[\"macro\"] = auc(fpr[\"macro\"], tpr[\"macro\"])\n",
        "\n",
        "# Plot all ROC curves\n",
        "plt.figure()\n",
        "\n",
        "colors = cycle(['green', 'darkorange', 'cornflowerblue', 'yellow','red','blue'])\n",
        "for i, color in zip(range(n_classes), colors):\n",
        "    plt.plot(fpr[i], tpr[i], color=color, lw=lw, label='ROC curve of class {0} (AUC = {1:0.4f})'\n",
        "                                                       ''.format(i, roc_auc[i]))\n",
        "\n",
        "plt.plot([0, 1], [0, 1], 'k--', lw=lw)\n",
        "plt.xlim([0.0, 1.0])\n",
        "plt.ylim([0.0, 1.05])\n",
        "plt.xlabel('False Positive Rate')\n",
        "plt.ylabel('True Positive Rate')\n",
        "plt.title('Receiver operating characteristic curve for 2D-CNN')\n",
        "plt.legend(loc=\"lower right\")\n",
        "plt.savefig(\"2D-CNN_roc.png\")\n",
        "plt.show()\n"
      ],
      "metadata": {
        "colab": {
          "base_uri": "https://localhost:8080/",
          "height": 426
        },
        "id": "w_KsSLVFIIoT",
        "outputId": "88354e91-29c5-4719-df34-5b3aa8132fb3"
      },
      "execution_count": null,
      "outputs": [
        {
          "output_type": "stream",
          "name": "stdout",
          "text": [
            "Test Score =  0.3176003694534302\n",
            "Test Accuracy =  0.9314931035041809\n",
            "Accuracy score: 0.9314930991217064\n"
          ]
        },
        {
          "output_type": "stream",
          "name": "stderr",
          "text": [
            "/usr/local/lib/python3.7/dist-packages/ipykernel_launcher.py:17: UserWarning: `Model.predict_generator` is deprecated and will be removed in a future version. Please use `Model.predict`, which supports generators.\n"
          ]
        },
        {
          "output_type": "stream",
          "name": "stdout",
          "text": [
            "AUC: 0.9947382630054873\n"
          ]
        },
        {
          "output_type": "stream",
          "name": "stderr",
          "text": [
            "/usr/local/lib/python3.7/dist-packages/ipykernel_launcher.py:43: DeprecationWarning: scipy.interp is deprecated and will be removed in SciPy 2.0.0, use numpy.interp instead\n"
          ]
        },
        {
          "output_type": "display_data",
          "data": {
            "text/plain": [
              "<Figure size 432x288 with 1 Axes>"
            ],
            "image/png": "[encoded data removed]"
          },
          "metadata": {
            "needs_background": "light"
          }
        }
      ]
    },
    {
      "cell_type": "code",
      "source": [],
      "metadata": {
        "id": "Hzz0qd8yz4eJ"
      },
      "execution_count": null,
      "outputs": []
    },
    {
      "cell_type": "code",
      "source": [
        "# Grad Cam"
      ],
      "metadata": {
        "id": "JyApF0Wwz4hp"
      },
      "execution_count": null,
      "outputs": []
    },
    {
      "cell_type": "code",
      "source": [
        "# Recreate the exact same model, including its weights and the optimizer\n",
        "import tensorflow as tf\n",
        "\n",
        "model = tf.keras.models.load_model('6 class.h5')\n",
        "\n",
        "# Show the model architecture\n",
        "model.summary()"
      ],
      "metadata": {
        "colab": {
          "base_uri": "https://localhost:8080/"
        },
        "id": "ujTK9k45YWac",
        "outputId": "e3e648cf-c26b-43ce-9b14-7fdb54e83adc"
      },
      "execution_count": null,
      "outputs": [
        {
          "output_type": "stream",
          "name": "stdout",
          "text": [
            "Model: \"sequential\"\n",
            "_________________________________________________________________\n",
            " Layer (type)                Output Shape              Param #   \n",
            "=================================================================\n",
            " conv2d (Conv2D)             (None, 299, 299, 32)      896       \n",
            "                                                                 \n",
            " max_pooling2d (MaxPooling2D  (None, 100, 100, 32)     0         \n",
            " )                                                               \n",
            "                                                                 \n",
            " conv2d_1 (Conv2D)           (None, 100, 100, 64)      18496     \n",
            "                                                                 \n",
            " max_pooling2d_1 (MaxPooling  (None, 34, 34, 64)       0         \n",
            " 2D)                                                             \n",
            "                                                                 \n",
            " conv2d_2 (Conv2D)           (None, 34, 34, 128)       73856     \n",
            "                                                                 \n",
            " max_pooling2d_2 (MaxPooling  (None, 12, 12, 128)      0         \n",
            " 2D)                                                             \n",
            "                                                                 \n",
            " flatten (Flatten)           (None, 18432)             0         \n",
            "                                                                 \n",
            " dense (Dense)               (None, 512)               9437696   \n",
            "                                                                 \n",
            " dropout (Dropout)           (None, 512)               0         \n",
            "                                                                 \n",
            " dense_1 (Dense)             (None, 256)               131328    \n",
            "                                                                 \n",
            " dropout_1 (Dropout)         (None, 256)               0         \n",
            "                                                                 \n",
            " dense_2 (Dense)             (None, 128)               32896     \n",
            "                                                                 \n",
            " dropout_2 (Dropout)         (None, 128)               0         \n",
            "                                                                 \n",
            " dense_3 (Dense)             (None, 6)                 774       \n",
            "                                                                 \n",
            "=================================================================\n",
            "Total params: 9,695,942\n",
            "Trainable params: 9,695,942\n",
            "Non-trainable params: 0\n",
            "_________________________________________________________________\n"
          ]
        }
      ]
    },
    {
      "cell_type": "code",
      "source": [
        "import numpy as np\n",
        "import tensorflow as tf\n",
        "from tensorflow import keras\n",
        "\n",
        "# Display\n",
        "from IPython.display import Image, display\n",
        "import matplotlib.pyplot as plt\n",
        "import matplotlib.cm as cm\n",
        "from keras.applications.imagenet_utils import preprocess_input"
      ],
      "metadata": {
        "id": "DGc3d3JiHgk5"
      },
      "execution_count": null,
      "outputs": []
    },
    {
      "cell_type": "code",
      "source": [
        "img_size = (299, 299)\n",
        "last_conv_layer_name = \"conv2d_2\"\n",
        "\n",
        "# The local path to our target image\n",
        "img_path =\"/content/viral.PNG\"\n",
        "\n",
        "display(Image(img_path))"
      ],
      "metadata": {
        "colab": {
          "base_uri": "https://localhost:8080/",
          "height": 245
        },
        "id": "rIN43cTKW-UD",
        "outputId": "7626d61f-9fb9-469f-d498-a14cbdb7df30"
      },
      "execution_count": null,
      "outputs": [
        {
          "output_type": "display_data",
          "data": {
            "image/png": "[encoded data removed]",
            "text/plain": [
              "<IPython.core.display.Image object>"
            ]
          },
          "metadata": {}
        }
      ]
    },
    {
      "cell_type": "code",
      "execution_count": null,
      "metadata": {
        "id": "V_DDQTeJXEje"
      },
      "outputs": [],
      "source": [
        "def get_img_array(img_path, size):\n",
        "    # `img` is a PIL image of size 299x299\n",
        "    img = keras.preprocessing.image.load_img(img_path, target_size=size)\n",
        "    # `array` is a float32 Numpy array of shape (299, 299, 3)\n",
        "    array = keras.preprocessing.image.img_to_array(img)\n",
        "    # We add a dimension to transform our array into a \"batch\"\n",
        "    # of size (1, 299, 299, 3)\n",
        "    array = np.expand_dims(array, axis=0)\n",
        "    return array\n",
        "\n",
        "\n",
        "def make_gradcam_heatmap(img_array, model, last_conv_layer_name, pred_index=None):\n",
        "    # First, we create a model that maps the input image to the activations\n",
        "    # of the last conv layer as well as the output predictions\n",
        "    grad_model = tf.keras.models.Model(\n",
        "        [model.inputs], [model.get_layer(last_conv_layer_name).output, model.output]\n",
        "    )\n",
        "\n",
        "    # Then, we compute the gradient of the top predicted class for our input image\n",
        "    # with respect to the activations of the last conv layer\n",
        "    with tf.GradientTape() as tape:\n",
        "        last_conv_layer_output, preds = grad_model(img_array)\n",
        "        if pred_index is None:\n",
        "            pred_index = tf.argmax(preds[0])\n",
        "        class_channel = preds[:, pred_index]\n",
        "\n",
        "    # This is the gradient of the output neuron (top predicted or chosen)\n",
        "    # with regard to the output feature map of the last conv layer\n",
        "    grads = tape.gradient(class_channel, last_conv_layer_output)\n",
        "\n",
        "    # This is a vector where each entry is the mean intensity of the gradient\n",
        "    # over a specific feature map channel\n",
        "    pooled_grads = tf.reduce_mean(grads, axis=(0, 1, 2))\n",
        "\n",
        "    # We multiply each channel in the feature map array\n",
        "    # by \"how important this channel is\" with regard to the top predicted class\n",
        "    # then sum all the channels to obtain the heatmap class activation\n",
        "    last_conv_layer_output = last_conv_layer_output[0]\n",
        "    heatmap = last_conv_layer_output @ pooled_grads[..., tf.newaxis]\n",
        "    heatmap = tf.squeeze(heatmap)\n",
        "\n",
        "    # For visualization purpose, we will also normalize the heatmap between 0 & 1\n",
        "    heatmap = tf.maximum(heatmap, 0) / tf.math.reduce_max(heatmap)\n",
        "    return heatmap.numpy()\n"
      ]
    },
    {
      "cell_type": "code",
      "source": [
        "img_array = preprocess_input(get_img_array(img_path, size=img_size))\n",
        "\n",
        "# Make model\n",
        "#model = model_builder(weights=\"imagenet\")\n",
        "\n",
        "# Remove last layer's softmax\n",
        "model.layers[-1].activation = None\n",
        "\n",
        "# Print what the top predicted class is\n",
        "preds = model.predict(img_array)\n",
        "#print(\"Predicted:\", decode_predictions(preds, top=1)[0])\n",
        "\n",
        "# Generate class activation heatmap\n",
        "heatmap = make_gradcam_heatmap(img_array, model, last_conv_layer_name)\n",
        "\n",
        "# Display heatmap\n",
        "plt.matshow(heatmap)\n",
        "plt.savefig(\"viral.png\")\n",
        "plt.show()"
      ],
      "metadata": {
        "colab": {
          "base_uri": "https://localhost:8080/",
          "height": 293
        },
        "id": "MCniU4BfXNtS",
        "outputId": "271c532d-0103-4bdc-9f81-89876fb94b20"
      },
      "execution_count": null,
      "outputs": [
        {
          "output_type": "stream",
          "name": "stdout",
          "text": [
            "1/1 [==============================] - 0s 16ms/step\n"
          ]
        },
        {
          "output_type": "display_data",
          "data": {
            "text/plain": [
              "<Figure size 288x288 with 1 Axes>"
            ],
            "image/png": "[encoded data removed]"
          },
          "metadata": {
            "needs_background": "light"
          }
        }
      ]
    },
    {
      "cell_type": "code",
      "source": [
        "def save_and_display_gradcam(img_path, heatmap, cam_path=\"CNN_grad_cam.jpg\", alpha=0.4):\n",
        "    # Load the original image\n",
        "    img = keras.preprocessing.image.load_img(img_path)\n",
        "    img = keras.preprocessing.image.img_to_array(img)\n",
        "\n",
        "    # Rescale heatmap to a range 0-255\n",
        "    heatmap = np.uint8(255 * heatmap)\n",
        "\n",
        "    # Use jet colormap to colorize heatmap\n",
        "    jet = cm.get_cmap(\"jet\")\n",
        "\n",
        "    # Use RGB values of the colormap\n",
        "    jet_colors = jet(np.arange(256))[:, :3]\n",
        "    jet_heatmap = jet_colors[heatmap]\n",
        "\n",
        "    # Create an image with RGB colorized heatmap\n",
        "    jet_heatmap = keras.preprocessing.image.array_to_img(jet_heatmap)\n",
        "    jet_heatmap = jet_heatmap.resize((img.shape[1], img.shape[0]))\n",
        "    jet_heatmap = keras.preprocessing.image.img_to_array(jet_heatmap)\n",
        "\n",
        "    # Superimpose the heatmap on original image\n",
        "    superimposed_img = jet_heatmap * alpha + img\n",
        "    superimposed_img = keras.preprocessing.image.array_to_img(superimposed_img)\n",
        "\n",
        "    # Save the superimposed image\n",
        "    superimposed_img.save(cam_path)\n",
        "\n",
        "    # Display Grad CAM\n",
        "    display(Image(cam_path))\n",
        "\n",
        "\n",
        "save_and_display_gradcam(img_path, heatmap)"
      ],
      "metadata": {
        "colab": {
          "base_uri": "https://localhost:8080/",
          "height": 245
        },
        "id": "MOS4pJcmXN0-",
        "outputId": "b22059d2-70ae-40ac-a851-943102fb645b"
      },
      "execution_count": null,
      "outputs": [
        {
          "output_type": "display_data",
          "data": {
            "image/jpeg": "[encoded data removed]",
            "text/plain": [
              "<IPython.core.display.Image object>"
            ]
          },
          "metadata": {}
        }
      ]
    },
    {
      "cell_type": "code",
      "source": [],
      "metadata": {
        "id": "jt9w4S4CYXFj"
      },
      "execution_count": null,
      "outputs": []
    }
  ],
  "metadata": {
    "accelerator": "GPU",
    "colab": {
      "provenance": []
    },
    "gpuClass": "standard",
    "kernelspec": {
      "display_name": "Python 3",
      "name": "python3"
    },
    "language_info": {
      "name": "python"
    }
  },
  "nbformat": 4,
  "nbformat_minor": 0
}