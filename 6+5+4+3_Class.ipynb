{
  "cells": [
    {
      "cell_type": "code",
      "execution_count": null,
      "metadata": {
        "colab": {
          "base_uri": "https://localhost:8080/"
        },
        "id": "FoKrF7H-WTX9",
        "outputId": "ce8111c5-e870-410f-cd05-1a83aa0beeb1"
      },
      "outputs": [
        {
          "output_type": "stream",
          "name": "stdout",
          "text": [
            "Mounted at /content/drive\n"
          ]
        }
      ],
      "source": [
        "from google.colab import drive\n",
        "drive.mount('/content/drive')"
      ]
    },
    {
      "cell_type": "code",
      "execution_count": null,
      "metadata": {
        "id": "1SpZc7seWoba"
      },
      "outputs": [],
      "source": [
        "import os\n",
        "import zipfile\n",
        "\n",
        "local_zip = '/content/drive/MyDrive/Final Dataset/COVID-19_CXR_Dataset_final.zip'  \n",
        "\n",
        "zip_ref = zipfile.ZipFile(local_zip, 'r')\n",
        "\n",
        "zip_ref.extractall('/content')\n",
        "zip_ref.close()"
      ]
    },
    {
      "cell_type": "code",
      "execution_count": null,
      "metadata": {
        "colab": {
          "base_uri": "https://localhost:8080/"
        },
        "id": "0TcqsGYWWodp",
        "outputId": "69fe2687-4644-4a86-d84a-60844f2ea31c"
      },
      "outputs": [
        {
          "output_type": "stream",
          "name": "stdout",
          "text": [
            "All changes made in this colab session should now be visible in Drive.\n"
          ]
        }
      ],
      "source": [
        "drive.flush_and_unmount()\n",
        "print('All changes made in this colab session should now be visible in Drive.')"
      ]
    },
    {
      "cell_type": "code",
      "execution_count": null,
      "metadata": {
        "id": "xMBGjS4MWogD"
      },
      "outputs": [],
      "source": [
        "import os\n",
        "import shutil\n",
        "\n",
        "def delete(path):\n",
        "    \"\"\"path could either be relative or absolute. \"\"\"\n",
        "    # check if file or directory exists\n",
        "    if os.path.isfile(path) or os.path.islink(path):\n",
        "        # remove file\n",
        "        os.remove(path)\n",
        "    elif os.path.isdir(path):\n",
        "        # remove directory and all its content\n",
        "        shutil.rmtree(path)\n",
        "    else:\n",
        "        raise ValueError(\"Path {} is not a file or dir.\".format(path))\n",
        "\n",
        "\n",
        "# directory\n",
        "\n",
        "delete(r'/content/output/train/Lung_Opacity')\n",
        "delete(r'/content/output/val/Lung_Opacity')\n"
      ]
    },
    {
      "cell_type": "code",
      "execution_count": null,
      "metadata": {
        "colab": {
          "base_uri": "https://localhost:8080/"
        },
        "id": "9T7zZAvqWoiS",
        "outputId": "a5a311eb-b24b-44af-a51e-68da4b48a577"
      },
      "outputs": [
        {
          "output_type": "stream",
          "name": "stdout",
          "text": [
            "Looking in indexes: https://pypi.org/simple, https://us-python.pkg.dev/colab-wheels/public/simple/\n",
            "Collecting split-folders\n",
            "  Downloading split_folders-0.5.1-py3-none-any.whl (8.4 kB)\n",
            "Installing collected packages: split-folders\n",
            "Successfully installed split-folders-0.5.1\n"
          ]
        },
        {
          "output_type": "stream",
          "name": "stderr",
          "text": [
            "Copying files: 19909 files [00:07, 2816.00 files/s]\n"
          ]
        }
      ],
      "source": [
        "!pip install split-folders\n",
        "\n",
        "import splitfolders \n",
        "splitfolders.ratio('/content/COVID-19_CXR_Dataset_final', output=\"output\", seed=1337, ratio=(.8, 0.2))"
      ]
    },
    {
      "cell_type": "code",
      "execution_count": null,
      "metadata": {
        "colab": {
          "base_uri": "https://localhost:8080/"
        },
        "id": "ZqVtkw4YWokx",
        "outputId": "9f09e570-a2f4-4fe9-c246-b5d17127e46b"
      },
      "outputs": [
        {
          "output_type": "stream",
          "name": "stdout",
          "text": [
            "2024\n"
          ]
        }
      ],
      "source": [
        "import glob\n",
        "print (len(glob.glob('/content/output/train/Bacterial Pneumonia/*')))"
      ]
    },
    {
      "cell_type": "code",
      "execution_count": null,
      "metadata": {
        "id": "fH5ANQ4PWonF"
      },
      "outputs": [],
      "source": [
        "from tensorflow.keras.preprocessing.image import ImageDataGenerator, array_to_img, img_to_array, load_img\n",
        "from PIL import Image\n",
        "datagen = ImageDataGenerator(\n",
        " rotation_range= 30,\n",
        " width_shift_range=0.2,\n",
        " height_shift_range=0.2,\n",
        " shear_range=0.2,\n",
        " zoom_range=0.2,\n",
        " horizontal_flip=False,\n",
        " fill_mode='nearest'\n",
        ")"
      ]
    },
    {
      "cell_type": "code",
      "execution_count": null,
      "metadata": {
        "id": "rOAqsHCJflY7"
      },
      "outputs": [],
      "source": [
        "img = load_img('/content/output/train/Bacterial Pneumonia/person1001_bacteria_2932.jpeg') \n",
        "x = img_to_array(img) \n",
        "x = x.reshape((1,) + x.shape)\n",
        "i = 0\n",
        "for batch in datagen.flow(x, batch_size=1,\n",
        " save_to_dir='/content/output/train/Bacterial Pneumonia',\n",
        " save_prefix='br', save_format='jpeg'):\n",
        " i += 1\n",
        " if i > 200:\n",
        "    break"
      ]
    },
    {
      "cell_type": "code",
      "execution_count": null,
      "metadata": {
        "id": "QMFp-Mw0flbH"
      },
      "outputs": [],
      "source": [
        "img = load_img('/content/output/train/Bacterial Pneumonia/person19_bacteria_59.jpeg') \n",
        "x = img_to_array(img) \n",
        "x = x.reshape((1,) + x.shape)\n",
        "i = 0\n",
        "for batch in datagen.flow(x, batch_size=1,\n",
        " save_to_dir='/content/output/train/Bacterial Pneumonia',\n",
        " save_prefix='br', save_format='jpeg'):\n",
        " i += 1\n",
        " if i > 200:\n",
        "    break"
      ]
    },
    {
      "cell_type": "code",
      "execution_count": null,
      "metadata": {
        "id": "mQSVf5CWfldb"
      },
      "outputs": [],
      "source": [
        "img = load_img('/content/output/train/Bacterial Pneumonia/person1941_bacteria_4863.jpeg') \n",
        "x = img_to_array(img) \n",
        "x = x.reshape((1,) + x.shape)\n",
        "i = 0\n",
        "for batch in datagen.flow(x, batch_size=1,\n",
        " save_to_dir='/content/output/train/Bacterial Pneumonia',\n",
        " save_prefix='br', save_format='jpeg'):\n",
        " i += 1\n",
        " if i > 200:\n",
        "    break"
      ]
    },
    {
      "cell_type": "code",
      "execution_count": null,
      "metadata": {
        "id": "9XzoWLsFflfw"
      },
      "outputs": [],
      "source": [
        "img = load_img('/content/output/train/Bacterial Pneumonia/person1941_bacteria_4863.jpeg') \n",
        "x = img_to_array(img) \n",
        "x = x.reshape((1,) + x.shape)\n",
        "i = 0\n",
        "for batch in datagen.flow(x, batch_size=1,\n",
        " save_to_dir='/content/output/train/Bacterial Pneumonia',\n",
        " save_prefix='br', save_format='jpeg'):\n",
        " i += 1\n",
        " if i > 200:\n",
        "    break"
      ]
    },
    {
      "cell_type": "code",
      "execution_count": null,
      "metadata": {
        "id": "RWS78vulflh2"
      },
      "outputs": [],
      "source": [
        "img = load_img('/content/output/train/Bacterial Pneumonia/person1063_bacteria_2997.jpeg') \n",
        "x = img_to_array(img) \n",
        "x = x.reshape((1,) + x.shape)\n",
        "i = 0\n",
        "for batch in datagen.flow(x, batch_size=1,\n",
        " save_to_dir='/content/output/train/Bacterial Pneumonia',\n",
        " save_prefix='br', save_format='jpeg'):\n",
        " i += 1\n",
        " if i > 68:\n",
        "    break"
      ]
    },
    {
      "cell_type": "code",
      "execution_count": null,
      "metadata": {
        "id": "t1MlCqsBg9-e"
      },
      "outputs": [],
      "source": [
        "img = load_img('/content/output/train/Bacterial Pneumonia/person1084_bacteria_3024.jpeg') \n",
        "x = img_to_array(img) \n",
        "x = x.reshape((1,) + x.shape)\n",
        "i = 0\n",
        "for batch in datagen.flow(x, batch_size=1,\n",
        " save_to_dir='/content/output/train/Bacterial Pneumonia',\n",
        " save_prefix='br', save_format='jpeg'):\n",
        " i += 1\n",
        " if i > 26:\n",
        "    break"
      ]
    },
    {
      "cell_type": "code",
      "source": [
        "img = load_img('/content/output/train/Bacterial Pneumonia/person1084_bacteria_3024.jpeg') \n",
        "x = img_to_array(img) \n",
        "x = x.reshape((1,) + x.shape)\n",
        "i = 0\n",
        "for batch in datagen.flow(x, batch_size=1,\n",
        " save_to_dir='/content/output/train/Bacterial Pneumonia',\n",
        " save_prefix='br', save_format='jpeg'):\n",
        " i += 1\n",
        " if i > 4:\n",
        "    break"
      ],
      "metadata": {
        "id": "8C4OlHiUGVYx"
      },
      "execution_count": null,
      "outputs": []
    },
    {
      "cell_type": "code",
      "source": [
        "img = load_img('/content/output/train/Bacterial Pneumonia/person1084_bacteria_3024.jpeg') \n",
        "x = img_to_array(img) \n",
        "x = x.reshape((1,) + x.shape)\n",
        "i = 0\n",
        "for batch in datagen.flow(x, batch_size=1,\n",
        " save_to_dir='/content/output/train/Bacterial Pneumonia',\n",
        " save_prefix='br', save_format='jpeg'):\n",
        " i += 1\n",
        " if i > 10:\n",
        "    break"
      ],
      "metadata": {
        "id": "8f1q50I_9zH3"
      },
      "execution_count": null,
      "outputs": []
    },
    {
      "cell_type": "code",
      "execution_count": null,
      "metadata": {
        "colab": {
          "base_uri": "https://localhost:8080/"
        },
        "id": "g9IW_YkbflkG",
        "outputId": "4e717b01-b778-400c-e945-609ae63cfd5d"
      },
      "outputs": [
        {
          "output_type": "stream",
          "name": "stdout",
          "text": [
            "2892\n"
          ]
        }
      ],
      "source": [
        "import glob\n",
        "print (len(glob.glob('/content/output/train/Bacterial Pneumonia/*')))"
      ]
    },
    {
      "cell_type": "code",
      "execution_count": null,
      "metadata": {
        "id": "rvdjAvbCflmb"
      },
      "outputs": [],
      "source": [
        "img = load_img('/content/output/train/Tuberculosis/Tuberculosis-1002.png') \n",
        "x = img_to_array(img) \n",
        "x = x.reshape((1,) + x.shape)\n",
        "i = 0\n",
        "for batch in datagen.flow(x, batch_size=1,\n",
        " save_to_dir='/content/output/train/Tuberculosis',\n",
        " save_prefix='br', save_format='jpeg'):\n",
        " i += 1\n",
        " if i >70 :\n",
        "    break"
      ]
    },
    {
      "cell_type": "code",
      "execution_count": null,
      "metadata": {
        "id": "iLwrNvLfflsN"
      },
      "outputs": [],
      "source": [
        "img = load_img('/content/output/train/Tuberculosis/Tuberculosis-10.png') \n",
        "x = img_to_array(img) \n",
        "x = x.reshape((1,) + x.shape)\n",
        "i = 0\n",
        "for batch in datagen.flow(x, batch_size=1,\n",
        " save_to_dir='/content/output/train/Tuberculosis',\n",
        " save_prefix='br', save_format='jpeg'):\n",
        " i += 1\n",
        " if i >20 :\n",
        "    break"
      ]
    },
    {
      "cell_type": "code",
      "execution_count": null,
      "metadata": {
        "colab": {
          "base_uri": "https://localhost:8080/"
        },
        "id": "PvbsxNREWopY",
        "outputId": "62a06402-53a1-433e-dc3d-40d5e62a8d7b"
      },
      "outputs": [
        {
          "output_type": "stream",
          "name": "stdout",
          "text": [
            "2892\n"
          ]
        }
      ],
      "source": [
        "import glob\n",
        "print (len(glob.glob('/content/output/train/Tuberculosis/*')))"
      ]
    },
    {
      "cell_type": "code",
      "execution_count": null,
      "metadata": {
        "id": "coTWhUgLgebv"
      },
      "outputs": [],
      "source": [
        "img = load_img('/content/output/train/Viral Pneumonia/Viral Pneumonia-1001.png') \n",
        "x = img_to_array(img) \n",
        "x = x.reshape((1,) + x.shape)\n",
        "i = 0\n",
        "for batch in datagen.flow(x, batch_size=1,\n",
        " save_to_dir='/content/output/train/Viral Pneumonia',\n",
        " save_prefix='br', save_format='jpeg'):\n",
        " i += 1\n",
        " if i >500 :\n",
        "    break"
      ]
    },
    {
      "cell_type": "code",
      "execution_count": null,
      "metadata": {
        "id": "BMB9sxW6geeG"
      },
      "outputs": [],
      "source": [
        "img = load_img('/content/output/train/Viral Pneumonia/Viral Pneumonia-1041.png') \n",
        "x = img_to_array(img) \n",
        "x = x.reshape((1,) + x.shape)\n",
        "i = 0\n",
        "for batch in datagen.flow(x, batch_size=1,\n",
        " save_to_dir='/content/output/train/Viral Pneumonia',\n",
        " save_prefix='br', save_format='jpeg'):\n",
        " i += 1\n",
        " if i >500 :\n",
        "    break"
      ]
    },
    {
      "cell_type": "code",
      "execution_count": null,
      "metadata": {
        "id": "luHtYCpkgegR"
      },
      "outputs": [],
      "source": [
        "img = load_img('/content/output/train/Viral Pneumonia/Viral Pneumonia-1094.png') \n",
        "x = img_to_array(img) \n",
        "x = x.reshape((1,) + x.shape)\n",
        "i = 0\n",
        "for batch in datagen.flow(x, batch_size=1,\n",
        " save_to_dir='/content/output/train/Viral Pneumonia',\n",
        " save_prefix='br', save_format='jpeg'):\n",
        " i += 1\n",
        " if i >850 :\n",
        "    break"
      ]
    },
    {
      "cell_type": "code",
      "execution_count": null,
      "metadata": {
        "id": "641n_tjgh2vf"
      },
      "outputs": [],
      "source": [
        "img = load_img('/content/output/train/Viral Pneumonia/Viral Pneumonia-707.png') \n",
        "x = img_to_array(img) \n",
        "x = x.reshape((1,) + x.shape)\n",
        "i = 0\n",
        "for batch in datagen.flow(x, batch_size=1,\n",
        " save_to_dir='/content/output/train/Viral Pneumonia',\n",
        " save_prefix='br', save_format='jpeg'):\n",
        " i += 1\n",
        " if i >120 :\n",
        "    break"
      ]
    },
    {
      "cell_type": "code",
      "execution_count": null,
      "metadata": {
        "id": "7PjEqbT8iGwQ"
      },
      "outputs": [],
      "source": [
        "img = load_img('/content/COVID-19_CXR_Dataset_final/Viral Pneumonia/Viral Pneumonia-290.png') \n",
        "x = img_to_array(img) \n",
        "x = x.reshape((1,) + x.shape)\n",
        "i = 0\n",
        "for batch in datagen.flow(x, batch_size=1,\n",
        " save_to_dir='/content/output/train/Viral Pneumonia',\n",
        " save_prefix='br', save_format='jpeg'):\n",
        " i += 1\n",
        " if i >20 :\n",
        "    break"
      ]
    },
    {
      "cell_type": "code",
      "execution_count": null,
      "metadata": {
        "id": "KLkZurgMiQVk"
      },
      "outputs": [],
      "source": [
        "img = load_img('/content/COVID-19_CXR_Dataset_final/Viral Pneumonia/Viral Pneumonia-290.png') \n",
        "x = img_to_array(img) \n",
        "x = x.reshape((1,) + x.shape)\n",
        "i = 0\n",
        "for batch in datagen.flow(x, batch_size=1,\n",
        " save_to_dir='/content/output/train/Viral Pneumonia',\n",
        " save_prefix='br', save_format='jpeg'):\n",
        " i += 1\n",
        " if i >4 :\n",
        "    break"
      ]
    },
    {
      "cell_type": "code",
      "source": [
        "img = load_img('/content/COVID-19_CXR_Dataset_final/Viral Pneumonia/Viral Pneumonia-290.png') \n",
        "x = img_to_array(img) \n",
        "x = x.reshape((1,) + x.shape)\n",
        "i = 0\n",
        "for batch in datagen.flow(x, batch_size=1,\n",
        " save_to_dir='/content/output/train/Viral Pneumonia',\n",
        " save_prefix='br', save_format='jpeg'):\n",
        " i += 1\n",
        " if i >0 :\n",
        "    break"
      ],
      "metadata": {
        "id": "uWSwLuHyUV9h"
      },
      "execution_count": null,
      "outputs": []
    },
    {
      "cell_type": "code",
      "execution_count": null,
      "metadata": {
        "id": "TBAnoOHhHonY"
      },
      "outputs": [],
      "source": [
        "img = load_img('/content/COVID-19_CXR_Dataset_final/Viral Pneumonia/Viral Pneumonia-290.png') \n",
        "x = img_to_array(img) \n",
        "x = x.reshape((1,) + x.shape)\n",
        "i = 0\n",
        "for batch in datagen.flow(x, batch_size=1,\n",
        " save_to_dir='/content/output/train/Viral Pneumonia',\n",
        " save_prefix='br', save_format='jpeg'):\n",
        " i += 1\n",
        " if i >1 :\n",
        "    break"
      ]
    },
    {
      "cell_type": "code",
      "execution_count": null,
      "metadata": {
        "colab": {
          "base_uri": "https://localhost:8080/"
        },
        "id": "GQsHzvgpgeib",
        "outputId": "c2d91048-e85b-4933-caa4-8ad89eb5de00"
      },
      "outputs": [
        {
          "output_type": "stream",
          "name": "stdout",
          "text": [
            "2892\n"
          ]
        }
      ],
      "source": [
        "import glob\n",
        "print (len(glob.glob('/content/output/train/Viral Pneumonia/*')))"
      ]
    },
    {
      "cell_type": "code",
      "execution_count": null,
      "metadata": {
        "id": "EieZrvP8Hzzf"
      },
      "outputs": [],
      "source": [
        "img = load_img('/content/output/train/Fibrosis/00000061_013.png') \n",
        "x = img_to_array(img) \n",
        "x = x.reshape((1,) + x.shape)\n",
        "i = 0\n",
        "for batch in datagen.flow(x, batch_size=1,\n",
        " save_to_dir='/content/output/train/Fibrosis',\n",
        " save_prefix='br', save_format='jpeg'):\n",
        " i += 1\n",
        " if i > 1500 :\n",
        "    break"
      ]
    },
    {
      "cell_type": "code",
      "execution_count": null,
      "metadata": {
        "id": "GcvjgUReHz16"
      },
      "outputs": [],
      "source": [
        "img = load_img('/content/output/train/Fibrosis/00000067_000.png') \n",
        "x = img_to_array(img) \n",
        "x = x.reshape((1,) + x.shape)\n",
        "i = 0\n",
        "for batch in datagen.flow(x, batch_size=1,\n",
        " save_to_dir='/content/output/train/Fibrosis',\n",
        " save_prefix='br', save_format='jpeg'):\n",
        " i += 1\n",
        " if i > 130 :\n",
        "    break"
      ]
    },
    {
      "cell_type": "code",
      "execution_count": null,
      "metadata": {
        "id": "GDjbA54RHz5U"
      },
      "outputs": [],
      "source": [
        "img = load_img('/content/output/train/Fibrosis/00000099_013.png') \n",
        "x = img_to_array(img) \n",
        "x = x.reshape((1,) + x.shape)\n",
        "i = 0\n",
        "for batch in datagen.flow(x, batch_size=1,\n",
        " save_to_dir='/content/output/train/Fibrosis',\n",
        " save_prefix='br', save_format='jpeg'):\n",
        " i += 1\n",
        " if i > 48 :\n",
        "    break"
      ]
    },
    {
      "cell_type": "code",
      "execution_count": null,
      "metadata": {
        "id": "ophBkCARJvbQ"
      },
      "outputs": [],
      "source": [
        "img = load_img('/content/output/train/Fibrosis/00000092_002.png') \n",
        "x = img_to_array(img) \n",
        "x = x.reshape((1,) + x.shape)\n",
        "i = 0\n",
        "for batch in datagen.flow(x, batch_size=1,\n",
        " save_to_dir='/content/output/train/Fibrosis',\n",
        " save_prefix='br', save_format='jpeg'):\n",
        " i += 1\n",
        " if i > 8 :\n",
        "    break"
      ]
    },
    {
      "cell_type": "code",
      "execution_count": null,
      "metadata": {
        "colab": {
          "base_uri": "https://localhost:8080/"
        },
        "id": "xE2RZZ3LIJ-d",
        "outputId": "fb67353a-43b9-4905-8e85-d82a04678816"
      },
      "outputs": [
        {
          "output_type": "stream",
          "name": "stdout",
          "text": [
            "2892\n"
          ]
        }
      ],
      "source": [
        "import glob\n",
        "print (len(glob.glob('/content/output/train/Fibrosis/*')))"
      ]
    },
    {
      "cell_type": "code",
      "execution_count": null,
      "metadata": {
        "id": "9_uxZ_zugtHp"
      },
      "outputs": [],
      "source": [
        "import pickle\n",
        "import gc\n",
        "import cv2\n",
        "import matplotlib.pyplot as plt\n",
        "import numpy as np\n",
        "import tensorflow as tf\n",
        "from keras import Model\n",
        "\n",
        "from keras.utils.np_utils import to_categorical\n",
        "import time\n",
        "from keras.models import Sequential\n",
        "from tensorflow.keras.optimizers import RMSprop\n",
        "import keras\n",
        "from keras.layers import Conv2D, MaxPool2D, Flatten, Dense, InputLayer, BatchNormalization, Dropout\n",
        "from keras.utils import np_utils\n",
        "from tensorflow.keras.optimizers import Adam\n",
        "from keras.callbacks import LearningRateScheduler, ModelCheckpoint\n",
        "from keras.preprocessing.image import ImageDataGenerator\n",
        "from keras.regularizers import l2\n",
        "import tensorflow as tf\n",
        "\n",
        "from tensorflow.keras.layers import BatchNormalization"
      ]
    },
    {
      "cell_type": "code",
      "execution_count": null,
      "metadata": {
        "id": "zgNBHZRmirIZ"
      },
      "outputs": [],
      "source": [
        "import PIL\n",
        "import os\n",
        "import os.path\n",
        "from PIL import Image\n",
        "\n",
        "f = r'/content/output/train/Bacterial Pneumonia'\n",
        "for file in os.listdir(f):\n",
        "    f_img = f+\"/\"+file\n",
        "    img = Image.open(f_img)\n",
        "    img = img.resize((299,299))\n",
        "    img.save(f_img)"
      ]
    },
    {
      "cell_type": "code",
      "execution_count": null,
      "metadata": {
        "id": "_M-QOg-4irNo"
      },
      "outputs": [],
      "source": [
        "import PIL\n",
        "import os\n",
        "import os.path\n",
        "from PIL import Image\n",
        "\n",
        "f = r'/content/output/train/Tuberculosis'\n",
        "for file in os.listdir(f):\n",
        "    f_img = f+\"/\"+file\n",
        "    img = Image.open(f_img)\n",
        "    img = img.resize((299,299))\n",
        "    img.save(f_img)"
      ]
    },
    {
      "cell_type": "code",
      "execution_count": null,
      "metadata": {
        "id": "kHiMqVWtrQX1"
      },
      "outputs": [],
      "source": [
        "import PIL\n",
        "import os\n",
        "import os.path\n",
        "from PIL import Image\n",
        "\n",
        "f = r'/content/output/val/Tuberculosis'\n",
        "for file in os.listdir(f):\n",
        "    f_img = f+\"/\"+file\n",
        "    img = Image.open(f_img)\n",
        "    img = img.resize((299,299))\n",
        "    img.save(f_img)"
      ]
    },
    {
      "cell_type": "code",
      "execution_count": null,
      "metadata": {
        "id": "7GPP5fsOrQbL"
      },
      "outputs": [],
      "source": [
        "import PIL\n",
        "import os\n",
        "import os.path\n",
        "from PIL import Image\n",
        "\n",
        "f = r'/content/output/val/Bacterial Pneumonia'\n",
        "for file in os.listdir(f):\n",
        "    f_img = f+\"/\"+file\n",
        "    img = Image.open(f_img)\n",
        "    img = img.resize((299,299))\n",
        "    img.save(f_img)"
      ]
    },
    {
      "cell_type": "code",
      "source": [
        "import pickle\n",
        "import gc\n",
        "import cv2\n",
        "import matplotlib.pyplot as plt\n",
        "import numpy as np\n",
        "import tensorflow as tf\n",
        "from keras import Model\n",
        "from keras.callbacks import ModelCheckpoint\n",
        "from tensorflow.keras.layers import Conv2D, MaxPooling2D\n",
        "from tensorflow.keras.layers import Dense, Dropout, Flatten\n",
        "from tensorflow.keras.models import Sequential\n",
        "from tensorflow.keras.optimizers import Adam\n",
        "\n",
        "import time\n",
        "from tensorflow.keras.layers import BatchNormalization\n",
        "from keras.layers import Input, Lambda, Dense, Flatten\n",
        "from keras.models import Model\n",
        "from tensorflow.keras.applications.vgg16 import VGG16\n",
        "from tensorflow.keras.applications.vgg16 import preprocess_input\n",
        "from tensorflow.keras.applications.inception_resnet_v2 import InceptionResNetV2\n",
        "from tensorflow.keras.applications.inception_resnet_v2 import preprocess_input\n",
        "from tensorflow.keras.applications.inception_v3 import InceptionV3\n",
        "from tensorflow.keras.applications.inception_v3 import preprocess_input\n",
        "from tensorflow.keras.applications.nasnet import NASNetLarge\n",
        "from keras.preprocessing import image\n",
        "from keras.preprocessing.image import ImageDataGenerator\n",
        "from keras.models import Sequential\n",
        "\n",
        "from glob import glob"
      ],
      "metadata": {
        "id": "kKWpHWHMVxzD"
      },
      "execution_count": null,
      "outputs": []
    },
    {
      "cell_type": "code",
      "source": [
        "IMAGE_SIZE = [299, 299]"
      ],
      "metadata": {
        "id": "ugSPLiK5U7Ga"
      },
      "execution_count": null,
      "outputs": []
    },
    {
      "cell_type": "code",
      "source": [
        "inception_v3 = InceptionV3(input_shape=IMAGE_SIZE + [3], weights='imagenet', include_top=False)\n",
        "\n",
        "# don't train existing weights\n",
        "for layer in inception_v3.layers:\n",
        "  layer.trainable = False"
      ],
      "metadata": {
        "colab": {
          "base_uri": "https://localhost:8080/"
        },
        "id": "wa4gLw22U7Iv",
        "outputId": "71148a8e-be10-4926-e578-3714a4587cb4"
      },
      "execution_count": null,
      "outputs": [
        {
          "output_type": "stream",
          "name": "stdout",
          "text": [
            "Downloading data from https://storage.googleapis.com/tensorflow/keras-applications/inception_v3/inception_v3_weights_tf_dim_ordering_tf_kernels_notop.h5\n",
            "87910968/87910968 [==============================] - 6s 0us/step\n"
          ]
        }
      ]
    },
    {
      "cell_type": "code",
      "source": [
        "import keras\n",
        "x = Flatten()(inception_v3.output)\n",
        "#x = keras.layers.Dropout(0.2)(x)\n",
        "x = Dense(1024, activation='relu')(x)\n",
        "x = keras.layers.Dropout(0.2)(x)\n",
        "#x = Dense(512, activation='relu')(x)\n",
        "#x = keras.layers.Dropout(0.4)(x)\n",
        "prediction = Dense(6, activation='softmax')(x)\n",
        "\n",
        "model = Model(inputs=inception_v3.input, outputs=prediction)\n",
        "\n",
        "# view the structure of the model\n",
        "model.summary()\n",
        "model.compile(\n",
        "  loss='categorical_crossentropy',\n",
        "  optimizer='adam',\n",
        "  metrics=['accuracy']\n",
        ")"
      ],
      "metadata": {
        "colab": {
          "base_uri": "https://localhost:8080/"
        },
        "id": "K36223t5U7LX",
        "outputId": "5c14059e-5ed7-4b99-9093-9eba7b7e754c"
      },
      "execution_count": null,
      "outputs": [
        {
          "output_type": "stream",
          "name": "stdout",
          "text": [
            "Model: \"model_1\"\n",
            "__________________________________________________________________________________________________\n",
            " Layer (type)                   Output Shape         Param #     Connected to                     \n",
            "==================================================================================================\n",
            " input_1 (InputLayer)           [(None, 299, 299, 3  0           []                               \n",
            "                                )]                                                                \n",
            "                                                                                                  \n",
            " conv2d (Conv2D)                (None, 149, 149, 32  864         ['input_1[0][0]']                \n",
            "                                )                                                                 \n",
            "                                                                                                  \n",
            " batch_normalization (BatchNorm  (None, 149, 149, 32  96         ['conv2d[0][0]']                 \n",
            " alization)                     )                                                                 \n",
            "                                                                                                  \n",
            " activation (Activation)        (None, 149, 149, 32  0           ['batch_normalization[0][0]']    \n",
            "                                )                                                                 \n",
            "                                                                                                  \n",
            " conv2d_1 (Conv2D)              (None, 147, 147, 32  9216        ['activation[0][0]']             \n",
            "                                )                                                                 \n",
            "                                                                                                  \n",
            " batch_normalization_1 (BatchNo  (None, 147, 147, 32  96         ['conv2d_1[0][0]']               \n",
            " rmalization)                   )                                                                 \n",
            "                                                                                                  \n",
            " activation_1 (Activation)      (None, 147, 147, 32  0           ['batch_normalization_1[0][0]']  \n",
            "                                )                                                                 \n",
            "                                                                                                  \n",
            " conv2d_2 (Conv2D)              (None, 147, 147, 64  18432       ['activation_1[0][0]']           \n",
            "                                )                                                                 \n",
            "                                                                                                  \n",
            " batch_normalization_2 (BatchNo  (None, 147, 147, 64  192        ['conv2d_2[0][0]']               \n",
            " rmalization)                   )                                                                 \n",
            "                                                                                                  \n",
            " activation_2 (Activation)      (None, 147, 147, 64  0           ['batch_normalization_2[0][0]']  \n",
            "                                )                                                                 \n",
            "                                                                                                  \n",
            " max_pooling2d (MaxPooling2D)   (None, 73, 73, 64)   0           ['activation_2[0][0]']           \n",
            "                                                                                                  \n",
            " conv2d_3 (Conv2D)              (None, 73, 73, 80)   5120        ['max_pooling2d[0][0]']          \n",
            "                                                                                                  \n",
            " batch_normalization_3 (BatchNo  (None, 73, 73, 80)  240         ['conv2d_3[0][0]']               \n",
            " rmalization)                                                                                     \n",
            "                                                                                                  \n",
            " activation_3 (Activation)      (None, 73, 73, 80)   0           ['batch_normalization_3[0][0]']  \n",
            "                                                                                                  \n",
            " conv2d_4 (Conv2D)              (None, 71, 71, 192)  138240      ['activation_3[0][0]']           \n",
            "                                                                                                  \n",
            " batch_normalization_4 (BatchNo  (None, 71, 71, 192)  576        ['conv2d_4[0][0]']               \n",
            " rmalization)                                                                                     \n",
            "                                                                                                  \n",
            " activation_4 (Activation)      (None, 71, 71, 192)  0           ['batch_normalization_4[0][0]']  \n",
            "                                                                                                  \n",
            " max_pooling2d_1 (MaxPooling2D)  (None, 35, 35, 192)  0          ['activation_4[0][0]']           \n",
            "                                                                                                  \n",
            " conv2d_8 (Conv2D)              (None, 35, 35, 64)   12288       ['max_pooling2d_1[0][0]']        \n",
            "                                                                                                  \n",
            " batch_normalization_8 (BatchNo  (None, 35, 35, 64)  192         ['conv2d_8[0][0]']               \n",
            " rmalization)                                                                                     \n",
            "                                                                                                  \n",
            " activation_8 (Activation)      (None, 35, 35, 64)   0           ['batch_normalization_8[0][0]']  \n",
            "                                                                                                  \n",
            " conv2d_6 (Conv2D)              (None, 35, 35, 48)   9216        ['max_pooling2d_1[0][0]']        \n",
            "                                                                                                  \n",
            " conv2d_9 (Conv2D)              (None, 35, 35, 96)   55296       ['activation_8[0][0]']           \n",
            "                                                                                                  \n",
            " batch_normalization_6 (BatchNo  (None, 35, 35, 48)  144         ['conv2d_6[0][0]']               \n",
            " rmalization)                                                                                     \n",
            "                                                                                                  \n",
            " batch_normalization_9 (BatchNo  (None, 35, 35, 96)  288         ['conv2d_9[0][0]']               \n",
            " rmalization)                                                                                     \n",
            "                                                                                                  \n",
            " activation_6 (Activation)      (None, 35, 35, 48)   0           ['batch_normalization_6[0][0]']  \n",
            "                                                                                                  \n",
            " activation_9 (Activation)      (None, 35, 35, 96)   0           ['batch_normalization_9[0][0]']  \n",
            "                                                                                                  \n",
            " average_pooling2d (AveragePool  (None, 35, 35, 192)  0          ['max_pooling2d_1[0][0]']        \n",
            " ing2D)                                                                                           \n",
            "                                                                                                  \n",
            " conv2d_5 (Conv2D)              (None, 35, 35, 64)   12288       ['max_pooling2d_1[0][0]']        \n",
            "                                                                                                  \n",
            " conv2d_7 (Conv2D)              (None, 35, 35, 64)   76800       ['activation_6[0][0]']           \n",
            "                                                                                                  \n",
            " conv2d_10 (Conv2D)             (None, 35, 35, 96)   82944       ['activation_9[0][0]']           \n",
            "                                                                                                  \n",
            " conv2d_11 (Conv2D)             (None, 35, 35, 32)   6144        ['average_pooling2d[0][0]']      \n",
            "                                                                                                  \n",
            " batch_normalization_5 (BatchNo  (None, 35, 35, 64)  192         ['conv2d_5[0][0]']               \n",
            " rmalization)                                                                                     \n",
            "                                                                                                  \n",
            " batch_normalization_7 (BatchNo  (None, 35, 35, 64)  192         ['conv2d_7[0][0]']               \n",
            " rmalization)                                                                                     \n",
            "                                                                                                  \n",
            " batch_normalization_10 (BatchN  (None, 35, 35, 96)  288         ['conv2d_10[0][0]']              \n",
            " ormalization)                                                                                    \n",
            "                                                                                                  \n",
            " batch_normalization_11 (BatchN  (None, 35, 35, 32)  96          ['conv2d_11[0][0]']              \n",
            " ormalization)                                                                                    \n",
            "                                                                                                  \n",
            " activation_5 (Activation)      (None, 35, 35, 64)   0           ['batch_normalization_5[0][0]']  \n",
            "                                                                                                  \n",
            " activation_7 (Activation)      (None, 35, 35, 64)   0           ['batch_normalization_7[0][0]']  \n",
            "                                                                                                  \n",
            " activation_10 (Activation)     (None, 35, 35, 96)   0           ['batch_normalization_10[0][0]'] \n",
            "                                                                                                  \n",
            " activation_11 (Activation)     (None, 35, 35, 32)   0           ['batch_normalization_11[0][0]'] \n",
            "                                                                                                  \n",
            " mixed0 (Concatenate)           (None, 35, 35, 256)  0           ['activation_5[0][0]',           \n",
            "                                                                  'activation_7[0][0]',           \n",
            "                                                                  'activation_10[0][0]',          \n",
            "                                                                  'activation_11[0][0]']          \n",
            "                                                                                                  \n",
            " conv2d_15 (Conv2D)             (None, 35, 35, 64)   16384       ['mixed0[0][0]']                 \n",
            "                                                                                                  \n",
            " batch_normalization_15 (BatchN  (None, 35, 35, 64)  192         ['conv2d_15[0][0]']              \n",
            " ormalization)                                                                                    \n",
            "                                                                                                  \n",
            " activation_15 (Activation)     (None, 35, 35, 64)   0           ['batch_normalization_15[0][0]'] \n",
            "                                                                                                  \n",
            " conv2d_13 (Conv2D)             (None, 35, 35, 48)   12288       ['mixed0[0][0]']                 \n",
            "                                                                                                  \n",
            " conv2d_16 (Conv2D)             (None, 35, 35, 96)   55296       ['activation_15[0][0]']          \n",
            "                                                                                                  \n",
            " batch_normalization_13 (BatchN  (None, 35, 35, 48)  144         ['conv2d_13[0][0]']              \n",
            " ormalization)                                                                                    \n",
            "                                                                                                  \n",
            " batch_normalization_16 (BatchN  (None, 35, 35, 96)  288         ['conv2d_16[0][0]']              \n",
            " ormalization)                                                                                    \n",
            "                                                                                                  \n",
            " activation_13 (Activation)     (None, 35, 35, 48)   0           ['batch_normalization_13[0][0]'] \n",
            "                                                                                                  \n",
            " activation_16 (Activation)     (None, 35, 35, 96)   0           ['batch_normalization_16[0][0]'] \n",
            "                                                                                                  \n",
            " average_pooling2d_1 (AveragePo  (None, 35, 35, 256)  0          ['mixed0[0][0]']                 \n",
            " oling2D)                                                                                         \n",
            "                                                                                                  \n",
            " conv2d_12 (Conv2D)             (None, 35, 35, 64)   16384       ['mixed0[0][0]']                 \n",
            "                                                                                                  \n",
            " conv2d_14 (Conv2D)             (None, 35, 35, 64)   76800       ['activation_13[0][0]']          \n",
            "                                                                                                  \n",
            " conv2d_17 (Conv2D)             (None, 35, 35, 96)   82944       ['activation_16[0][0]']          \n",
            "                                                                                                  \n",
            " conv2d_18 (Conv2D)             (None, 35, 35, 64)   16384       ['average_pooling2d_1[0][0]']    \n",
            "                                                                                                  \n",
            " batch_normalization_12 (BatchN  (None, 35, 35, 64)  192         ['conv2d_12[0][0]']              \n",
            " ormalization)                                                                                    \n",
            "                                                                                                  \n",
            " batch_normalization_14 (BatchN  (None, 35, 35, 64)  192         ['conv2d_14[0][0]']              \n",
            " ormalization)                                                                                    \n",
            "                                                                                                  \n",
            " batch_normalization_17 (BatchN  (None, 35, 35, 96)  288         ['conv2d_17[0][0]']              \n",
            " ormalization)                                                                                    \n",
            "                                                                                                  \n",
            " batch_normalization_18 (BatchN  (None, 35, 35, 64)  192         ['conv2d_18[0][0]']              \n",
            " ormalization)                                                                                    \n",
            "                                                                                                  \n",
            " activation_12 (Activation)     (None, 35, 35, 64)   0           ['batch_normalization_12[0][0]'] \n",
            "                                                                                                  \n",
            " activation_14 (Activation)     (None, 35, 35, 64)   0           ['batch_normalization_14[0][0]'] \n",
            "                                                                                                  \n",
            " activation_17 (Activation)     (None, 35, 35, 96)   0           ['batch_normalization_17[0][0]'] \n",
            "                                                                                                  \n",
            " activation_18 (Activation)     (None, 35, 35, 64)   0           ['batch_normalization_18[0][0]'] \n",
            "                                                                                                  \n",
            " mixed1 (Concatenate)           (None, 35, 35, 288)  0           ['activation_12[0][0]',          \n",
            "                                                                  'activation_14[0][0]',          \n",
            "                                                                  'activation_17[0][0]',          \n",
            "                                                                  'activation_18[0][0]']          \n",
            "                                                                                                  \n",
            " conv2d_22 (Conv2D)             (None, 35, 35, 64)   18432       ['mixed1[0][0]']                 \n",
            "                                                                                                  \n",
            " batch_normalization_22 (BatchN  (None, 35, 35, 64)  192         ['conv2d_22[0][0]']              \n",
            " ormalization)                                                                                    \n",
            "                                                                                                  \n",
            " activation_22 (Activation)     (None, 35, 35, 64)   0           ['batch_normalization_22[0][0]'] \n",
            "                                                                                                  \n",
            " conv2d_20 (Conv2D)             (None, 35, 35, 48)   13824       ['mixed1[0][0]']                 \n",
            "                                                                                                  \n",
            " conv2d_23 (Conv2D)             (None, 35, 35, 96)   55296       ['activation_22[0][0]']          \n",
            "                                                                                                  \n",
            " batch_normalization_20 (BatchN  (None, 35, 35, 48)  144         ['conv2d_20[0][0]']              \n",
            " ormalization)                                                                                    \n",
            "                                                                                                  \n",
            " batch_normalization_23 (BatchN  (None, 35, 35, 96)  288         ['conv2d_23[0][0]']              \n",
            " ormalization)                                                                                    \n",
            "                                                                                                  \n",
            " activation_20 (Activation)     (None, 35, 35, 48)   0           ['batch_normalization_20[0][0]'] \n",
            "                                                                                                  \n",
            " activation_23 (Activation)     (None, 35, 35, 96)   0           ['batch_normalization_23[0][0]'] \n",
            "                                                                                                  \n",
            " average_pooling2d_2 (AveragePo  (None, 35, 35, 288)  0          ['mixed1[0][0]']                 \n",
            " oling2D)                                                                                         \n",
            "                                                                                                  \n",
            " conv2d_19 (Conv2D)             (None, 35, 35, 64)   18432       ['mixed1[0][0]']                 \n",
            "                                                                                                  \n",
            " conv2d_21 (Conv2D)             (None, 35, 35, 64)   76800       ['activation_20[0][0]']          \n",
            "                                                                                                  \n",
            " conv2d_24 (Conv2D)             (None, 35, 35, 96)   82944       ['activation_23[0][0]']          \n",
            "                                                                                                  \n",
            " conv2d_25 (Conv2D)             (None, 35, 35, 64)   18432       ['average_pooling2d_2[0][0]']    \n",
            "                                                                                                  \n",
            " batch_normalization_19 (BatchN  (None, 35, 35, 64)  192         ['conv2d_19[0][0]']              \n",
            " ormalization)                                                                                    \n",
            "                                                                                                  \n",
            " batch_normalization_21 (BatchN  (None, 35, 35, 64)  192         ['conv2d_21[0][0]']              \n",
            " ormalization)                                                                                    \n",
            "                                                                                                  \n",
            " batch_normalization_24 (BatchN  (None, 35, 35, 96)  288         ['conv2d_24[0][0]']              \n",
            " ormalization)                                                                                    \n",
            "                                                                                                  \n",
            " batch_normalization_25 (BatchN  (None, 35, 35, 64)  192         ['conv2d_25[0][0]']              \n",
            " ormalization)                                                                                    \n",
            "                                                                                                  \n",
            " activation_19 (Activation)     (None, 35, 35, 64)   0           ['batch_normalization_19[0][0]'] \n",
            "                                                                                                  \n",
            " activation_21 (Activation)     (None, 35, 35, 64)   0           ['batch_normalization_21[0][0]'] \n",
            "                                                                                                  \n",
            " activation_24 (Activation)     (None, 35, 35, 96)   0           ['batch_normalization_24[0][0]'] \n",
            "                                                                                                  \n",
            " activation_25 (Activation)     (None, 35, 35, 64)   0           ['batch_normalization_25[0][0]'] \n",
            "                                                                                                  \n",
            " mixed2 (Concatenate)           (None, 35, 35, 288)  0           ['activation_19[0][0]',          \n",
            "                                                                  'activation_21[0][0]',          \n",
            "                                                                  'activation_24[0][0]',          \n",
            "                                                                  'activation_25[0][0]']          \n",
            "                                                                                                  \n",
            " conv2d_27 (Conv2D)             (None, 35, 35, 64)   18432       ['mixed2[0][0]']                 \n",
            "                                                                                                  \n",
            " batch_normalization_27 (BatchN  (None, 35, 35, 64)  192         ['conv2d_27[0][0]']              \n",
            " ormalization)                                                                                    \n",
            "                                                                                                  \n",
            " activation_27 (Activation)     (None, 35, 35, 64)   0           ['batch_normalization_27[0][0]'] \n",
            "                                                                                                  \n",
            " conv2d_28 (Conv2D)             (None, 35, 35, 96)   55296       ['activation_27[0][0]']          \n",
            "                                                                                                  \n",
            " batch_normalization_28 (BatchN  (None, 35, 35, 96)  288         ['conv2d_28[0][0]']              \n",
            " ormalization)                                                                                    \n",
            "                                                                                                  \n",
            " activation_28 (Activation)     (None, 35, 35, 96)   0           ['batch_normalization_28[0][0]'] \n",
            "                                                                                                  \n",
            " conv2d_26 (Conv2D)             (None, 17, 17, 384)  995328      ['mixed2[0][0]']                 \n",
            "                                                                                                  \n",
            " conv2d_29 (Conv2D)             (None, 17, 17, 96)   82944       ['activation_28[0][0]']          \n",
            "                                                                                                  \n",
            " batch_normalization_26 (BatchN  (None, 17, 17, 384)  1152       ['conv2d_26[0][0]']              \n",
            " ormalization)                                                                                    \n",
            "                                                                                                  \n",
            " batch_normalization_29 (BatchN  (None, 17, 17, 96)  288         ['conv2d_29[0][0]']              \n",
            " ormalization)                                                                                    \n",
            "                                                                                                  \n",
            " activation_26 (Activation)     (None, 17, 17, 384)  0           ['batch_normalization_26[0][0]'] \n",
            "                                                                                                  \n",
            " activation_29 (Activation)     (None, 17, 17, 96)   0           ['batch_normalization_29[0][0]'] \n",
            "                                                                                                  \n",
            " max_pooling2d_2 (MaxPooling2D)  (None, 17, 17, 288)  0          ['mixed2[0][0]']                 \n",
            "                                                                                                  \n",
            " mixed3 (Concatenate)           (None, 17, 17, 768)  0           ['activation_26[0][0]',          \n",
            "                                                                  'activation_29[0][0]',          \n",
            "                                                                  'max_pooling2d_2[0][0]']        \n",
            "                                                                                                  \n",
            " conv2d_34 (Conv2D)             (None, 17, 17, 128)  98304       ['mixed3[0][0]']                 \n",
            "                                                                                                  \n",
            " batch_normalization_34 (BatchN  (None, 17, 17, 128)  384        ['conv2d_34[0][0]']              \n",
            " ormalization)                                                                                    \n",
            "                                                                                                  \n",
            " activation_34 (Activation)     (None, 17, 17, 128)  0           ['batch_normalization_34[0][0]'] \n",
            "                                                                                                  \n",
            " conv2d_35 (Conv2D)             (None, 17, 17, 128)  114688      ['activation_34[0][0]']          \n",
            "                                                                                                  \n",
            " batch_normalization_35 (BatchN  (None, 17, 17, 128)  384        ['conv2d_35[0][0]']              \n",
            " ormalization)                                                                                    \n",
            "                                                                                                  \n",
            " activation_35 (Activation)     (None, 17, 17, 128)  0           ['batch_normalization_35[0][0]'] \n",
            "                                                                                                  \n",
            " conv2d_31 (Conv2D)             (None, 17, 17, 128)  98304       ['mixed3[0][0]']                 \n",
            "                                                                                                  \n",
            " conv2d_36 (Conv2D)             (None, 17, 17, 128)  114688      ['activation_35[0][0]']          \n",
            "                                                                                                  \n",
            " batch_normalization_31 (BatchN  (None, 17, 17, 128)  384        ['conv2d_31[0][0]']              \n",
            " ormalization)                                                                                    \n",
            "                                                                                                  \n",
            " batch_normalization_36 (BatchN  (None, 17, 17, 128)  384        ['conv2d_36[0][0]']              \n",
            " ormalization)                                                                                    \n",
            "                                                                                                  \n",
            " activation_31 (Activation)     (None, 17, 17, 128)  0           ['batch_normalization_31[0][0]'] \n",
            "                                                                                                  \n",
            " activation_36 (Activation)     (None, 17, 17, 128)  0           ['batch_normalization_36[0][0]'] \n",
            "                                                                                                  \n",
            " conv2d_32 (Conv2D)             (None, 17, 17, 128)  114688      ['activation_31[0][0]']          \n",
            "                                                                                                  \n",
            " conv2d_37 (Conv2D)             (None, 17, 17, 128)  114688      ['activation_36[0][0]']          \n",
            "                                                                                                  \n",
            " batch_normalization_32 (BatchN  (None, 17, 17, 128)  384        ['conv2d_32[0][0]']              \n",
            " ormalization)                                                                                    \n",
            "                                                                                                  \n",
            " batch_normalization_37 (BatchN  (None, 17, 17, 128)  384        ['conv2d_37[0][0]']              \n",
            " ormalization)                                                                                    \n",
            "                                                                                                  \n",
            " activation_32 (Activation)     (None, 17, 17, 128)  0           ['batch_normalization_32[0][0]'] \n",
            "                                                                                                  \n",
            " activation_37 (Activation)     (None, 17, 17, 128)  0           ['batch_normalization_37[0][0]'] \n",
            "                                                                                                  \n",
            " average_pooling2d_3 (AveragePo  (None, 17, 17, 768)  0          ['mixed3[0][0]']                 \n",
            " oling2D)                                                                                         \n",
            "                                                                                                  \n",
            " conv2d_30 (Conv2D)             (None, 17, 17, 192)  147456      ['mixed3[0][0]']                 \n",
            "                                                                                                  \n",
            " conv2d_33 (Conv2D)             (None, 17, 17, 192)  172032      ['activation_32[0][0]']          \n",
            "                                                                                                  \n",
            " conv2d_38 (Conv2D)             (None, 17, 17, 192)  172032      ['activation_37[0][0]']          \n",
            "                                                                                                  \n",
            " conv2d_39 (Conv2D)             (None, 17, 17, 192)  147456      ['average_pooling2d_3[0][0]']    \n",
            "                                                                                                  \n",
            " batch_normalization_30 (BatchN  (None, 17, 17, 192)  576        ['conv2d_30[0][0]']              \n",
            " ormalization)                                                                                    \n",
            "                                                                                                  \n",
            " batch_normalization_33 (BatchN  (None, 17, 17, 192)  576        ['conv2d_33[0][0]']              \n",
            " ormalization)                                                                                    \n",
            "                                                                                                  \n",
            " batch_normalization_38 (BatchN  (None, 17, 17, 192)  576        ['conv2d_38[0][0]']              \n",
            " ormalization)                                                                                    \n",
            "                                                                                                  \n",
            " batch_normalization_39 (BatchN  (None, 17, 17, 192)  576        ['conv2d_39[0][0]']              \n",
            " ormalization)                                                                                    \n",
            "                                                                                                  \n",
            " activation_30 (Activation)     (None, 17, 17, 192)  0           ['batch_normalization_30[0][0]'] \n",
            "                                                                                                  \n",
            " activation_33 (Activation)     (None, 17, 17, 192)  0           ['batch_normalization_33[0][0]'] \n",
            "                                                                                                  \n",
            " activation_38 (Activation)     (None, 17, 17, 192)  0           ['batch_normalization_38[0][0]'] \n",
            "                                                                                                  \n",
            " activation_39 (Activation)     (None, 17, 17, 192)  0           ['batch_normalization_39[0][0]'] \n",
            "                                                                                                  \n",
            " mixed4 (Concatenate)           (None, 17, 17, 768)  0           ['activation_30[0][0]',          \n",
            "                                                                  'activation_33[0][0]',          \n",
            "                                                                  'activation_38[0][0]',          \n",
            "                                                                  'activation_39[0][0]']          \n",
            "                                                                                                  \n",
            " conv2d_44 (Conv2D)             (None, 17, 17, 160)  122880      ['mixed4[0][0]']                 \n",
            "                                                                                                  \n",
            " batch_normalization_44 (BatchN  (None, 17, 17, 160)  480        ['conv2d_44[0][0]']              \n",
            " ormalization)                                                                                    \n",
            "                                                                                                  \n",
            " activation_44 (Activation)     (None, 17, 17, 160)  0           ['batch_normalization_44[0][0]'] \n",
            "                                                                                                  \n",
            " conv2d_45 (Conv2D)             (None, 17, 17, 160)  179200      ['activation_44[0][0]']          \n",
            "                                                                                                  \n",
            " batch_normalization_45 (BatchN  (None, 17, 17, 160)  480        ['conv2d_45[0][0]']              \n",
            " ormalization)                                                                                    \n",
            "                                                                                                  \n",
            " activation_45 (Activation)     (None, 17, 17, 160)  0           ['batch_normalization_45[0][0]'] \n",
            "                                                                                                  \n",
            " conv2d_41 (Conv2D)             (None, 17, 17, 160)  122880      ['mixed4[0][0]']                 \n",
            "                                                                                                  \n",
            " conv2d_46 (Conv2D)             (None, 17, 17, 160)  179200      ['activation_45[0][0]']          \n",
            "                                                                                                  \n",
            " batch_normalization_41 (BatchN  (None, 17, 17, 160)  480        ['conv2d_41[0][0]']              \n",
            " ormalization)                                                                                    \n",
            "                                                                                                  \n",
            " batch_normalization_46 (BatchN  (None, 17, 17, 160)  480        ['conv2d_46[0][0]']              \n",
            " ormalization)                                                                                    \n",
            "                                                                                                  \n",
            " activation_41 (Activation)     (None, 17, 17, 160)  0           ['batch_normalization_41[0][0]'] \n",
            "                                                                                                  \n",
            " activation_46 (Activation)     (None, 17, 17, 160)  0           ['batch_normalization_46[0][0]'] \n",
            "                                                                                                  \n",
            " conv2d_42 (Conv2D)             (None, 17, 17, 160)  179200      ['activation_41[0][0]']          \n",
            "                                                                                                  \n",
            " conv2d_47 (Conv2D)             (None, 17, 17, 160)  179200      ['activation_46[0][0]']          \n",
            "                                                                                                  \n",
            " batch_normalization_42 (BatchN  (None, 17, 17, 160)  480        ['conv2d_42[0][0]']              \n",
            " ormalization)                                                                                    \n",
            "                                                                                                  \n",
            " batch_normalization_47 (BatchN  (None, 17, 17, 160)  480        ['conv2d_47[0][0]']              \n",
            " ormalization)                                                                                    \n",
            "                                                                                                  \n",
            " activation_42 (Activation)     (None, 17, 17, 160)  0           ['batch_normalization_42[0][0]'] \n",
            "                                                                                                  \n",
            " activation_47 (Activation)     (None, 17, 17, 160)  0           ['batch_normalization_47[0][0]'] \n",
            "                                                                                                  \n",
            " average_pooling2d_4 (AveragePo  (None, 17, 17, 768)  0          ['mixed4[0][0]']                 \n",
            " oling2D)                                                                                         \n",
            "                                                                                                  \n",
            " conv2d_40 (Conv2D)             (None, 17, 17, 192)  147456      ['mixed4[0][0]']                 \n",
            "                                                                                                  \n",
            " conv2d_43 (Conv2D)             (None, 17, 17, 192)  215040      ['activation_42[0][0]']          \n",
            "                                                                                                  \n",
            " conv2d_48 (Conv2D)             (None, 17, 17, 192)  215040      ['activation_47[0][0]']          \n",
            "                                                                                                  \n",
            " conv2d_49 (Conv2D)             (None, 17, 17, 192)  147456      ['average_pooling2d_4[0][0]']    \n",
            "                                                                                                  \n",
            " batch_normalization_40 (BatchN  (None, 17, 17, 192)  576        ['conv2d_40[0][0]']              \n",
            " ormalization)                                                                                    \n",
            "                                                                                                  \n",
            " batch_normalization_43 (BatchN  (None, 17, 17, 192)  576        ['conv2d_43[0][0]']              \n",
            " ormalization)                                                                                    \n",
            "                                                                                                  \n",
            " batch_normalization_48 (BatchN  (None, 17, 17, 192)  576        ['conv2d_48[0][0]']              \n",
            " ormalization)                                                                                    \n",
            "                                                                                                  \n",
            " batch_normalization_49 (BatchN  (None, 17, 17, 192)  576        ['conv2d_49[0][0]']              \n",
            " ormalization)                                                                                    \n",
            "                                                                                                  \n",
            " activation_40 (Activation)     (None, 17, 17, 192)  0           ['batch_normalization_40[0][0]'] \n",
            "                                                                                                  \n",
            " activation_43 (Activation)     (None, 17, 17, 192)  0           ['batch_normalization_43[0][0]'] \n",
            "                                                                                                  \n",
            " activation_48 (Activation)     (None, 17, 17, 192)  0           ['batch_normalization_48[0][0]'] \n",
            "                                                                                                  \n",
            " activation_49 (Activation)     (None, 17, 17, 192)  0           ['batch_normalization_49[0][0]'] \n",
            "                                                                                                  \n",
            " mixed5 (Concatenate)           (None, 17, 17, 768)  0           ['activation_40[0][0]',          \n",
            "                                                                  'activation_43[0][0]',          \n",
            "                                                                  'activation_48[0][0]',          \n",
            "                                                                  'activation_49[0][0]']          \n",
            "                                                                                                  \n",
            " conv2d_54 (Conv2D)             (None, 17, 17, 160)  122880      ['mixed5[0][0]']                 \n",
            "                                                                                                  \n",
            " batch_normalization_54 (BatchN  (None, 17, 17, 160)  480        ['conv2d_54[0][0]']              \n",
            " ormalization)                                                                                    \n",
            "                                                                                                  \n",
            " activation_54 (Activation)     (None, 17, 17, 160)  0           ['batch_normalization_54[0][0]'] \n",
            "                                                                                                  \n",
            " conv2d_55 (Conv2D)             (None, 17, 17, 160)  179200      ['activation_54[0][0]']          \n",
            "                                                                                                  \n",
            " batch_normalization_55 (BatchN  (None, 17, 17, 160)  480        ['conv2d_55[0][0]']              \n",
            " ormalization)                                                                                    \n",
            "                                                                                                  \n",
            " activation_55 (Activation)     (None, 17, 17, 160)  0           ['batch_normalization_55[0][0]'] \n",
            "                                                                                                  \n",
            " conv2d_51 (Conv2D)             (None, 17, 17, 160)  122880      ['mixed5[0][0]']                 \n",
            "                                                                                                  \n",
            " conv2d_56 (Conv2D)             (None, 17, 17, 160)  179200      ['activation_55[0][0]']          \n",
            "                                                                                                  \n",
            " batch_normalization_51 (BatchN  (None, 17, 17, 160)  480        ['conv2d_51[0][0]']              \n",
            " ormalization)                                                                                    \n",
            "                                                                                                  \n",
            " batch_normalization_56 (BatchN  (None, 17, 17, 160)  480        ['conv2d_56[0][0]']              \n",
            " ormalization)                                                                                    \n",
            "                                                                                                  \n",
            " activation_51 (Activation)     (None, 17, 17, 160)  0           ['batch_normalization_51[0][0]'] \n",
            "                                                                                                  \n",
            " activation_56 (Activation)     (None, 17, 17, 160)  0           ['batch_normalization_56[0][0]'] \n",
            "                                                                                                  \n",
            " conv2d_52 (Conv2D)             (None, 17, 17, 160)  179200      ['activation_51[0][0]']          \n",
            "                                                                                                  \n",
            " conv2d_57 (Conv2D)             (None, 17, 17, 160)  179200      ['activation_56[0][0]']          \n",
            "                                                                                                  \n",
            " batch_normalization_52 (BatchN  (None, 17, 17, 160)  480        ['conv2d_52[0][0]']              \n",
            " ormalization)                                                                                    \n",
            "                                                                                                  \n",
            " batch_normalization_57 (BatchN  (None, 17, 17, 160)  480        ['conv2d_57[0][0]']              \n",
            " ormalization)                                                                                    \n",
            "                                                                                                  \n",
            " activation_52 (Activation)     (None, 17, 17, 160)  0           ['batch_normalization_52[0][0]'] \n",
            "                                                                                                  \n",
            " activation_57 (Activation)     (None, 17, 17, 160)  0           ['batch_normalization_57[0][0]'] \n",
            "                                                                                                  \n",
            " average_pooling2d_5 (AveragePo  (None, 17, 17, 768)  0          ['mixed5[0][0]']                 \n",
            " oling2D)                                                                                         \n",
            "                                                                                                  \n",
            " conv2d_50 (Conv2D)             (None, 17, 17, 192)  147456      ['mixed5[0][0]']                 \n",
            "                                                                                                  \n",
            " conv2d_53 (Conv2D)             (None, 17, 17, 192)  215040      ['activation_52[0][0]']          \n",
            "                                                                                                  \n",
            " conv2d_58 (Conv2D)             (None, 17, 17, 192)  215040      ['activation_57[0][0]']          \n",
            "                                                                                                  \n",
            " conv2d_59 (Conv2D)             (None, 17, 17, 192)  147456      ['average_pooling2d_5[0][0]']    \n",
            "                                                                                                  \n",
            " batch_normalization_50 (BatchN  (None, 17, 17, 192)  576        ['conv2d_50[0][0]']              \n",
            " ormalization)                                                                                    \n",
            "                                                                                                  \n",
            " batch_normalization_53 (BatchN  (None, 17, 17, 192)  576        ['conv2d_53[0][0]']              \n",
            " ormalization)                                                                                    \n",
            "                                                                                                  \n",
            " batch_normalization_58 (BatchN  (None, 17, 17, 192)  576        ['conv2d_58[0][0]']              \n",
            " ormalization)                                                                                    \n",
            "                                                                                                  \n",
            " batch_normalization_59 (BatchN  (None, 17, 17, 192)  576        ['conv2d_59[0][0]']              \n",
            " ormalization)                                                                                    \n",
            "                                                                                                  \n",
            " activation_50 (Activation)     (None, 17, 17, 192)  0           ['batch_normalization_50[0][0]'] \n",
            "                                                                                                  \n",
            " activation_53 (Activation)     (None, 17, 17, 192)  0           ['batch_normalization_53[0][0]'] \n",
            "                                                                                                  \n",
            " activation_58 (Activation)     (None, 17, 17, 192)  0           ['batch_normalization_58[0][0]'] \n",
            "                                                                                                  \n",
            " activation_59 (Activation)     (None, 17, 17, 192)  0           ['batch_normalization_59[0][0]'] \n",
            "                                                                                                  \n",
            " mixed6 (Concatenate)           (None, 17, 17, 768)  0           ['activation_50[0][0]',          \n",
            "                                                                  'activation_53[0][0]',          \n",
            "                                                                  'activation_58[0][0]',          \n",
            "                                                                  'activation_59[0][0]']          \n",
            "                                                                                                  \n",
            " conv2d_64 (Conv2D)             (None, 17, 17, 192)  147456      ['mixed6[0][0]']                 \n",
            "                                                                                                  \n",
            " batch_normalization_64 (BatchN  (None, 17, 17, 192)  576        ['conv2d_64[0][0]']              \n",
            " ormalization)                                                                                    \n",
            "                                                                                                  \n",
            " activation_64 (Activation)     (None, 17, 17, 192)  0           ['batch_normalization_64[0][0]'] \n",
            "                                                                                                  \n",
            " conv2d_65 (Conv2D)             (None, 17, 17, 192)  258048      ['activation_64[0][0]']          \n",
            "                                                                                                  \n",
            " batch_normalization_65 (BatchN  (None, 17, 17, 192)  576        ['conv2d_65[0][0]']              \n",
            " ormalization)                                                                                    \n",
            "                                                                                                  \n",
            " activation_65 (Activation)     (None, 17, 17, 192)  0           ['batch_normalization_65[0][0]'] \n",
            "                                                                                                  \n",
            " conv2d_61 (Conv2D)             (None, 17, 17, 192)  147456      ['mixed6[0][0]']                 \n",
            "                                                                                                  \n",
            " conv2d_66 (Conv2D)             (None, 17, 17, 192)  258048      ['activation_65[0][0]']          \n",
            "                                                                                                  \n",
            " batch_normalization_61 (BatchN  (None, 17, 17, 192)  576        ['conv2d_61[0][0]']              \n",
            " ormalization)                                                                                    \n",
            "                                                                                                  \n",
            " batch_normalization_66 (BatchN  (None, 17, 17, 192)  576        ['conv2d_66[0][0]']              \n",
            " ormalization)                                                                                    \n",
            "                                                                                                  \n",
            " activation_61 (Activation)     (None, 17, 17, 192)  0           ['batch_normalization_61[0][0]'] \n",
            "                                                                                                  \n",
            " activation_66 (Activation)     (None, 17, 17, 192)  0           ['batch_normalization_66[0][0]'] \n",
            "                                                                                                  \n",
            " conv2d_62 (Conv2D)             (None, 17, 17, 192)  258048      ['activation_61[0][0]']          \n",
            "                                                                                                  \n",
            " conv2d_67 (Conv2D)             (None, 17, 17, 192)  258048      ['activation_66[0][0]']          \n",
            "                                                                                                  \n",
            " batch_normalization_62 (BatchN  (None, 17, 17, 192)  576        ['conv2d_62[0][0]']              \n",
            " ormalization)                                                                                    \n",
            "                                                                                                  \n",
            " batch_normalization_67 (BatchN  (None, 17, 17, 192)  576        ['conv2d_67[0][0]']              \n",
            " ormalization)                                                                                    \n",
            "                                                                                                  \n",
            " activation_62 (Activation)     (None, 17, 17, 192)  0           ['batch_normalization_62[0][0]'] \n",
            "                                                                                                  \n",
            " activation_67 (Activation)     (None, 17, 17, 192)  0           ['batch_normalization_67[0][0]'] \n",
            "                                                                                                  \n",
            " average_pooling2d_6 (AveragePo  (None, 17, 17, 768)  0          ['mixed6[0][0]']                 \n",
            " oling2D)                                                                                         \n",
            "                                                                                                  \n",
            " conv2d_60 (Conv2D)             (None, 17, 17, 192)  147456      ['mixed6[0][0]']                 \n",
            "                                                                                                  \n",
            " conv2d_63 (Conv2D)             (None, 17, 17, 192)  258048      ['activation_62[0][0]']          \n",
            "                                                                                                  \n",
            " conv2d_68 (Conv2D)             (None, 17, 17, 192)  258048      ['activation_67[0][0]']          \n",
            "                                                                                                  \n",
            " conv2d_69 (Conv2D)             (None, 17, 17, 192)  147456      ['average_pooling2d_6[0][0]']    \n",
            "                                                                                                  \n",
            " batch_normalization_60 (BatchN  (None, 17, 17, 192)  576        ['conv2d_60[0][0]']              \n",
            " ormalization)                                                                                    \n",
            "                                                                                                  \n",
            " batch_normalization_63 (BatchN  (None, 17, 17, 192)  576        ['conv2d_63[0][0]']              \n",
            " ormalization)                                                                                    \n",
            "                                                                                                  \n",
            " batch_normalization_68 (BatchN  (None, 17, 17, 192)  576        ['conv2d_68[0][0]']              \n",
            " ormalization)                                                                                    \n",
            "                                                                                                  \n",
            " batch_normalization_69 (BatchN  (None, 17, 17, 192)  576        ['conv2d_69[0][0]']              \n",
            " ormalization)                                                                                    \n",
            "                                                                                                  \n",
            " activation_60 (Activation)     (None, 17, 17, 192)  0           ['batch_normalization_60[0][0]'] \n",
            "                                                                                                  \n",
            " activation_63 (Activation)     (None, 17, 17, 192)  0           ['batch_normalization_63[0][0]'] \n",
            "                                                                                                  \n",
            " activation_68 (Activation)     (None, 17, 17, 192)  0           ['batch_normalization_68[0][0]'] \n",
            "                                                                                                  \n",
            " activation_69 (Activation)     (None, 17, 17, 192)  0           ['batch_normalization_69[0][0]'] \n",
            "                                                                                                  \n",
            " mixed7 (Concatenate)           (None, 17, 17, 768)  0           ['activation_60[0][0]',          \n",
            "                                                                  'activation_63[0][0]',          \n",
            "                                                                  'activation_68[0][0]',          \n",
            "                                                                  'activation_69[0][0]']          \n",
            "                                                                                                  \n",
            " conv2d_72 (Conv2D)             (None, 17, 17, 192)  147456      ['mixed7[0][0]']                 \n",
            "                                                                                                  \n",
            " batch_normalization_72 (BatchN  (None, 17, 17, 192)  576        ['conv2d_72[0][0]']              \n",
            " ormalization)                                                                                    \n",
            "                                                                                                  \n",
            " activation_72 (Activation)     (None, 17, 17, 192)  0           ['batch_normalization_72[0][0]'] \n",
            "                                                                                                  \n",
            " conv2d_73 (Conv2D)             (None, 17, 17, 192)  258048      ['activation_72[0][0]']          \n",
            "                                                                                                  \n",
            " batch_normalization_73 (BatchN  (None, 17, 17, 192)  576        ['conv2d_73[0][0]']              \n",
            " ormalization)                                                                                    \n",
            "                                                                                                  \n",
            " activation_73 (Activation)     (None, 17, 17, 192)  0           ['batch_normalization_73[0][0]'] \n",
            "                                                                                                  \n",
            " conv2d_70 (Conv2D)             (None, 17, 17, 192)  147456      ['mixed7[0][0]']                 \n",
            "                                                                                                  \n",
            " conv2d_74 (Conv2D)             (None, 17, 17, 192)  258048      ['activation_73[0][0]']          \n",
            "                                                                                                  \n",
            " batch_normalization_70 (BatchN  (None, 17, 17, 192)  576        ['conv2d_70[0][0]']              \n",
            " ormalization)                                                                                    \n",
            "                                                                                                  \n",
            " batch_normalization_74 (BatchN  (None, 17, 17, 192)  576        ['conv2d_74[0][0]']              \n",
            " ormalization)                                                                                    \n",
            "                                                                                                  \n",
            " activation_70 (Activation)     (None, 17, 17, 192)  0           ['batch_normalization_70[0][0]'] \n",
            "                                                                                                  \n",
            " activation_74 (Activation)     (None, 17, 17, 192)  0           ['batch_normalization_74[0][0]'] \n",
            "                                                                                                  \n",
            " conv2d_71 (Conv2D)             (None, 8, 8, 320)    552960      ['activation_70[0][0]']          \n",
            "                                                                                                  \n",
            " conv2d_75 (Conv2D)             (None, 8, 8, 192)    331776      ['activation_74[0][0]']          \n",
            "                                                                                                  \n",
            " batch_normalization_71 (BatchN  (None, 8, 8, 320)   960         ['conv2d_71[0][0]']              \n",
            " ormalization)                                                                                    \n",
            "                                                                                                  \n",
            " batch_normalization_75 (BatchN  (None, 8, 8, 192)   576         ['conv2d_75[0][0]']              \n",
            " ormalization)                                                                                    \n",
            "                                                                                                  \n",
            " activation_71 (Activation)     (None, 8, 8, 320)    0           ['batch_normalization_71[0][0]'] \n",
            "                                                                                                  \n",
            " activation_75 (Activation)     (None, 8, 8, 192)    0           ['batch_normalization_75[0][0]'] \n",
            "                                                                                                  \n",
            " max_pooling2d_3 (MaxPooling2D)  (None, 8, 8, 768)   0           ['mixed7[0][0]']                 \n",
            "                                                                                                  \n",
            " mixed8 (Concatenate)           (None, 8, 8, 1280)   0           ['activation_71[0][0]',          \n",
            "                                                                  'activation_75[0][0]',          \n",
            "                                                                  'max_pooling2d_3[0][0]']        \n",
            "                                                                                                  \n",
            " conv2d_80 (Conv2D)             (None, 8, 8, 448)    573440      ['mixed8[0][0]']                 \n",
            "                                                                                                  \n",
            " batch_normalization_80 (BatchN  (None, 8, 8, 448)   1344        ['conv2d_80[0][0]']              \n",
            " ormalization)                                                                                    \n",
            "                                                                                                  \n",
            " activation_80 (Activation)     (None, 8, 8, 448)    0           ['batch_normalization_80[0][0]'] \n",
            "                                                                                                  \n",
            " conv2d_77 (Conv2D)             (None, 8, 8, 384)    491520      ['mixed8[0][0]']                 \n",
            "                                                                                                  \n",
            " conv2d_81 (Conv2D)             (None, 8, 8, 384)    1548288     ['activation_80[0][0]']          \n",
            "                                                                                                  \n",
            " batch_normalization_77 (BatchN  (None, 8, 8, 384)   1152        ['conv2d_77[0][0]']              \n",
            " ormalization)                                                                                    \n",
            "                                                                                                  \n",
            " batch_normalization_81 (BatchN  (None, 8, 8, 384)   1152        ['conv2d_81[0][0]']              \n",
            " ormalization)                                                                                    \n",
            "                                                                                                  \n",
            " activation_77 (Activation)     (None, 8, 8, 384)    0           ['batch_normalization_77[0][0]'] \n",
            "                                                                                                  \n",
            " activation_81 (Activation)     (None, 8, 8, 384)    0           ['batch_normalization_81[0][0]'] \n",
            "                                                                                                  \n",
            " conv2d_78 (Conv2D)             (None, 8, 8, 384)    442368      ['activation_77[0][0]']          \n",
            "                                                                                                  \n",
            " conv2d_79 (Conv2D)             (None, 8, 8, 384)    442368      ['activation_77[0][0]']          \n",
            "                                                                                                  \n",
            " conv2d_82 (Conv2D)             (None, 8, 8, 384)    442368      ['activation_81[0][0]']          \n",
            "                                                                                                  \n",
            " conv2d_83 (Conv2D)             (None, 8, 8, 384)    442368      ['activation_81[0][0]']          \n",
            "                                                                                                  \n",
            " average_pooling2d_7 (AveragePo  (None, 8, 8, 1280)  0           ['mixed8[0][0]']                 \n",
            " oling2D)                                                                                         \n",
            "                                                                                                  \n",
            " conv2d_76 (Conv2D)             (None, 8, 8, 320)    409600      ['mixed8[0][0]']                 \n",
            "                                                                                                  \n",
            " batch_normalization_78 (BatchN  (None, 8, 8, 384)   1152        ['conv2d_78[0][0]']              \n",
            " ormalization)                                                                                    \n",
            "                                                                                                  \n",
            " batch_normalization_79 (BatchN  (None, 8, 8, 384)   1152        ['conv2d_79[0][0]']              \n",
            " ormalization)                                                                                    \n",
            "                                                                                                  \n",
            " batch_normalization_82 (BatchN  (None, 8, 8, 384)   1152        ['conv2d_82[0][0]']              \n",
            " ormalization)                                                                                    \n",
            "                                                                                                  \n",
            " batch_normalization_83 (BatchN  (None, 8, 8, 384)   1152        ['conv2d_83[0][0]']              \n",
            " ormalization)                                                                                    \n",
            "                                                                                                  \n",
            " conv2d_84 (Conv2D)             (None, 8, 8, 192)    245760      ['average_pooling2d_7[0][0]']    \n",
            "                                                                                                  \n",
            " batch_normalization_76 (BatchN  (None, 8, 8, 320)   960         ['conv2d_76[0][0]']              \n",
            " ormalization)                                                                                    \n",
            "                                                                                                  \n",
            " activation_78 (Activation)     (None, 8, 8, 384)    0           ['batch_normalization_78[0][0]'] \n",
            "                                                                                                  \n",
            " activation_79 (Activation)     (None, 8, 8, 384)    0           ['batch_normalization_79[0][0]'] \n",
            "                                                                                                  \n",
            " activation_82 (Activation)     (None, 8, 8, 384)    0           ['batch_normalization_82[0][0]'] \n",
            "                                                                                                  \n",
            " activation_83 (Activation)     (None, 8, 8, 384)    0           ['batch_normalization_83[0][0]'] \n",
            "                                                                                                  \n",
            " batch_normalization_84 (BatchN  (None, 8, 8, 192)   576         ['conv2d_84[0][0]']              \n",
            " ormalization)                                                                                    \n",
            "                                                                                                  \n",
            " activation_76 (Activation)     (None, 8, 8, 320)    0           ['batch_normalization_76[0][0]'] \n",
            "                                                                                                  \n",
            " mixed9_0 (Concatenate)         (None, 8, 8, 768)    0           ['activation_78[0][0]',          \n",
            "                                                                  'activation_79[0][0]']          \n",
            "                                                                                                  \n",
            " concatenate (Concatenate)      (None, 8, 8, 768)    0           ['activation_82[0][0]',          \n",
            "                                                                  'activation_83[0][0]']          \n",
            "                                                                                                  \n",
            " activation_84 (Activation)     (None, 8, 8, 192)    0           ['batch_normalization_84[0][0]'] \n",
            "                                                                                                  \n",
            " mixed9 (Concatenate)           (None, 8, 8, 2048)   0           ['activation_76[0][0]',          \n",
            "                                                                  'mixed9_0[0][0]',               \n",
            "                                                                  'concatenate[0][0]',            \n",
            "                                                                  'activation_84[0][0]']          \n",
            "                                                                                                  \n",
            " conv2d_89 (Conv2D)             (None, 8, 8, 448)    917504      ['mixed9[0][0]']                 \n",
            "                                                                                                  \n",
            " batch_normalization_89 (BatchN  (None, 8, 8, 448)   1344        ['conv2d_89[0][0]']              \n",
            " ormalization)                                                                                    \n",
            "                                                                                                  \n",
            " activation_89 (Activation)     (None, 8, 8, 448)    0           ['batch_normalization_89[0][0]'] \n",
            "                                                                                                  \n",
            " conv2d_86 (Conv2D)             (None, 8, 8, 384)    786432      ['mixed9[0][0]']                 \n",
            "                                                                                                  \n",
            " conv2d_90 (Conv2D)             (None, 8, 8, 384)    1548288     ['activation_89[0][0]']          \n",
            "                                                                                                  \n",
            " batch_normalization_86 (BatchN  (None, 8, 8, 384)   1152        ['conv2d_86[0][0]']              \n",
            " ormalization)                                                                                    \n",
            "                                                                                                  \n",
            " batch_normalization_90 (BatchN  (None, 8, 8, 384)   1152        ['conv2d_90[0][0]']              \n",
            " ormalization)                                                                                    \n",
            "                                                                                                  \n",
            " activation_86 (Activation)     (None, 8, 8, 384)    0           ['batch_normalization_86[0][0]'] \n",
            "                                                                                                  \n",
            " activation_90 (Activation)     (None, 8, 8, 384)    0           ['batch_normalization_90[0][0]'] \n",
            "                                                                                                  \n",
            " conv2d_87 (Conv2D)             (None, 8, 8, 384)    442368      ['activation_86[0][0]']          \n",
            "                                                                                                  \n",
            " conv2d_88 (Conv2D)             (None, 8, 8, 384)    442368      ['activation_86[0][0]']          \n",
            "                                                                                                  \n",
            " conv2d_91 (Conv2D)             (None, 8, 8, 384)    442368      ['activation_90[0][0]']          \n",
            "                                                                                                  \n",
            " conv2d_92 (Conv2D)             (None, 8, 8, 384)    442368      ['activation_90[0][0]']          \n",
            "                                                                                                  \n",
            " average_pooling2d_8 (AveragePo  (None, 8, 8, 2048)  0           ['mixed9[0][0]']                 \n",
            " oling2D)                                                                                         \n",
            "                                                                                                  \n",
            " conv2d_85 (Conv2D)             (None, 8, 8, 320)    655360      ['mixed9[0][0]']                 \n",
            "                                                                                                  \n",
            " batch_normalization_87 (BatchN  (None, 8, 8, 384)   1152        ['conv2d_87[0][0]']              \n",
            " ormalization)                                                                                    \n",
            "                                                                                                  \n",
            " batch_normalization_88 (BatchN  (None, 8, 8, 384)   1152        ['conv2d_88[0][0]']              \n",
            " ormalization)                                                                                    \n",
            "                                                                                                  \n",
            " batch_normalization_91 (BatchN  (None, 8, 8, 384)   1152        ['conv2d_91[0][0]']              \n",
            " ormalization)                                                                                    \n",
            "                                                                                                  \n",
            " batch_normalization_92 (BatchN  (None, 8, 8, 384)   1152        ['conv2d_92[0][0]']              \n",
            " ormalization)                                                                                    \n",
            "                                                                                                  \n",
            " conv2d_93 (Conv2D)             (None, 8, 8, 192)    393216      ['average_pooling2d_8[0][0]']    \n",
            "                                                                                                  \n",
            " batch_normalization_85 (BatchN  (None, 8, 8, 320)   960         ['conv2d_85[0][0]']              \n",
            " ormalization)                                                                                    \n",
            "                                                                                                  \n",
            " activation_87 (Activation)     (None, 8, 8, 384)    0           ['batch_normalization_87[0][0]'] \n",
            "                                                                                                  \n",
            " activation_88 (Activation)     (None, 8, 8, 384)    0           ['batch_normalization_88[0][0]'] \n",
            "                                                                                                  \n",
            " activation_91 (Activation)     (None, 8, 8, 384)    0           ['batch_normalization_91[0][0]'] \n",
            "                                                                                                  \n",
            " activation_92 (Activation)     (None, 8, 8, 384)    0           ['batch_normalization_92[0][0]'] \n",
            "                                                                                                  \n",
            " batch_normalization_93 (BatchN  (None, 8, 8, 192)   576         ['conv2d_93[0][0]']              \n",
            " ormalization)                                                                                    \n",
            "                                                                                                  \n",
            " activation_85 (Activation)     (None, 8, 8, 320)    0           ['batch_normalization_85[0][0]'] \n",
            "                                                                                                  \n",
            " mixed9_1 (Concatenate)         (None, 8, 8, 768)    0           ['activation_87[0][0]',          \n",
            "                                                                  'activation_88[0][0]']          \n",
            "                                                                                                  \n",
            " concatenate_1 (Concatenate)    (None, 8, 8, 768)    0           ['activation_91[0][0]',          \n",
            "                                                                  'activation_92[0][0]']          \n",
            "                                                                                                  \n",
            " activation_93 (Activation)     (None, 8, 8, 192)    0           ['batch_normalization_93[0][0]'] \n",
            "                                                                                                  \n",
            " mixed10 (Concatenate)          (None, 8, 8, 2048)   0           ['activation_85[0][0]',          \n",
            "                                                                  'mixed9_1[0][0]',               \n",
            "                                                                  'concatenate_1[0][0]',          \n",
            "                                                                  'activation_93[0][0]']          \n",
            "                                                                                                  \n",
            " flatten_1 (Flatten)            (None, 131072)       0           ['mixed10[0][0]']                \n",
            "                                                                                                  \n",
            " dense_2 (Dense)                (None, 1024)         134218752   ['flatten_1[0][0]']              \n",
            "                                                                                                  \n",
            " dropout_1 (Dropout)            (None, 1024)         0           ['dense_2[0][0]']                \n",
            "                                                                                                  \n",
            " dense_3 (Dense)                (None, 6)            6150        ['dropout_1[0][0]']              \n",
            "                                                                                                  \n",
            "==================================================================================================\n",
            "Total params: 156,027,686\n",
            "Trainable params: 134,224,902\n",
            "Non-trainable params: 21,802,784\n",
            "__________________________________________________________________________________________________\n"
          ]
        }
      ]
    },
    {
      "cell_type": "code",
      "source": [
        "from keras.preprocessing.image import ImageDataGenerator\n",
        "\n",
        "train_datagen = ImageDataGenerator(rescale = 1./255 \n",
        "                              #horizontal_flip=False, \n",
        "                              #vertical_flip=False,\n",
        "                              #featurewise_center=True,\n",
        "                     #featurewise_std_normalization=True,\n",
        "                     #rotation_range=20,\n",
        "                     #width_shift_range=0.01,\n",
        "                     #height_shift_range=0.01,\n",
        "                     #zoom_range=0.2\n",
        "                            #featurewise_std_normalization=True\n",
        "                                  )\n",
        "                                  \n",
        "\n",
        "\n",
        "val_datagen = ImageDataGenerator(rescale = 1./255)\n",
        "\n",
        "training_set = train_datagen.flow_from_directory('/content/output/train',\n",
        "                                                 target_size = (299, 299),\n",
        "                                                 batch_size = 64,\n",
        "                                                 class_mode = 'categorical',\n",
        "                                                 shuffle = True\n",
        "                                                 )\n",
        "validation_set = val_datagen.flow_from_directory('/content/output/val',\n",
        "                                            target_size = (299, 299),\n",
        "                                            batch_size = 64,\n",
        "                                            class_mode = 'categorical',\n",
        "                                            shuffle = True) "
      ],
      "metadata": {
        "colab": {
          "base_uri": "https://localhost:8080/"
        },
        "id": "sTy76Vx-U7N5",
        "outputId": "1743c0ba-b2a1-459b-b3f1-d23eec37f5b3"
      },
      "execution_count": null,
      "outputs": [
        {
          "output_type": "stream",
          "name": "stdout",
          "text": [
            "Found 17352 images belonging to 6 classes.\n",
            "Found 3261 images belonging to 6 classes.\n"
          ]
        }
      ]
    },
    {
      "cell_type": "code",
      "source": [
        "start = time.time()\n",
        "\n",
        "\n",
        "r=model.fit(training_set,\n",
        "                        validation_data=validation_set,\n",
        "                          steps_per_epoch=len(training_set),\n",
        "                            epochs=25,\n",
        "                            validation_steps=len(validation_set)\n",
        "          \n",
        "            )\n",
        "\n",
        "end = time.time()\n",
        "elapsed = end - start\n",
        "print( elapsed)"
      ],
      "metadata": {
        "colab": {
          "base_uri": "https://localhost:8080/"
        },
        "id": "15jE-jXIU7QU",
        "outputId": "2fbb7d48-28ae-4641-8f68-ff0a474f88fe"
      },
      "execution_count": null,
      "outputs": [
        {
          "output_type": "stream",
          "name": "stdout",
          "text": [
            "Epoch 1/25\n",
            "272/272 [==============================] - 153s 510ms/step - loss: 6.1001 - accuracy: 0.7695 - val_loss: 0.4957 - val_accuracy: 0.8010\n",
            "Epoch 2/25\n",
            "272/272 [==============================] - 127s 465ms/step - loss: 0.3062 - accuracy: 0.8830 - val_loss: 0.3677 - val_accuracy: 0.8537\n",
            "Epoch 3/25\n",
            "272/272 [==============================] - 120s 439ms/step - loss: 0.2189 - accuracy: 0.9172 - val_loss: 0.3095 - val_accuracy: 0.8893\n",
            "Epoch 4/25\n",
            "272/272 [==============================] - 120s 440ms/step - loss: 0.1954 - accuracy: 0.9274 - val_loss: 0.4282 - val_accuracy: 0.8467\n",
            "Epoch 5/25\n",
            "272/272 [==============================] - 119s 437ms/step - loss: 0.1674 - accuracy: 0.9378 - val_loss: 0.2995 - val_accuracy: 0.9028\n",
            "Epoch 6/25\n",
            "272/272 [==============================] - 121s 443ms/step - loss: 0.1656 - accuracy: 0.9374 - val_loss: 0.3312 - val_accuracy: 0.8954\n",
            "Epoch 7/25\n",
            "272/272 [==============================] - 120s 442ms/step - loss: 0.1270 - accuracy: 0.9522 - val_loss: 0.2653 - val_accuracy: 0.9132\n",
            "Epoch 8/25\n",
            "272/272 [==============================] - 121s 444ms/step - loss: 0.1252 - accuracy: 0.9567 - val_loss: 0.3023 - val_accuracy: 0.9135\n",
            "Epoch 9/25\n",
            "272/272 [==============================] - 120s 440ms/step - loss: 0.1071 - accuracy: 0.9625 - val_loss: 0.3372 - val_accuracy: 0.8939\n",
            "Epoch 10/25\n",
            "272/272 [==============================] - 119s 439ms/step - loss: 0.1167 - accuracy: 0.9587 - val_loss: 0.3876 - val_accuracy: 0.8930\n",
            "Epoch 11/25\n",
            "272/272 [==============================] - 120s 439ms/step - loss: 0.1741 - accuracy: 0.9409 - val_loss: 0.3279 - val_accuracy: 0.9065\n",
            "Epoch 12/25\n",
            "272/272 [==============================] - 121s 442ms/step - loss: 0.1006 - accuracy: 0.9640 - val_loss: 0.3429 - val_accuracy: 0.9022\n",
            "Epoch 13/25\n",
            "272/272 [==============================] - 119s 436ms/step - loss: 0.1153 - accuracy: 0.9605 - val_loss: 0.3637 - val_accuracy: 0.9065\n",
            "Epoch 14/25\n",
            "272/272 [==============================] - 119s 437ms/step - loss: 0.1069 - accuracy: 0.9614 - val_loss: 0.2898 - val_accuracy: 0.9154\n",
            "Epoch 15/25\n",
            "272/272 [==============================] - 119s 436ms/step - loss: 0.0998 - accuracy: 0.9620 - val_loss: 0.3248 - val_accuracy: 0.9089\n",
            "Epoch 16/25\n",
            "272/272 [==============================] - 120s 442ms/step - loss: 0.1018 - accuracy: 0.9648 - val_loss: 0.5471 - val_accuracy: 0.9028\n",
            "Epoch 17/25\n",
            "272/272 [==============================] - 119s 436ms/step - loss: 0.1338 - accuracy: 0.9563 - val_loss: 0.3640 - val_accuracy: 0.9052\n",
            "Epoch 18/25\n",
            "272/272 [==============================] - 119s 436ms/step - loss: 0.0991 - accuracy: 0.9672 - val_loss: 0.3801 - val_accuracy: 0.9095\n",
            "Epoch 19/25\n",
            "272/272 [==============================] - 119s 438ms/step - loss: 0.0970 - accuracy: 0.9673 - val_loss: 0.4061 - val_accuracy: 0.9193\n",
            "Epoch 20/25\n",
            "272/272 [==============================] - 121s 444ms/step - loss: 0.0709 - accuracy: 0.9744 - val_loss: 0.4292 - val_accuracy: 0.9141\n",
            "Epoch 21/25\n",
            "272/272 [==============================] - 119s 436ms/step - loss: 0.1023 - accuracy: 0.9658 - val_loss: 0.5814 - val_accuracy: 0.8780\n",
            "Epoch 22/25\n",
            "272/272 [==============================] - 119s 436ms/step - loss: 0.1026 - accuracy: 0.9661 - val_loss: 0.3908 - val_accuracy: 0.9203\n",
            "Epoch 23/25\n",
            "272/272 [==============================] - 120s 442ms/step - loss: 0.0836 - accuracy: 0.9719 - val_loss: 0.3950 - val_accuracy: 0.9108\n",
            "Epoch 24/25\n",
            "272/272 [==============================] - 118s 435ms/step - loss: 0.0781 - accuracy: 0.9734 - val_loss: 0.3866 - val_accuracy: 0.9203\n",
            "Epoch 25/25\n",
            "272/272 [==============================] - 119s 436ms/step - loss: 0.0844 - accuracy: 0.9709 - val_loss: 0.3980 - val_accuracy: 0.9190\n",
            "3073.924065351486\n"
          ]
        }
      ]
    },
    {
      "cell_type": "code",
      "source": [
        "# plot the loss\n",
        "import matplotlib.pyplot as plt\n",
        "plt.plot(r.history['loss'], label='train loss')\n",
        "plt.plot(r.history['val_loss'], label='val loss')\n",
        "plt.legend()\n",
        "\n",
        "plt.ylabel('Loss')\n",
        "plt.xlabel('Epoch')\n",
        "plt.title('Inception-v3 Loss Curve for Six Class')   \n",
        "plt.savefig('LossVal_loss_inception1.png')\n",
        "plt.show()\n",
        "\n",
        "# plot the accuracy\n",
        "plt.plot(r.history['accuracy'], label='train acc')\n",
        "plt.plot(r.history['val_accuracy'], label='val acc')\n",
        "plt.legend()\n",
        "\n",
        "plt.ylabel('Accuracy')\n",
        "plt.xlabel('Epoch')\n",
        "plt.title('Inception-v3 Accuracy Curve for Six Class') \n",
        "plt.savefig('AccVal_acc_inceptionv3.png')\n",
        "plt.show()"
      ],
      "metadata": {
        "colab": {
          "base_uri": "https://localhost:8080/",
          "height": 573
        },
        "id": "rlvWhd7FU7Su",
        "outputId": "36f8a8de-d965-48eb-8359-71d6515e1908"
      },
      "execution_count": null,
      "outputs": [
        {
          "output_type": "display_data",
          "data": {
            "text/plain": [
              "<Figure size 432x288 with 1 Axes>"
            ],
            "image/png": "[encoded data removed]"
          },
          "metadata": {
            "needs_background": "light"
          }
        },
        {
          "output_type": "display_data",
          "data": {
            "text/plain": [
              "<Figure size 432x288 with 1 Axes>"
            ],
            "image/png": "[encoded data removed]"
          },
          "metadata": {
            "needs_background": "light"
          }
        }
      ]
    },
    {
      "cell_type": "code",
      "source": [
        "start=time.time()\n",
        "final = model.predict(validation_set)\n",
        "end = time.time()\n",
        "elapsed = end - start\n",
        "print(\"Total Testing  Time:\", elapsed)"
      ],
      "metadata": {
        "colab": {
          "base_uri": "https://localhost:8080/"
        },
        "id": "1lyE8bNrU7WH",
        "outputId": "3daa7754-8a60-4494-df2c-97671be93356"
      },
      "execution_count": null,
      "outputs": [
        {
          "output_type": "stream",
          "name": "stdout",
          "text": [
            "51/51 [==============================] - 18s 331ms/step\n",
            "Total Testing  Time: 18.443084478378296\n"
          ]
        }
      ]
    },
    {
      "cell_type": "code",
      "source": [
        "import numpy as np\n",
        "from sklearn.metrics import confusion_matrix,classification_report\n",
        "batch_size = 64\n",
        "num_of_test_samples = 3261\n",
        "predictions = model.predict_generator(validation_set,  num_of_test_samples // batch_size+1)\n",
        "\n",
        "y_pred = np.argmax(predictions, axis=1)\n",
        "\n",
        "\n",
        "true_classes = validation_set.classes\n",
        "\n",
        "class_labels = list(validation_set.class_indices.keys())   \n",
        "\n",
        "print(class_labels)\n",
        "\n",
        "print(confusion_matrix(validation_set.classes, y_pred))\n",
        "\n",
        "report = classification_report(true_classes, y_pred, target_names=class_labels)\n",
        "print(report)"
      ],
      "metadata": {
        "colab": {
          "base_uri": "https://localhost:8080/"
        },
        "id": "HaSdYdMUU8Do",
        "outputId": "751eb28c-500f-488d-dbad-6b66dd46ebcf"
      },
      "execution_count": null,
      "outputs": [
        {
          "output_type": "stream",
          "name": "stderr",
          "text": [
            "<ipython-input-62-33b3c6a6c7ee>:5: UserWarning: `Model.predict_generator` is deprecated and will be removed in a future version. Please use `Model.predict`, which supports generators.\n",
            "  predictions = model.predict_generator(validation_set,  num_of_test_samples // batch_size+1)\n"
          ]
        },
        {
          "output_type": "stream",
          "name": "stdout",
          "text": [
            "['Bacterial Pneumonia', 'COVID', 'Fibrosis', 'Normal', 'Tuberculosis', 'Viral Pneumonia']\n",
            "[[454   1   0   0   2  49]\n",
            " [  1 676   7  15  25   0]\n",
            " [  0   3 309  23   3   0]\n",
            " [  5  18  23 656  11  11]\n",
            " [  0   6   7   1 686   0]\n",
            " [ 39   2   0   8   4 216]]\n",
            "                     precision    recall  f1-score   support\n",
            "\n",
            "Bacterial Pneumonia       0.91      0.90      0.90       506\n",
            "              COVID       0.96      0.93      0.95       724\n",
            "           Fibrosis       0.89      0.91      0.90       338\n",
            "             Normal       0.93      0.91      0.92       724\n",
            "       Tuberculosis       0.94      0.98      0.96       700\n",
            "    Viral Pneumonia       0.78      0.80      0.79       269\n",
            "\n",
            "           accuracy                           0.92      3261\n",
            "          macro avg       0.90      0.91      0.90      3261\n",
            "       weighted avg       0.92      0.92      0.92      3261\n",
            "\n"
          ]
        }
      ]
    },
    {
      "cell_type": "code",
      "source": [
        "import math\n",
        "number_of_examples = len(validation_set.filenames)\n",
        "number_of_generator_calls = math.ceil(number_of_examples / (1.0 * 64)) \n",
        "# 1.0 above is to skip integer division\n",
        "\n",
        "test_labels = []\n",
        "test_images = []\n",
        "for i in range(0,int(number_of_generator_calls)):\n",
        "    test_labels.extend(np.array(validation_set[i][1]))\n",
        "\n",
        "for i in range(0,int(number_of_generator_calls)):\n",
        "    test_images.extend(np.array(validation_set[i][0]))"
      ],
      "metadata": {
        "id": "N3TpEyOSU8GZ"
      },
      "execution_count": null,
      "outputs": []
    },
    {
      "cell_type": "code",
      "source": [
        "new_labels = []\n",
        "for i in range(0,3261):\n",
        "  new_labels.append(np.argmax(predictions[i]))"
      ],
      "metadata": {
        "id": "xEM_VquJU8KI"
      },
      "execution_count": null,
      "outputs": []
    },
    {
      "cell_type": "code",
      "source": [
        "newtest_labels = []\n",
        "for i in range(0,3261):\n",
        "  newtest_labels.append(np.argmax(test_labels[i]))"
      ],
      "metadata": {
        "id": "3PoqZcrXU8Mq"
      },
      "execution_count": null,
      "outputs": []
    },
    {
      "cell_type": "code",
      "source": [
        "from sklearn import metrics\n",
        "import matplotlib.pyplot as plt\n",
        "from itertools import cycle\n",
        "from scipy import interp\n",
        "noofClasses = 6\n",
        "\n",
        "score = model.evaluate(validation_set, verbose=0)\n",
        "print('Test Score = ', score[0])\n",
        "print('Test Accuracy = ', score[1])\n",
        "from sklearn.metrics import confusion_matrix, classification_report, roc_auc_score, roc_curve, auc\n",
        "\n",
        "\n",
        "# Get the confusion matrix\n",
        "\n",
        "score = metrics.accuracy_score(y_true=newtest_labels, y_pred=new_labels)\n",
        "print(\"Accuracy score: {}\".format(score))\n",
        "pred_prob =model.predict_generator(validation_set,  num_of_test_samples // batch_size+1)\n",
        "\n",
        "c = roc_auc_score(newtest_labels, pred_prob, multi_class='ovo')\n",
        "print(\"AUC:\", c)\n",
        "# Compute ROC curve and ROC area for each class\n",
        "fpr = {}\n",
        "tpr = {}\n",
        "roc_auc = {}\n",
        "thresh = {}\n",
        "lw = 2\n",
        "precision = {}\n",
        "recall = {}\n",
        "for i in range(noofClasses):\n",
        "    fpr[i], tpr[i], thresh[i] = roc_curve(newtest_labels, pred_prob[:, i], pos_label=i)\n",
        "    precision[i], recall[i], _ = roc_curve(newtest_labels, pred_prob[:, i], pos_label=i)\n",
        "    roc_auc[i] = auc(fpr[i], tpr[i])\n",
        "  \n",
        "\n",
        "n_classes = 6\n",
        "\n",
        "# First aggregate all false positive rates\n",
        "all_fpr = np.unique(np.concatenate([fpr[i] for i in range(n_classes)]))\n",
        "\n",
        "# Then interpolate all ROC curves at this points\n",
        "mean_tpr = np.zeros_like(all_fpr)\n",
        "for i in range(n_classes):\n",
        "    mean_tpr += interp(all_fpr, fpr[i], tpr[i])\n",
        "\n",
        "# Finally average it and compute AUC\n",
        "mean_tpr /= n_classes\n",
        "\n",
        "fpr[\"macro\"] = all_fpr\n",
        "tpr[\"macro\"] = mean_tpr\n",
        "roc_auc[\"macro\"] = auc(fpr[\"macro\"], tpr[\"macro\"])\n",
        "\n",
        "# Plot all ROC curves\n",
        "plt.figure()\n",
        "\n",
        "colors = cycle(['green', 'darkorange', 'cornflowerblue', 'yellow','red','blue'])\n",
        "for i, color in zip(range(n_classes), colors):\n",
        "    plt.plot(fpr[i], tpr[i], color=color, lw=lw, label='ROC curve of class {0} (AUC = {1:0.4f})'\n",
        "                                                       ''.format(i, roc_auc[i]))\n",
        "\n",
        "plt.plot([0, 1], [0, 1], 'k--', lw=lw)\n",
        "plt.xlim([0.0, 1.0])\n",
        "plt.ylim([0.0, 1.05])\n",
        "plt.xlabel('False Positive Rate')\n",
        "plt.ylabel('True Positive Rate')\n",
        "plt.title('Receiver operating characteristic curve for Inception-v3')\n",
        "plt.legend(loc=\"lower right\")\n",
        "plt.savefig(\"ROC_inception_v3.png\")\n",
        "plt.show()\n"
      ],
      "metadata": {
        "colab": {
          "base_uri": "https://localhost:8080/",
          "height": 463
        },
        "id": "lti49yZdU8PR",
        "outputId": "b8e6d68b-ebd5-4a91-ce3d-b5b160e2b3ab"
      },
      "execution_count": null,
      "outputs": [
        {
          "output_type": "stream",
          "name": "stdout",
          "text": [
            "Test Score =  0.398041307926178\n",
            "Test Accuracy =  0.919043242931366\n",
            "Accuracy score: 0.9190432382704692\n"
          ]
        },
        {
          "output_type": "stream",
          "name": "stderr",
          "text": [
            "<ipython-input-67-399f028755b8>:17: UserWarning: `Model.predict_generator` is deprecated and will be removed in a future version. Please use `Model.predict`, which supports generators.\n",
            "  pred_prob =model.predict_generator(validation_set,  num_of_test_samples // batch_size+1)\n"
          ]
        },
        {
          "output_type": "stream",
          "name": "stdout",
          "text": [
            "AUC: 0.991098536344144\n"
          ]
        },
        {
          "output_type": "stream",
          "name": "stderr",
          "text": [
            "<ipython-input-67-399f028755b8>:43: DeprecationWarning: scipy.interp is deprecated and will be removed in SciPy 2.0.0, use numpy.interp instead\n",
            "  mean_tpr += interp(all_fpr, fpr[i], tpr[i])\n"
          ]
        },
        {
          "output_type": "display_data",
          "data": {
            "text/plain": [
              "<Figure size 432x288 with 1 Axes>"
            ],
            "image/png": "[encoded data removed]"
          },
          "metadata": {
            "needs_background": "light"
          }
        }
      ]
    },
    {
      "cell_type": "code",
      "source": [
        "from sklearn import metrics\n",
        "import matplotlib.pyplot as plt\n",
        "from itertools import cycle\n",
        "from scipy import interp\n",
        "noofClasses = 6\n",
        "\n",
        "score = model.evaluate(validation_set, verbose=0)\n",
        "print('Test Score = ', score[0])\n",
        "print('Test Accuracy = ', score[1])\n",
        "from sklearn.metrics import confusion_matrix, classification_report, roc_auc_score, roc_curve, auc\n",
        "\n",
        "\n",
        "# Get the confusion matrix\n",
        "\n",
        "score = metrics.accuracy_score(y_true=newtest_labels, y_pred=new_labels)\n",
        "print(\"Accuracy score: {}\".format(score))\n",
        "pred_prob =model.predict_generator(validation_set,  num_of_test_samples // batch_size+1)\n",
        "\n",
        "c = roc_auc_score(newtest_labels, pred_prob, multi_class='ovo')\n",
        "print(\"AUC:\", c)\n",
        "# Compute ROC curve and ROC area for each class\n",
        "fpr = {}\n",
        "tpr = {}\n",
        "roc_auc = {}\n",
        "thresh = {}\n",
        "lw = 2\n",
        "precision = {}\n",
        "recall = {}\n",
        "for i in range(noofClasses):\n",
        "    fpr[i], tpr[i], thresh[i] = roc_curve(newtest_labels, pred_prob[:, i], pos_label=i)\n",
        "    precision[i], recall[i], _ = roc_curve(newtest_labels, pred_prob[:, i], pos_label=i)\n",
        "    roc_auc[i] = auc(fpr[i], tpr[i])\n",
        "  \n",
        "\n",
        "n_classes = 6\n",
        "\n",
        "# First aggregate all false positive rates\n",
        "all_fpr = np.unique(np.concatenate([fpr[i] for i in range(n_classes)]))\n",
        "\n",
        "# Then interpolate all ROC curves at this points\n",
        "mean_tpr = np.zeros_like(all_fpr)\n",
        "for i in range(n_classes):\n",
        "    mean_tpr += interp(all_fpr, fpr[i], tpr[i])\n",
        "\n",
        "# Finally average it and compute AUC\n",
        "mean_tpr /= n_classes\n",
        "\n",
        "fpr[\"macro\"] = all_fpr\n",
        "tpr[\"macro\"] = mean_tpr\n",
        "roc_auc[\"macro\"] = auc(fpr[\"macro\"], tpr[\"macro\"])\n",
        "\n",
        "# Plot all ROC curves\n",
        "plt.figure()\n",
        "\n",
        "colors = cycle(['green', 'darkorange', 'cornflowerblue', 'yellow','red','blue'])\n",
        "for i, color in zip(range(n_classes), colors):\n",
        "    plt.plot(fpr[i], tpr[i], color=color, lw=lw, label='ROC curve of class {0} (AUC = {1:0.4f})'\n",
        "                                                       ''.format(i, roc_auc[i]))\n",
        "\n",
        "plt.plot([0, 1], [0, 1], 'k--', lw=lw)\n",
        "plt.xlim([0.0, 1.0])\n",
        "plt.ylim([0.0, 1.05])\n",
        "plt.xlabel('False Positive Rate')\n",
        "plt.ylabel('True Positive Rate')\n",
        "plt.title('Receiver operating characteristic curve for VGG-16')\n",
        "plt.legend(loc=\"lower right\")\n",
        "plt.savefig(\"ROC_vgg-16.png\")\n",
        "plt.show()\n"
      ],
      "metadata": {
        "colab": {
          "base_uri": "https://localhost:8080/",
          "height": 463
        },
        "outputId": "8e9b8053-7aa0-4f45-d0b1-6505d53fcd6c",
        "id": "4IWEAZWQ5lf8"
      },
      "execution_count": null,
      "outputs": [
        {
          "output_type": "stream",
          "name": "stdout",
          "text": [
            "Test Score =  0.3472459018230438\n",
            "Test Accuracy =  0.9043238162994385\n",
            "Accuracy score: 0.9043238270469182\n"
          ]
        },
        {
          "output_type": "stream",
          "name": "stderr",
          "text": [
            "<ipython-input-84-a1e34c96d865>:17: UserWarning: `Model.predict_generator` is deprecated and will be removed in a future version. Please use `Model.predict`, which supports generators.\n",
            "  pred_prob =model.predict_generator(validation_set,  num_of_test_samples // batch_size+1)\n"
          ]
        },
        {
          "output_type": "stream",
          "name": "stdout",
          "text": [
            "AUC: 0.9854068313763691\n"
          ]
        },
        {
          "output_type": "stream",
          "name": "stderr",
          "text": [
            "<ipython-input-84-a1e34c96d865>:43: DeprecationWarning: scipy.interp is deprecated and will be removed in SciPy 2.0.0, use numpy.interp instead\n",
            "  mean_tpr += interp(all_fpr, fpr[i], tpr[i])\n"
          ]
        },
        {
          "output_type": "display_data",
          "data": {
            "text/plain": [
              "<Figure size 432x288 with 1 Axes>"
            ],
            "image/png": "[encoded data removed]"
          },
          "metadata": {
            "needs_background": "light"
          }
        }
      ]
    },
    {
      "cell_type": "code",
      "source": [
        "#VGG-16\n",
        "from keras.models import Sequential\n",
        "\n",
        "import keras\n",
        "from keras.layers import Conv2D, MaxPool2D, Flatten, Dense, InputLayer, BatchNormalization, Dropout\n",
        "from keras.utils import np_utils\n",
        "\n",
        "from keras.callbacks import LearningRateScheduler, ModelCheckpoint\n",
        "from keras.preprocessing.image import ImageDataGenerator\n",
        "from keras.regularizers import l2\n",
        "import tensorflow as tf\n",
        "from tensorflow.keras.applications.vgg16 import VGG16\n",
        "from tensorflow.keras.applications.vgg16 import preprocess_input"
      ],
      "metadata": {
        "id": "4AG1e54FU8Rn"
      },
      "execution_count": null,
      "outputs": []
    },
    {
      "cell_type": "code",
      "source": [
        "IMAGE_SIZE=[224,224]\n",
        "vgg = VGG16(input_shape=IMAGE_SIZE + [3], weights='imagenet', include_top=False)\n",
        "#do not train the pre-trained layers of VGG-16\n",
        "for layer in vgg.layers:\n",
        "    layer.trainable = False"
      ],
      "metadata": {
        "colab": {
          "base_uri": "https://localhost:8080/"
        },
        "id": "xH9_-6CZU8UN",
        "outputId": "7930a87d-7814-41fe-9901-f7b86006ceb7"
      },
      "execution_count": null,
      "outputs": [
        {
          "output_type": "stream",
          "name": "stdout",
          "text": [
            "Downloading data from https://storage.googleapis.com/tensorflow/keras-applications/vgg16/vgg16_weights_tf_dim_ordering_tf_kernels_notop.h5\n",
            "58889256/58889256 [==============================] - 4s 0us/step\n"
          ]
        }
      ]
    },
    {
      "cell_type": "code",
      "source": [
        "x = Flatten()(vgg.output)\n",
        "x = Dense(1024, activation='relu')(x)\n",
        "x = keras.layers.Dropout(0.2)(x)\n",
        "#x = Dense(512, activation='relu')(x)\n",
        "#x = keras.layers.Dropout(0.3)(x)\n",
        "#adding output layer.Softmax classifier is used as it is multi-class classification\n",
        "prediction = Dense(6, activation='softmax')(x)\n",
        "\n",
        "model = Model(inputs=vgg.input, outputs=prediction)\n",
        "\n",
        "\n",
        "# view the structure of the model\n",
        "model.summary()"
      ],
      "metadata": {
        "colab": {
          "base_uri": "https://localhost:8080/"
        },
        "id": "WLINoQPtU8Wm",
        "outputId": "b09f074a-66a6-4c44-b758-843aa9b45e49"
      },
      "execution_count": null,
      "outputs": [
        {
          "output_type": "stream",
          "name": "stdout",
          "text": [
            "Model: \"model_2\"\n",
            "_________________________________________________________________\n",
            " Layer (type)                Output Shape              Param #   \n",
            "=================================================================\n",
            " input_2 (InputLayer)        [(None, 224, 224, 3)]     0         \n",
            "                                                                 \n",
            " block1_conv1 (Conv2D)       (None, 224, 224, 64)      1792      \n",
            "                                                                 \n",
            " block1_conv2 (Conv2D)       (None, 224, 224, 64)      36928     \n",
            "                                                                 \n",
            " block1_pool (MaxPooling2D)  (None, 112, 112, 64)      0         \n",
            "                                                                 \n",
            " block2_conv1 (Conv2D)       (None, 112, 112, 128)     73856     \n",
            "                                                                 \n",
            " block2_conv2 (Conv2D)       (None, 112, 112, 128)     147584    \n",
            "                                                                 \n",
            " block2_pool (MaxPooling2D)  (None, 56, 56, 128)       0         \n",
            "                                                                 \n",
            " block3_conv1 (Conv2D)       (None, 56, 56, 256)       295168    \n",
            "                                                                 \n",
            " block3_conv2 (Conv2D)       (None, 56, 56, 256)       590080    \n",
            "                                                                 \n",
            " block3_conv3 (Conv2D)       (None, 56, 56, 256)       590080    \n",
            "                                                                 \n",
            " block3_pool (MaxPooling2D)  (None, 28, 28, 256)       0         \n",
            "                                                                 \n",
            " block4_conv1 (Conv2D)       (None, 28, 28, 512)       1180160   \n",
            "                                                                 \n",
            " block4_conv2 (Conv2D)       (None, 28, 28, 512)       2359808   \n",
            "                                                                 \n",
            " block4_conv3 (Conv2D)       (None, 28, 28, 512)       2359808   \n",
            "                                                                 \n",
            " block4_pool (MaxPooling2D)  (None, 14, 14, 512)       0         \n",
            "                                                                 \n",
            " block5_conv1 (Conv2D)       (None, 14, 14, 512)       2359808   \n",
            "                                                                 \n",
            " block5_conv2 (Conv2D)       (None, 14, 14, 512)       2359808   \n",
            "                                                                 \n",
            " block5_conv3 (Conv2D)       (None, 14, 14, 512)       2359808   \n",
            "                                                                 \n",
            " block5_pool (MaxPooling2D)  (None, 7, 7, 512)         0         \n",
            "                                                                 \n",
            " flatten_2 (Flatten)         (None, 25088)             0         \n",
            "                                                                 \n",
            " dense_4 (Dense)             (None, 1024)              25691136  \n",
            "                                                                 \n",
            " dropout_2 (Dropout)         (None, 1024)              0         \n",
            "                                                                 \n",
            " dense_5 (Dense)             (None, 6)                 6150      \n",
            "                                                                 \n",
            "=================================================================\n",
            "Total params: 40,411,974\n",
            "Trainable params: 25,697,286\n",
            "Non-trainable params: 14,714,688\n",
            "_________________________________________________________________\n"
          ]
        }
      ]
    },
    {
      "cell_type": "code",
      "source": [
        "model.compile(\n",
        "  loss='categorical_crossentropy',\n",
        "  optimizer='adam',\n",
        "  metrics=['accuracy']\n",
        ")"
      ],
      "metadata": {
        "id": "DgmQEv0aU8ZT"
      },
      "execution_count": null,
      "outputs": []
    },
    {
      "cell_type": "code",
      "source": [
        "from keras.preprocessing.image import ImageDataGenerator\n",
        "\n",
        "train_datagen = ImageDataGenerator(rescale = 1./255 \n",
        "                              #horizontal_flip=False, \n",
        "                              #vertical_flip=False,\n",
        "                              #featurewise_center=True,\n",
        "                     #featurewise_std_normalization=True,\n",
        "                     #rotation_range=20,\n",
        "                     #width_shift_range=0.01,\n",
        "                     #height_shift_range=0.01,\n",
        "                     #zoom_range=0.2\n",
        "                            #featurewise_std_normalization=True\n",
        "                                  )\n",
        "                                  \n",
        "\n",
        "\n",
        "val_datagen = ImageDataGenerator(rescale = 1./255)\n",
        "\n",
        "training_set = train_datagen.flow_from_directory('/content/output/train',\n",
        "                                                 target_size = (224, 224),\n",
        "                                                 batch_size = 64,\n",
        "                                                 class_mode = 'categorical',\n",
        "                                                 shuffle= True\n",
        "                                                 )\n",
        "validation_set = val_datagen.flow_from_directory('/content/output/val',\n",
        "                                            target_size = (224, 224),\n",
        "                                            batch_size = 64,\n",
        "                                            class_mode = 'categorical',\n",
        "                                            shuffle= True) "
      ],
      "metadata": {
        "colab": {
          "base_uri": "https://localhost:8080/"
        },
        "id": "Yp2KXHHaU8bq",
        "outputId": "a772ae9c-4c65-4719-b6a7-776a18667407"
      },
      "execution_count": null,
      "outputs": [
        {
          "output_type": "stream",
          "name": "stdout",
          "text": [
            "Found 17352 images belonging to 6 classes.\n",
            "Found 3261 images belonging to 6 classes.\n"
          ]
        }
      ]
    },
    {
      "cell_type": "code",
      "source": [
        "start = time.time()\n",
        "\n",
        "\n",
        "r=model.fit(training_set,\n",
        "                        validation_data=validation_set,\n",
        "                          steps_per_epoch=len(training_set),\n",
        "                            epochs=25,\n",
        "                            validation_steps=len(validation_set)\n",
        "            #callbacks=[callbacks]\n",
        "            )\n",
        "\n",
        "end = time.time()\n",
        "elapsed = end - start\n",
        "print( elapsed)"
      ],
      "metadata": {
        "colab": {
          "base_uri": "https://localhost:8080/"
        },
        "id": "NC7ZEfFwU8eY",
        "outputId": "7ce35c13-e5ea-4ffd-83f1-5cb403dcc990"
      },
      "execution_count": null,
      "outputs": [
        {
          "output_type": "stream",
          "name": "stdout",
          "text": [
            "Epoch 1/25\n",
            "272/272 [==============================] - 142s 504ms/step - loss: 0.9796 - accuracy: 0.7671 - val_loss: 0.4263 - val_accuracy: 0.8384\n",
            "Epoch 2/25\n",
            "272/272 [==============================] - 117s 430ms/step - loss: 0.3057 - accuracy: 0.8810 - val_loss: 0.3763 - val_accuracy: 0.8507\n",
            "Epoch 3/25\n",
            "272/272 [==============================] - 116s 425ms/step - loss: 0.2364 - accuracy: 0.9069 - val_loss: 0.3638 - val_accuracy: 0.8381\n",
            "Epoch 4/25\n",
            "272/272 [==============================] - 117s 429ms/step - loss: 0.2077 - accuracy: 0.9175 - val_loss: 0.2954 - val_accuracy: 0.8838\n",
            "Epoch 5/25\n",
            "272/272 [==============================] - 115s 422ms/step - loss: 0.1855 - accuracy: 0.9278 - val_loss: 0.2957 - val_accuracy: 0.8755\n",
            "Epoch 6/25\n",
            "272/272 [==============================] - 115s 424ms/step - loss: 0.1658 - accuracy: 0.9334 - val_loss: 0.3128 - val_accuracy: 0.8764\n",
            "Epoch 7/25\n",
            "272/272 [==============================] - 117s 430ms/step - loss: 0.1497 - accuracy: 0.9406 - val_loss: 0.2961 - val_accuracy: 0.8939\n",
            "Epoch 8/25\n",
            "272/272 [==============================] - 117s 429ms/step - loss: 0.1483 - accuracy: 0.9407 - val_loss: 0.3668 - val_accuracy: 0.8651\n",
            "Epoch 9/25\n",
            "272/272 [==============================] - 116s 427ms/step - loss: 0.1360 - accuracy: 0.9455 - val_loss: 0.3059 - val_accuracy: 0.8896\n",
            "Epoch 10/25\n",
            "272/272 [==============================] - 117s 431ms/step - loss: 0.1349 - accuracy: 0.9451 - val_loss: 0.2814 - val_accuracy: 0.8973\n",
            "Epoch 11/25\n",
            "272/272 [==============================] - 116s 426ms/step - loss: 0.1194 - accuracy: 0.9523 - val_loss: 0.3108 - val_accuracy: 0.8835\n",
            "Epoch 12/25\n",
            "272/272 [==============================] - 116s 426ms/step - loss: 0.1178 - accuracy: 0.9533 - val_loss: 0.3070 - val_accuracy: 0.8899\n",
            "Epoch 13/25\n",
            "272/272 [==============================] - 118s 435ms/step - loss: 0.1154 - accuracy: 0.9535 - val_loss: 0.3690 - val_accuracy: 0.8838\n",
            "Epoch 14/25\n",
            "272/272 [==============================] - 118s 432ms/step - loss: 0.1105 - accuracy: 0.9564 - val_loss: 0.3438 - val_accuracy: 0.8930\n",
            "Epoch 15/25\n",
            "272/272 [==============================] - 118s 433ms/step - loss: 0.1059 - accuracy: 0.9567 - val_loss: 0.3127 - val_accuracy: 0.8875\n",
            "Epoch 16/25\n",
            "272/272 [==============================] - 117s 429ms/step - loss: 0.0936 - accuracy: 0.9644 - val_loss: 0.3078 - val_accuracy: 0.8936\n",
            "Epoch 17/25\n",
            "272/272 [==============================] - 116s 427ms/step - loss: 0.1049 - accuracy: 0.9579 - val_loss: 0.2961 - val_accuracy: 0.8924\n",
            "Epoch 18/25\n",
            "272/272 [==============================] - 117s 430ms/step - loss: 0.0883 - accuracy: 0.9659 - val_loss: 0.3462 - val_accuracy: 0.8982\n",
            "Epoch 19/25\n",
            "272/272 [==============================] - 116s 426ms/step - loss: 0.0901 - accuracy: 0.9650 - val_loss: 0.2978 - val_accuracy: 0.9028\n",
            "Epoch 20/25\n",
            "272/272 [==============================] - 116s 425ms/step - loss: 0.0822 - accuracy: 0.9667 - val_loss: 0.3149 - val_accuracy: 0.8930\n",
            "Epoch 21/25\n",
            "272/272 [==============================] - 115s 423ms/step - loss: 0.0871 - accuracy: 0.9650 - val_loss: 0.3390 - val_accuracy: 0.8997\n",
            "Epoch 22/25\n",
            "272/272 [==============================] - 116s 427ms/step - loss: 0.0821 - accuracy: 0.9686 - val_loss: 0.3661 - val_accuracy: 0.8832\n",
            "Epoch 23/25\n",
            "272/272 [==============================] - 115s 424ms/step - loss: 0.0808 - accuracy: 0.9688 - val_loss: 0.3787 - val_accuracy: 0.9006\n",
            "Epoch 24/25\n",
            "272/272 [==============================] - 116s 425ms/step - loss: 0.0732 - accuracy: 0.9716 - val_loss: 0.3356 - val_accuracy: 0.8918\n",
            "Epoch 25/25\n",
            "272/272 [==============================] - 115s 422ms/step - loss: 0.0630 - accuracy: 0.9743 - val_loss: 0.3472 - val_accuracy: 0.9043\n",
            "2987.1527223587036\n"
          ]
        }
      ]
    },
    {
      "cell_type": "code",
      "source": [
        "# plot the loss\n",
        "import matplotlib.pyplot as plt\n",
        "plt.plot(r.history['loss'], label='train loss')\n",
        "plt.plot(r.history['val_loss'], label='val loss')\n",
        "plt.legend()\n",
        "\n",
        "plt.ylabel('Loss')\n",
        "plt.xlabel('Epoch')\n",
        "plt.title('VGG-16 Loss Curve for Six Class')   \n",
        "plt.savefig('LossVal_loss_vgg_16.png')\n",
        "plt.show()\n",
        "\n",
        "# plot the accuracy\n",
        "plt.plot(r.history['accuracy'], label='train acc')\n",
        "plt.plot(r.history['val_accuracy'], label='val acc')\n",
        "plt.legend()\n",
        "\n",
        "plt.ylabel('Accuracy')\n",
        "plt.xlabel('Epoch')\n",
        "plt.title('VGG-16 Accuracy Curve for Six Class') \n",
        "plt.savefig('AccVal_acc_vgg_16.png')\n",
        "plt.show()"
      ],
      "metadata": {
        "colab": {
          "base_uri": "https://localhost:8080/",
          "height": 573
        },
        "id": "PmDWK7saU8g3",
        "outputId": "189bf049-17b2-4b53-b2b9-04f250aa8fe0"
      },
      "execution_count": null,
      "outputs": [
        {
          "output_type": "display_data",
          "data": {
            "text/plain": [
              "<Figure size 432x288 with 1 Axes>"
            ],
            "image/png": "[encoded data removed]"
          },
          "metadata": {
            "needs_background": "light"
          }
        },
        {
          "output_type": "display_data",
          "data": {
            "text/plain": [
              "<Figure size 432x288 with 1 Axes>"
            ],
            "image/png": "[encoded data removed]"
          },
          "metadata": {
            "needs_background": "light"
          }
        }
      ]
    },
    {
      "cell_type": "code",
      "source": [
        "start=time.time()\n",
        "final = model.predict(validation_set)\n",
        "end = time.time()\n",
        "elapsed = end - start\n",
        "print(\"Total Testing  Time:\", elapsed)"
      ],
      "metadata": {
        "colab": {
          "base_uri": "https://localhost:8080/"
        },
        "id": "6-OamjuzU8jb",
        "outputId": "88860505-f159-449c-c75f-1a616330136c"
      },
      "execution_count": null,
      "outputs": [
        {
          "output_type": "stream",
          "name": "stdout",
          "text": [
            "51/51 [==============================] - 21s 401ms/step\n",
            "Total Testing  Time: 21.716516733169556\n"
          ]
        }
      ]
    },
    {
      "cell_type": "code",
      "source": [
        "import numpy as np\n",
        "from sklearn.metrics import confusion_matrix,classification_report\n",
        "batch_size = 64\n",
        "num_of_test_samples = 3261\n",
        "predictions = model.predict_generator(validation_set,  num_of_test_samples // batch_size+1)\n",
        "\n",
        "y_pred = np.argmax(predictions, axis=1)\n",
        "\n",
        "\n",
        "true_classes = validation_set.classes\n",
        "\n",
        "class_labels = list(validation_set.class_indices.keys())   \n",
        "\n",
        "print(class_labels)\n",
        "\n",
        "print(confusion_matrix(validation_set.classes, y_pred))\n",
        "\n",
        "report = classification_report(true_classes, y_pred, target_names=class_labels)\n",
        "print(report)"
      ],
      "metadata": {
        "colab": {
          "base_uri": "https://localhost:8080/"
        },
        "outputId": "466e4d03-59eb-4081-f850-9cadb7b4cd8a",
        "id": "AtAAlGqw3PAN"
      },
      "execution_count": null,
      "outputs": [
        {
          "output_type": "stream",
          "name": "stderr",
          "text": [
            "<ipython-input-78-33b3c6a6c7ee>:5: UserWarning: `Model.predict_generator` is deprecated and will be removed in a future version. Please use `Model.predict`, which supports generators.\n",
            "  predictions = model.predict_generator(validation_set,  num_of_test_samples // batch_size+1)\n"
          ]
        },
        {
          "output_type": "stream",
          "name": "stdout",
          "text": [
            "['Bacterial Pneumonia', 'COVID', 'Fibrosis', 'Normal', 'Tuberculosis', 'Viral Pneumonia']\n",
            "[[422   1   0   3   1  79]\n",
            " [  2 688   3  20  11   0]\n",
            " [  0   4 290  40   4   0]\n",
            " [  5   6  25 675   7   6]\n",
            " [  0   4   1   0 695   0]\n",
            " [ 79   2   0   9   0 179]]\n",
            "                     precision    recall  f1-score   support\n",
            "\n",
            "Bacterial Pneumonia       0.83      0.83      0.83       506\n",
            "              COVID       0.98      0.95      0.96       724\n",
            "           Fibrosis       0.91      0.86      0.88       338\n",
            "             Normal       0.90      0.93      0.92       724\n",
            "       Tuberculosis       0.97      0.99      0.98       700\n",
            "    Viral Pneumonia       0.68      0.67      0.67       269\n",
            "\n",
            "           accuracy                           0.90      3261\n",
            "          macro avg       0.88      0.87      0.87      3261\n",
            "       weighted avg       0.90      0.90      0.90      3261\n",
            "\n"
          ]
        }
      ]
    },
    {
      "cell_type": "code",
      "source": [
        "import numpy as np\n",
        "from sklearn.metrics import confusion_matrix,classification_report\n",
        "batch_size = 64\n",
        "num_of_test_samples = 3261\n",
        "predictions = model.predict_generator(validation_set,  num_of_test_samples // batch_size+1)\n",
        "\n",
        "y_pred = np.argmax(predictions, axis=1)\n",
        "\n",
        "\n",
        "true_classes = validation_set.classes\n",
        "\n",
        "class_labels = list(validation_set.class_indices.keys())   \n",
        "\n",
        "print(class_labels)\n",
        "\n",
        "print(confusion_matrix(validation_set.classes, y_pred))\n",
        "\n",
        "report = classification_report(true_classes, y_pred, target_names=class_labels)\n",
        "print(report)"
      ],
      "metadata": {
        "colab": {
          "base_uri": "https://localhost:8080/"
        },
        "outputId": "466e4d03-59eb-4081-f850-9cadb7b4cd8a",
        "id": "Qgkcjbn9II8t"
      },
      "execution_count": null,
      "outputs": [
        {
          "output_type": "stream",
          "name": "stderr",
          "text": [
            "<ipython-input-78-33b3c6a6c7ee>:5: UserWarning: `Model.predict_generator` is deprecated and will be removed in a future version. Please use `Model.predict`, which supports generators.\n",
            "  predictions = model.predict_generator(validation_set,  num_of_test_samples // batch_size+1)\n"
          ]
        },
        {
          "output_type": "stream",
          "name": "stdout",
          "text": [
            "['Bacterial Pneumonia', 'COVID', 'Fibrosis', 'Normal', 'Tuberculosis', 'Viral Pneumonia']\n",
            "[[422   1   0   3   1  79]\n",
            " [  2 688   3  20  11   0]\n",
            " [  0   4 290  40   4   0]\n",
            " [  5   6  25 675   7   6]\n",
            " [  0   4   1   0 695   0]\n",
            " [ 79   2   0   9   0 179]]\n",
            "                     precision    recall  f1-score   support\n",
            "\n",
            "Bacterial Pneumonia       0.83      0.83      0.83       506\n",
            "              COVID       0.98      0.95      0.96       724\n",
            "           Fibrosis       0.91      0.86      0.88       338\n",
            "             Normal       0.90      0.93      0.92       724\n",
            "       Tuberculosis       0.97      0.99      0.98       700\n",
            "    Viral Pneumonia       0.68      0.67      0.67       269\n",
            "\n",
            "           accuracy                           0.90      3261\n",
            "          macro avg       0.88      0.87      0.87      3261\n",
            "       weighted avg       0.90      0.90      0.90      3261\n",
            "\n"
          ]
        }
      ]
    },
    {
      "cell_type": "code",
      "source": [
        "import math\n",
        "number_of_examples = len(validation_set.filenames)\n",
        "number_of_generator_calls = math.ceil(number_of_examples / (1.0 * 64)) \n",
        "# 1.0 above is to skip integer division\n",
        "\n",
        "test_labels = []\n",
        "test_images = []\n",
        "for i in range(0,int(number_of_generator_calls)):\n",
        "    test_labels.extend(np.array(validation_set[i][1]))\n",
        "\n",
        "for i in range(0,int(number_of_generator_calls)):\n",
        "    test_images.extend(np.array(validation_set[i][0]))"
      ],
      "metadata": {
        "id": "K8WCc8WgU8oU"
      },
      "execution_count": null,
      "outputs": []
    },
    {
      "cell_type": "code",
      "source": [
        "new_labels = []\n",
        "for i in range(0,3261):\n",
        "  new_labels.append(np.argmax(predictions[i]))"
      ],
      "metadata": {
        "id": "_C8_PVsNU8qs"
      },
      "execution_count": null,
      "outputs": []
    },
    {
      "cell_type": "code",
      "source": [
        "newtest_labels = []\n",
        "for i in range(0,3261):\n",
        "  newtest_labels.append(np.argmax(test_labels[i]))"
      ],
      "metadata": {
        "id": "baAbsLtTU8tb"
      },
      "execution_count": null,
      "outputs": []
    },
    {
      "cell_type": "code",
      "source": [],
      "metadata": {
        "id": "fs0bx07NU8vw"
      },
      "execution_count": null,
      "outputs": []
    },
    {
      "cell_type": "code",
      "source": [
        "from sklearn import metrics\n",
        "import matplotlib.pyplot as plt\n",
        "from itertools import cycle\n",
        "from scipy import interp\n",
        "noofClasses = 6\n",
        "\n",
        "score = model.evaluate(validation_set, verbose=0)\n",
        "print('Test Score = ', score[0])\n",
        "print('Test Accuracy = ', score[1])\n",
        "from sklearn.metrics import confusion_matrix, classification_report, roc_auc_score, roc_curve, auc\n",
        "\n",
        "\n",
        "# Get the confusion matrix\n",
        "\n",
        "score = metrics.accuracy_score(y_true=newtest_labels, y_pred=new_labels)\n",
        "print(\"Accuracy score: {}\".format(score))\n",
        "pred_prob =model.predict_generator(validation_set,  num_of_test_samples // batch_size+1)\n",
        "\n",
        "c = roc_auc_score(newtest_labels, pred_prob, multi_class='ovo')\n",
        "print(\"AUC:\", c)\n",
        "# Compute ROC curve and ROC area for each class\n",
        "fpr = {}\n",
        "tpr = {}\n",
        "roc_auc = {}\n",
        "thresh = {}\n",
        "lw = 2\n",
        "precision = {}\n",
        "recall = {}\n",
        "for i in range(noofClasses):\n",
        "    fpr[i], tpr[i], thresh[i] = roc_curve(newtest_labels, pred_prob[:, i], pos_label=i)\n",
        "    precision[i], recall[i], _ = roc_curve(newtest_labels, pred_prob[:, i], pos_label=i)\n",
        "    roc_auc[i] = auc(fpr[i], tpr[i])\n",
        "  \n",
        "\n",
        "n_classes = 6\n",
        "\n",
        "# First aggregate all false positive rates\n",
        "all_fpr = np.unique(np.concatenate([fpr[i] for i in range(n_classes)]))\n",
        "\n",
        "# Then interpolate all ROC curves at this points\n",
        "mean_tpr = np.zeros_like(all_fpr)\n",
        "for i in range(n_classes):\n",
        "    mean_tpr += interp(all_fpr, fpr[i], tpr[i])\n",
        "\n",
        "# Finally average it and compute AUC\n",
        "mean_tpr /= n_classes\n",
        "\n",
        "fpr[\"macro\"] = all_fpr\n",
        "tpr[\"macro\"] = mean_tpr\n",
        "roc_auc[\"macro\"] = auc(fpr[\"macro\"], tpr[\"macro\"])\n",
        "\n",
        "# Plot all ROC curves\n",
        "plt.figure()\n",
        "\n",
        "colors = cycle(['green', 'darkorange', 'cornflowerblue', 'yellow','red','blue'])\n",
        "for i, color in zip(range(n_classes), colors):\n",
        "    plt.plot(fpr[i], tpr[i], color=color, lw=lw, label='ROC curve of class {0} (AUC = {1:0.4f})'\n",
        "                                                       ''.format(i, roc_auc[i]))\n",
        "\n",
        "plt.plot([0, 1], [0, 1], 'k--', lw=lw)\n",
        "plt.xlim([0.0, 1.0])\n",
        "plt.ylim([0.0, 1.05])\n",
        "plt.xlabel('False Positive Rate')\n",
        "plt.ylabel('True Positive Rate')\n",
        "plt.title('Receiver operating characteristic curve for VGG-16')\n",
        "plt.legend(loc=\"lower right\")\n",
        "plt.savefig(\"ROC_vgg_16.png\")\n",
        "plt.show()\n"
      ],
      "metadata": {
        "colab": {
          "base_uri": "https://localhost:8080/",
          "height": 463
        },
        "outputId": "b9e7189b-05da-4aff-88c0-f84c1818a982",
        "id": "WCI8IVPY7THz"
      },
      "execution_count": null,
      "outputs": [
        {
          "output_type": "stream",
          "name": "stdout",
          "text": [
            "Test Score =  0.3472459018230438\n",
            "Test Accuracy =  0.9043238162994385\n",
            "Accuracy score: 0.9043238270469182\n"
          ]
        },
        {
          "output_type": "stream",
          "name": "stderr",
          "text": [
            "<ipython-input-85-05b762138b22>:17: UserWarning: `Model.predict_generator` is deprecated and will be removed in a future version. Please use `Model.predict`, which supports generators.\n",
            "  pred_prob =model.predict_generator(validation_set,  num_of_test_samples // batch_size+1)\n"
          ]
        },
        {
          "output_type": "stream",
          "name": "stdout",
          "text": [
            "AUC: 0.9854068313763691\n"
          ]
        },
        {
          "output_type": "stream",
          "name": "stderr",
          "text": [
            "<ipython-input-85-05b762138b22>:43: DeprecationWarning: scipy.interp is deprecated and will be removed in SciPy 2.0.0, use numpy.interp instead\n",
            "  mean_tpr += interp(all_fpr, fpr[i], tpr[i])\n"
          ]
        },
        {
          "output_type": "display_data",
          "data": {
            "text/plain": [
              "<Figure size 432x288 with 1 Axes>"
            ],
            "image/png": "[encoded data removed]"
          },
          "metadata": {
            "needs_background": "light"
          }
        }
      ]
    },
    {
      "cell_type": "code",
      "source": [
        "#VGG-19\n",
        "from keras.models import Sequential\n",
        "\n",
        "import keras\n",
        "from keras.layers import Conv2D, MaxPool2D, Flatten, Dense, InputLayer, BatchNormalization, Dropout\n",
        "from keras.utils import np_utils\n",
        "\n",
        "from keras.callbacks import LearningRateScheduler, ModelCheckpoint\n",
        "from keras.preprocessing.image import ImageDataGenerator\n",
        "from keras.regularizers import l2\n",
        "import tensorflow as tf\n",
        "from tensorflow.keras.applications.vgg19 import VGG19\n",
        "from tensorflow.keras.applications.vgg19 import preprocess_input"
      ],
      "metadata": {
        "id": "ZpJF2Kxk7c9l"
      },
      "execution_count": null,
      "outputs": []
    },
    {
      "cell_type": "code",
      "source": [
        "IMAGE_SIZE=[224,224]\n",
        "vgg = VGG19(input_shape=IMAGE_SIZE + [3], weights='imagenet', include_top=False)\n",
        "#do not train the pre-trained layers of VGG-19\n",
        "for layer in vgg.layers:\n",
        "    layer.trainable = False"
      ],
      "metadata": {
        "colab": {
          "base_uri": "https://localhost:8080/"
        },
        "id": "p5y5IpzX7dFT",
        "outputId": "d2501ebe-684d-4ead-c7d4-9997e8974b32"
      },
      "execution_count": null,
      "outputs": [
        {
          "output_type": "stream",
          "name": "stdout",
          "text": [
            "Downloading data from https://storage.googleapis.com/tensorflow/keras-applications/vgg19/vgg19_weights_tf_dim_ordering_tf_kernels_notop.h5\n",
            "80134624/80134624 [==============================] - 4s 0us/step\n"
          ]
        }
      ]
    },
    {
      "cell_type": "code",
      "source": [
        "x = Flatten()(vgg.output)\n",
        "x = Dense(1024, activation='relu')(x)\n",
        "x = keras.layers.Dropout(0.2)(x)\n",
        "#x = Dense(512, activation='relu')(x)\n",
        "#x = keras.layers.Dropout(0.2)(x)\n",
        "#adding output layer.Softmax classifier is used as it is multi-class classification\n",
        "prediction = Dense(6, activation='softmax')(x)\n",
        "\n",
        "model = Model(inputs=vgg.input, outputs=prediction)\n",
        "\n",
        "\n",
        "# view the structure of the model\n",
        "model.summary()"
      ],
      "metadata": {
        "colab": {
          "base_uri": "https://localhost:8080/"
        },
        "id": "Hb0ZNnId7dK0",
        "outputId": "56d5ba9d-3817-4f17-d998-e3de93028c3f"
      },
      "execution_count": null,
      "outputs": [
        {
          "output_type": "stream",
          "name": "stdout",
          "text": [
            "Model: \"model_4\"\n",
            "_________________________________________________________________\n",
            " Layer (type)                Output Shape              Param #   \n",
            "=================================================================\n",
            " input_3 (InputLayer)        [(None, 224, 224, 3)]     0         \n",
            "                                                                 \n",
            " block1_conv1 (Conv2D)       (None, 224, 224, 64)      1792      \n",
            "                                                                 \n",
            " block1_conv2 (Conv2D)       (None, 224, 224, 64)      36928     \n",
            "                                                                 \n",
            " block1_pool (MaxPooling2D)  (None, 112, 112, 64)      0         \n",
            "                                                                 \n",
            " block2_conv1 (Conv2D)       (None, 112, 112, 128)     73856     \n",
            "                                                                 \n",
            " block2_conv2 (Conv2D)       (None, 112, 112, 128)     147584    \n",
            "                                                                 \n",
            " block2_pool (MaxPooling2D)  (None, 56, 56, 128)       0         \n",
            "                                                                 \n",
            " block3_conv1 (Conv2D)       (None, 56, 56, 256)       295168    \n",
            "                                                                 \n",
            " block3_conv2 (Conv2D)       (None, 56, 56, 256)       590080    \n",
            "                                                                 \n",
            " block3_conv3 (Conv2D)       (None, 56, 56, 256)       590080    \n",
            "                                                                 \n",
            " block3_conv4 (Conv2D)       (None, 56, 56, 256)       590080    \n",
            "                                                                 \n",
            " block3_pool (MaxPooling2D)  (None, 28, 28, 256)       0         \n",
            "                                                                 \n",
            " block4_conv1 (Conv2D)       (None, 28, 28, 512)       1180160   \n",
            "                                                                 \n",
            " block4_conv2 (Conv2D)       (None, 28, 28, 512)       2359808   \n",
            "                                                                 \n",
            " block4_conv3 (Conv2D)       (None, 28, 28, 512)       2359808   \n",
            "                                                                 \n",
            " block4_conv4 (Conv2D)       (None, 28, 28, 512)       2359808   \n",
            "                                                                 \n",
            " block4_pool (MaxPooling2D)  (None, 14, 14, 512)       0         \n",
            "                                                                 \n",
            " block5_conv1 (Conv2D)       (None, 14, 14, 512)       2359808   \n",
            "                                                                 \n",
            " block5_conv2 (Conv2D)       (None, 14, 14, 512)       2359808   \n",
            "                                                                 \n",
            " block5_conv3 (Conv2D)       (None, 14, 14, 512)       2359808   \n",
            "                                                                 \n",
            " block5_conv4 (Conv2D)       (None, 14, 14, 512)       2359808   \n",
            "                                                                 \n",
            " block5_pool (MaxPooling2D)  (None, 7, 7, 512)         0         \n",
            "                                                                 \n",
            " flatten_4 (Flatten)         (None, 25088)             0         \n",
            "                                                                 \n",
            " dense_8 (Dense)             (None, 1024)              25691136  \n",
            "                                                                 \n",
            " dropout_4 (Dropout)         (None, 1024)              0         \n",
            "                                                                 \n",
            " dense_9 (Dense)             (None, 6)                 6150      \n",
            "                                                                 \n",
            "=================================================================\n",
            "Total params: 45,721,670\n",
            "Trainable params: 25,697,286\n",
            "Non-trainable params: 20,024,384\n",
            "_________________________________________________________________\n"
          ]
        }
      ]
    },
    {
      "cell_type": "code",
      "source": [
        "\n",
        "model.compile(\n",
        "  loss='categorical_crossentropy',\n",
        "  optimizer='adam',\n",
        "  metrics=['accuracy']\n",
        ")\n",
        "\n",
        "\n"
      ],
      "metadata": {
        "id": "-8cXXfBK8RmN"
      },
      "execution_count": null,
      "outputs": []
    },
    {
      "cell_type": "code",
      "source": [
        "from keras.preprocessing.image import ImageDataGenerator\n",
        "\n",
        "train_datagen = ImageDataGenerator(rescale = 1./255 \n",
        "                              #horizontal_flip=False, \n",
        "                              #vertical_flip=False,\n",
        "                              #featurewise_center=True,\n",
        "                     #featurewise_std_normalization=True,\n",
        "                     #rotation_range=20,\n",
        "                     #width_shift_range=0.01,\n",
        "                     #height_shift_range=0.01,\n",
        "                     #zoom_range=0.2\n",
        "                            #featurewise_std_normalization=True\n",
        "                                  )\n",
        "                                  \n",
        "\n",
        "\n",
        "val_datagen = ImageDataGenerator(rescale = 1./255)\n",
        "\n",
        "training_set = train_datagen.flow_from_directory('/content/output/train',\n",
        "                                                 target_size = (224, 224),\n",
        "                                                 batch_size = 64,\n",
        "                                                 class_mode = 'categorical',\n",
        "                                                 shuffle=True\n",
        "                                                 )\n",
        "validation_set = val_datagen.flow_from_directory('/content/output/val',\n",
        "                                            target_size = (224, 224),\n",
        "                                            batch_size = 64,\n",
        "                                            class_mode = 'categorical',\n",
        "                                            shuffle=True)  "
      ],
      "metadata": {
        "colab": {
          "base_uri": "https://localhost:8080/"
        },
        "id": "r97LFKLw8R2S",
        "outputId": "2f09b9a4-552b-4c7f-8ffe-d215a5aa21f2"
      },
      "execution_count": null,
      "outputs": [
        {
          "output_type": "stream",
          "name": "stdout",
          "text": [
            "Found 17352 images belonging to 6 classes.\n",
            "Found 3261 images belonging to 6 classes.\n"
          ]
        }
      ]
    },
    {
      "cell_type": "code",
      "source": [
        "start = time.time()\n",
        "\n",
        "\n",
        "r=model.fit(training_set,\n",
        "                        validation_data=validation_set,\n",
        "                          steps_per_epoch=len(training_set),\n",
        "                            epochs=25,\n",
        "                            validation_steps=len(validation_set)\n",
        "            #callbacks=[callbacks]\n",
        "            )\n",
        "\n",
        "end = time.time()\n",
        "elapsed = end - start\n",
        "print( elapsed)"
      ],
      "metadata": {
        "colab": {
          "base_uri": "https://localhost:8080/"
        },
        "id": "21Kzo9rwU970",
        "outputId": "1609d1a8-d2b6-4623-e0fd-7caadeb5093c"
      },
      "execution_count": null,
      "outputs": [
        {
          "output_type": "stream",
          "name": "stdout",
          "text": [
            "Epoch 1/25\n",
            "272/272 [==============================] - 128s 466ms/step - loss: 1.0721 - accuracy: 0.7561 - val_loss: 0.5866 - val_accuracy: 0.7639\n",
            "Epoch 2/25\n",
            "272/272 [==============================] - 126s 461ms/step - loss: 0.3703 - accuracy: 0.8563 - val_loss: 0.3912 - val_accuracy: 0.8476\n",
            "Epoch 3/25\n",
            "272/272 [==============================] - 125s 459ms/step - loss: 0.2994 - accuracy: 0.8863 - val_loss: 0.3580 - val_accuracy: 0.8651\n",
            "Epoch 4/25\n",
            "272/272 [==============================] - 125s 458ms/step - loss: 0.2763 - accuracy: 0.8930 - val_loss: 0.3376 - val_accuracy: 0.8749\n",
            "Epoch 5/25\n",
            "272/272 [==============================] - 125s 458ms/step - loss: 0.2319 - accuracy: 0.9129 - val_loss: 0.2953 - val_accuracy: 0.8822\n",
            "Epoch 6/25\n",
            "272/272 [==============================] - 124s 455ms/step - loss: 0.2212 - accuracy: 0.9149 - val_loss: 0.4787 - val_accuracy: 0.8025\n",
            "Epoch 7/25\n",
            "272/272 [==============================] - 124s 454ms/step - loss: 0.2367 - accuracy: 0.9057 - val_loss: 0.3097 - val_accuracy: 0.8764\n",
            "Epoch 8/25\n",
            "272/272 [==============================] - 124s 454ms/step - loss: 0.2073 - accuracy: 0.9182 - val_loss: 0.3084 - val_accuracy: 0.8810\n",
            "Epoch 9/25\n",
            "272/272 [==============================] - 124s 455ms/step - loss: 0.1937 - accuracy: 0.9232 - val_loss: 0.2920 - val_accuracy: 0.8822\n",
            "Epoch 10/25\n",
            "272/272 [==============================] - 124s 455ms/step - loss: 0.2208 - accuracy: 0.9132 - val_loss: 0.3042 - val_accuracy: 0.8789\n",
            "Epoch 11/25\n",
            "272/272 [==============================] - 123s 453ms/step - loss: 0.1863 - accuracy: 0.9252 - val_loss: 0.2620 - val_accuracy: 0.9034\n",
            "Epoch 12/25\n",
            "272/272 [==============================] - 123s 453ms/step - loss: 0.2047 - accuracy: 0.9197 - val_loss: 0.3132 - val_accuracy: 0.8862\n",
            "Epoch 13/25\n",
            "272/272 [==============================] - 123s 453ms/step - loss: 0.1847 - accuracy: 0.9302 - val_loss: 0.2818 - val_accuracy: 0.8973\n",
            "Epoch 14/25\n",
            "272/272 [==============================] - 124s 454ms/step - loss: 0.1588 - accuracy: 0.9393 - val_loss: 0.2608 - val_accuracy: 0.9056\n",
            "Epoch 15/25\n",
            "272/272 [==============================] - 123s 453ms/step - loss: 0.1493 - accuracy: 0.9426 - val_loss: 0.2830 - val_accuracy: 0.8930\n",
            "Epoch 16/25\n",
            "272/272 [==============================] - 126s 461ms/step - loss: 0.1565 - accuracy: 0.9395 - val_loss: 0.2873 - val_accuracy: 0.8939\n",
            "Epoch 17/25\n",
            "272/272 [==============================] - 124s 454ms/step - loss: 0.1876 - accuracy: 0.9258 - val_loss: 0.3755 - val_accuracy: 0.8663\n",
            "Epoch 18/25\n",
            "272/272 [==============================] - 123s 453ms/step - loss: 0.2146 - accuracy: 0.9163 - val_loss: 0.2899 - val_accuracy: 0.9052\n",
            "Epoch 19/25\n",
            "272/272 [==============================] - 123s 452ms/step - loss: 0.1776 - accuracy: 0.9301 - val_loss: 0.2762 - val_accuracy: 0.9025\n",
            "Epoch 20/25\n",
            "272/272 [==============================] - 124s 453ms/step - loss: 0.1590 - accuracy: 0.9380 - val_loss: 0.2694 - val_accuracy: 0.9080\n",
            "Epoch 21/25\n",
            "272/272 [==============================] - 123s 452ms/step - loss: 0.1447 - accuracy: 0.9432 - val_loss: 0.2702 - val_accuracy: 0.9059\n",
            "Epoch 22/25\n",
            "272/272 [==============================] - 123s 453ms/step - loss: 0.1414 - accuracy: 0.9451 - val_loss: 0.2864 - val_accuracy: 0.8841\n",
            "Epoch 23/25\n",
            "272/272 [==============================] - 124s 454ms/step - loss: 0.1376 - accuracy: 0.9459 - val_loss: 0.3336 - val_accuracy: 0.8868\n",
            "Epoch 24/25\n",
            "272/272 [==============================] - 153s 560ms/step - loss: 0.1335 - accuracy: 0.9472 - val_loss: 0.3216 - val_accuracy: 0.8850\n",
            "Epoch 25/25\n",
            "272/272 [==============================] - 132s 482ms/step - loss: 0.1759 - accuracy: 0.9290 - val_loss: 0.3068 - val_accuracy: 0.8951\n",
            "3198.9601883888245\n"
          ]
        }
      ]
    },
    {
      "cell_type": "code",
      "source": [
        "# plot the loss\n",
        "import matplotlib.pyplot as plt\n",
        "plt.plot(r.history['loss'], label='train loss')\n",
        "plt.plot(r.history['val_loss'], label='val loss')\n",
        "plt.legend()\n",
        "\n",
        "plt.ylabel('Loss')\n",
        "plt.xlabel('Epoch')\n",
        "plt.title('VGG-19 Loss Curve for Six Class')   \n",
        "plt.savefig('LossVal_loss_vgg_19.png')\n",
        "plt.show()\n",
        "\n",
        "# plot the accuracy\n",
        "plt.plot(r.history['accuracy'], label='train acc')\n",
        "plt.plot(r.history['val_accuracy'], label='val acc')\n",
        "plt.legend()\n",
        "\n",
        "plt.ylabel('Accuracy')\n",
        "plt.xlabel('Epoch')\n",
        "plt.title('VGG-19 Accuracy Curve for Six Class') \n",
        "plt.savefig('AccVal_acc_vgg_19.png')\n",
        "plt.show()"
      ],
      "metadata": {
        "colab": {
          "base_uri": "https://localhost:8080/",
          "height": 573
        },
        "id": "GmYzX6VCU9-k",
        "outputId": "5a753c62-2786-419e-aa11-e16604ef86eb"
      },
      "execution_count": null,
      "outputs": [
        {
          "output_type": "display_data",
          "data": {
            "text/plain": [
              "<Figure size 432x288 with 1 Axes>"
            ],
            "image/png": "[encoded data removed]"
          },
          "metadata": {
            "needs_background": "light"
          }
        },
        {
          "output_type": "display_data",
          "data": {
            "text/plain": [
              "<Figure size 432x288 with 1 Axes>"
            ],
            "image/png": "[encoded data removed]"
          },
          "metadata": {
            "needs_background": "light"
          }
        }
      ]
    },
    {
      "cell_type": "code",
      "source": [
        "start=time.time()\n",
        "final = model.predict(validation_set)\n",
        "end = time.time()\n",
        "elapsed = end - start\n",
        "print(\"Total Testing  Time:\", elapsed)"
      ],
      "metadata": {
        "colab": {
          "base_uri": "https://localhost:8080/"
        },
        "id": "r9kVn4dMU-Lq",
        "outputId": "523d1751-d03b-4ddf-89a8-c6c1cbf0eafa"
      },
      "execution_count": null,
      "outputs": [
        {
          "output_type": "stream",
          "name": "stdout",
          "text": [
            "51/51 [==============================] - 24s 463ms/step\n",
            "Total Testing  Time: 24.16074275970459\n"
          ]
        }
      ]
    },
    {
      "cell_type": "code",
      "source": [
        "import numpy as np\n",
        "from sklearn.metrics import confusion_matrix,classification_report\n",
        "batch_size = 64\n",
        "num_of_test_samples = 3261\n",
        "predictions = model.predict_generator(validation_set,  num_of_test_samples // batch_size+1)\n",
        "\n",
        "y_pred = np.argmax(predictions, axis=1)\n",
        "\n",
        "\n",
        "true_classes = validation_set.classes\n",
        "\n",
        "class_labels = list(validation_set.class_indices.keys())   \n",
        "\n",
        "print(class_labels)\n",
        "\n",
        "print(confusion_matrix(validation_set.classes, y_pred))\n",
        "\n",
        "report = classification_report(true_classes, y_pred, target_names=class_labels)\n",
        "print(report)"
      ],
      "metadata": {
        "colab": {
          "base_uri": "https://localhost:8080/"
        },
        "outputId": "f0004cf0-7081-4da9-ca31-f3693a67f34e",
        "id": "CEMPtyDQIRJj"
      },
      "execution_count": null,
      "outputs": [
        {
          "output_type": "stream",
          "name": "stderr",
          "text": [
            "<ipython-input-96-33b3c6a6c7ee>:5: UserWarning: `Model.predict_generator` is deprecated and will be removed in a future version. Please use `Model.predict`, which supports generators.\n",
            "  predictions = model.predict_generator(validation_set,  num_of_test_samples // batch_size+1)\n"
          ]
        },
        {
          "output_type": "stream",
          "name": "stdout",
          "text": [
            "['Bacterial Pneumonia', 'COVID', 'Fibrosis', 'Normal', 'Tuberculosis', 'Viral Pneumonia']\n",
            "[[447   3   0   4   0  52]\n",
            " [  1 707   0  11   3   2]\n",
            " [  0  25 272  40   1   0]\n",
            " [  6  38  15 654   4   7]\n",
            " [  0  24   1   2 671   2]\n",
            " [ 87   3   0  11   0 168]]\n",
            "                     precision    recall  f1-score   support\n",
            "\n",
            "Bacterial Pneumonia       0.83      0.88      0.85       506\n",
            "              COVID       0.88      0.98      0.93       724\n",
            "           Fibrosis       0.94      0.80      0.87       338\n",
            "             Normal       0.91      0.90      0.90       724\n",
            "       Tuberculosis       0.99      0.96      0.97       700\n",
            "    Viral Pneumonia       0.73      0.62      0.67       269\n",
            "\n",
            "           accuracy                           0.90      3261\n",
            "          macro avg       0.88      0.86      0.87      3261\n",
            "       weighted avg       0.90      0.90      0.89      3261\n",
            "\n"
          ]
        }
      ]
    },
    {
      "cell_type": "code",
      "source": [
        "import math\n",
        "number_of_examples = len(validation_set.filenames)\n",
        "number_of_generator_calls = math.ceil(number_of_examples / (1.0 * 64)) \n",
        "# 1.0 above is to skip integer division\n",
        "\n",
        "test_labels = []\n",
        "test_images = []\n",
        "for i in range(0,int(number_of_generator_calls)):\n",
        "    test_labels.extend(np.array(validation_set[i][1]))\n",
        "\n",
        "for i in range(0,int(number_of_generator_calls)):\n",
        "    test_images.extend(np.array(validation_set[i][0]))"
      ],
      "metadata": {
        "id": "eLJ_3280ojQ9"
      },
      "execution_count": null,
      "outputs": []
    },
    {
      "cell_type": "code",
      "source": [
        "new_labels = []\n",
        "for i in range(0,3261):\n",
        "  new_labels.append(np.argmax(predictions[i]))"
      ],
      "metadata": {
        "id": "3kUKQN69ojUE"
      },
      "execution_count": null,
      "outputs": []
    },
    {
      "cell_type": "code",
      "source": [
        "newtest_labels = []\n",
        "for i in range(0,3261):\n",
        "  newtest_labels.append(np.argmax(test_labels[i]))"
      ],
      "metadata": {
        "id": "HfunQArSojW_"
      },
      "execution_count": null,
      "outputs": []
    },
    {
      "cell_type": "code",
      "source": [
        "from sklearn import metrics\n",
        "import matplotlib.pyplot as plt\n",
        "from itertools import cycle\n",
        "from scipy import interp\n",
        "noofClasses = 6\n",
        "\n",
        "score = model.evaluate(validation_set, verbose=0)\n",
        "print('Test Score = ', score[0])\n",
        "print('Test Accuracy = ', score[1])\n",
        "from sklearn.metrics import confusion_matrix, classification_report, roc_auc_score, roc_curve, auc\n",
        "\n",
        "\n",
        "# Get the confusion matrix\n",
        "\n",
        "score = metrics.accuracy_score(y_true=newtest_labels, y_pred=new_labels)\n",
        "print(\"Accuracy score: {}\".format(score))\n",
        "pred_prob =model.predict_generator(validation_set,  num_of_test_samples // batch_size+1)\n",
        "\n",
        "c = roc_auc_score(newtest_labels, pred_prob, multi_class='ovo')\n",
        "print(\"AUC:\", c)\n",
        "# Compute ROC curve and ROC area for each class\n",
        "fpr = {}\n",
        "tpr = {}\n",
        "roc_auc = {}\n",
        "thresh = {}\n",
        "lw = 2\n",
        "precision = {}\n",
        "recall = {}\n",
        "for i in range(noofClasses):\n",
        "    fpr[i], tpr[i], thresh[i] = roc_curve(newtest_labels, pred_prob[:, i], pos_label=i)\n",
        "    precision[i], recall[i], _ = roc_curve(newtest_labels, pred_prob[:, i], pos_label=i)\n",
        "    roc_auc[i] = auc(fpr[i], tpr[i])\n",
        "  \n",
        "\n",
        "n_classes = 6\n",
        "\n",
        "# First aggregate all false positive rates\n",
        "all_fpr = np.unique(np.concatenate([fpr[i] for i in range(n_classes)]))\n",
        "\n",
        "# Then interpolate all ROC curves at this points\n",
        "mean_tpr = np.zeros_like(all_fpr)\n",
        "for i in range(n_classes):\n",
        "    mean_tpr += interp(all_fpr, fpr[i], tpr[i])\n",
        "\n",
        "# Finally average it and compute AUC\n",
        "mean_tpr /= n_classes\n",
        "\n",
        "fpr[\"macro\"] = all_fpr\n",
        "tpr[\"macro\"] = mean_tpr\n",
        "roc_auc[\"macro\"] = auc(fpr[\"macro\"], tpr[\"macro\"])\n",
        "\n",
        "# Plot all ROC curves\n",
        "plt.figure()\n",
        "\n",
        "colors = cycle(['green', 'darkorange', 'cornflowerblue', 'yellow','red','blue'])\n",
        "for i, color in zip(range(n_classes), colors):\n",
        "    plt.plot(fpr[i], tpr[i], color=color, lw=lw, label='ROC curve of class {0} (AUC = {1:0.4f})'\n",
        "                                                       ''.format(i, roc_auc[i]))\n",
        "\n",
        "plt.plot([0, 1], [0, 1], 'k--', lw=lw)\n",
        "plt.xlim([0.0, 1.0])\n",
        "plt.ylim([0.0, 1.05])\n",
        "plt.xlabel('False Positive Rate')\n",
        "plt.ylabel('True Positive Rate')\n",
        "plt.title('Receiver operating characteristic curve for VGG-19')\n",
        "plt.legend(loc=\"lower right\")\n",
        "plt.savefig(\"ROC_vgg_16.png\")\n",
        "plt.show()\n"
      ],
      "metadata": {
        "colab": {
          "base_uri": "https://localhost:8080/",
          "height": 463
        },
        "outputId": "20d984db-a195-4bfd-cdf5-fd95140dd8aa",
        "id": "6SVHWQgkIqNg"
      },
      "execution_count": null,
      "outputs": [
        {
          "output_type": "stream",
          "name": "stdout",
          "text": [
            "Test Score =  0.30684971809387207\n",
            "Test Accuracy =  0.8951241970062256\n",
            "Accuracy score: 0.8951241950321988\n"
          ]
        },
        {
          "output_type": "stream",
          "name": "stderr",
          "text": [
            "<ipython-input-100-cc85a0406ec4>:17: UserWarning: `Model.predict_generator` is deprecated and will be removed in a future version. Please use `Model.predict`, which supports generators.\n",
            "  pred_prob =model.predict_generator(validation_set,  num_of_test_samples // batch_size+1)\n"
          ]
        },
        {
          "output_type": "stream",
          "name": "stdout",
          "text": [
            "AUC: 0.9844123622036552\n"
          ]
        },
        {
          "output_type": "stream",
          "name": "stderr",
          "text": [
            "<ipython-input-100-cc85a0406ec4>:43: DeprecationWarning: scipy.interp is deprecated and will be removed in SciPy 2.0.0, use numpy.interp instead\n",
            "  mean_tpr += interp(all_fpr, fpr[i], tpr[i])\n"
          ]
        },
        {
          "output_type": "display_data",
          "data": {
            "text/plain": [
              "<Figure size 432x288 with 1 Axes>"
            ],
            "image/png": "[encoded data removed]"
          },
          "metadata": {
            "needs_background": "light"
          }
        }
      ]
    },
    {
      "cell_type": "code",
      "source": [],
      "metadata": {
        "id": "fRg7jitcojey"
      },
      "execution_count": null,
      "outputs": []
    },
    {
      "cell_type": "code",
      "source": [],
      "metadata": {
        "id": "eyH445F8IXsJ"
      },
      "execution_count": null,
      "outputs": []
    },
    {
      "cell_type": "code",
      "source": [],
      "metadata": {
        "id": "2Fuv1u6qIXvq"
      },
      "execution_count": null,
      "outputs": []
    },
    {
      "cell_type": "code",
      "source": [],
      "metadata": {
        "id": "0Kg9nih7IXyU"
      },
      "execution_count": null,
      "outputs": []
    },
    {
      "cell_type": "code",
      "source": [],
      "metadata": {
        "id": "1idDz2ixIX1X"
      },
      "execution_count": null,
      "outputs": []
    },
    {
      "cell_type": "code",
      "source": [],
      "metadata": {
        "id": "rt75C-BuIX4P"
      },
      "execution_count": null,
      "outputs": []
    },
    {
      "cell_type": "code",
      "execution_count": null,
      "metadata": {
        "colab": {
          "base_uri": "https://localhost:8080/"
        },
        "id": "t7kDrC4hiX4e",
        "outputId": "90835baf-04f1-49d3-9a4b-e39e73df8943"
      },
      "outputs": [
        {
          "name": "stdout",
          "output_type": "stream",
          "text": [
            "Model: \"sequential\"\n",
            "_________________________________________________________________\n",
            " Layer (type)                Output Shape              Param #   \n",
            "=================================================================\n",
            " conv2d (Conv2D)             (None, 299, 299, 32)      896       \n",
            "                                                                 \n",
            " max_pooling2d (MaxPooling2D  (None, 100, 100, 32)     0         \n",
            " )                                                               \n",
            "                                                                 \n",
            " conv2d_1 (Conv2D)           (None, 100, 100, 64)      18496     \n",
            "                                                                 \n",
            " max_pooling2d_1 (MaxPooling  (None, 34, 34, 64)       0         \n",
            " 2D)                                                             \n",
            "                                                                 \n",
            " conv2d_2 (Conv2D)           (None, 34, 34, 128)       73856     \n",
            "                                                                 \n",
            " max_pooling2d_2 (MaxPooling  (None, 12, 12, 128)      0         \n",
            " 2D)                                                             \n",
            "                                                                 \n",
            " flatten (Flatten)           (None, 18432)             0         \n",
            "                                                                 \n",
            " dense (Dense)               (None, 512)               9437696   \n",
            "                                                                 \n",
            " dropout (Dropout)           (None, 512)               0         \n",
            "                                                                 \n",
            " dense_1 (Dense)             (None, 256)               131328    \n",
            "                                                                 \n",
            " dropout_1 (Dropout)         (None, 256)               0         \n",
            "                                                                 \n",
            " dense_2 (Dense)             (None, 128)               32896     \n",
            "                                                                 \n",
            " dropout_2 (Dropout)         (None, 128)               0         \n",
            "                                                                 \n",
            " dense_3 (Dense)             (None, 6)                 774       \n",
            "                                                                 \n",
            "=================================================================\n",
            "Total params: 9,695,942\n",
            "Trainable params: 9,695,942\n",
            "Non-trainable params: 0\n",
            "_________________________________________________________________\n"
          ]
        }
      ],
      "source": [
        "from keras.models import Sequential\n",
        "\n",
        "import keras\n",
        "from keras.layers import Conv2D, MaxPool2D, Flatten, Dense, InputLayer, BatchNormalization, Dropout\n",
        "from keras.utils import np_utils\n",
        "\n",
        "from keras.callbacks import LearningRateScheduler, ModelCheckpoint\n",
        "from keras.preprocessing.image import ImageDataGenerator\n",
        "from keras.regularizers import l2\n",
        "import tensorflow as tf\n",
        "\n",
        "# build a sequential model\n",
        "model = Sequential()\n",
        "model.add(InputLayer(input_shape=(299, 299, 3)))\n",
        "\n",
        "# 1st conv block\n",
        "#model.add(Conv2D(16, (3, 3), activation='relu', strides=(1, 1), padding='same'))\n",
        "#model.add(MaxPool2D(pool_size=(3, 3), padding='same'))\n",
        "# 2nd conv block\n",
        "model.add(Conv2D(32, (3, 3), activation='relu', strides=(1, 1), padding='same'))\n",
        "model.add(MaxPool2D(pool_size=(3, 3), padding='same'))\n",
        "\n",
        "\n",
        "# 3rd conv block\n",
        "model.add(Conv2D(64, (3, 3), activation='relu', strides=(1, 1), padding='same'))\n",
        "model.add(MaxPool2D(pool_size=(3, 3), padding='same'))\n",
        "\n",
        "#model.add(Dropout(0.5))\n",
        "\n",
        "model.add(Conv2D(128, (3, 3), activation='relu', strides=(1, 1), padding='same')) #,kernel_regularizer=l2(0.01)))\n",
        "model.add(MaxPool2D(pool_size=(3, 3), padding='same'))\n",
        "#model.add(BatchNormalization())\n",
        "#model.add(Dropout(0.1))\n",
        "# 4rd conv block\n",
        "#model.add(Conv2D(256, (3, 3), activation='relu', strides=(1, 1), padding='same'))#,kernel_regularizer=l2(0.01)))\n",
        "#model.add(MaxPool2D(pool_size=(3, 3), padding='same'))\n",
        "#model.add(BatchNormalization())\n",
        "#model.add(Dropout(0.3))\n",
        "\n",
        "# 5th conv block\n",
        "#model.add(Conv2D(512, (3, 3), activation='relu', strides=(1, 1), padding='same',name='conv_last_layer'))\n",
        "#model.add(MaxPool2D(pool_size=(3, 3), padding='same'))\n",
        "#model.add(BatchNormalization())\n",
        "#model.add(Dropout(0.5))\n",
        "\n",
        "# ANN block\n",
        "model.add(Flatten())\n",
        "#model.add(Dense(units=1024, activation='relu'))\n",
        "\n",
        "#model.add(Dropout(0.3))\n",
        "model.add(Dense(units=512, activation='relu'))\n",
        "\n",
        "model.add(Dropout(0.3))\n",
        "\n",
        "model.add(Dense(units=256, activation='relu',kernel_regularizer=l2(0.01)))\n",
        "\n",
        "model.add(Dropout(0.5))\n",
        "model.add(Dense(units=128, activation='relu'))\n",
        "model.add(Dropout(0.4))\n",
        "# output layer\n",
        "model.add(Dense(units=6,  kernel_regularizer=tf.keras.regularizers.l2(0.01),activation='softmax'))\n",
        "\n",
        "# compile model\n",
        "\n",
        "model.compile(optimizer=\"adam\",\n",
        "              loss='categorical_crossentropy',\n",
        "              metrics = ['accuracy'])\n",
        "#model.compile(loss='categorical_crossentropy', optimizer=\"adam\", metrics=['accuracy'])\n",
        "# fit on data for 30 epochs\n",
        "#model.fit_generator(train, epochs=30, validation_data=val)\n",
        "\n",
        "model.summary()"
      ]
    },
    {
      "cell_type": "code",
      "execution_count": null,
      "metadata": {
        "colab": {
          "base_uri": "https://localhost:8080/"
        },
        "id": "3Z5tH_jZKiuE",
        "outputId": "4f7e45b0-ddc9-40db-9885-2a80497b107e"
      },
      "outputs": [
        {
          "name": "stdout",
          "output_type": "stream",
          "text": [
            "Found 17352 images belonging to 6 classes.\n",
            "Found 3261 images belonging to 6 classes.\n"
          ]
        }
      ],
      "source": [
        "from keras.preprocessing.image import ImageDataGenerator\n",
        "\n",
        "train_datagen = ImageDataGenerator(rescale = 1./255 \n",
        "                              #horizontal_flip=False, \n",
        "                              #vertical_flip=False,\n",
        "                              #featurewise_center=True,\n",
        "                     #featurewise_std_normalization=True,\n",
        "                     #rotation_range=20,\n",
        "                     #width_shift_range=0.01,\n",
        "                     #height_shift_range=0.01,\n",
        "                     #zoom_range=0.2\n",
        "                            #featurewise_std_normalization=True\n",
        "                                  )\n",
        "                                  \n",
        "\n",
        "\n",
        "val_datagen = ImageDataGenerator(rescale = 1./255)\n",
        "\n",
        "training_set = train_datagen.flow_from_directory('/content/output/train',\n",
        "                                                 target_size = (299, 299),\n",
        "                                                 batch_size = 64,\n",
        "                                                 class_mode = 'categorical',\n",
        "                                                 shuffle=True\n",
        "                                                 )\n",
        "validation_set = val_datagen.flow_from_directory('/content/output/val',\n",
        "                                            target_size = (299, 299),\n",
        "                                            batch_size = 64,\n",
        "                                            class_mode = 'categorical',\n",
        "                                            shuffle=True) "
      ]
    },
    {
      "cell_type": "code",
      "execution_count": null,
      "metadata": {
        "colab": {
          "base_uri": "https://localhost:8080/"
        },
        "id": "o8HZAk1CKjy1",
        "outputId": "ea40a186-4582-4abd-d486-333be760802d"
      },
      "outputs": [
        {
          "name": "stdout",
          "output_type": "stream",
          "text": [
            "Epoch 1/25\n",
            "272/272 [==============================] - 123s 418ms/step - loss: 1.5947 - accuracy: 0.6036 - val_loss: 0.7645 - val_accuracy: 0.7743\n",
            "Epoch 2/25\n",
            "272/272 [==============================] - 110s 404ms/step - loss: 0.5629 - accuracy: 0.8560 - val_loss: 0.4223 - val_accuracy: 0.8798\n",
            "Epoch 3/25\n",
            "272/272 [==============================] - 109s 400ms/step - loss: 0.4088 - accuracy: 0.8975 - val_loss: 0.3440 - val_accuracy: 0.9052\n",
            "Epoch 4/25\n",
            "272/272 [==============================] - 112s 410ms/step - loss: 0.3067 - accuracy: 0.9247 - val_loss: 0.2858 - val_accuracy: 0.9301\n",
            "Epoch 5/25\n",
            "272/272 [==============================] - 109s 402ms/step - loss: 0.2524 - accuracy: 0.9450 - val_loss: 0.2206 - val_accuracy: 0.9500\n",
            "Epoch 6/25\n",
            "272/272 [==============================] - 110s 403ms/step - loss: 0.2213 - accuracy: 0.9531 - val_loss: 0.2204 - val_accuracy: 0.9531\n",
            "Epoch 7/25\n",
            "272/272 [==============================] - 109s 399ms/step - loss: 0.1749 - accuracy: 0.9635 - val_loss: 0.2319 - val_accuracy: 0.9420\n",
            "Epoch 8/25\n",
            "272/272 [==============================] - 108s 395ms/step - loss: 0.1777 - accuracy: 0.9655 - val_loss: 0.2182 - val_accuracy: 0.9494\n",
            "Epoch 9/25\n",
            "272/272 [==============================] - 109s 401ms/step - loss: 0.1733 - accuracy: 0.9686 - val_loss: 0.1918 - val_accuracy: 0.9592\n",
            "Epoch 10/25\n",
            "272/272 [==============================] - 108s 398ms/step - loss: 0.1335 - accuracy: 0.9769 - val_loss: 0.1750 - val_accuracy: 0.9629\n",
            "Epoch 11/25\n",
            "272/272 [==============================] - 107s 394ms/step - loss: 0.1252 - accuracy: 0.9788 - val_loss: 0.2121 - val_accuracy: 0.9512\n",
            "Epoch 12/25\n",
            "272/272 [==============================] - 108s 398ms/step - loss: 0.1748 - accuracy: 0.9682 - val_loss: 0.2290 - val_accuracy: 0.9515\n",
            "Epoch 13/25\n",
            "272/272 [==============================] - 107s 392ms/step - loss: 0.1587 - accuracy: 0.9708 - val_loss: 0.2009 - val_accuracy: 0.9592\n",
            "Epoch 14/25\n",
            "272/272 [==============================] - 106s 390ms/step - loss: 0.1231 - accuracy: 0.9821 - val_loss: 0.1671 - val_accuracy: 0.9706\n",
            "Epoch 15/25\n",
            "272/272 [==============================] - 110s 404ms/step - loss: 0.1203 - accuracy: 0.9805 - val_loss: 0.1924 - val_accuracy: 0.9666\n",
            "Epoch 16/25\n",
            "272/272 [==============================] - 109s 399ms/step - loss: 0.0950 - accuracy: 0.9878 - val_loss: 0.2454 - val_accuracy: 0.9482\n",
            "Epoch 17/25\n",
            "272/272 [==============================] - 109s 400ms/step - loss: 0.0994 - accuracy: 0.9873 - val_loss: 0.1936 - val_accuracy: 0.9657\n",
            "Epoch 18/25\n",
            "272/272 [==============================] - 112s 410ms/step - loss: 0.0986 - accuracy: 0.9869 - val_loss: 0.2020 - val_accuracy: 0.9635\n",
            "Epoch 19/25\n",
            "272/272 [==============================] - 108s 398ms/step - loss: 0.1072 - accuracy: 0.9851 - val_loss: 0.2392 - val_accuracy: 0.9509\n",
            "Epoch 20/25\n",
            "272/272 [==============================] - 108s 398ms/step - loss: 0.1008 - accuracy: 0.9876 - val_loss: 0.1922 - val_accuracy: 0.9626\n",
            "Epoch 21/25\n",
            "272/272 [==============================] - 110s 404ms/step - loss: 0.0789 - accuracy: 0.9908 - val_loss: 0.2064 - val_accuracy: 0.9617\n",
            "Epoch 22/25\n",
            "272/272 [==============================] - 108s 397ms/step - loss: 0.0883 - accuracy: 0.9896 - val_loss: 0.2369 - val_accuracy: 0.9558\n",
            "Epoch 23/25\n",
            "272/272 [==============================] - 108s 396ms/step - loss: 0.0866 - accuracy: 0.9913 - val_loss: 0.2162 - val_accuracy: 0.9589\n",
            "Epoch 24/25\n",
            "272/272 [==============================] - 110s 404ms/step - loss: 0.0965 - accuracy: 0.9878 - val_loss: 0.1545 - val_accuracy: 0.9755\n",
            "Epoch 25/25\n",
            "272/272 [==============================] - 120s 440ms/step - loss: 0.0823 - accuracy: 0.9904 - val_loss: 0.1634 - val_accuracy: 0.9675\n",
            "2848.2561066150665\n"
          ]
        }
      ],
      "source": [
        "start = time.time()\n",
        "\n",
        "\n",
        "r=model.fit(training_set,\n",
        "                        validation_data=validation_set,\n",
        "                          steps_per_epoch=len(training_set),\n",
        "                            epochs=25,\n",
        "                            validation_steps=len(validation_set)\n",
        "             \n",
        "            )\n",
        "\n",
        "end = time.time()\n",
        "elapsed = end - start\n",
        "print( elapsed)"
      ]
    },
    {
      "cell_type": "code",
      "execution_count": null,
      "metadata": {
        "colab": {
          "base_uri": "https://localhost:8080/",
          "height": 573
        },
        "id": "DM4bQ3hcVpqI",
        "outputId": "ce95b14d-45d3-4417-d5cc-edf7454ed223"
      },
      "outputs": [
        {
          "data": {
            "image/png": "[encoded data removed]",
            "text/plain": [
              "<Figure size 432x288 with 1 Axes>"
            ]
          },
          "metadata": {},
          "output_type": "display_data"
        },
        {
          "data": {
            "image/png": "[encoded data removed]",
            "text/plain": [
              "<Figure size 432x288 with 1 Axes>"
            ]
          },
          "metadata": {},
          "output_type": "display_data"
        }
      ],
      "source": [
        "# plot the loss\n",
        "import matplotlib.pyplot as plt\n",
        "plt.plot(r.history['loss'], label='train loss')\n",
        "plt.plot(r.history['val_loss'], label='val loss')\n",
        "plt.legend()\n",
        "\n",
        "plt.ylabel('Loss')\n",
        "plt.xlabel('Epoch')\n",
        "plt.title('2D-CNN Loss Curve for 6 Class')\n",
        "   \n",
        "plt.savefig('6_LossVal_loss_CNN.png')\n",
        "plt.show()   \n",
        "\n",
        "# plot the accuracy\n",
        "plt.plot(r.history['accuracy'], label='train acc')\n",
        "plt.plot(r.history['val_accuracy'], label='val acc')\n",
        "plt.legend()\n",
        "\n",
        "plt.ylabel('Accuracy')\n",
        "plt.xlabel('Epoch')\n",
        "plt.title('2D-CNN Accuracy Curve for 6 Class')\n",
        "   \n",
        "plt.savefig('6_AccVal_acc_CNN.png')\n",
        "plt.show() "
      ]
    },
    {
      "cell_type": "code",
      "execution_count": null,
      "metadata": {
        "colab": {
          "base_uri": "https://localhost:8080/"
        },
        "id": "i_3tqZ5wVpss",
        "outputId": "cbbf7da4-00cb-45cf-f5cc-420f3c7124b0"
      },
      "outputs": [
        {
          "name": "stdout",
          "output_type": "stream",
          "text": [
            "51/51 [==============================] - 15s 295ms/step\n",
            "Total Testing  Time: 15.201617240905762\n"
          ]
        }
      ],
      "source": [
        "start=time.time()\n",
        "final = model.predict(validation_set)\n",
        "end = time.time()\n",
        "elapsed = end - start\n",
        "print(\"Total Testing  Time:\", elapsed)"
      ]
    },
    {
      "cell_type": "code",
      "execution_count": null,
      "metadata": {
        "colab": {
          "base_uri": "https://localhost:8080/"
        },
        "id": "NuliLTo7VpvH",
        "outputId": "48a4ce2c-ec6f-4e4c-9ca2-06679c1f6897"
      },
      "outputs": [
        {
          "name": "stderr",
          "output_type": "stream",
          "text": [
            "/usr/local/lib/python3.7/dist-packages/ipykernel_launcher.py:5: UserWarning: `Model.predict_generator` is deprecated and will be removed in a future version. Please use `Model.predict`, which supports generators.\n",
            "  \"\"\"\n"
          ]
        },
        {
          "name": "stdout",
          "output_type": "stream",
          "text": [
            "['Bacterial Pneumonia', 'COVID', 'Fibrosis', 'Normal', 'Tuberculosis', 'Viral Pneumonia']\n",
            "[[495   0   0   1   0  10]\n",
            " [  1 695   3  15  10   0]\n",
            " [  0   1 332   5   0   0]\n",
            " [  4  17   1 700   1   1]\n",
            " [  0   6   0   2 692   0]\n",
            " [ 16   1   0   9   2 241]]\n",
            "                     precision    recall  f1-score   support\n",
            "\n",
            "Bacterial Pneumonia       0.96      0.98      0.97       506\n",
            "              COVID       0.97      0.96      0.96       724\n",
            "           Fibrosis       0.99      0.98      0.99       338\n",
            "             Normal       0.96      0.97      0.96       724\n",
            "       Tuberculosis       0.98      0.99      0.99       700\n",
            "    Viral Pneumonia       0.96      0.90      0.93       269\n",
            "\n",
            "           accuracy                           0.97      3261\n",
            "          macro avg       0.97      0.96      0.96      3261\n",
            "       weighted avg       0.97      0.97      0.97      3261\n",
            "\n"
          ]
        }
      ],
      "source": [
        "import numpy as np\n",
        "from sklearn.metrics import confusion_matrix,classification_report\n",
        "batch_size = 64\n",
        "num_of_test_samples =3261\n",
        "predictions = model.predict_generator(validation_set,  num_of_test_samples // batch_size+1)\n",
        "\n",
        "y_pred = np.argmax(predictions, axis=1)\n",
        "\n",
        "\n",
        "true_classes = validation_set.classes\n",
        "\n",
        "class_labels = list(validation_set.class_indices.keys())   \n",
        "\n",
        "print(class_labels)\n",
        "\n",
        "print(confusion_matrix(validation_set.classes, y_pred))\n",
        "\n",
        "report = classification_report(true_classes, y_pred, target_names=class_labels)\n",
        "print(report)"
      ]
    },
    {
      "cell_type": "code",
      "execution_count": null,
      "metadata": {
        "colab": {
          "base_uri": "https://localhost:8080/",
          "height": 455
        },
        "id": "KwAr6-dhVpxl",
        "outputId": "a62884e2-1ced-4f5f-9e19-b7da208524b1"
      },
      "outputs": [
        {
          "output_type": "display_data",
          "data": {
            "text/plain": [
              "<Figure size 576x432 with 2 Axes>"
            ],
            "image/png": "[encoded data removed]"
          },
          "metadata": {
            "needs_background": "light"
          }
        }
      ],
      "source": [
        "import numpy as np\n",
        "\n",
        "\n",
        "def plot_confusion_matrix(cm,\n",
        "                          target_names,\n",
        "                          title='Confusion matrix',\n",
        "                          cmap=None,\n",
        "                          normalize=True):\n",
        "    \n",
        "    import matplotlib.pyplot as plt\n",
        "    import numpy as np\n",
        "    import itertools\n",
        "\n",
        "    accuracy = np.trace(cm) / float(np.sum(cm))\n",
        "    misclass = 1 - accuracy\n",
        "\n",
        "    if cmap is None:\n",
        "        cmap = plt.get_cmap('Blues')\n",
        "\n",
        "    plt.figure(figsize=(8, 6))\n",
        "    plt.imshow(cm, interpolation='nearest', cmap=cmap)\n",
        "    plt.title(title)\n",
        "    plt.colorbar()\n",
        "\n",
        "    if target_names is not None:\n",
        "        tick_marks = np.arange(len(target_names))\n",
        "        plt.xticks(tick_marks, target_names, rotation=45)\n",
        "        plt.yticks(tick_marks, target_names)\n",
        "\n",
        "    if normalize:\n",
        "        cm = cm.astype('float') / cm.sum(axis=1)[:, np.newaxis]\n",
        "\n",
        "\n",
        "    thresh = cm.max() / 1.5 if normalize else cm.max() / 2\n",
        "    for i, j in itertools.product(range(cm.shape[0]), range(cm.shape[1])):\n",
        "        if normalize:\n",
        "            plt.text(j, i, \"{:0.4f}\".format(cm[i, j]),\n",
        "                     horizontalalignment=\"center\",\n",
        "                     color=\"white\" if cm[i, j] > thresh else \"black\")\n",
        "        else:\n",
        "            plt.text(j, i, \"{:,}\".format(cm[i, j]),\n",
        "                     horizontalalignment=\"center\",\n",
        "                     color=\"white\" if cm[i, j] > thresh else \"black\")\n",
        "\n",
        "\n",
        "    plt.tight_layout()\n",
        "    plt.ylabel('True label')\n",
        "    plt.xlabel('Predicted label')\n",
        "    plt.savefig('6 classes_Confusion_Matrix_2D_CNN.png')\n",
        "    plt.show()\n",
        "\n",
        "plot_confusion_matrix(cm = np.array ([[495  , 0  , 0  , 1 ,  0 , 10],\n",
        " [  1 ,695 ,  3,  15 , 10  , 0],\n",
        " [  0  , 1 ,332 ,  5   ,0,   0],\n",
        " [  4 , 17,1 ,700 ,  1 ,  1],\n",
        " [  0  , 6 ,  0,   2 ,692  , 0],\n",
        " [ 16 ,  1 ,  0  , 9  , 2 ,241]]),\n",
        "                      normalize    = False,\n",
        "                      target_names = ['Bacterial Pneumonia', 'COVID', 'Fibrosis', 'Normal', 'Tuberculosis', 'Viral Pneumonia'],\n",
        "                      title = \"Confusion Matrix for 6 Classes\")"
      ]
    },
    {
      "cell_type": "code",
      "execution_count": null,
      "metadata": {
        "id": "hKx6ryG9V9mJ"
      },
      "outputs": [],
      "source": [
        "import math\n",
        "number_of_examples = len(validation_set.filenames)\n",
        "number_of_generator_calls = math.ceil(number_of_examples / (1.0 * 64)) \n",
        "# 1.0 above is to skip integer division\n",
        "\n",
        "test_labels = []\n",
        "test_images = []\n",
        "for i in range(0,int(number_of_generator_calls)):\n",
        "    test_labels.extend(np.array(validation_set[i][1]))\n",
        "\n",
        "for i in range(0,int(number_of_generator_calls)):\n",
        "    test_images.extend(np.array(validation_set[i][0]))"
      ]
    },
    {
      "cell_type": "code",
      "execution_count": null,
      "metadata": {
        "id": "wy2no7EIV9pt"
      },
      "outputs": [],
      "source": [
        "new_labels = []\n",
        "for i in range(0,3261):\n",
        "  new_labels.append(np.argmax(predictions[i]))"
      ]
    },
    {
      "cell_type": "code",
      "execution_count": null,
      "metadata": {
        "id": "0hHMi2S2X7Fv"
      },
      "outputs": [],
      "source": [
        "newtest_labels = []\n",
        "for i in range(0,3261):\n",
        "  newtest_labels.append(np.argmax(test_labels[i]))"
      ]
    },
    {
      "cell_type": "code",
      "execution_count": null,
      "metadata": {
        "colab": {
          "base_uri": "https://localhost:8080/",
          "height": 426
        },
        "id": "qZWELM8sX7RW",
        "outputId": "f01e00d5-bc74-452f-d6c2-4ca803335e18"
      },
      "outputs": [
        {
          "name": "stdout",
          "output_type": "stream",
          "text": [
            "Test Score =  0.16338321566581726\n",
            "Test Accuracy =  0.9674946069717407\n",
            "Accuracy score: 0.9674946335479914\n"
          ]
        },
        {
          "name": "stderr",
          "output_type": "stream",
          "text": [
            "/usr/local/lib/python3.7/dist-packages/ipykernel_launcher.py:17: UserWarning: `Model.predict_generator` is deprecated and will be removed in a future version. Please use `Model.predict`, which supports generators.\n"
          ]
        },
        {
          "name": "stdout",
          "output_type": "stream",
          "text": [
            "AUC: 0.9979736663219734\n"
          ]
        },
        {
          "name": "stderr",
          "output_type": "stream",
          "text": [
            "/usr/local/lib/python3.7/dist-packages/ipykernel_launcher.py:43: DeprecationWarning: scipy.interp is deprecated and will be removed in SciPy 2.0.0, use numpy.interp instead\n"
          ]
        },
        {
          "data": {
            "image/png": "[encoded data removed]",
            "text/plain": [
              "<Figure size 432x288 with 1 Axes>"
            ]
          },
          "metadata": {},
          "output_type": "display_data"
        }
      ],
      "source": [
        "from sklearn import metrics\n",
        "import matplotlib.pyplot as plt\n",
        "from itertools import cycle\n",
        "from scipy import interp\n",
        "noofClasses = 6\n",
        "\n",
        "score = model.evaluate(validation_set, verbose=0)\n",
        "print('Test Score = ', score[0])\n",
        "print('Test Accuracy = ', score[1])\n",
        "from sklearn.metrics import confusion_matrix, classification_report, roc_auc_score, roc_curve, auc\n",
        "\n",
        "\n",
        "# Get the confusion matrix\n",
        "\n",
        "score = metrics.accuracy_score(y_true=newtest_labels, y_pred=new_labels)\n",
        "print(\"Accuracy score: {}\".format(score))\n",
        "pred_prob =model.predict_generator(validation_set,  num_of_test_samples // batch_size+1)\n",
        "\n",
        "c = roc_auc_score(newtest_labels, pred_prob, multi_class='ovo')\n",
        "print(\"AUC:\", c)\n",
        "# Compute ROC curve and ROC area for each class\n",
        "fpr = {}\n",
        "tpr = {}\n",
        "roc_auc = {}\n",
        "thresh = {}\n",
        "lw = 2\n",
        "precision = {}\n",
        "recall = {}\n",
        "for i in range(noofClasses):\n",
        "    fpr[i], tpr[i], thresh[i] = roc_curve(newtest_labels, pred_prob[:, i], pos_label=i)\n",
        "    precision[i], recall[i], _ = roc_curve(newtest_labels, pred_prob[:, i], pos_label=i)\n",
        "    roc_auc[i] = auc(fpr[i], tpr[i])\n",
        "  \n",
        "\n",
        "n_classes = 6\n",
        "\n",
        "# First aggregate all false positive rates\n",
        "all_fpr = np.unique(np.concatenate([fpr[i] for i in range(n_classes)]))\n",
        "\n",
        "# Then interpolate all ROC curves at this points\n",
        "mean_tpr = np.zeros_like(all_fpr)\n",
        "for i in range(n_classes):\n",
        "    mean_tpr += interp(all_fpr, fpr[i], tpr[i])\n",
        "\n",
        "# Finally average it and compute AUC\n",
        "mean_tpr /= n_classes\n",
        "\n",
        "fpr[\"macro\"] = all_fpr\n",
        "tpr[\"macro\"] = mean_tpr\n",
        "roc_auc[\"macro\"] = auc(fpr[\"macro\"], tpr[\"macro\"])\n",
        "\n",
        "# Plot all ROC curves\n",
        "plt.figure()\n",
        "\n",
        "colors = cycle(['green', 'darkorange', 'cornflowerblue', 'yellow','red','blue'])\n",
        "for i, color in zip(range(n_classes), colors):\n",
        "    plt.plot(fpr[i], tpr[i], color=color, lw=lw, label='ROC curve of class {0} (AUC = {1:0.4f})'\n",
        "                                                       ''.format(i, roc_auc[i]))\n",
        "\n",
        "plt.plot([0, 1], [0, 1], 'k--', lw=lw)\n",
        "plt.xlim([0.0, 1.0])\n",
        "plt.ylim([0.0, 1.05])\n",
        "plt.xlabel('False Positive Rate')\n",
        "plt.ylabel('True Positive Rate')\n",
        "plt.title('Receiver Operating Characteristic Curve for 6 Classes')\n",
        "plt.legend(loc=\"lower right\")\n",
        "plt.savefig(\"6 classes_2D-CNN_roc.png\")\n",
        "plt.show()\n"
      ]
    },
    {
      "cell_type": "code",
      "execution_count": null,
      "metadata": {
        "id": "WXbDe7XWVp0x"
      },
      "outputs": [],
      "source": [
        "model.save('6 class.h5')"
      ]
    },
    {
      "cell_type": "code",
      "execution_count": null,
      "metadata": {
        "id": "SM_m_fGSZVh3"
      },
      "outputs": [],
      "source": [
        "# 5 Class"
      ]
    },
    {
      "cell_type": "code",
      "execution_count": null,
      "metadata": {
        "id": "J1YCxbIQZVkW"
      },
      "outputs": [],
      "source": [
        "import os\n",
        "import shutil\n",
        "\n",
        "def delete(path):\n",
        "    \"\"\"path could either be relative or absolute. \"\"\"\n",
        "    # check if file or directory exists\n",
        "    if os.path.isfile(path) or os.path.islink(path):\n",
        "        # remove file\n",
        "        os.remove(path)\n",
        "    elif os.path.isdir(path):\n",
        "        # remove directory and all its content\n",
        "        shutil.rmtree(path)\n",
        "    else:\n",
        "        raise ValueError(\"Path {} is not a file or dir.\".format(path))\n",
        "\n",
        "\n",
        "# directory\n",
        "delete(r'/content/output/val/Viral Pneumonia')"
      ]
    },
    {
      "cell_type": "code",
      "execution_count": null,
      "metadata": {
        "colab": {
          "base_uri": "https://localhost:8080/"
        },
        "id": "X4gMQdmpVp-f",
        "outputId": "64f4808f-0de3-49ff-d1ed-53efb017c438"
      },
      "outputs": [
        {
          "name": "stdout",
          "output_type": "stream",
          "text": [
            "Model: \"sequential_1\"\n",
            "_________________________________________________________________\n",
            " Layer (type)                Output Shape              Param #   \n",
            "=================================================================\n",
            " conv2d_3 (Conv2D)           (None, 299, 299, 32)      896       \n",
            "                                                                 \n",
            " max_pooling2d_3 (MaxPooling  (None, 100, 100, 32)     0         \n",
            " 2D)                                                             \n",
            "                                                                 \n",
            " conv2d_4 (Conv2D)           (None, 100, 100, 64)      18496     \n",
            "                                                                 \n",
            " max_pooling2d_4 (MaxPooling  (None, 34, 34, 64)       0         \n",
            " 2D)                                                             \n",
            "                                                                 \n",
            " conv2d_5 (Conv2D)           (None, 34, 34, 128)       73856     \n",
            "                                                                 \n",
            " max_pooling2d_5 (MaxPooling  (None, 12, 12, 128)      0         \n",
            " 2D)                                                             \n",
            "                                                                 \n",
            " flatten_1 (Flatten)         (None, 18432)             0         \n",
            "                                                                 \n",
            " dense_4 (Dense)             (None, 512)               9437696   \n",
            "                                                                 \n",
            " dropout_3 (Dropout)         (None, 512)               0         \n",
            "                                                                 \n",
            " dense_5 (Dense)             (None, 256)               131328    \n",
            "                                                                 \n",
            " dropout_4 (Dropout)         (None, 256)               0         \n",
            "                                                                 \n",
            " dense_6 (Dense)             (None, 128)               32896     \n",
            "                                                                 \n",
            " dropout_5 (Dropout)         (None, 128)               0         \n",
            "                                                                 \n",
            " dense_7 (Dense)             (None, 5)                 645       \n",
            "                                                                 \n",
            "=================================================================\n",
            "Total params: 9,695,813\n",
            "Trainable params: 9,695,813\n",
            "Non-trainable params: 0\n",
            "_________________________________________________________________\n"
          ]
        }
      ],
      "source": [
        "from keras.models import Sequential\n",
        "\n",
        "import keras\n",
        "from keras.layers import Conv2D, MaxPool2D, Flatten, Dense, InputLayer, BatchNormalization, Dropout\n",
        "from keras.utils import np_utils\n",
        "\n",
        "from keras.callbacks import LearningRateScheduler, ModelCheckpoint\n",
        "from keras.preprocessing.image import ImageDataGenerator\n",
        "from keras.regularizers import l2\n",
        "import tensorflow as tf\n",
        "\n",
        "# build a sequential model\n",
        "model = Sequential()\n",
        "model.add(InputLayer(input_shape=(299, 299, 3)))\n",
        "\n",
        "# 1st conv block\n",
        "#model.add(Conv2D(16, (3, 3), activation='relu', strides=(1, 1), padding='same'))\n",
        "#model.add(MaxPool2D(pool_size=(3, 3), padding='same'))\n",
        "# 2nd conv block\n",
        "model.add(Conv2D(32, (3, 3), activation='relu', strides=(1, 1), padding='same'))\n",
        "model.add(MaxPool2D(pool_size=(3, 3), padding='same'))\n",
        "\n",
        "\n",
        "# 3rd conv block\n",
        "model.add(Conv2D(64, (3, 3), activation='relu', strides=(1, 1), padding='same'))\n",
        "model.add(MaxPool2D(pool_size=(3, 3), padding='same'))\n",
        "\n",
        "#model.add(Dropout(0.5))\n",
        "\n",
        "model.add(Conv2D(128, (3, 3), activation='relu', strides=(1, 1), padding='same')) #,kernel_regularizer=l2(0.01)))\n",
        "model.add(MaxPool2D(pool_size=(3, 3), padding='same'))\n",
        "#model.add(BatchNormalization())\n",
        "#model.add(Dropout(0.1))\n",
        "# 4rd conv block\n",
        "#model.add(Conv2D(256, (3, 3), activation='relu', strides=(1, 1), padding='same'))#,kernel_regularizer=l2(0.01)))\n",
        "#model.add(MaxPool2D(pool_size=(3, 3), padding='same'))\n",
        "#model.add(BatchNormalization())\n",
        "#model.add(Dropout(0.3))\n",
        "\n",
        "# 5th conv block\n",
        "#model.add(Conv2D(512, (3, 3), activation='relu', strides=(1, 1), padding='same',name='conv_last_layer'))\n",
        "#model.add(MaxPool2D(pool_size=(3, 3), padding='same'))\n",
        "#model.add(BatchNormalization())\n",
        "#model.add(Dropout(0.5))\n",
        "\n",
        "# ANN block\n",
        "model.add(Flatten())\n",
        "#model.add(Dense(units=1024, activation='relu'))\n",
        "\n",
        "#model.add(Dropout(0.3))\n",
        "model.add(Dense(units=512, activation='relu'))\n",
        "\n",
        "model.add(Dropout(0.3))\n",
        "\n",
        "model.add(Dense(units=256, activation='relu',kernel_regularizer=l2(0.01)))\n",
        "\n",
        "model.add(Dropout(0.5))\n",
        "model.add(Dense(units=128, activation='relu'))\n",
        "model.add(Dropout(0.4))\n",
        "# output layer\n",
        "model.add(Dense(units=5,  kernel_regularizer=tf.keras.regularizers.l2(0.01),activation='softmax'))\n",
        "\n",
        "# compile model\n",
        "\n",
        "model.compile(optimizer=\"adam\",\n",
        "              loss='categorical_crossentropy',\n",
        "              metrics = ['accuracy'])\n",
        "#model.compile(loss='categorical_crossentropy', optimizer=\"adam\", metrics=['accuracy'])\n",
        "# fit on data for 30 epochs\n",
        "#model.fit_generator(train, epochs=30, validation_data=val)\n",
        "\n",
        "model.summary()"
      ]
    },
    {
      "cell_type": "code",
      "execution_count": null,
      "metadata": {
        "colab": {
          "base_uri": "https://localhost:8080/"
        },
        "id": "whUuegxOiX8N",
        "outputId": "5a23d931-03da-4560-8d3e-5dd88dadc3d6"
      },
      "outputs": [
        {
          "name": "stdout",
          "output_type": "stream",
          "text": [
            "Found 14460 images belonging to 5 classes.\n",
            "Found 2992 images belonging to 5 classes.\n"
          ]
        }
      ],
      "source": [
        "from keras.preprocessing.image import ImageDataGenerator\n",
        "\n",
        "train_datagen = ImageDataGenerator(rescale = 1./255 \n",
        "                              #horizontal_flip=False, \n",
        "                              #vertical_flip=False,\n",
        "                              #featurewise_center=True,\n",
        "                     #featurewise_std_normalization=True,\n",
        "                     #rotation_range=20,\n",
        "                     #width_shift_range=0.01,\n",
        "                     #height_shift_range=0.01,\n",
        "                     #zoom_range=0.2\n",
        "                            #featurewise_std_normalization=True\n",
        "                                  )\n",
        "                                  \n",
        "\n",
        "\n",
        "val_datagen = ImageDataGenerator(rescale = 1./255)\n",
        "\n",
        "training_set = train_datagen.flow_from_directory('/content/output/train',\n",
        "                                                 target_size = (299, 299),\n",
        "                                                 batch_size = 64,\n",
        "                                                 class_mode = 'categorical',\n",
        "                                                 shuffle=True\n",
        "                                                 )\n",
        "validation_set = val_datagen.flow_from_directory('/content/output/val',\n",
        "                                            target_size = (299, 299),\n",
        "                                            batch_size = 64,\n",
        "                                            class_mode = 'categorical',\n",
        "                                            shuffle=True) "
      ]
    },
    {
      "cell_type": "code",
      "execution_count": null,
      "metadata": {
        "colab": {
          "base_uri": "https://localhost:8080/"
        },
        "id": "5CHmaQGdKaKQ",
        "outputId": "3f5924d5-ae05-4c39-bc28-0c3748316b85"
      },
      "outputs": [
        {
          "name": "stdout",
          "output_type": "stream",
          "text": [
            "Epoch 1/25\n",
            "226/226 [==============================] - 101s 442ms/step - loss: 1.5320 - accuracy: 0.6715 - val_loss: 0.6320 - val_accuracy: 0.8309\n",
            "Epoch 2/25\n",
            "226/226 [==============================] - 102s 453ms/step - loss: 0.4801 - accuracy: 0.8891 - val_loss: 0.2990 - val_accuracy: 0.9392\n",
            "Epoch 3/25\n",
            "226/226 [==============================] - 101s 447ms/step - loss: 0.3042 - accuracy: 0.9324 - val_loss: 0.3866 - val_accuracy: 0.9001\n",
            "Epoch 4/25\n",
            "226/226 [==============================] - 98s 434ms/step - loss: 0.2366 - accuracy: 0.9495 - val_loss: 0.2247 - val_accuracy: 0.9482\n",
            "Epoch 5/25\n",
            "226/226 [==============================] - 100s 441ms/step - loss: 0.2101 - accuracy: 0.9571 - val_loss: 0.2144 - val_accuracy: 0.9559\n",
            "Epoch 6/25\n",
            "226/226 [==============================] - 98s 435ms/step - loss: 0.1610 - accuracy: 0.9712 - val_loss: 0.1654 - val_accuracy: 0.9666\n",
            "Epoch 7/25\n",
            "226/226 [==============================] - 98s 434ms/step - loss: 0.1408 - accuracy: 0.9743 - val_loss: 0.1847 - val_accuracy: 0.9586\n",
            "Epoch 8/25\n",
            "226/226 [==============================] - 100s 441ms/step - loss: 0.1357 - accuracy: 0.9770 - val_loss: 0.1438 - val_accuracy: 0.9706\n",
            "Epoch 9/25\n",
            "226/226 [==============================] - 98s 433ms/step - loss: 0.1236 - accuracy: 0.9790 - val_loss: 0.1903 - val_accuracy: 0.9609\n",
            "Epoch 10/25\n",
            "226/226 [==============================] - 98s 434ms/step - loss: 0.1116 - accuracy: 0.9824 - val_loss: 0.1547 - val_accuracy: 0.9699\n",
            "Epoch 11/25\n",
            "226/226 [==============================] - 99s 437ms/step - loss: 0.0992 - accuracy: 0.9860 - val_loss: 0.1961 - val_accuracy: 0.9579\n",
            "Epoch 12/25\n",
            "226/226 [==============================] - 100s 443ms/step - loss: 0.0963 - accuracy: 0.9857 - val_loss: 0.2014 - val_accuracy: 0.9539\n",
            "Epoch 13/25\n",
            "226/226 [==============================] - 99s 436ms/step - loss: 0.1038 - accuracy: 0.9856 - val_loss: 0.1895 - val_accuracy: 0.9642\n",
            "Epoch 14/25\n",
            "226/226 [==============================] - 99s 436ms/step - loss: 0.0849 - accuracy: 0.9892 - val_loss: 0.1402 - val_accuracy: 0.9729\n",
            "Epoch 15/25\n",
            "226/226 [==============================] - 100s 443ms/step - loss: 0.0932 - accuracy: 0.9873 - val_loss: 0.1511 - val_accuracy: 0.9713\n",
            "Epoch 16/25\n",
            "226/226 [==============================] - 98s 434ms/step - loss: 0.2279 - accuracy: 0.9499 - val_loss: 0.2708 - val_accuracy: 0.9459\n",
            "Epoch 17/25\n",
            "226/226 [==============================] - 98s 433ms/step - loss: 0.1572 - accuracy: 0.9763 - val_loss: 0.2302 - val_accuracy: 0.9562\n",
            "Epoch 18/25\n",
            "226/226 [==============================] - 99s 437ms/step - loss: 0.0875 - accuracy: 0.9891 - val_loss: 0.1755 - val_accuracy: 0.9632\n",
            "Epoch 19/25\n",
            "226/226 [==============================] - 98s 432ms/step - loss: 0.0540 - accuracy: 0.9958 - val_loss: 0.1260 - val_accuracy: 0.9756\n",
            "Epoch 20/25\n",
            "226/226 [==============================] - 97s 431ms/step - loss: 0.0569 - accuracy: 0.9938 - val_loss: 0.1706 - val_accuracy: 0.9686\n",
            "Epoch 21/25\n",
            "226/226 [==============================] - 98s 434ms/step - loss: 0.0650 - accuracy: 0.9939 - val_loss: 0.1582 - val_accuracy: 0.9706\n",
            "Epoch 22/25\n",
            "226/226 [==============================] - 98s 432ms/step - loss: 0.0958 - accuracy: 0.9855 - val_loss: 0.2259 - val_accuracy: 0.9495\n",
            "Epoch 23/25\n",
            "226/226 [==============================] - 98s 431ms/step - loss: 0.0864 - accuracy: 0.9891 - val_loss: 0.1450 - val_accuracy: 0.9736\n",
            "Epoch 24/25\n",
            "226/226 [==============================] - 97s 431ms/step - loss: 0.0556 - accuracy: 0.9933 - val_loss: 0.1899 - val_accuracy: 0.9629\n",
            "Epoch 25/25\n",
            "226/226 [==============================] - 99s 437ms/step - loss: 0.0814 - accuracy: 0.9890 - val_loss: 0.1794 - val_accuracy: 0.9696\n",
            "2557.701592206955\n"
          ]
        }
      ],
      "source": [
        "start = time.time()\n",
        "\n",
        "\n",
        "r=model.fit(training_set,\n",
        "                        validation_data=validation_set,\n",
        "                          steps_per_epoch=len(training_set),\n",
        "                            epochs=25,\n",
        "                            validation_steps=len(validation_set)\n",
        "             \n",
        "            )\n",
        "\n",
        "end = time.time()\n",
        "elapsed = end - start\n",
        "print( elapsed)"
      ]
    },
    {
      "cell_type": "code",
      "execution_count": null,
      "metadata": {
        "colab": {
          "base_uri": "https://localhost:8080/",
          "height": 573
        },
        "id": "UieBNoexlx8J",
        "outputId": "39f3a8a0-6e62-4a60-fb04-59df5b338008"
      },
      "outputs": [
        {
          "data": {
            "image/png": "[encoded data removed]",
            "text/plain": [
              "<Figure size 432x288 with 1 Axes>"
            ]
          },
          "metadata": {},
          "output_type": "display_data"
        },
        {
          "data": {
            "image/png": "[encoded data removed]",
            "text/plain": [
              "<Figure size 432x288 with 1 Axes>"
            ]
          },
          "metadata": {},
          "output_type": "display_data"
        }
      ],
      "source": [
        "# plot the loss\n",
        "import matplotlib.pyplot as plt\n",
        "plt.plot(r.history['loss'], label='train loss')\n",
        "plt.plot(r.history['val_loss'], label='val loss')\n",
        "plt.legend()\n",
        "\n",
        "plt.ylabel('Loss')\n",
        "plt.xlabel('Epoch')\n",
        "plt.title('2D-CNN Loss Curve for 5 Class')\n",
        "   \n",
        "plt.savefig('5_LossVal_loss_CNN.png')\n",
        "plt.show()   \n",
        "\n",
        "# plot the accuracy\n",
        "plt.plot(r.history['accuracy'], label='train acc')\n",
        "plt.plot(r.history['val_accuracy'], label='val acc')\n",
        "plt.legend()\n",
        "\n",
        "plt.ylabel('Accuracy')\n",
        "plt.xlabel('Epoch')\n",
        "plt.title('2D-CNN Accuracy Curve for 5 Class')\n",
        "plt.savefig('5_AccVal_acc_CNN.png')\n",
        "plt.show()  \n"
      ]
    },
    {
      "cell_type": "code",
      "execution_count": null,
      "metadata": {
        "colab": {
          "base_uri": "https://localhost:8080/"
        },
        "id": "tZZEshrql-zK",
        "outputId": "12e56d7d-5c66-4533-b656-711f24d4c947"
      },
      "outputs": [
        {
          "name": "stdout",
          "output_type": "stream",
          "text": [
            "47/47 [==============================] - 16s 340ms/step\n",
            "Total Testing  Time: 16.398598670959473\n"
          ]
        }
      ],
      "source": [
        "start=time.time()\n",
        "final = model.predict(validation_set)\n",
        "end = time.time()\n",
        "elapsed = end - start\n",
        "print(\"Total Testing  Time:\", elapsed)"
      ]
    },
    {
      "cell_type": "code",
      "execution_count": null,
      "metadata": {
        "colab": {
          "base_uri": "https://localhost:8080/"
        },
        "id": "V9_1our3l-1f",
        "outputId": "f1f13fcc-fd2e-49bc-cec3-384ed57fa62c"
      },
      "outputs": [
        {
          "name": "stderr",
          "output_type": "stream",
          "text": [
            "/usr/local/lib/python3.7/dist-packages/ipykernel_launcher.py:5: UserWarning: `Model.predict_generator` is deprecated and will be removed in a future version. Please use `Model.predict`, which supports generators.\n",
            "  \"\"\"\n"
          ]
        },
        {
          "name": "stdout",
          "output_type": "stream",
          "text": [
            "['Bacterial Pneumonia', 'COVID', 'Fibrosis', 'Normal', 'Tuberculosis']\n",
            "[[501   1   3   1   0]\n",
            " [  0 694   5  12  13]\n",
            " [  0   1 335   1   1]\n",
            " [  1  33   6 676   8]\n",
            " [  0   3   0   2 695]]\n",
            "                     precision    recall  f1-score   support\n",
            "\n",
            "Bacterial Pneumonia       1.00      0.99      0.99       506\n",
            "              COVID       0.95      0.96      0.95       724\n",
            "           Fibrosis       0.96      0.99      0.98       338\n",
            "             Normal       0.98      0.93      0.95       724\n",
            "       Tuberculosis       0.97      0.99      0.98       700\n",
            "\n",
            "           accuracy                           0.97      2992\n",
            "          macro avg       0.97      0.97      0.97      2992\n",
            "       weighted avg       0.97      0.97      0.97      2992\n",
            "\n"
          ]
        }
      ],
      "source": [
        "import numpy as np\n",
        "from sklearn.metrics import confusion_matrix,classification_report\n",
        "batch_size = 64\n",
        "num_of_test_samples = 2992\n",
        "predictions = model.predict_generator(validation_set,  num_of_test_samples // batch_size+1)\n",
        "\n",
        "y_pred = np.argmax(predictions, axis=1)\n",
        "\n",
        "\n",
        "true_classes = validation_set.classes\n",
        "\n",
        "class_labels = list(validation_set.class_indices.keys())   \n",
        "\n",
        "print(class_labels)\n",
        "\n",
        "print(confusion_matrix(validation_set.classes, y_pred))\n",
        "\n",
        "report = classification_report(true_classes, y_pred, target_names=class_labels)\n",
        "print(report)"
      ]
    },
    {
      "cell_type": "code",
      "execution_count": null,
      "metadata": {
        "id": "DdRTXiRwmEON",
        "colab": {
          "base_uri": "https://localhost:8080/",
          "height": 455
        },
        "outputId": "89f26a3b-e240-444e-ad03-409fdf26b256"
      },
      "outputs": [
        {
          "output_type": "display_data",
          "data": {
            "text/plain": [
              "<Figure size 576x432 with 2 Axes>"
            ],
            "image/png": "[encoded data removed]"
          },
          "metadata": {
            "needs_background": "light"
          }
        }
      ],
      "source": [
        "import numpy as np\n",
        "\n",
        "\n",
        "def plot_confusion_matrix(cm,\n",
        "                          target_names,\n",
        "                          title='Confusion matrix',\n",
        "                          cmap=None,\n",
        "                          normalize=True):\n",
        "    \n",
        "    import matplotlib.pyplot as plt\n",
        "    import numpy as np\n",
        "    import itertools\n",
        "\n",
        "    accuracy = np.trace(cm) / float(np.sum(cm))\n",
        "    misclass = 1 - accuracy\n",
        "\n",
        "    if cmap is None:\n",
        "        cmap = plt.get_cmap('Blues')\n",
        "\n",
        "    plt.figure(figsize=(8, 6))\n",
        "    plt.imshow(cm, interpolation='nearest', cmap=cmap)\n",
        "    plt.title(title)\n",
        "    plt.colorbar()\n",
        "\n",
        "    if target_names is not None:\n",
        "        tick_marks = np.arange(len(target_names))\n",
        "        plt.xticks(tick_marks, target_names, rotation=45)\n",
        "        plt.yticks(tick_marks, target_names)\n",
        "\n",
        "    if normalize:\n",
        "        cm = cm.astype('float') / cm.sum(axis=1)[:, np.newaxis]\n",
        "\n",
        "\n",
        "    thresh = cm.max() / 1.5 if normalize else cm.max() / 2\n",
        "    for i, j in itertools.product(range(cm.shape[0]), range(cm.shape[1])):\n",
        "        if normalize:\n",
        "            plt.text(j, i, \"{:0.4f}\".format(cm[i, j]),\n",
        "                     horizontalalignment=\"center\",\n",
        "                     color=\"white\" if cm[i, j] > thresh else \"black\")\n",
        "        else:\n",
        "            plt.text(j, i, \"{:,}\".format(cm[i, j]),\n",
        "                     horizontalalignment=\"center\",\n",
        "                     color=\"white\" if cm[i, j] > thresh else \"black\")\n",
        "\n",
        "\n",
        "    plt.tight_layout()\n",
        "    plt.ylabel('True label')\n",
        "    plt.xlabel('Predicted label')\n",
        "    plt.savefig('5 classes_Confusion_Matrix_2D_CNN.png')\n",
        "    plt.show()\n",
        "\n",
        "plot_confusion_matrix(cm = np.array ([[501 ,  1,   3 ,  1 ,  0],\n",
        " [  0, 694 ,  5,  12 , 13],\n",
        " [  0  , 1, 335,   1 ,  1],\n",
        " [  1 , 33,   6, 676  , 8],\n",
        " [  0 ,  3 ,  0 ,  2, 695]]),\n",
        "                      normalize    = False,\n",
        "                      target_names = ['Bacterial Pneumonia', 'COVID', 'Fibrosis', 'Normal', 'Tuberculosis'],\n",
        "                      title = \"Confusion Matrix for 5 Classes\")\n",
        "                      \n"
      ]
    },
    {
      "cell_type": "code",
      "execution_count": null,
      "metadata": {
        "id": "Y0RGHJqdmEQ6"
      },
      "outputs": [],
      "source": [
        "import math\n",
        "number_of_examples = len(validation_set.filenames)\n",
        "number_of_generator_calls = math.ceil(number_of_examples / (1.0 * 64)) \n",
        "# 1.0 above is to skip integer division\n",
        "\n",
        "test_labels = []\n",
        "test_images = []\n",
        "for i in range(0,int(number_of_generator_calls)):\n",
        "    test_labels.extend(np.array(validation_set[i][1]))\n",
        "\n",
        "for i in range(0,int(number_of_generator_calls)):\n",
        "    test_images.extend(np.array(validation_set[i][0]))"
      ]
    },
    {
      "cell_type": "code",
      "execution_count": null,
      "metadata": {
        "id": "eBGR027vmETC"
      },
      "outputs": [],
      "source": [
        "new_labels = []\n",
        "for i in range(0,2992):\n",
        "  new_labels.append(np.argmax(predictions[i]))"
      ]
    },
    {
      "cell_type": "code",
      "execution_count": null,
      "metadata": {
        "id": "cKscQnRimEVV"
      },
      "outputs": [],
      "source": [
        "newtest_labels = []\n",
        "for i in range(0,2992):\n",
        "  newtest_labels.append(np.argmax(test_labels[i]))"
      ]
    },
    {
      "cell_type": "code",
      "execution_count": null,
      "metadata": {
        "colab": {
          "base_uri": "https://localhost:8080/",
          "height": 426
        },
        "id": "PynCub-xmEYv",
        "outputId": "7622e841-5410-4478-f1fb-3894eec350f5"
      },
      "outputs": [
        {
          "name": "stdout",
          "output_type": "stream",
          "text": [
            "Test Score =  0.17938297986984253\n",
            "Test Accuracy =  0.9695855379104614\n",
            "Accuracy score: 0.9695855614973262\n"
          ]
        },
        {
          "name": "stderr",
          "output_type": "stream",
          "text": [
            "/usr/local/lib/python3.7/dist-packages/ipykernel_launcher.py:17: UserWarning: `Model.predict_generator` is deprecated and will be removed in a future version. Please use `Model.predict`, which supports generators.\n"
          ]
        },
        {
          "name": "stdout",
          "output_type": "stream",
          "text": [
            "AUC: 0.9978743491293972\n"
          ]
        },
        {
          "name": "stderr",
          "output_type": "stream",
          "text": [
            "/usr/local/lib/python3.7/dist-packages/ipykernel_launcher.py:43: DeprecationWarning: scipy.interp is deprecated and will be removed in SciPy 2.0.0, use numpy.interp instead\n"
          ]
        },
        {
          "data": {
            "image/png": "[encoded data removed]",
            "text/plain": [
              "<Figure size 432x288 with 1 Axes>"
            ]
          },
          "metadata": {},
          "output_type": "display_data"
        }
      ],
      "source": [
        "from sklearn import metrics\n",
        "import matplotlib.pyplot as plt\n",
        "from itertools import cycle\n",
        "from scipy import interp\n",
        "noofClasses = 5\n",
        "\n",
        "score = model.evaluate(validation_set, verbose=0)\n",
        "print('Test Score = ', score[0])\n",
        "print('Test Accuracy = ', score[1])\n",
        "from sklearn.metrics import confusion_matrix, classification_report, roc_auc_score, roc_curve, auc\n",
        "\n",
        "\n",
        "# Get the confusion matrix\n",
        "\n",
        "score = metrics.accuracy_score(y_true=newtest_labels, y_pred=new_labels)\n",
        "print(\"Accuracy score: {}\".format(score))\n",
        "pred_prob =model.predict_generator(validation_set,  num_of_test_samples // batch_size+1)\n",
        "\n",
        "c = roc_auc_score(newtest_labels, pred_prob, multi_class='ovo')\n",
        "print(\"AUC:\", c)\n",
        "# Compute ROC curve and ROC area for each class\n",
        "fpr = {}\n",
        "tpr = {}\n",
        "roc_auc = {}\n",
        "thresh = {}\n",
        "lw = 2\n",
        "precision = {}\n",
        "recall = {}\n",
        "for i in range(noofClasses):\n",
        "    fpr[i], tpr[i], thresh[i] = roc_curve(newtest_labels, pred_prob[:, i], pos_label=i)\n",
        "    precision[i], recall[i], _ = roc_curve(newtest_labels, pred_prob[:, i], pos_label=i)\n",
        "    roc_auc[i] = auc(fpr[i], tpr[i])\n",
        "  \n",
        "\n",
        "n_classes = 5\n",
        "\n",
        "# First aggregate all false positive rates\n",
        "all_fpr = np.unique(np.concatenate([fpr[i] for i in range(n_classes)]))\n",
        "\n",
        "# Then interpolate all ROC curves at this points\n",
        "mean_tpr = np.zeros_like(all_fpr)\n",
        "for i in range(n_classes):\n",
        "    mean_tpr += interp(all_fpr, fpr[i], tpr[i])\n",
        "\n",
        "# Finally average it and compute AUC\n",
        "mean_tpr /= n_classes\n",
        "\n",
        "fpr[\"macro\"] = all_fpr\n",
        "tpr[\"macro\"] = mean_tpr\n",
        "roc_auc[\"macro\"] = auc(fpr[\"macro\"], tpr[\"macro\"])\n",
        "\n",
        "# Plot all ROC curves\n",
        "plt.figure()\n",
        "\n",
        "colors = cycle(['green', 'darkorange', 'yellow','red','blue'])\n",
        "for i, color in zip(range(n_classes), colors):\n",
        "    plt.plot(fpr[i], tpr[i], color=color, lw=lw, label='ROC curve of class {0} (AUC = {1:0.4f})'\n",
        "                                                       ''.format(i, roc_auc[i]))\n",
        "\n",
        "plt.plot([0, 1], [0, 1], 'k--', lw=lw)\n",
        "plt.xlim([0.0, 1.0])\n",
        "plt.ylim([0.0, 1.05])\n",
        "plt.xlabel('False Positive Rate')\n",
        "plt.ylabel('True Positive Rate')\n",
        "plt.title('Receiver Operating Characteristic Curve for 5 Classes')\n",
        "plt.legend(loc=\"lower right\")\n",
        "plt.savefig(\"5 classes_2D-CNN_roc.png\")\n",
        "plt.show()\n"
      ]
    },
    {
      "cell_type": "code",
      "execution_count": null,
      "metadata": {
        "id": "Oqp6zWRel-4e"
      },
      "outputs": [],
      "source": []
    },
    {
      "cell_type": "code",
      "execution_count": null,
      "metadata": {
        "id": "4puoGvPSnh-Z"
      },
      "outputs": [],
      "source": []
    },
    {
      "cell_type": "code",
      "execution_count": null,
      "metadata": {
        "id": "C87C_UVNniHq"
      },
      "outputs": [],
      "source": [
        "# 4 Class"
      ]
    },
    {
      "cell_type": "code",
      "execution_count": null,
      "metadata": {
        "id": "HfUwtRDNniJe"
      },
      "outputs": [],
      "source": []
    },
    {
      "cell_type": "code",
      "execution_count": null,
      "metadata": {
        "colab": {
          "base_uri": "https://localhost:8080/"
        },
        "id": "zFsrdGFknrCM",
        "outputId": "280ee456-e142-436c-dd65-27ed453f0646"
      },
      "outputs": [
        {
          "output_type": "stream",
          "name": "stdout",
          "text": [
            "Model: \"sequential_4\"\n",
            "_________________________________________________________________\n",
            " Layer (type)                Output Shape              Param #   \n",
            "=================================================================\n",
            " conv2d_12 (Conv2D)          (None, 299, 299, 32)      896       \n",
            "                                                                 \n",
            " max_pooling2d_12 (MaxPoolin  (None, 100, 100, 32)     0         \n",
            " g2D)                                                            \n",
            "                                                                 \n",
            " conv2d_13 (Conv2D)          (None, 100, 100, 64)      18496     \n",
            "                                                                 \n",
            " max_pooling2d_13 (MaxPoolin  (None, 34, 34, 64)       0         \n",
            " g2D)                                                            \n",
            "                                                                 \n",
            " conv2d_14 (Conv2D)          (None, 34, 34, 128)       73856     \n",
            "                                                                 \n",
            " max_pooling2d_14 (MaxPoolin  (None, 12, 12, 128)      0         \n",
            " g2D)                                                            \n",
            "                                                                 \n",
            " flatten_4 (Flatten)         (None, 18432)             0         \n",
            "                                                                 \n",
            " dense_16 (Dense)            (None, 512)               9437696   \n",
            "                                                                 \n",
            " dropout_12 (Dropout)        (None, 512)               0         \n",
            "                                                                 \n",
            " dense_17 (Dense)            (None, 256)               131328    \n",
            "                                                                 \n",
            " dropout_13 (Dropout)        (None, 256)               0         \n",
            "                                                                 \n",
            " dense_18 (Dense)            (None, 128)               32896     \n",
            "                                                                 \n",
            " dropout_14 (Dropout)        (None, 128)               0         \n",
            "                                                                 \n",
            " dense_19 (Dense)            (None, 4)                 516       \n",
            "                                                                 \n",
            "=================================================================\n",
            "Total params: 9,695,684\n",
            "Trainable params: 9,695,684\n",
            "Non-trainable params: 0\n",
            "_________________________________________________________________\n"
          ]
        }
      ],
      "source": [
        "from keras.models import Sequential\n",
        "\n",
        "import keras\n",
        "from keras.layers import Conv2D, MaxPool2D, Flatten, Dense, InputLayer, BatchNormalization, Dropout\n",
        "from keras.utils import np_utils\n",
        "\n",
        "from keras.callbacks import LearningRateScheduler, ModelCheckpoint\n",
        "from keras.preprocessing.image import ImageDataGenerator\n",
        "from keras.regularizers import l2\n",
        "import tensorflow as tf\n",
        "\n",
        "# build a sequential model\n",
        "model = Sequential()\n",
        "model.add(InputLayer(input_shape=(299, 299, 3)))\n",
        "\n",
        "# 1st conv block\n",
        "#model.add(Conv2D(16, (3, 3), activation='relu', strides=(1, 1), padding='same'))\n",
        "#model.add(MaxPool2D(pool_size=(3, 3), padding='same'))\n",
        "# 2nd conv block\n",
        "model.add(Conv2D(32, (3, 3), activation='relu', strides=(1, 1), padding='same'))\n",
        "model.add(MaxPool2D(pool_size=(3, 3), padding='same'))\n",
        "\n",
        "\n",
        "# 3rd conv block\n",
        "model.add(Conv2D(64, (3, 3), activation='relu', strides=(1, 1), padding='same'))\n",
        "model.add(MaxPool2D(pool_size=(3, 3), padding='same'))\n",
        "\n",
        "#model.add(Dropout(0.5))\n",
        "\n",
        "model.add(Conv2D(128, (3, 3), activation='relu', strides=(1, 1), padding='same')) #,kernel_regularizer=l2(0.01)))\n",
        "model.add(MaxPool2D(pool_size=(3, 3), padding='same'))\n",
        "#model.add(BatchNormalization())\n",
        "#model.add(Dropout(0.1))\n",
        "# 4rd conv block\n",
        "#model.add(Conv2D(256, (3, 3), activation='relu', strides=(1, 1), padding='same'))#,kernel_regularizer=l2(0.01)))\n",
        "#model.add(MaxPool2D(pool_size=(3, 3), padding='same'))\n",
        "#model.add(BatchNormalization())\n",
        "#model.add(Dropout(0.3))\n",
        "\n",
        "# 5th conv block\n",
        "#model.add(Conv2D(512, (3, 3), activation='relu', strides=(1, 1), padding='same',name='conv_last_layer'))\n",
        "#model.add(MaxPool2D(pool_size=(3, 3), padding='same'))\n",
        "#model.add(BatchNormalization())\n",
        "#model.add(Dropout(0.5))\n",
        "\n",
        "# ANN block\n",
        "model.add(Flatten())\n",
        "#model.add(Dense(units=1024, activation='relu'))\n",
        "\n",
        "#model.add(Dropout(0.3))\n",
        "model.add(Dense(units=512, activation='relu'))\n",
        "\n",
        "model.add(Dropout(0.3))\n",
        "\n",
        "model.add(Dense(units=256, activation='relu',kernel_regularizer=l2(0.01)))\n",
        "\n",
        "model.add(Dropout(0.5))\n",
        "model.add(Dense(units=128, activation='relu'))\n",
        "model.add(Dropout(0.4))\n",
        "# output layer\n",
        "model.add(Dense(units=4,  kernel_regularizer=tf.keras.regularizers.l2(0.01),activation='softmax'))\n",
        "\n",
        "# compile model\n",
        "\n",
        "model.compile(optimizer=\"adam\",\n",
        "              loss='categorical_crossentropy',\n",
        "              metrics = ['accuracy'])\n",
        "#model.compile(loss='categorical_crossentropy', optimizer=\"adam\", metrics=['accuracy'])\n",
        "# fit on data for 30 epochs\n",
        "#model.fit_generator(train, epochs=30, validation_data=val)\n",
        "\n",
        "model.summary()"
      ]
    },
    {
      "cell_type": "code",
      "execution_count": null,
      "metadata": {
        "colab": {
          "base_uri": "https://localhost:8080/"
        },
        "id": "b6ZMv7o0niaU",
        "outputId": "21b51d76-e265-456d-e986-9a79050eea8d"
      },
      "outputs": [
        {
          "output_type": "stream",
          "name": "stdout",
          "text": [
            "Found 11568 images belonging to 4 classes.\n",
            "Found 2654 images belonging to 4 classes.\n"
          ]
        }
      ],
      "source": [
        "from keras.preprocessing.image import ImageDataGenerator\n",
        "\n",
        "train_datagen = ImageDataGenerator(rescale = 1./255 \n",
        "                              #horizontal_flip=False, \n",
        "                              #vertical_flip=False,\n",
        "                              #featurewise_center=True,\n",
        "                     #featurewise_std_normalization=True,\n",
        "                     #rotation_range=20,\n",
        "                     #width_shift_range=0.01,\n",
        "                     #height_shift_range=0.01,\n",
        "                     #zoom_range=0.2\n",
        "                            #featurewise_std_normalization=True\n",
        "                                  )\n",
        "                                  \n",
        "\n",
        "\n",
        "val_datagen = ImageDataGenerator(rescale = 1./255)\n",
        "\n",
        "training_set = train_datagen.flow_from_directory('/content/output/train',\n",
        "                                                 target_size = (299, 299),\n",
        "                                                 batch_size = 64,\n",
        "                                                 class_mode = 'categorical',\n",
        "                                                 shuffle=True\n",
        "                                                 )\n",
        "validation_set = val_datagen.flow_from_directory('/content/output/val',\n",
        "                                            target_size = (299, 299),\n",
        "                                            batch_size = 64,\n",
        "                                            class_mode = 'categorical',\n",
        "                                            shuffle=True) "
      ]
    },
    {
      "cell_type": "code",
      "execution_count": null,
      "metadata": {
        "colab": {
          "base_uri": "https://localhost:8080/"
        },
        "id": "deuQVA0JosyQ",
        "outputId": "6ad1cff4-2eb9-4e95-8aa3-615af0ce8401"
      },
      "outputs": [
        {
          "output_type": "stream",
          "name": "stdout",
          "text": [
            "Epoch 1/25\n",
            "181/181 [==============================] - 82s 452ms/step - loss: 1.4566 - accuracy: 0.7398 - val_loss: 0.5024 - val_accuracy: 0.8960\n",
            "Epoch 2/25\n",
            "181/181 [==============================] - 81s 447ms/step - loss: 0.4175 - accuracy: 0.9046 - val_loss: 0.3650 - val_accuracy: 0.9069\n",
            "Epoch 3/25\n",
            "181/181 [==============================] - 81s 449ms/step - loss: 0.2667 - accuracy: 0.9411 - val_loss: 0.2724 - val_accuracy: 0.9356\n",
            "Epoch 4/25\n",
            "181/181 [==============================] - 83s 460ms/step - loss: 0.2027 - accuracy: 0.9574 - val_loss: 0.1721 - val_accuracy: 0.9635\n",
            "Epoch 5/25\n",
            "181/181 [==============================] - 81s 447ms/step - loss: 0.1674 - accuracy: 0.9676 - val_loss: 0.1641 - val_accuracy: 0.9653\n",
            "Epoch 6/25\n",
            "181/181 [==============================] - 81s 447ms/step - loss: 0.1309 - accuracy: 0.9761 - val_loss: 0.1416 - val_accuracy: 0.9702\n",
            "Epoch 7/25\n",
            "181/181 [==============================] - 81s 448ms/step - loss: 0.1169 - accuracy: 0.9806 - val_loss: 0.1395 - val_accuracy: 0.9717\n",
            "Epoch 8/25\n",
            "181/181 [==============================] - 82s 451ms/step - loss: 0.1069 - accuracy: 0.9831 - val_loss: 0.1304 - val_accuracy: 0.9755\n",
            "Epoch 9/25\n",
            "181/181 [==============================] - 82s 453ms/step - loss: 0.0910 - accuracy: 0.9866 - val_loss: 0.1235 - val_accuracy: 0.9710\n",
            "Epoch 10/25\n",
            "181/181 [==============================] - 84s 466ms/step - loss: 0.0769 - accuracy: 0.9887 - val_loss: 0.1428 - val_accuracy: 0.9672\n",
            "Epoch 11/25\n",
            "181/181 [==============================] - 82s 454ms/step - loss: 0.0712 - accuracy: 0.9901 - val_loss: 0.1286 - val_accuracy: 0.9736\n",
            "Epoch 12/25\n",
            "181/181 [==============================] - 82s 455ms/step - loss: 0.0696 - accuracy: 0.9904 - val_loss: 0.1412 - val_accuracy: 0.9729\n",
            "Epoch 13/25\n",
            "181/181 [==============================] - 82s 455ms/step - loss: 0.0960 - accuracy: 0.9854 - val_loss: 0.1453 - val_accuracy: 0.9680\n",
            "Epoch 14/25\n",
            "181/181 [==============================] - 82s 455ms/step - loss: 0.0675 - accuracy: 0.9928 - val_loss: 0.1378 - val_accuracy: 0.9751\n",
            "Epoch 15/25\n",
            "181/181 [==============================] - 82s 453ms/step - loss: 0.0576 - accuracy: 0.9938 - val_loss: 0.1247 - val_accuracy: 0.9785\n",
            "Epoch 16/25\n",
            "181/181 [==============================] - 84s 466ms/step - loss: 0.0653 - accuracy: 0.9919 - val_loss: 0.1639 - val_accuracy: 0.9714\n",
            "Epoch 17/25\n",
            "181/181 [==============================] - 82s 455ms/step - loss: 0.0936 - accuracy: 0.9850 - val_loss: 0.1645 - val_accuracy: 0.9691\n",
            "Epoch 18/25\n",
            "181/181 [==============================] - 82s 453ms/step - loss: 0.0596 - accuracy: 0.9952 - val_loss: 0.1390 - val_accuracy: 0.9710\n",
            "Epoch 19/25\n",
            "181/181 [==============================] - 82s 452ms/step - loss: 0.0515 - accuracy: 0.9956 - val_loss: 0.1459 - val_accuracy: 0.9744\n",
            "Epoch 20/25\n",
            "181/181 [==============================] - 82s 453ms/step - loss: 0.0489 - accuracy: 0.9956 - val_loss: 0.1462 - val_accuracy: 0.9699\n",
            "Epoch 21/25\n",
            "181/181 [==============================] - 83s 460ms/step - loss: 0.0539 - accuracy: 0.9967 - val_loss: 0.1301 - val_accuracy: 0.9789\n",
            "Epoch 22/25\n",
            "181/181 [==============================] - 82s 452ms/step - loss: 0.0509 - accuracy: 0.9952 - val_loss: 0.1499 - val_accuracy: 0.9736\n",
            "Epoch 23/25\n",
            "181/181 [==============================] - 82s 453ms/step - loss: 0.0448 - accuracy: 0.9969 - val_loss: 0.1367 - val_accuracy: 0.9732\n",
            "Epoch 24/25\n",
            "181/181 [==============================] - 82s 452ms/step - loss: 0.0489 - accuracy: 0.9955 - val_loss: 0.1208 - val_accuracy: 0.9793\n",
            "Epoch 25/25\n",
            "181/181 [==============================] - 81s 447ms/step - loss: 0.0405 - accuracy: 0.9965 - val_loss: 0.1097 - val_accuracy: 0.9781\n",
            "2055.755858898163\n"
          ]
        }
      ],
      "source": [
        "start = time.time()\n",
        "\n",
        "\n",
        "r=model.fit(training_set,\n",
        "                        validation_data=validation_set,\n",
        "                          steps_per_epoch=len(training_set),\n",
        "                            epochs=25,\n",
        "                            validation_steps=len(validation_set)\n",
        "             \n",
        "            )\n",
        "\n",
        "end = time.time()\n",
        "elapsed = end - start\n",
        "print( elapsed)"
      ]
    },
    {
      "cell_type": "code",
      "execution_count": null,
      "metadata": {
        "colab": {
          "base_uri": "https://localhost:8080/",
          "height": 573
        },
        "outputId": "7798f1c3-6f9c-4b7c-e005-b38a5706859b",
        "id": "_t9b_-6zOwIu"
      },
      "outputs": [
        {
          "output_type": "display_data",
          "data": {
            "text/plain": [
              "<Figure size 432x288 with 1 Axes>"
            ],
            "image/png": "[encoded data removed]"
          },
          "metadata": {
            "needs_background": "light"
          }
        },
        {
          "output_type": "display_data",
          "data": {
            "text/plain": [
              "<Figure size 432x288 with 1 Axes>"
            ],
            "image/png": "[encoded data removed]"
          },
          "metadata": {
            "needs_background": "light"
          }
        }
      ],
      "source": [
        "# plot the loss\n",
        "import matplotlib.pyplot as plt\n",
        "plt.plot(r.history['loss'], label='train loss')\n",
        "plt.plot(r.history['val_loss'], label='val loss')\n",
        "plt.legend()\n",
        "\n",
        "plt.ylabel('Loss')\n",
        "plt.xlabel('Epoch')\n",
        "plt.title('2D-CNN Loss Curve for 4 Class')\n",
        "   \n",
        "plt.savefig('4_LossVal_loss_CNN_final.png')\n",
        "plt.show()   \n",
        "\n",
        "# plot the accuracy\n",
        "plt.plot(r.history['accuracy'], label='train acc')\n",
        "plt.plot(r.history['val_accuracy'], label='val acc')\n",
        "plt.legend()\n",
        "\n",
        "plt.ylabel('Accuracy')\n",
        "plt.xlabel('Epoch')\n",
        "plt.title('2D-CNN Accuracy Curve for 4 Class')\n",
        "   \n",
        "plt.savefig('4_AccVal_acc_CNN_final.png')\n",
        "plt.show() "
      ]
    },
    {
      "cell_type": "code",
      "execution_count": null,
      "metadata": {
        "colab": {
          "base_uri": "https://localhost:8080/"
        },
        "id": "ShIpIpy4sOex",
        "outputId": "6a14398c-a757-481f-9d4f-a68346359290"
      },
      "outputs": [
        {
          "output_type": "stream",
          "name": "stdout",
          "text": [
            "42/42 [==============================] - 14s 328ms/step\n",
            "Total Testing  Time: 14.298263788223267\n"
          ]
        }
      ],
      "source": [
        "start=time.time()\n",
        "final = model.predict(validation_set)\n",
        "end = time.time()\n",
        "elapsed = end - start\n",
        "print(\"Total Testing  Time:\", elapsed)"
      ]
    },
    {
      "cell_type": "code",
      "execution_count": null,
      "metadata": {
        "colab": {
          "base_uri": "https://localhost:8080/"
        },
        "id": "z2dDzIbvsOiU",
        "outputId": "3dba3517-571f-4a34-a0c1-5b8dc6423a10"
      },
      "outputs": [
        {
          "output_type": "stream",
          "name": "stderr",
          "text": [
            "/usr/local/lib/python3.7/dist-packages/ipykernel_launcher.py:5: UserWarning: `Model.predict_generator` is deprecated and will be removed in a future version. Please use `Model.predict`, which supports generators.\n",
            "  \"\"\"\n"
          ]
        },
        {
          "output_type": "stream",
          "name": "stdout",
          "text": [
            "['Bacterial Pneumonia', 'COVID', 'Normal', 'Tuberculosis']\n",
            "[[506   0   0   0]\n",
            " [  2 690  19  13]\n",
            " [  1  13 707   3]\n",
            " [  0   3   4 693]]\n",
            "                     precision    recall  f1-score   support\n",
            "\n",
            "Bacterial Pneumonia       0.99      1.00      1.00       506\n",
            "              COVID       0.98      0.95      0.97       724\n",
            "             Normal       0.97      0.98      0.97       724\n",
            "       Tuberculosis       0.98      0.99      0.98       700\n",
            "\n",
            "           accuracy                           0.98      2654\n",
            "          macro avg       0.98      0.98      0.98      2654\n",
            "       weighted avg       0.98      0.98      0.98      2654\n",
            "\n"
          ]
        }
      ],
      "source": [
        "import numpy as np\n",
        "from sklearn.metrics import confusion_matrix,classification_report\n",
        "batch_size = 64\n",
        "num_of_test_samples = 2654\n",
        "predictions = model.predict_generator(validation_set,  num_of_test_samples // batch_size+1)\n",
        "\n",
        "y_pred = np.argmax(predictions, axis=1)\n",
        "\n",
        "\n",
        "true_classes = validation_set.classes\n",
        "\n",
        "class_labels = list(validation_set.class_indices.keys())   \n",
        "\n",
        "print(class_labels)\n",
        "\n",
        "print(confusion_matrix(validation_set.classes, y_pred))\n",
        "\n",
        "report = classification_report(true_classes, y_pred, target_names=class_labels)\n",
        "print(report)"
      ]
    },
    {
      "cell_type": "code",
      "source": [],
      "metadata": {
        "id": "f2lUkMCrw5Qn"
      },
      "execution_count": null,
      "outputs": []
    },
    {
      "cell_type": "code",
      "execution_count": null,
      "metadata": {
        "colab": {
          "base_uri": "https://localhost:8080/",
          "height": 455
        },
        "outputId": "a6096b71-74fb-425a-f3c5-3d2a0a93d3d0",
        "id": "WaaI0xpKw6EJ"
      },
      "outputs": [
        {
          "output_type": "display_data",
          "data": {
            "text/plain": [
              "<Figure size 576x432 with 2 Axes>"
            ],
            "image/png": "[encoded data removed]"
          },
          "metadata": {
            "needs_background": "light"
          }
        }
      ],
      "source": [
        "import numpy as np\n",
        "\n",
        "\n",
        "def plot_confusion_matrix(cm,\n",
        "                          target_names,\n",
        "                          title='Confusion matrix',\n",
        "                          cmap=None,\n",
        "                          normalize=True):\n",
        "    \n",
        "    import matplotlib.pyplot as plt\n",
        "    import numpy as np\n",
        "    import itertools\n",
        "\n",
        "    accuracy = np.trace(cm) / float(np.sum(cm))\n",
        "    misclass = 1 - accuracy\n",
        "\n",
        "    if cmap is None:\n",
        "        cmap = plt.get_cmap('Blues')\n",
        "\n",
        "    plt.figure(figsize=(8, 6))\n",
        "    plt.imshow(cm, interpolation='nearest', cmap=cmap)\n",
        "    plt.title(title)\n",
        "    plt.colorbar()\n",
        "\n",
        "    if target_names is not None:\n",
        "        tick_marks = np.arange(len(target_names))\n",
        "        plt.xticks(tick_marks, target_names, rotation=45)\n",
        "        plt.yticks(tick_marks, target_names)\n",
        "\n",
        "    if normalize:\n",
        "        cm = cm.astype('float') / cm.sum(axis=1)[:, np.newaxis]\n",
        "\n",
        "\n",
        "    thresh = cm.max() / 1.5 if normalize else cm.max() / 2\n",
        "    for i, j in itertools.product(range(cm.shape[0]), range(cm.shape[1])):\n",
        "        if normalize:\n",
        "            plt.text(j, i, \"{:0.4f}\".format(cm[i, j]),\n",
        "                     horizontalalignment=\"center\",\n",
        "                     color=\"white\" if cm[i, j] > thresh else \"black\")\n",
        "        else:\n",
        "            plt.text(j, i, \"{:,}\".format(cm[i, j]),\n",
        "                     horizontalalignment=\"center\",\n",
        "                     color=\"white\" if cm[i, j] > thresh else \"black\")\n",
        "\n",
        "\n",
        "    plt.tight_layout()\n",
        "    plt.ylabel('True label')\n",
        "    plt.xlabel('Predicted label')\n",
        "    plt.savefig('4 classes_Confusion_Matrix_2D_CNN.png')\n",
        "    plt.show()\n",
        "\n",
        "plot_confusion_matrix(cm = np.array ([[506 ,  0 ,  0  , 0],\n",
        " [  2, 690,  19 , 13],\n",
        " [  1 , 13, 707,   3],\n",
        " [  0  , 3  , 4 ,693]]),\n",
        "                      normalize    = False,\n",
        "                      target_names = ['Bacterial Pneumonia', 'COVID', 'Normal', 'Tuberculosis'],\n",
        "                      title = \"Confusion Matrix for 4 Classes\")\n",
        "                      \n"
      ]
    },
    {
      "cell_type": "code",
      "execution_count": null,
      "metadata": {
        "id": "s3UK4HsmoxKp"
      },
      "outputs": [],
      "source": [
        "import math\n",
        "number_of_examples = len(validation_set.filenames)\n",
        "number_of_generator_calls = math.ceil(number_of_examples / (1.0 * 64)) \n",
        "# 1.0 above is to skip integer division\n",
        "\n",
        "test_labels = []\n",
        "test_images = []\n",
        "for i in range(0,int(number_of_generator_calls)):\n",
        "    test_labels.extend(np.array(validation_set[i][1]))\n",
        "\n",
        "for i in range(0,int(number_of_generator_calls)):\n",
        "    test_images.extend(np.array(validation_set[i][0]))"
      ]
    },
    {
      "cell_type": "code",
      "execution_count": null,
      "metadata": {
        "id": "BSLsEeh2oxNE"
      },
      "outputs": [],
      "source": [
        "new_labels = []\n",
        "for i in range(0,2654):\n",
        "  new_labels.append(np.argmax(predictions[i]))"
      ]
    },
    {
      "cell_type": "code",
      "execution_count": null,
      "metadata": {
        "id": "mZhvTeVNoxPk"
      },
      "outputs": [],
      "source": [
        "newtest_labels = []\n",
        "for i in range(0,2654):\n",
        "  newtest_labels.append(np.argmax(test_labels[i]))"
      ]
    },
    {
      "cell_type": "code",
      "source": [],
      "metadata": {
        "id": "FWTGVCp8Pf1P"
      },
      "execution_count": null,
      "outputs": []
    },
    {
      "cell_type": "code",
      "execution_count": null,
      "metadata": {
        "colab": {
          "base_uri": "https://localhost:8080/",
          "height": 426
        },
        "outputId": "eb7b8c0b-8356-4518-de1d-9fef6221ceab",
        "id": "_FPI5qdbPgOF"
      },
      "outputs": [
        {
          "output_type": "stream",
          "name": "stdout",
          "text": [
            "Test Score =  0.1096697449684143\n",
            "Test Accuracy =  0.9781461954116821\n",
            "Accuracy score: 0.9781461944235117\n"
          ]
        },
        {
          "output_type": "stream",
          "name": "stderr",
          "text": [
            "/usr/local/lib/python3.7/dist-packages/ipykernel_launcher.py:17: UserWarning: `Model.predict_generator` is deprecated and will be removed in a future version. Please use `Model.predict`, which supports generators.\n"
          ]
        },
        {
          "output_type": "stream",
          "name": "stdout",
          "text": [
            "AUC: 0.9988995529329064\n"
          ]
        },
        {
          "output_type": "stream",
          "name": "stderr",
          "text": [
            "/usr/local/lib/python3.7/dist-packages/ipykernel_launcher.py:43: DeprecationWarning: scipy.interp is deprecated and will be removed in SciPy 2.0.0, use numpy.interp instead\n"
          ]
        },
        {
          "output_type": "display_data",
          "data": {
            "text/plain": [
              "<Figure size 432x288 with 1 Axes>"
            ],
            "image/png": "[encoded data removed]"
          },
          "metadata": {
            "needs_background": "light"
          }
        }
      ],
      "source": [
        "from sklearn import metrics\n",
        "import matplotlib.pyplot as plt\n",
        "from itertools import cycle\n",
        "from scipy import interp\n",
        "noofClasses = 4\n",
        "\n",
        "score = model.evaluate(validation_set, verbose=0)\n",
        "print('Test Score = ', score[0])\n",
        "print('Test Accuracy = ', score[1])\n",
        "from sklearn.metrics import confusion_matrix, classification_report, roc_auc_score, roc_curve, auc\n",
        "\n",
        "\n",
        "# Get the confusion matrix\n",
        "\n",
        "score = metrics.accuracy_score(y_true=newtest_labels, y_pred=new_labels)\n",
        "print(\"Accuracy score: {}\".format(score))\n",
        "pred_prob =model.predict_generator(validation_set,  num_of_test_samples // batch_size+1)\n",
        "\n",
        "c = roc_auc_score(newtest_labels, pred_prob, multi_class='ovo')\n",
        "print(\"AUC:\", c)\n",
        "# Compute ROC curve and ROC area for each class\n",
        "fpr = {}\n",
        "tpr = {}\n",
        "roc_auc = {}\n",
        "thresh = {}\n",
        "lw = 2\n",
        "precision = {}\n",
        "recall = {}\n",
        "for i in range(noofClasses):\n",
        "    fpr[i], tpr[i], thresh[i] = roc_curve(newtest_labels, pred_prob[:, i], pos_label=i)\n",
        "    precision[i], recall[i], _ = roc_curve(newtest_labels, pred_prob[:, i], pos_label=i)\n",
        "    roc_auc[i] = auc(fpr[i], tpr[i])\n",
        "  \n",
        "\n",
        "n_classes = 4\n",
        "\n",
        "# First aggregate all false positive rates\n",
        "all_fpr = np.unique(np.concatenate([fpr[i] for i in range(n_classes)]))\n",
        "\n",
        "# Then interpolate all ROC curves at this points\n",
        "mean_tpr = np.zeros_like(all_fpr)\n",
        "for i in range(n_classes):\n",
        "    mean_tpr += interp(all_fpr, fpr[i], tpr[i])\n",
        "\n",
        "# Finally average it and compute AUC\n",
        "mean_tpr /= n_classes\n",
        "\n",
        "fpr[\"macro\"] = all_fpr\n",
        "tpr[\"macro\"] = mean_tpr\n",
        "roc_auc[\"macro\"] = auc(fpr[\"macro\"], tpr[\"macro\"])\n",
        "\n",
        "# Plot all ROC curves\n",
        "plt.figure()\n",
        "\n",
        "colors = cycle(['green', 'yellow','red','blue'])\n",
        "for i, color in zip(range(n_classes), colors):\n",
        "    plt.plot(fpr[i], tpr[i], color=color, lw=lw, label='ROC curve of class {0} (AUC = {1:0.4f})'\n",
        "                                                       ''.format(i, roc_auc[i]))\n",
        "\n",
        "plt.plot([0, 1], [0, 1], 'k--', lw=lw)\n",
        "plt.xlim([0.0, 1.0])\n",
        "plt.ylim([0.0, 1.05])\n",
        "plt.xlabel('False Positive Rate')\n",
        "plt.ylabel('True Positive Rate')\n",
        "plt.title('Receiver Operating Characteristic Curve for 4 Classes')\n",
        "plt.legend(loc=\"lower right\")\n",
        "plt.savefig(\"4 classes_2D-CNN_roc.png\")\n",
        "plt.show()\n"
      ]
    },
    {
      "cell_type": "code",
      "execution_count": null,
      "metadata": {
        "id": "COcri0j7oxWk"
      },
      "outputs": [],
      "source": [
        "model.save('4 class.h5')"
      ]
    },
    {
      "cell_type": "code",
      "execution_count": null,
      "metadata": {
        "id": "jntZiq50oxYn"
      },
      "outputs": [],
      "source": []
    },
    {
      "cell_type": "markdown",
      "source": [
        "3 Classes\n"
      ],
      "metadata": {
        "id": "fGTV5dgkRGGL"
      }
    },
    {
      "cell_type": "code",
      "source": [],
      "metadata": {
        "id": "2od6ifRuRNpS"
      },
      "execution_count": null,
      "outputs": []
    },
    {
      "cell_type": "code",
      "execution_count": null,
      "metadata": {
        "colab": {
          "base_uri": "https://localhost:8080/"
        },
        "id": "PtGcLezfGLf_",
        "outputId": "d7a40b6b-a938-4ff9-b4f0-40ae054f7213"
      },
      "outputs": [
        {
          "output_type": "stream",
          "name": "stdout",
          "text": [
            "Model: \"sequential_2\"\n",
            "_________________________________________________________________\n",
            " Layer (type)                Output Shape              Param #   \n",
            "=================================================================\n",
            " conv2d_6 (Conv2D)           (None, 299, 299, 32)      896       \n",
            "                                                                 \n",
            " max_pooling2d_6 (MaxPooling  (None, 100, 100, 32)     0         \n",
            " 2D)                                                             \n",
            "                                                                 \n",
            " conv2d_7 (Conv2D)           (None, 100, 100, 64)      18496     \n",
            "                                                                 \n",
            " max_pooling2d_7 (MaxPooling  (None, 34, 34, 64)       0         \n",
            " 2D)                                                             \n",
            "                                                                 \n",
            " conv2d_8 (Conv2D)           (None, 34, 34, 128)       73856     \n",
            "                                                                 \n",
            " max_pooling2d_8 (MaxPooling  (None, 12, 12, 128)      0         \n",
            " 2D)                                                             \n",
            "                                                                 \n",
            " flatten_2 (Flatten)         (None, 18432)             0         \n",
            "                                                                 \n",
            " dense_8 (Dense)             (None, 512)               9437696   \n",
            "                                                                 \n",
            " dropout_6 (Dropout)         (None, 512)               0         \n",
            "                                                                 \n",
            " dense_9 (Dense)             (None, 256)               131328    \n",
            "                                                                 \n",
            " dropout_7 (Dropout)         (None, 256)               0         \n",
            "                                                                 \n",
            " dense_10 (Dense)            (None, 128)               32896     \n",
            "                                                                 \n",
            " dropout_8 (Dropout)         (None, 128)               0         \n",
            "                                                                 \n",
            " dense_11 (Dense)            (None, 3)                 387       \n",
            "                                                                 \n",
            "=================================================================\n",
            "Total params: 9,695,555\n",
            "Trainable params: 9,695,555\n",
            "Non-trainable params: 0\n",
            "_________________________________________________________________\n"
          ]
        }
      ],
      "source": [
        "from keras.models import Sequential\n",
        "\n",
        "import keras\n",
        "from keras.layers import Conv2D, MaxPool2D, Flatten, Dense, InputLayer, BatchNormalization, Dropout\n",
        "from keras.utils import np_utils\n",
        "\n",
        "from keras.callbacks import LearningRateScheduler, ModelCheckpoint\n",
        "from keras.preprocessing.image import ImageDataGenerator\n",
        "from keras.regularizers import l2\n",
        "import tensorflow as tf\n",
        "\n",
        "# build a sequential model\n",
        "model = Sequential()\n",
        "model.add(InputLayer(input_shape=(299, 299, 3)))\n",
        "\n",
        "# 1st conv block\n",
        "#model.add(Conv2D(16, (3, 3), activation='relu', strides=(1, 1), padding='same'))\n",
        "#model.add(MaxPool2D(pool_size=(3, 3), padding='same'))\n",
        "# 2nd conv block\n",
        "model.add(Conv2D(32, (3, 3), activation='relu', strides=(1, 1), padding='same'))\n",
        "model.add(MaxPool2D(pool_size=(3, 3), padding='same'))\n",
        "\n",
        "\n",
        "# 3rd conv block\n",
        "model.add(Conv2D(64, (3, 3), activation='relu', strides=(1, 1), padding='same'))\n",
        "model.add(MaxPool2D(pool_size=(3, 3), padding='same'))\n",
        "\n",
        "#model.add(Dropout(0.5))\n",
        "\n",
        "model.add(Conv2D(128, (3, 3), activation='relu', strides=(1, 1), padding='same')) #,kernel_regularizer=l2(0.01)))\n",
        "model.add(MaxPool2D(pool_size=(3, 3), padding='same'))\n",
        "#model.add(BatchNormalization())\n",
        "#model.add(Dropout(0.1))\n",
        "# 4rd conv block\n",
        "#model.add(Conv2D(256, (3, 3), activation='relu', strides=(1, 1), padding='same'))#,kernel_regularizer=l2(0.01)))\n",
        "#model.add(MaxPool2D(pool_size=(3, 3), padding='same'))\n",
        "#model.add(BatchNormalization())\n",
        "#model.add(Dropout(0.3))\n",
        "\n",
        "# 5th conv block\n",
        "#model.add(Conv2D(512, (3, 3), activation='relu', strides=(1, 1), padding='same',name='conv_last_layer'))\n",
        "#model.add(MaxPool2D(pool_size=(3, 3), padding='same'))\n",
        "#model.add(BatchNormalization())\n",
        "#model.add(Dropout(0.5))\n",
        "\n",
        "# ANN block\n",
        "model.add(Flatten())\n",
        "#model.add(Dense(units=1024, activation='relu'))\n",
        "\n",
        "#model.add(Dropout(0.3))\n",
        "model.add(Dense(units=512, activation='relu'))\n",
        "\n",
        "model.add(Dropout(0.3))\n",
        "\n",
        "model.add(Dense(units=256, activation='relu',kernel_regularizer=l2(0.01)))\n",
        "\n",
        "model.add(Dropout(0.5))\n",
        "model.add(Dense(units=128, activation='relu'))\n",
        "model.add(Dropout(0.4))\n",
        "# output layer kernel_regularizer=tf.keras.regularizers.l2(0.01)\n",
        "model.add(Dense(units=3,kernel_regularizer=tf.keras.regularizers.l2(0.01),activation='softmax'))\n",
        "\n",
        "# compile model\n",
        "\n",
        "model.compile(optimizer=\"adam\",\n",
        "              loss='categorical_crossentropy',\n",
        "              metrics = ['accuracy'])\n",
        "#model.compile(loss='categorical_crossentropy', optimizer=\"adam\", metrics=['accuracy'])\n",
        "# fit on data for 30 epochs\n",
        "#model.fit_generator(train, epochs=30, validation_data=val)\n",
        "\n",
        "model.summary()"
      ]
    },
    {
      "cell_type": "code",
      "execution_count": null,
      "metadata": {
        "colab": {
          "base_uri": "https://localhost:8080/"
        },
        "outputId": "59318373-f725-49d0-e301-3dbce920444b",
        "id": "Ltp3Dt8JRn3d"
      },
      "outputs": [
        {
          "output_type": "stream",
          "name": "stdout",
          "text": [
            "Found 8676 images belonging to 3 classes.\n",
            "Found 1954 images belonging to 3 classes.\n"
          ]
        }
      ],
      "source": [
        "from keras.preprocessing.image import ImageDataGenerator\n",
        "\n",
        "train_datagen = ImageDataGenerator(rescale = 1./255 \n",
        "                              #horizontal_flip=False, \n",
        "                              #vertical_flip=False,\n",
        "                              #featurewise_center=True,\n",
        "                     #featurewise_std_normalization=True,\n",
        "                     #rotation_range=20,\n",
        "                     #width_shift_range=0.01,\n",
        "                     #height_shift_range=0.01,\n",
        "                     #zoom_range=0.2\n",
        "                            #featurewise_std_normalization=True\n",
        "                                  )\n",
        "                                  \n",
        "\n",
        "\n",
        "val_datagen = ImageDataGenerator(rescale = 1./255)\n",
        "\n",
        "training_set = train_datagen.flow_from_directory('/content/output/train',\n",
        "                                                 target_size = (299, 299),\n",
        "                                                 batch_size = 64,\n",
        "                                                 class_mode = 'categorical',\n",
        "                                                 shuffle=False\n",
        "                                                 )\n",
        "validation_set = val_datagen.flow_from_directory('/content/output/val',\n",
        "                                            target_size = (299, 299),\n",
        "                                            batch_size = 64,\n",
        "                                            class_mode = 'categorical',\n",
        "                                            shuffle=False) "
      ]
    },
    {
      "cell_type": "code",
      "source": [
        "start = time.time()\n",
        "\n",
        "\n",
        "r=model.fit(training_set,\n",
        "                        validation_data=validation_set,\n",
        "                          steps_per_epoch=len(training_set),\n",
        "                            epochs=25,\n",
        "                            validation_steps=len(validation_set)\n",
        "             \n",
        "            )\n",
        "\n",
        "end = time.time()\n",
        "elapsed = end - start\n",
        "print( elapsed)"
      ],
      "metadata": {
        "colab": {
          "base_uri": "https://localhost:8080/"
        },
        "id": "Edhl93_iRN-s",
        "outputId": "bb7abffd-e113-4c2c-fa04-aa39396878c2"
      },
      "execution_count": null,
      "outputs": [
        {
          "output_type": "stream",
          "name": "stdout",
          "text": [
            "Epoch 1/25\n",
            "136/136 [==============================] - 34s 248ms/step - loss: 1.6210 - accuracy: 0.7319 - val_loss: 0.5353 - val_accuracy: 0.9002\n",
            "Epoch 2/25\n",
            "136/136 [==============================] - 35s 254ms/step - loss: 0.4362 - accuracy: 0.9056 - val_loss: 0.3270 - val_accuracy: 0.9181\n",
            "Epoch 3/25\n",
            "136/136 [==============================] - 33s 242ms/step - loss: 0.2576 - accuracy: 0.9413 - val_loss: 0.2511 - val_accuracy: 0.9371\n",
            "Epoch 4/25\n",
            "136/136 [==============================] - 33s 243ms/step - loss: 0.1766 - accuracy: 0.9609 - val_loss: 0.2189 - val_accuracy: 0.9417\n",
            "Epoch 5/25\n",
            "136/136 [==============================] - 33s 242ms/step - loss: 0.1389 - accuracy: 0.9706 - val_loss: 0.1475 - val_accuracy: 0.9637\n",
            "Epoch 6/25\n",
            "136/136 [==============================] - 33s 244ms/step - loss: 0.1177 - accuracy: 0.9761 - val_loss: 0.1998 - val_accuracy: 0.9519\n",
            "Epoch 7/25\n",
            "136/136 [==============================] - 34s 247ms/step - loss: 0.1003 - accuracy: 0.9809 - val_loss: 0.1418 - val_accuracy: 0.9678\n",
            "Epoch 8/25\n",
            "136/136 [==============================] - 33s 242ms/step - loss: 0.0849 - accuracy: 0.9834 - val_loss: 0.1560 - val_accuracy: 0.9621\n",
            "Epoch 9/25\n",
            "136/136 [==============================] - 33s 242ms/step - loss: 0.0803 - accuracy: 0.9851 - val_loss: 0.1681 - val_accuracy: 0.9616\n",
            "Epoch 10/25\n",
            "136/136 [==============================] - 33s 243ms/step - loss: 0.0817 - accuracy: 0.9839 - val_loss: 0.1196 - val_accuracy: 0.9739\n",
            "Epoch 11/25\n",
            "136/136 [==============================] - 33s 241ms/step - loss: 0.0505 - accuracy: 0.9935 - val_loss: 0.2325 - val_accuracy: 0.9539\n",
            "Epoch 12/25\n",
            "136/136 [==============================] - 33s 242ms/step - loss: 0.0518 - accuracy: 0.9927 - val_loss: 0.1265 - val_accuracy: 0.9713\n",
            "Epoch 13/25\n",
            "136/136 [==============================] - 33s 245ms/step - loss: 0.0485 - accuracy: 0.9942 - val_loss: 0.1311 - val_accuracy: 0.9708\n",
            "Epoch 14/25\n",
            "136/136 [==============================] - 33s 242ms/step - loss: 0.0541 - accuracy: 0.9912 - val_loss: 0.1202 - val_accuracy: 0.9759\n",
            "Epoch 15/25\n",
            "136/136 [==============================] - 33s 241ms/step - loss: 0.0395 - accuracy: 0.9953 - val_loss: 0.1566 - val_accuracy: 0.9657\n",
            "Epoch 16/25\n",
            "136/136 [==============================] - 33s 241ms/step - loss: 0.0534 - accuracy: 0.9916 - val_loss: 0.1676 - val_accuracy: 0.9678\n",
            "Epoch 17/25\n",
            "136/136 [==============================] - 33s 242ms/step - loss: 0.0647 - accuracy: 0.9903 - val_loss: 0.1268 - val_accuracy: 0.9729\n",
            "Epoch 18/25\n",
            "136/136 [==============================] - 33s 240ms/step - loss: 0.0447 - accuracy: 0.9955 - val_loss: 0.1357 - val_accuracy: 0.9688\n",
            "Epoch 19/25\n",
            "136/136 [==============================] - 33s 244ms/step - loss: 0.0399 - accuracy: 0.9961 - val_loss: 0.1281 - val_accuracy: 0.9749\n",
            "Epoch 20/25\n",
            "136/136 [==============================] - 33s 244ms/step - loss: 0.0557 - accuracy: 0.9932 - val_loss: 0.1536 - val_accuracy: 0.9703\n",
            "Epoch 21/25\n",
            "136/136 [==============================] - 33s 240ms/step - loss: 0.0468 - accuracy: 0.9948 - val_loss: 0.1370 - val_accuracy: 0.9739\n",
            "Epoch 22/25\n",
            "136/136 [==============================] - 33s 240ms/step - loss: 0.0531 - accuracy: 0.9918 - val_loss: 0.1266 - val_accuracy: 0.9729\n",
            "Epoch 23/25\n",
            "136/136 [==============================] - 33s 239ms/step - loss: 0.0260 - accuracy: 0.9991 - val_loss: 0.1511 - val_accuracy: 0.9724\n",
            "Epoch 24/25\n",
            "136/136 [==============================] - 33s 240ms/step - loss: 0.0300 - accuracy: 0.9967 - val_loss: 0.1660 - val_accuracy: 0.9698\n",
            "Epoch 25/25\n",
            "136/136 [==============================] - 33s 239ms/step - loss: 0.0454 - accuracy: 0.9945 - val_loss: 0.1473 - val_accuracy: 0.9749\n",
            "836.043538570404\n"
          ]
        }
      ]
    },
    {
      "cell_type": "code",
      "source": [
        "# plot the loss\n",
        "import matplotlib.pyplot as plt\n",
        "plt.plot(r.history['loss'], label='train loss')\n",
        "plt.plot(r.history['val_loss'], label='val loss')\n",
        "plt.legend()\n",
        "\n",
        "plt.ylabel('Loss')\n",
        "plt.xlabel('Epoch')\n",
        "plt.title('2D-CNN Loss Curve for 3 Class')\n",
        "   \n",
        "plt.savefig('3_LossVal_loss_CNN.png')\n",
        "plt.show()   \n",
        "\n",
        "# plot the accuracy\n",
        "plt.plot(r.history['accuracy'], label='train acc')\n",
        "plt.plot(r.history['val_accuracy'], label='val acc')\n",
        "plt.legend()\n",
        "\n",
        "plt.ylabel('Accuracy')\n",
        "plt.xlabel('Epoch')\n",
        "plt.title('2D-CNN Accuracy Curve for 3 Class')\n",
        "   \n",
        "plt.savefig('3_AccVal_acc_CNN.png')\n",
        "plt.show() "
      ],
      "metadata": {
        "id": "tAp8elWFRsZX",
        "colab": {
          "base_uri": "https://localhost:8080/",
          "height": 573
        },
        "outputId": "94d3f926-f69d-4dda-9ded-a71778cc3354"
      },
      "execution_count": null,
      "outputs": [
        {
          "output_type": "display_data",
          "data": {
            "text/plain": [
              "<Figure size 432x288 with 1 Axes>"
            ],
            "image/png": "[encoded data removed]"
          },
          "metadata": {
            "needs_background": "light"
          }
        },
        {
          "output_type": "display_data",
          "data": {
            "text/plain": [
              "<Figure size 432x288 with 1 Axes>"
            ],
            "image/png": "[encoded data removed]"
          },
          "metadata": {
            "needs_background": "light"
          }
        }
      ]
    },
    {
      "cell_type": "code",
      "source": [
        "start=time.time()\n",
        "final = model.predict(validation_set)\n",
        "end = time.time()\n",
        "elapsed = end - start\n",
        "print(\"Total Testing  Time:\", elapsed)"
      ],
      "metadata": {
        "id": "goXji4h4RKz_",
        "colab": {
          "base_uri": "https://localhost:8080/"
        },
        "outputId": "1f07594c-7992-41a4-db4f-bb4957623d4a"
      },
      "execution_count": null,
      "outputs": [
        {
          "output_type": "stream",
          "name": "stdout",
          "text": [
            "31/31 [==============================] - 6s 207ms/step\n",
            "Total Testing  Time: 6.725940942764282\n"
          ]
        }
      ]
    },
    {
      "cell_type": "code",
      "source": [
        "import numpy as np\n",
        "from sklearn.metrics import confusion_matrix,classification_report\n",
        "batch_size = 64\n",
        "num_of_test_samples = 1954\n",
        "predictions = model.predict_generator(validation_set,  num_of_test_samples // batch_size+1)\n",
        "\n",
        "y_pred = np.argmax(predictions, axis=1)\n",
        "\n",
        "\n",
        "true_classes = validation_set.classes\n",
        "\n",
        "class_labels = list(validation_set.class_indices.keys())   \n",
        "\n",
        "print(class_labels)\n",
        "\n",
        "print(confusion_matrix(validation_set.classes, y_pred))\n",
        "\n",
        "report = classification_report(true_classes, y_pred, target_names=class_labels)\n",
        "print(report)"
      ],
      "metadata": {
        "id": "bYF0hZ0NRK3L",
        "colab": {
          "base_uri": "https://localhost:8080/"
        },
        "outputId": "4835e729-5aff-4e70-eb73-04cd82dbbb1f"
      },
      "execution_count": null,
      "outputs": [
        {
          "output_type": "stream",
          "name": "stderr",
          "text": [
            "/usr/local/lib/python3.7/dist-packages/ipykernel_launcher.py:5: UserWarning: `Model.predict_generator` is deprecated and will be removed in a future version. Please use `Model.predict`, which supports generators.\n",
            "  \"\"\"\n"
          ]
        },
        {
          "output_type": "stream",
          "name": "stdout",
          "text": [
            "['Bacterial Pneumonia', 'COVID', 'Normal']\n",
            "[[502   1   3]\n",
            " [  3 689  32]\n",
            " [  3   7 714]]\n",
            "                     precision    recall  f1-score   support\n",
            "\n",
            "Bacterial Pneumonia       0.99      0.99      0.99       506\n",
            "              COVID       0.99      0.95      0.97       724\n",
            "             Normal       0.95      0.99      0.97       724\n",
            "\n",
            "           accuracy                           0.97      1954\n",
            "          macro avg       0.98      0.98      0.98      1954\n",
            "       weighted avg       0.98      0.97      0.97      1954\n",
            "\n"
          ]
        }
      ]
    },
    {
      "cell_type": "code",
      "source": [
        "import numpy as np\n",
        "\n",
        "\n",
        "def plot_confusion_matrix(cm,\n",
        "                          target_names,\n",
        "                          title='Confusion matrix',\n",
        "                          cmap=None,\n",
        "                          normalize=True):\n",
        "    \n",
        "    import matplotlib.pyplot as plt\n",
        "    import numpy as np\n",
        "    import itertools\n",
        "\n",
        "    accuracy = np.trace(cm) / float(np.sum(cm))\n",
        "    misclass = 1 - accuracy\n",
        "\n",
        "    if cmap is None:\n",
        "        cmap = plt.get_cmap('Blues')\n",
        "\n",
        "    plt.figure(figsize=(8, 6))\n",
        "    plt.imshow(cm, interpolation='nearest', cmap=cmap)\n",
        "    plt.title(title)\n",
        "    plt.colorbar()\n",
        "\n",
        "    if target_names is not None:\n",
        "        tick_marks = np.arange(len(target_names))\n",
        "        plt.xticks(tick_marks, target_names, rotation=45)\n",
        "        plt.yticks(tick_marks, target_names)\n",
        "\n",
        "    if normalize:\n",
        "        cm = cm.astype('float') / cm.sum(axis=1)[:, np.newaxis]\n",
        "\n",
        "\n",
        "    thresh = cm.max() / 1.5 if normalize else cm.max() / 2\n",
        "    for i, j in itertools.product(range(cm.shape[0]), range(cm.shape[1])):\n",
        "        if normalize:\n",
        "            plt.text(j, i, \"{:0.4f}\".format(cm[i, j]),\n",
        "                     horizontalalignment=\"center\",\n",
        "                     color=\"white\" if cm[i, j] > thresh else \"black\")\n",
        "        else:\n",
        "            plt.text(j, i, \"{:,}\".format(cm[i, j]),\n",
        "                     horizontalalignment=\"center\",\n",
        "                     color=\"white\" if cm[i, j] > thresh else \"black\")\n",
        "\n",
        "\n",
        "    plt.tight_layout()\n",
        "    plt.ylabel('True label')\n",
        "    plt.xlabel('Predicted label')\n",
        "    plt.savefig('3 classes_Confusion_Matrix_2D_CNN.png')\n",
        "    plt.show()\n",
        "\n",
        "plot_confusion_matrix(cm = np.array ([[502  , 1 ,  3],\n",
        " [  3 ,689,  32],\n",
        " [  3,   7, 714]]),\n",
        "                      normalize    = False,\n",
        "                      target_names = ['Bacterial Pneumonia', 'COVID', 'Normal'],\n",
        "                      title = \"Confusion Matrix for 3 Classes\")\n",
        "                      "
      ],
      "metadata": {
        "id": "nchWdFOhRK5e",
        "colab": {
          "base_uri": "https://localhost:8080/",
          "height": 455
        },
        "outputId": "11ace781-dfd7-47c3-e272-5bb39200f1d1"
      },
      "execution_count": null,
      "outputs": [
        {
          "output_type": "display_data",
          "data": {
            "text/plain": [
              "<Figure size 576x432 with 2 Axes>"
            ],
            "image/png": "[encoded data removed]"
          },
          "metadata": {
            "needs_background": "light"
          }
        }
      ]
    },
    {
      "cell_type": "code",
      "source": [
        "import math\n",
        "number_of_examples = len(validation_set.filenames)\n",
        "number_of_generator_calls = math.ceil(number_of_examples / (1.0 * 64)) \n",
        "# 1.0 above is to skip integer division\n",
        "\n",
        "test_labels = []\n",
        "test_images = []\n",
        "for i in range(0,int(number_of_generator_calls)):\n",
        "    test_labels.extend(np.array(validation_set[i][1]))\n",
        "\n",
        "for i in range(0,int(number_of_generator_calls)):\n",
        "    test_images.extend(np.array(validation_set[i][0]))"
      ],
      "metadata": {
        "id": "I99AGA2ZVUeH"
      },
      "execution_count": null,
      "outputs": []
    },
    {
      "cell_type": "code",
      "source": [
        "new_labels = []\n",
        "for i in range(0,1954):\n",
        "  new_labels.append(np.argmax(predictions[i]))"
      ],
      "metadata": {
        "id": "x4slzOP6VUg_"
      },
      "execution_count": null,
      "outputs": []
    },
    {
      "cell_type": "code",
      "source": [
        "newtest_labels = []\n",
        "for i in range(0,1954):\n",
        "  newtest_labels.append(np.argmax(test_labels[i]))"
      ],
      "metadata": {
        "id": "RgdMHAjKVks2"
      },
      "execution_count": null,
      "outputs": []
    },
    {
      "cell_type": "code",
      "execution_count": null,
      "metadata": {
        "colab": {
          "base_uri": "https://localhost:8080/",
          "height": 426
        },
        "outputId": "8317e2b3-8584-423e-a226-7867ae09863f",
        "id": "vZtOVKOsVuP_"
      },
      "outputs": [
        {
          "output_type": "stream",
          "name": "stdout",
          "text": [
            "Test Score =  0.14728425443172455\n",
            "Test Accuracy =  0.9749232530593872\n",
            "Accuracy score: 0.9749232343909928\n"
          ]
        },
        {
          "output_type": "stream",
          "name": "stderr",
          "text": [
            "/usr/local/lib/python3.7/dist-packages/ipykernel_launcher.py:17: UserWarning: `Model.predict_generator` is deprecated and will be removed in a future version. Please use `Model.predict`, which supports generators.\n"
          ]
        },
        {
          "output_type": "stream",
          "name": "stdout",
          "text": [
            "AUC: 0.9977891135610689\n"
          ]
        },
        {
          "output_type": "stream",
          "name": "stderr",
          "text": [
            "/usr/local/lib/python3.7/dist-packages/ipykernel_launcher.py:43: DeprecationWarning: scipy.interp is deprecated and will be removed in SciPy 2.0.0, use numpy.interp instead\n"
          ]
        },
        {
          "output_type": "display_data",
          "data": {
            "text/plain": [
              "<Figure size 432x288 with 1 Axes>"
            ],
            "image/png": "[encoded data removed]"
          },
          "metadata": {
            "needs_background": "light"
          }
        }
      ],
      "source": [
        "from sklearn import metrics\n",
        "import matplotlib.pyplot as plt\n",
        "from itertools import cycle\n",
        "from scipy import interp\n",
        "noofClasses = 3\n",
        "\n",
        "score = model.evaluate(validation_set, verbose=0)\n",
        "print('Test Score = ', score[0])\n",
        "print('Test Accuracy = ', score[1])\n",
        "from sklearn.metrics import confusion_matrix, classification_report, roc_auc_score, roc_curve, auc\n",
        "\n",
        "\n",
        "# Get the confusion matrix\n",
        "\n",
        "score = metrics.accuracy_score(y_true=newtest_labels, y_pred=new_labels)\n",
        "print(\"Accuracy score: {}\".format(score))\n",
        "pred_prob =model.predict_generator(validation_set,  num_of_test_samples // batch_size+1)\n",
        "\n",
        "c = roc_auc_score(newtest_labels, pred_prob, multi_class='ovo')\n",
        "print(\"AUC:\", c)\n",
        "# Compute ROC curve and ROC area for each class\n",
        "fpr = {}\n",
        "tpr = {}\n",
        "roc_auc = {}\n",
        "thresh = {}\n",
        "lw = 2\n",
        "precision = {}\n",
        "recall = {}\n",
        "for i in range(noofClasses):\n",
        "    fpr[i], tpr[i], thresh[i] = roc_curve(newtest_labels, pred_prob[:, i], pos_label=i)\n",
        "    precision[i], recall[i], _ = roc_curve(newtest_labels, pred_prob[:, i], pos_label=i)\n",
        "    roc_auc[i] = auc(fpr[i], tpr[i])\n",
        "  \n",
        "\n",
        "n_classes = 3\n",
        "\n",
        "# First aggregate all false positive rates\n",
        "all_fpr = np.unique(np.concatenate([fpr[i] for i in range(n_classes)]))\n",
        "\n",
        "# Then interpolate all ROC curves at this points\n",
        "mean_tpr = np.zeros_like(all_fpr)\n",
        "for i in range(n_classes):\n",
        "    mean_tpr += interp(all_fpr, fpr[i], tpr[i])\n",
        "\n",
        "# Finally average it and compute AUC\n",
        "mean_tpr /= n_classes\n",
        "\n",
        "fpr[\"macro\"] = all_fpr\n",
        "tpr[\"macro\"] = mean_tpr\n",
        "roc_auc[\"macro\"] = auc(fpr[\"macro\"], tpr[\"macro\"])\n",
        "\n",
        "# Plot all ROC curves\n",
        "plt.figure()\n",
        "\n",
        "colors = cycle(['green',  'yellow','red',])\n",
        "for i, color in zip(range(n_classes), colors):\n",
        "    plt.plot(fpr[i], tpr[i], color=color, lw=lw, label='ROC curve of class {0} (AUC = {1:0.4f})'\n",
        "                                                       ''.format(i, roc_auc[i]))\n",
        "\n",
        "plt.plot([0, 1], [0, 1], 'k--', lw=lw)\n",
        "plt.xlim([0.0, 1.0])\n",
        "plt.ylim([0.0, 1.05])\n",
        "plt.xlabel('False Positive Rate')\n",
        "plt.ylabel('True Positive Rate')\n",
        "plt.title('Receiver Operating Characteristic Curve for 3 Classes')\n",
        "plt.legend(loc=\"lower right\")\n",
        "plt.savefig(\"3 classes_2D-CNN_roc.png\")\n",
        "plt.show()\n"
      ]
    },
    {
      "cell_type": "code",
      "source": [],
      "metadata": {
        "id": "aIbzNo72Vk-f"
      },
      "execution_count": null,
      "outputs": []
    },
    {
      "cell_type": "code",
      "source": [],
      "metadata": {
        "id": "HI8UXII7VlB4"
      },
      "execution_count": null,
      "outputs": []
    },
    {
      "cell_type": "markdown",
      "source": [
        "\n"
      ],
      "metadata": {
        "id": "D9bQ0S6fks0_"
      }
    },
    {
      "cell_type": "code",
      "source": [],
      "metadata": {
        "id": "4mqkT9sgwZET"
      },
      "execution_count": null,
      "outputs": []
    },
    {
      "cell_type": "code",
      "source": [],
      "metadata": {
        "id": "Ot_2NArswZVG"
      },
      "execution_count": null,
      "outputs": []
    },
    {
      "cell_type": "code",
      "source": [],
      "metadata": {
        "id": "hw-6s4CWkwqP"
      },
      "execution_count": null,
      "outputs": []
    },
    {
      "cell_type": "code",
      "source": [],
      "metadata": {
        "id": "kV2qa8MnkwzZ"
      },
      "execution_count": null,
      "outputs": []
    },
    {
      "cell_type": "code",
      "source": [],
      "metadata": {
        "id": "RxUsPR3Wkw2A"
      },
      "execution_count": null,
      "outputs": []
    },
    {
      "cell_type": "code",
      "source": [],
      "metadata": {
        "id": "PUGSH_UIkw4h"
      },
      "execution_count": null,
      "outputs": []
    },
    {
      "cell_type": "code",
      "source": [],
      "metadata": {
        "id": "dep-FzKDkw6q"
      },
      "execution_count": null,
      "outputs": []
    },
    {
      "cell_type": "code",
      "source": [],
      "metadata": {
        "id": "7eL-zJtGkw_B"
      },
      "execution_count": null,
      "outputs": []
    },
    {
      "cell_type": "code",
      "source": [],
      "metadata": {
        "id": "jisA5R_CkxRN"
      },
      "execution_count": null,
      "outputs": []
    },
    {
      "cell_type": "code",
      "source": [],
      "metadata": {
        "id": "uY6UNPH1kxio"
      },
      "execution_count": null,
      "outputs": []
    },
    {
      "cell_type": "code",
      "source": [],
      "metadata": {
        "id": "c60C12aUkxmB"
      },
      "execution_count": null,
      "outputs": []
    },
    {
      "cell_type": "code",
      "source": [],
      "metadata": {
        "id": "wmrHZl4bRK7n"
      },
      "execution_count": null,
      "outputs": []
    },
    {
      "cell_type": "code",
      "source": [],
      "metadata": {
        "id": "5nKy4FXLRK_Q"
      },
      "execution_count": null,
      "outputs": []
    },
    {
      "cell_type": "code",
      "execution_count": null,
      "metadata": {
        "id": "xUvlLWdtWou_"
      },
      "outputs": [],
      "source": []
    },
    {
      "cell_type": "code",
      "execution_count": null,
      "metadata": {
        "id": "tDF_aZNXdMon"
      },
      "outputs": [],
      "source": []
    },
    {
      "cell_type": "code",
      "execution_count": null,
      "metadata": {
        "id": "aDSvTCH3dMrO"
      },
      "outputs": [],
      "source": []
    },
    {
      "cell_type": "code",
      "execution_count": null,
      "metadata": {
        "id": "9CZ7MWltdMun"
      },
      "outputs": [],
      "source": []
    },
    {
      "cell_type": "code",
      "execution_count": null,
      "metadata": {
        "id": "BEQmmactdM2J"
      },
      "outputs": [],
      "source": []
    },
    {
      "cell_type": "code",
      "source": [],
      "metadata": {
        "id": "iSE85Eg_4KA8"
      },
      "execution_count": null,
      "outputs": []
    },
    {
      "cell_type": "code",
      "source": [],
      "metadata": {
        "id": "_xrlDxJ-49Uy"
      },
      "execution_count": null,
      "outputs": []
    }
  ],
  "metadata": {
    "accelerator": "GPU",
    "colab": {
      "provenance": []
    },
    "gpuClass": "standard",
    "kernelspec": {
      "display_name": "Python 3",
      "name": "python3"
    },
    "language_info": {
      "name": "python"
    }
  },
  "nbformat": 4,
  "nbformat_minor": 0
}