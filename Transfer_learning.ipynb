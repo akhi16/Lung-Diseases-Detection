{
  "cells": [
    {
      "cell_type": "code",
      "execution_count": null,
      "metadata": {
        "colab": {
          "base_uri": "https://localhost:8080/"
        },
        "id": "JfFTNWS-V-KI",
        "outputId": "a61e65c7-9072-43a7-9e45-812c360f0569"
      },
      "outputs": [
        {
          "output_type": "stream",
          "name": "stdout",
          "text": [
            "Mounted at /content/drive\n"
          ]
        }
      ],
      "source": [
        "from google.colab import drive\n",
        "drive.mount('/content/drive')"
      ]
    },
    {
      "cell_type": "code",
      "execution_count": null,
      "metadata": {
        "id": "j75uTss_W3OR"
      },
      "outputs": [],
      "source": [
        "import os\n",
        "import zipfile\n",
        "\n",
        "local_zip = '/content/drive/MyDrive/Dataset/COVID-19_CXR_Dataset_final.zip'\n",
        "\n",
        "zip_ref = zipfile.ZipFile(local_zip, 'r')\n",
        "\n",
        "zip_ref.extractall('/content')\n",
        "zip_ref.close()"
      ]
    },
    {
      "cell_type": "code",
      "execution_count": null,
      "metadata": {
        "colab": {
          "base_uri": "https://localhost:8080/"
        },
        "id": "X5YC6BC8W3Qz",
        "outputId": "4053f603-9145-4955-a780-7371dc766e3c"
      },
      "outputs": [
        {
          "output_type": "stream",
          "name": "stdout",
          "text": [
            "All changes made in this colab session should now be visible in Drive.\n"
          ]
        }
      ],
      "source": [
        "drive.flush_and_unmount()\n",
        "print('All changes made in this colab session should now be visible in Drive.')"
      ]
    },
    {
      "cell_type": "code",
      "execution_count": null,
      "metadata": {
        "colab": {
          "base_uri": "https://localhost:8080/"
        },
        "id": "FHAmAW0_W3Se",
        "outputId": "c1e5eb44-420c-447f-c7ba-c17bba8734ec"
      },
      "outputs": [
        {
          "output_type": "stream",
          "name": "stdout",
          "text": [
            "Looking in indexes: https://pypi.org/simple, https://us-python.pkg.dev/colab-wheels/public/simple/\n",
            "Collecting split-folders\n",
            "  Downloading split_folders-0.5.1-py3-none-any.whl (8.4 kB)\n",
            "Installing collected packages: split-folders\n",
            "Successfully installed split-folders-0.5.1\n"
          ]
        },
        {
          "output_type": "stream",
          "name": "stderr",
          "text": [
            "Copying files: 19909 files [00:11, 1800.25 files/s]\n"
          ]
        }
      ],
      "source": [
        "!pip install split-folders\n",
        "\n",
        "import splitfolders\n",
        "splitfolders.ratio('/content/COVID-19_CXR_Dataset_final', output=\"output\", seed=1337, ratio=(.8, 0.2))"
      ]
    },
    {
      "cell_type": "code",
      "execution_count": null,
      "metadata": {
        "colab": {
          "base_uri": "https://localhost:8080/"
        },
        "id": "oFItGFkiW3U3",
        "outputId": "01f5a618-3a84-402a-b562-066d471e1658"
      },
      "outputs": [
        {
          "output_type": "stream",
          "name": "stdout",
          "text": [
            "2024\n"
          ]
        }
      ],
      "source": [
        "import glob\n",
        "print (len(glob.glob('/content/output/train/Bacterial Pneumonia/*')))"
      ]
    },
    {
      "cell_type": "code",
      "execution_count": null,
      "metadata": {
        "id": "Qoz4jxVBW3XK"
      },
      "outputs": [],
      "source": [
        "from tensorflow.keras.preprocessing.image import ImageDataGenerator, array_to_img, img_to_array, load_img\n",
        "from PIL import Image\n",
        "datagen = ImageDataGenerator(\n",
        " rotation_range= 30,\n",
        " width_shift_range=0.2,\n",
        " height_shift_range=0.2,\n",
        " shear_range=0.2,\n",
        " zoom_range=0.2,\n",
        " horizontal_flip=False,\n",
        " fill_mode='nearest'\n",
        ")"
      ]
    },
    {
      "cell_type": "code",
      "execution_count": null,
      "metadata": {
        "id": "jp3RkHC2W3Zu"
      },
      "outputs": [],
      "source": [
        "img = load_img('/content/output/train/Bacterial Pneumonia/person1001_bacteria_2932.jpeg')\n",
        "x = img_to_array(img)\n",
        "x = x.reshape((1,) + x.shape)\n",
        "i = 0\n",
        "for batch in datagen.flow(x, batch_size=1,\n",
        " save_to_dir='/content/output/train/Bacterial Pneumonia',\n",
        " save_prefix='br', save_format='jpeg'):\n",
        " i += 1\n",
        " if i > 200:\n",
        "    break"
      ]
    },
    {
      "cell_type": "code",
      "execution_count": null,
      "metadata": {
        "id": "nbQsi1IYW3cN"
      },
      "outputs": [],
      "source": [
        "img = load_img('/content/output/train/Bacterial Pneumonia/person19_bacteria_59.jpeg')\n",
        "x = img_to_array(img)\n",
        "x = x.reshape((1,) + x.shape)\n",
        "i = 0\n",
        "for batch in datagen.flow(x, batch_size=1,\n",
        " save_to_dir='/content/output/train/Bacterial Pneumonia',\n",
        " save_prefix='br', save_format='jpeg'):\n",
        " i += 1\n",
        " if i > 200:\n",
        "    break"
      ]
    },
    {
      "cell_type": "code",
      "execution_count": null,
      "metadata": {
        "id": "H3r2xGkfYodb"
      },
      "outputs": [],
      "source": [
        "img = load_img('/content/output/train/Bacterial Pneumonia/person1941_bacteria_4863.jpeg')\n",
        "x = img_to_array(img)\n",
        "x = x.reshape((1,) + x.shape)\n",
        "i = 0\n",
        "for batch in datagen.flow(x, batch_size=1,\n",
        " save_to_dir='/content/output/train/Bacterial Pneumonia',\n",
        " save_prefix='br', save_format='jpeg'):\n",
        " i += 1\n",
        " if i > 200:\n",
        "    break"
      ]
    },
    {
      "cell_type": "code",
      "execution_count": null,
      "metadata": {
        "id": "8dIP6D0cYogj"
      },
      "outputs": [],
      "source": [
        "img = load_img('/content/output/train/Bacterial Pneumonia/person1941_bacteria_4863.jpeg')\n",
        "x = img_to_array(img)\n",
        "x = x.reshape((1,) + x.shape)\n",
        "i = 0\n",
        "for batch in datagen.flow(x, batch_size=1,\n",
        " save_to_dir='/content/output/train/Bacterial Pneumonia',\n",
        " save_prefix='br', save_format='jpeg'):\n",
        " i += 1\n",
        " if i > 200:\n",
        "    break"
      ]
    },
    {
      "cell_type": "code",
      "execution_count": null,
      "metadata": {
        "id": "HXLYQG8wYojI"
      },
      "outputs": [],
      "source": [
        "img = load_img('/content/output/train/Bacterial Pneumonia/person1063_bacteria_2997.jpeg')\n",
        "x = img_to_array(img)\n",
        "x = x.reshape((1,) + x.shape)\n",
        "i = 0\n",
        "for batch in datagen.flow(x, batch_size=1,\n",
        " save_to_dir='/content/output/train/Bacterial Pneumonia',\n",
        " save_prefix='br', save_format='jpeg'):\n",
        " i += 1\n",
        " if i > 100:\n",
        "    break"
      ]
    },
    {
      "cell_type": "code",
      "execution_count": null,
      "metadata": {
        "id": "fnCtgTMSYokN"
      },
      "outputs": [],
      "source": [
        "img = load_img('/content/output/train/Bacterial Pneumonia/person1084_bacteria_3024.jpeg')\n",
        "x = img_to_array(img)\n",
        "x = x.reshape((1,) + x.shape)\n",
        "i = 0\n",
        "for batch in datagen.flow(x, batch_size=1,\n",
        " save_to_dir='/content/output/train/Bacterial Pneumonia',\n",
        " save_prefix='br', save_format='jpeg'):\n",
        " i += 1\n",
        " if i > 68:\n",
        "    break"
      ]
    },
    {
      "cell_type": "code",
      "execution_count": null,
      "metadata": {
        "id": "QIyocRbNl2-3"
      },
      "outputs": [],
      "source": [
        "img = load_img('/content/output/train/Bacterial Pneumonia/person1084_bacteria_3024.jpeg')\n",
        "x = img_to_array(img)\n",
        "x = x.reshape((1,) + x.shape)\n",
        "i = 0\n",
        "for batch in datagen.flow(x, batch_size=1,\n",
        " save_to_dir='/content/output/train/Bacterial Pneumonia',\n",
        " save_prefix='br', save_format='jpeg'):\n",
        " i += 1\n",
        " if i > 0:\n",
        "    break"
      ]
    },
    {
      "cell_type": "code",
      "source": [
        "img = load_img('/content/output/train/Bacterial Pneumonia/person1084_bacteria_3024.jpeg')\n",
        "x = img_to_array(img)\n",
        "x = x.reshape((1,) + x.shape)\n",
        "i = 0\n",
        "for batch in datagen.flow(x, batch_size=1,\n",
        " save_to_dir='/content/output/train/Bacterial Pneumonia',\n",
        " save_prefix='br', save_format='jpeg'):\n",
        " i += 1\n",
        " if i > 4:\n",
        "    break"
      ],
      "metadata": {
        "id": "55oDb0IILL6c"
      },
      "execution_count": null,
      "outputs": []
    },
    {
      "cell_type": "code",
      "source": [
        "img = load_img('/content/output/train/Bacterial Pneumonia/person1084_bacteria_3024.jpeg')\n",
        "x = img_to_array(img)\n",
        "x = x.reshape((1,) + x.shape)\n",
        "i = 0\n",
        "for batch in datagen.flow(x, batch_size=1,\n",
        " save_to_dir='/content/output/train/Bacterial Pneumonia',\n",
        " save_prefix='br', save_format='jpeg'):\n",
        " i += 1\n",
        " if i > 30:\n",
        "    break"
      ],
      "metadata": {
        "id": "0MbtIFvuLXDx"
      },
      "execution_count": null,
      "outputs": []
    },
    {
      "cell_type": "code",
      "source": [
        "img = load_img('/content/output/train/Bacterial Pneumonia/person1084_bacteria_3024.jpeg')\n",
        "x = img_to_array(img)\n",
        "x = x.reshape((1,) + x.shape)\n",
        "i = 0\n",
        "for batch in datagen.flow(x, batch_size=1,\n",
        " save_to_dir='/content/output/train/Bacterial Pneumonia',\n",
        " save_prefix='br', save_format='jpeg'):\n",
        " i += 1\n",
        " if i > 3:\n",
        "    break"
      ],
      "metadata": {
        "id": "dV5iCJoqLbiB"
      },
      "execution_count": null,
      "outputs": []
    },
    {
      "cell_type": "code",
      "execution_count": null,
      "metadata": {
        "colab": {
          "base_uri": "https://localhost:8080/"
        },
        "id": "I-pVl-nPYomZ",
        "outputId": "1bb54dfc-8770-41ef-bfe1-13b5730d0050"
      },
      "outputs": [
        {
          "output_type": "stream",
          "name": "stdout",
          "text": [
            "2893\n"
          ]
        }
      ],
      "source": [
        "import glob\n",
        "print (len(glob.glob('/content/output/train/Bacterial Pneumonia/*')))"
      ]
    },
    {
      "cell_type": "code",
      "execution_count": null,
      "metadata": {
        "id": "OxZaHkaBYoqt"
      },
      "outputs": [],
      "source": [
        "img = load_img('/content/output/train/Tuberculosis/Tuberculosis-1002.png')\n",
        "x = img_to_array(img)\n",
        "x = x.reshape((1,) + x.shape)\n",
        "i = 0\n",
        "for batch in datagen.flow(x, batch_size=1,\n",
        " save_to_dir='/content/output/train/Tuberculosis',\n",
        " save_prefix='br', save_format='jpeg'):\n",
        " i += 1\n",
        " if i >70 :\n",
        "    break"
      ]
    },
    {
      "cell_type": "code",
      "execution_count": null,
      "metadata": {
        "id": "uPNiw6irYouN"
      },
      "outputs": [],
      "source": [
        "img = load_img('/content/output/train/Tuberculosis/Tuberculosis-10.png')\n",
        "x = img_to_array(img)\n",
        "x = x.reshape((1,) + x.shape)\n",
        "i = 0\n",
        "for batch in datagen.flow(x, batch_size=1,\n",
        " save_to_dir='/content/output/train/Tuberculosis',\n",
        " save_prefix='br', save_format='jpeg'):\n",
        " i += 1\n",
        " if i >20 :\n",
        "    break"
      ]
    },
    {
      "cell_type": "code",
      "execution_count": null,
      "metadata": {
        "id": "wQN4sVReWMeg"
      },
      "outputs": [],
      "source": [
        "img = load_img('/content/output/train/Tuberculosis/Tuberculosis-10.png')\n",
        "x = img_to_array(img)\n",
        "x = x.reshape((1,) + x.shape)\n",
        "i = 0\n",
        "for batch in datagen.flow(x, batch_size=1,\n",
        " save_to_dir='/content/output/train/Tuberculosis',\n",
        " save_prefix='br', save_format='jpeg'):\n",
        " i += 1\n",
        " if i >0 :\n",
        "    break"
      ]
    },
    {
      "cell_type": "code",
      "execution_count": null,
      "metadata": {
        "colab": {
          "base_uri": "https://localhost:8080/"
        },
        "id": "9Ty3T6dqW3eg",
        "outputId": "274b04ac-512c-40af-b4ab-7f9b85ed085e"
      },
      "outputs": [
        {
          "output_type": "stream",
          "name": "stdout",
          "text": [
            "2893\n"
          ]
        }
      ],
      "source": [
        "import glob\n",
        "print (len(glob.glob('/content/output/train/Tuberculosis/*')))"
      ]
    },
    {
      "cell_type": "code",
      "execution_count": null,
      "metadata": {
        "id": "s29Ks5yeW3jQ"
      },
      "outputs": [],
      "source": [
        "img = load_img('/content/output/train/Viral Pneumonia/Viral Pneumonia-1001.png')\n",
        "x = img_to_array(img)\n",
        "x = x.reshape((1,) + x.shape)\n",
        "i = 0\n",
        "for batch in datagen.flow(x, batch_size=1,\n",
        " save_to_dir='/content/output/train/Viral Pneumonia',\n",
        " save_prefix='br', save_format='jpeg'):\n",
        " i += 1\n",
        " if i >500 :\n",
        "    break"
      ]
    },
    {
      "cell_type": "code",
      "execution_count": null,
      "metadata": {
        "id": "ZT5dHzFwZIe7"
      },
      "outputs": [],
      "source": [
        "img = load_img('/content/output/train/Viral Pneumonia/Viral Pneumonia-1041.png')\n",
        "x = img_to_array(img)\n",
        "x = x.reshape((1,) + x.shape)\n",
        "i = 0\n",
        "for batch in datagen.flow(x, batch_size=1,\n",
        " save_to_dir='/content/output/train/Viral Pneumonia',\n",
        " save_prefix='br', save_format='jpeg'):\n",
        " i += 1\n",
        " if i >500 :\n",
        "    break"
      ]
    },
    {
      "cell_type": "code",
      "execution_count": null,
      "metadata": {
        "id": "QwUjLzNtZIhK"
      },
      "outputs": [],
      "source": [
        "img = load_img('/content/output/train/Viral Pneumonia/Viral Pneumonia-1094.png')\n",
        "x = img_to_array(img)\n",
        "x = x.reshape((1,) + x.shape)\n",
        "i = 0\n",
        "for batch in datagen.flow(x, batch_size=1,\n",
        " save_to_dir='/content/output/train/Viral Pneumonia',\n",
        " save_prefix='br', save_format='jpeg'):\n",
        " i += 1\n",
        " if i >850 :\n",
        "    break"
      ]
    },
    {
      "cell_type": "code",
      "execution_count": null,
      "metadata": {
        "id": "Vr00Z2ZdZNtk"
      },
      "outputs": [],
      "source": [
        "img = load_img('/content/output/train/Viral Pneumonia/Viral Pneumonia-1085.png')\n",
        "x = img_to_array(img)\n",
        "x = x.reshape((1,) + x.shape)\n",
        "i = 0\n",
        "for batch in datagen.flow(x, batch_size=1,\n",
        " save_to_dir='/content/output/train/Viral Pneumonia',\n",
        " save_prefix='br', save_format='jpeg'):\n",
        " i += 1\n",
        " if i >100 :\n",
        "    break"
      ]
    },
    {
      "cell_type": "code",
      "execution_count": null,
      "metadata": {
        "id": "HdThFYw8ZNwR"
      },
      "outputs": [],
      "source": [
        "img = load_img('/content/output/train/Viral Pneumonia/Viral Pneumonia-707.png')\n",
        "x = img_to_array(img)\n",
        "x = x.reshape((1,) + x.shape)\n",
        "i = 0\n",
        "for batch in datagen.flow(x, batch_size=1,\n",
        " save_to_dir='/content/output/train/Viral Pneumonia',\n",
        " save_prefix='br', save_format='jpeg'):\n",
        " i += 1\n",
        " if i >3:\n",
        "    break"
      ]
    },
    {
      "cell_type": "code",
      "execution_count": null,
      "metadata": {
        "id": "103yp80r1HoE"
      },
      "outputs": [],
      "source": [
        "img = load_img('/content/output/train/Viral Pneumonia/Viral Pneumonia-707.png')\n",
        "x = img_to_array(img)\n",
        "x = x.reshape((1,) + x.shape)\n",
        "i = 0\n",
        "for batch in datagen.flow(x, batch_size=1,\n",
        " save_to_dir='/content/output/train/Viral Pneumonia',\n",
        " save_prefix='br', save_format='jpeg'):\n",
        " i += 1\n",
        " if i >25:\n",
        "    break"
      ]
    },
    {
      "cell_type": "code",
      "execution_count": null,
      "metadata": {
        "id": "Iw3u1g43W4a1"
      },
      "outputs": [],
      "source": [
        "img = load_img('/content/output/train/Viral Pneumonia/Viral Pneumonia-707.png')\n",
        "x = img_to_array(img)\n",
        "x = x.reshape((1,) + x.shape)\n",
        "i = 0\n",
        "for batch in datagen.flow(x, batch_size=1,\n",
        " save_to_dir='/content/output/train/Viral Pneumonia',\n",
        " save_prefix='br', save_format='jpeg'):\n",
        " i += 1\n",
        " if i >15:\n",
        "    break"
      ]
    },
    {
      "cell_type": "code",
      "execution_count": null,
      "metadata": {
        "id": "Zj2REOvETgx5"
      },
      "outputs": [],
      "source": [
        "img = load_img('/content/output/train/Viral Pneumonia/Viral Pneumonia-707.png')\n",
        "x = img_to_array(img)\n",
        "x = x.reshape((1,) + x.shape)\n",
        "i = 0\n",
        "for batch in datagen.flow(x, batch_size=1,\n",
        " save_to_dir='/content/output/train/Viral Pneumonia',\n",
        " save_prefix='br', save_format='jpeg'):\n",
        " i += 1\n",
        " if i >0:\n",
        "    break"
      ]
    },
    {
      "cell_type": "code",
      "execution_count": null,
      "metadata": {
        "id": "omubDVg5gshL"
      },
      "outputs": [],
      "source": [
        "img = load_img('/content/output/train/Viral Pneumonia/Viral Pneumonia-707.png')\n",
        "x = img_to_array(img)\n",
        "x = x.reshape((1,) + x.shape)\n",
        "i = 0\n",
        "for batch in datagen.flow(x, batch_size=1,\n",
        " save_to_dir='/content/output/train/Viral Pneumonia',\n",
        " save_prefix='br', save_format='jpeg'):\n",
        " i += 1\n",
        " if i >9:\n",
        "    break"
      ]
    },
    {
      "cell_type": "code",
      "execution_count": null,
      "metadata": {
        "id": "DPgyYrc2g1V-"
      },
      "outputs": [],
      "source": [
        "img = load_img('/content/output/train/Viral Pneumonia/Viral Pneumonia-1132.png')\n",
        "x = img_to_array(img)\n",
        "x = x.reshape((1,) + x.shape)\n",
        "i = 0\n",
        "for batch in datagen.flow(x, batch_size=1,\n",
        " save_to_dir='/content/output/train/Viral Pneumonia',\n",
        " save_prefix='br', save_format='jpeg'):\n",
        " i += 1\n",
        " if i >40:\n",
        "    break"
      ]
    },
    {
      "cell_type": "code",
      "execution_count": null,
      "metadata": {
        "colab": {
          "base_uri": "https://localhost:8080/"
        },
        "id": "nLuOox6AZY_V",
        "outputId": "dad71894-2e7a-47b2-a194-718138efacd3"
      },
      "outputs": [
        {
          "output_type": "stream",
          "name": "stdout",
          "text": [
            "2892\n"
          ]
        }
      ],
      "source": [
        "import glob\n",
        "print (len(glob.glob('/content/output/train/Viral Pneumonia/*')))"
      ]
    },
    {
      "cell_type": "code",
      "execution_count": null,
      "metadata": {
        "id": "SH_W0LebZZCb"
      },
      "outputs": [],
      "source": [
        "img = load_img('/content/output/train/Fibrosis/00000061_013.png')\n",
        "x = img_to_array(img)\n",
        "x = x.reshape((1,) + x.shape)\n",
        "i = 0\n",
        "for batch in datagen.flow(x, batch_size=1,\n",
        " save_to_dir='/content/output/train/Fibrosis',\n",
        " save_prefix='br', save_format='jpeg'):\n",
        " i += 1\n",
        " if i>600 :\n",
        "    break"
      ]
    },
    {
      "cell_type": "code",
      "execution_count": null,
      "metadata": {
        "id": "NDcJYo7ZbKu_"
      },
      "outputs": [],
      "source": [
        "img = load_img('/content/output/train/Fibrosis/00000067_000.png')\n",
        "x = img_to_array(img)\n",
        "x = x.reshape((1,) + x.shape)\n",
        "i = 0\n",
        "for batch in datagen.flow(x, batch_size=1,\n",
        " save_to_dir='/content/output/train/Fibrosis',\n",
        " save_prefix='br', save_format='jpeg'):\n",
        " i += 1\n",
        " if i > 180 :\n",
        "    break"
      ]
    },
    {
      "cell_type": "code",
      "execution_count": null,
      "metadata": {
        "id": "3mecLG-zbKyt"
      },
      "outputs": [],
      "source": [
        "img = load_img('/content/output/train/Fibrosis/00000099_013.png')\n",
        "x = img_to_array(img)\n",
        "x = x.reshape((1,) + x.shape)\n",
        "i = 0\n",
        "for batch in datagen.flow(x, batch_size=1,\n",
        " save_to_dir='/content/output/train/Fibrosis',\n",
        " save_prefix='br', save_format='jpeg'):\n",
        " i += 1\n",
        " if i > 10 :\n",
        "    break"
      ]
    },
    {
      "cell_type": "code",
      "execution_count": null,
      "metadata": {
        "id": "rKsnDkB8iJNq"
      },
      "outputs": [],
      "source": [
        "img = load_img('/content/output/train/Fibrosis/00000099_013.png')\n",
        "x = img_to_array(img)\n",
        "x = x.reshape((1,) + x.shape)\n",
        "i = 0\n",
        "for batch in datagen.flow(x, batch_size=1,\n",
        " save_to_dir='/content/output/train/Fibrosis',\n",
        " save_prefix='br', save_format='jpeg'):\n",
        " i += 1\n",
        " if i > 60 :\n",
        "    break"
      ]
    },
    {
      "cell_type": "code",
      "execution_count": null,
      "metadata": {
        "id": "CHPCwpAs-Bc4"
      },
      "outputs": [],
      "source": [
        "img = load_img('/content/output/train/Fibrosis/00000099_013.png')\n",
        "x = img_to_array(img)\n",
        "x = x.reshape((1,) + x.shape)\n",
        "i = 0\n",
        "for batch in datagen.flow(x, batch_size=1,\n",
        " save_to_dir='/content/output/train/Fibrosis',\n",
        " save_prefix='br', save_format='jpeg'):\n",
        " i += 1\n",
        " if i > 30 :\n",
        "    break"
      ]
    },
    {
      "cell_type": "code",
      "execution_count": null,
      "metadata": {
        "id": "2HNnlMATZ4Mb"
      },
      "outputs": [],
      "source": [
        "img = load_img('/content/output/train/Fibrosis/00000359_008.png')\n",
        "x = img_to_array(img)\n",
        "x = x.reshape((1,) + x.shape)\n",
        "i = 0\n",
        "for batch in datagen.flow(x, batch_size=1,\n",
        " save_to_dir='/content/output/train/Fibrosis',\n",
        " save_prefix='br', save_format='jpeg'):\n",
        " i += 1\n",
        " if i > 600 :\n",
        "    break"
      ]
    },
    {
      "cell_type": "code",
      "execution_count": null,
      "metadata": {
        "id": "7bO69-ASip2g"
      },
      "outputs": [],
      "source": [
        "img = load_img('/content/output/train/Fibrosis/00000613_000.png')\n",
        "x = img_to_array(img)\n",
        "x = x.reshape((1,) + x.shape)\n",
        "i = 0\n",
        "for batch in datagen.flow(x, batch_size=1,\n",
        " save_to_dir='/content/output/train/Fibrosis',\n",
        " save_prefix='br', save_format='jpeg'):\n",
        " i += 1\n",
        " if i > 110 :\n",
        "    break"
      ]
    },
    {
      "cell_type": "code",
      "execution_count": null,
      "metadata": {
        "id": "o_5Tp4Esi-Tl"
      },
      "outputs": [],
      "source": [
        "img = load_img('/content/output/train/Fibrosis/00001688_001.png')\n",
        "x = img_to_array(img)\n",
        "x = x.reshape((1,) + x.shape)\n",
        "i = 0\n",
        "for batch in datagen.flow(x, batch_size=1,\n",
        " save_to_dir='/content/output/train/Fibrosis',\n",
        " save_prefix='br', save_format='jpeg'):\n",
        " i += 1\n",
        " if i > 22 :\n",
        "    break"
      ]
    },
    {
      "cell_type": "code",
      "execution_count": null,
      "metadata": {
        "id": "xDUkkukijI7o"
      },
      "outputs": [],
      "source": [
        "img = load_img('/content/output/train/Fibrosis/00001688_001.png')\n",
        "x = img_to_array(img)\n",
        "x = x.reshape((1,) + x.shape)\n",
        "i = 0\n",
        "for batch in datagen.flow(x, batch_size=1,\n",
        " save_to_dir='/content/output/train/Fibrosis',\n",
        " save_prefix='br', save_format='jpeg'):\n",
        " i += 1\n",
        " if i > 22 :\n",
        "    break"
      ]
    },
    {
      "cell_type": "code",
      "execution_count": null,
      "metadata": {
        "id": "nHQ7f-8bpGy_"
      },
      "outputs": [],
      "source": [
        "img = load_img('/content/output/train/Fibrosis/00001688_001.png')\n",
        "x = img_to_array(img)\n",
        "x = x.reshape((1,) + x.shape)\n",
        "i = 0\n",
        "for batch in datagen.flow(x, batch_size=1,\n",
        " save_to_dir='/content/output/train/Fibrosis',\n",
        " save_prefix='br', save_format='jpeg'):\n",
        " i += 1\n",
        " if i > 40 :\n",
        "    break"
      ]
    },
    {
      "cell_type": "code",
      "execution_count": null,
      "metadata": {
        "id": "ic6-A4GMY6kg"
      },
      "outputs": [],
      "source": [
        "img = load_img('/content/output/train/Fibrosis/00001688_001.png')\n",
        "x = img_to_array(img)\n",
        "x = x.reshape((1,) + x.shape)\n",
        "i = 0\n",
        "for batch in datagen.flow(x, batch_size=1,\n",
        " save_to_dir='/content/output/train/Fibrosis',\n",
        " save_prefix='br', save_format='jpeg'):\n",
        " i += 1\n",
        " if i > 5 :\n",
        "    break"
      ]
    },
    {
      "cell_type": "code",
      "execution_count": null,
      "metadata": {
        "id": "SQn_t7f6ZA6a"
      },
      "outputs": [],
      "source": [
        "img = load_img('/content/output/train/Fibrosis/00001688_001.png')\n",
        "x = img_to_array(img)\n",
        "x = x.reshape((1,) + x.shape)\n",
        "i = 0\n",
        "for batch in datagen.flow(x, batch_size=1,\n",
        " save_to_dir='/content/output/train/Fibrosis',\n",
        " save_prefix='br', save_format='jpeg'):\n",
        " i += 1\n",
        " if i > 2 :\n",
        "    break"
      ]
    },
    {
      "cell_type": "code",
      "execution_count": null,
      "metadata": {
        "colab": {
          "base_uri": "https://localhost:8080/"
        },
        "id": "2V7ql9IMbK0p",
        "outputId": "0deb6b95-c5ee-47b9-c887-3723d5d5185e"
      },
      "outputs": [
        {
          "output_type": "stream",
          "name": "stdout",
          "text": [
            "2892\n"
          ]
        }
      ],
      "source": [
        "import glob\n",
        "print (len(glob.glob('/content/output/train/Fibrosis/*')))"
      ]
    },
    {
      "cell_type": "code",
      "execution_count": null,
      "metadata": {
        "id": "3xjchhIzbK2s"
      },
      "outputs": [],
      "source": [
        "import pickle\n",
        "import gc\n",
        "import cv2\n",
        "import matplotlib.pyplot as plt\n",
        "import numpy as np\n",
        "import tensorflow as tf\n",
        "from keras import Model\n",
        "from keras.callbacks import ModelCheckpoint\n",
        "from tensorflow.keras.layers import Conv2D, MaxPooling2D\n",
        "from tensorflow.keras.layers import Dense, Dropout, Flatten\n",
        "from tensorflow.keras.models import Sequential\n",
        "from tensorflow.keras.optimizers import Adam\n",
        "\n",
        "import time\n",
        "from tensorflow.keras.layers import BatchNormalization\n",
        "from keras.layers import Input, Lambda, Dense, Flatten\n",
        "from keras.models import Model\n",
        "from tensorflow.keras.applications.vgg16 import VGG16\n",
        "from tensorflow.keras.applications.vgg16 import preprocess_input\n",
        "from tensorflow.keras.applications.inception_resnet_v2 import InceptionResNetV2\n",
        "from tensorflow.keras.applications.inception_resnet_v2 import preprocess_input\n",
        "from tensorflow.keras.applications.inception_v3 import InceptionV3\n",
        "from tensorflow.keras.applications.inception_v3 import preprocess_input\n",
        "from tensorflow.keras.applications.nasnet import NASNetLarge\n",
        "from keras.preprocessing import image\n",
        "from keras.preprocessing.image import ImageDataGenerator\n",
        "from keras.models import Sequential\n",
        "\n",
        "from glob import glob"
      ]
    },
    {
      "cell_type": "code",
      "execution_count": null,
      "metadata": {
        "id": "DNGfUQtsbK4N"
      },
      "outputs": [],
      "source": [
        "IMAGE_SIZE = [299, 299]"
      ]
    },
    {
      "cell_type": "code",
      "execution_count": null,
      "metadata": {
        "colab": {
          "base_uri": "https://localhost:8080/"
        },
        "id": "Hsp0C4NebK6l",
        "outputId": "93646e1a-87c7-4f94-de61-afe46007a9ab"
      },
      "outputs": [
        {
          "output_type": "stream",
          "name": "stdout",
          "text": [
            "Downloading data from https://storage.googleapis.com/tensorflow/keras-applications/inception_v3/inception_v3_weights_tf_dim_ordering_tf_kernels_notop.h5\n",
            "87910968/87910968 [==============================] - 1s 0us/step\n"
          ]
        }
      ],
      "source": [
        "inception_v3 = InceptionV3(input_shape=IMAGE_SIZE + [3], weights='imagenet', include_top=False)\n",
        "\n",
        "# don't train existing weights\n",
        "for layer in inception_v3.layers:\n",
        "  layer.trainable = False"
      ]
    },
    {
      "cell_type": "code",
      "execution_count": null,
      "metadata": {
        "colab": {
          "base_uri": "https://localhost:8080/"
        },
        "id": "gXoRtcIqbK-B",
        "outputId": "292382dd-1f28-4ae5-e86a-a93092598095"
      },
      "outputs": [
        {
          "output_type": "stream",
          "name": "stdout",
          "text": [
            "Model: \"model\"\n",
            "__________________________________________________________________________________________________\n",
            " Layer (type)                   Output Shape         Param #     Connected to                     \n",
            "==================================================================================================\n",
            " input_1 (InputLayer)           [(None, 299, 299, 3  0           []                               \n",
            "                                )]                                                                \n",
            "                                                                                                  \n",
            " conv2d (Conv2D)                (None, 149, 149, 32  864         ['input_1[0][0]']                \n",
            "                                )                                                                 \n",
            "                                                                                                  \n",
            " batch_normalization (BatchNorm  (None, 149, 149, 32  96         ['conv2d[0][0]']                 \n",
            " alization)                     )                                                                 \n",
            "                                                                                                  \n",
            " activation (Activation)        (None, 149, 149, 32  0           ['batch_normalization[0][0]']    \n",
            "                                )                                                                 \n",
            "                                                                                                  \n",
            " conv2d_1 (Conv2D)              (None, 147, 147, 32  9216        ['activation[0][0]']             \n",
            "                                )                                                                 \n",
            "                                                                                                  \n",
            " batch_normalization_1 (BatchNo  (None, 147, 147, 32  96         ['conv2d_1[0][0]']               \n",
            " rmalization)                   )                                                                 \n",
            "                                                                                                  \n",
            " activation_1 (Activation)      (None, 147, 147, 32  0           ['batch_normalization_1[0][0]']  \n",
            "                                )                                                                 \n",
            "                                                                                                  \n",
            " conv2d_2 (Conv2D)              (None, 147, 147, 64  18432       ['activation_1[0][0]']           \n",
            "                                )                                                                 \n",
            "                                                                                                  \n",
            " batch_normalization_2 (BatchNo  (None, 147, 147, 64  192        ['conv2d_2[0][0]']               \n",
            " rmalization)                   )                                                                 \n",
            "                                                                                                  \n",
            " activation_2 (Activation)      (None, 147, 147, 64  0           ['batch_normalization_2[0][0]']  \n",
            "                                )                                                                 \n",
            "                                                                                                  \n",
            " max_pooling2d (MaxPooling2D)   (None, 73, 73, 64)   0           ['activation_2[0][0]']           \n",
            "                                                                                                  \n",
            " conv2d_3 (Conv2D)              (None, 73, 73, 80)   5120        ['max_pooling2d[0][0]']          \n",
            "                                                                                                  \n",
            " batch_normalization_3 (BatchNo  (None, 73, 73, 80)  240         ['conv2d_3[0][0]']               \n",
            " rmalization)                                                                                     \n",
            "                                                                                                  \n",
            " activation_3 (Activation)      (None, 73, 73, 80)   0           ['batch_normalization_3[0][0]']  \n",
            "                                                                                                  \n",
            " conv2d_4 (Conv2D)              (None, 71, 71, 192)  138240      ['activation_3[0][0]']           \n",
            "                                                                                                  \n",
            " batch_normalization_4 (BatchNo  (None, 71, 71, 192)  576        ['conv2d_4[0][0]']               \n",
            " rmalization)                                                                                     \n",
            "                                                                                                  \n",
            " activation_4 (Activation)      (None, 71, 71, 192)  0           ['batch_normalization_4[0][0]']  \n",
            "                                                                                                  \n",
            " max_pooling2d_1 (MaxPooling2D)  (None, 35, 35, 192)  0          ['activation_4[0][0]']           \n",
            "                                                                                                  \n",
            " conv2d_8 (Conv2D)              (None, 35, 35, 64)   12288       ['max_pooling2d_1[0][0]']        \n",
            "                                                                                                  \n",
            " batch_normalization_8 (BatchNo  (None, 35, 35, 64)  192         ['conv2d_8[0][0]']               \n",
            " rmalization)                                                                                     \n",
            "                                                                                                  \n",
            " activation_8 (Activation)      (None, 35, 35, 64)   0           ['batch_normalization_8[0][0]']  \n",
            "                                                                                                  \n",
            " conv2d_6 (Conv2D)              (None, 35, 35, 48)   9216        ['max_pooling2d_1[0][0]']        \n",
            "                                                                                                  \n",
            " conv2d_9 (Conv2D)              (None, 35, 35, 96)   55296       ['activation_8[0][0]']           \n",
            "                                                                                                  \n",
            " batch_normalization_6 (BatchNo  (None, 35, 35, 48)  144         ['conv2d_6[0][0]']               \n",
            " rmalization)                                                                                     \n",
            "                                                                                                  \n",
            " batch_normalization_9 (BatchNo  (None, 35, 35, 96)  288         ['conv2d_9[0][0]']               \n",
            " rmalization)                                                                                     \n",
            "                                                                                                  \n",
            " activation_6 (Activation)      (None, 35, 35, 48)   0           ['batch_normalization_6[0][0]']  \n",
            "                                                                                                  \n",
            " activation_9 (Activation)      (None, 35, 35, 96)   0           ['batch_normalization_9[0][0]']  \n",
            "                                                                                                  \n",
            " average_pooling2d (AveragePool  (None, 35, 35, 192)  0          ['max_pooling2d_1[0][0]']        \n",
            " ing2D)                                                                                           \n",
            "                                                                                                  \n",
            " conv2d_5 (Conv2D)              (None, 35, 35, 64)   12288       ['max_pooling2d_1[0][0]']        \n",
            "                                                                                                  \n",
            " conv2d_7 (Conv2D)              (None, 35, 35, 64)   76800       ['activation_6[0][0]']           \n",
            "                                                                                                  \n",
            " conv2d_10 (Conv2D)             (None, 35, 35, 96)   82944       ['activation_9[0][0]']           \n",
            "                                                                                                  \n",
            " conv2d_11 (Conv2D)             (None, 35, 35, 32)   6144        ['average_pooling2d[0][0]']      \n",
            "                                                                                                  \n",
            " batch_normalization_5 (BatchNo  (None, 35, 35, 64)  192         ['conv2d_5[0][0]']               \n",
            " rmalization)                                                                                     \n",
            "                                                                                                  \n",
            " batch_normalization_7 (BatchNo  (None, 35, 35, 64)  192         ['conv2d_7[0][0]']               \n",
            " rmalization)                                                                                     \n",
            "                                                                                                  \n",
            " batch_normalization_10 (BatchN  (None, 35, 35, 96)  288         ['conv2d_10[0][0]']              \n",
            " ormalization)                                                                                    \n",
            "                                                                                                  \n",
            " batch_normalization_11 (BatchN  (None, 35, 35, 32)  96          ['conv2d_11[0][0]']              \n",
            " ormalization)                                                                                    \n",
            "                                                                                                  \n",
            " activation_5 (Activation)      (None, 35, 35, 64)   0           ['batch_normalization_5[0][0]']  \n",
            "                                                                                                  \n",
            " activation_7 (Activation)      (None, 35, 35, 64)   0           ['batch_normalization_7[0][0]']  \n",
            "                                                                                                  \n",
            " activation_10 (Activation)     (None, 35, 35, 96)   0           ['batch_normalization_10[0][0]'] \n",
            "                                                                                                  \n",
            " activation_11 (Activation)     (None, 35, 35, 32)   0           ['batch_normalization_11[0][0]'] \n",
            "                                                                                                  \n",
            " mixed0 (Concatenate)           (None, 35, 35, 256)  0           ['activation_5[0][0]',           \n",
            "                                                                  'activation_7[0][0]',           \n",
            "                                                                  'activation_10[0][0]',          \n",
            "                                                                  'activation_11[0][0]']          \n",
            "                                                                                                  \n",
            " conv2d_15 (Conv2D)             (None, 35, 35, 64)   16384       ['mixed0[0][0]']                 \n",
            "                                                                                                  \n",
            " batch_normalization_15 (BatchN  (None, 35, 35, 64)  192         ['conv2d_15[0][0]']              \n",
            " ormalization)                                                                                    \n",
            "                                                                                                  \n",
            " activation_15 (Activation)     (None, 35, 35, 64)   0           ['batch_normalization_15[0][0]'] \n",
            "                                                                                                  \n",
            " conv2d_13 (Conv2D)             (None, 35, 35, 48)   12288       ['mixed0[0][0]']                 \n",
            "                                                                                                  \n",
            " conv2d_16 (Conv2D)             (None, 35, 35, 96)   55296       ['activation_15[0][0]']          \n",
            "                                                                                                  \n",
            " batch_normalization_13 (BatchN  (None, 35, 35, 48)  144         ['conv2d_13[0][0]']              \n",
            " ormalization)                                                                                    \n",
            "                                                                                                  \n",
            " batch_normalization_16 (BatchN  (None, 35, 35, 96)  288         ['conv2d_16[0][0]']              \n",
            " ormalization)                                                                                    \n",
            "                                                                                                  \n",
            " activation_13 (Activation)     (None, 35, 35, 48)   0           ['batch_normalization_13[0][0]'] \n",
            "                                                                                                  \n",
            " activation_16 (Activation)     (None, 35, 35, 96)   0           ['batch_normalization_16[0][0]'] \n",
            "                                                                                                  \n",
            " average_pooling2d_1 (AveragePo  (None, 35, 35, 256)  0          ['mixed0[0][0]']                 \n",
            " oling2D)                                                                                         \n",
            "                                                                                                  \n",
            " conv2d_12 (Conv2D)             (None, 35, 35, 64)   16384       ['mixed0[0][0]']                 \n",
            "                                                                                                  \n",
            " conv2d_14 (Conv2D)             (None, 35, 35, 64)   76800       ['activation_13[0][0]']          \n",
            "                                                                                                  \n",
            " conv2d_17 (Conv2D)             (None, 35, 35, 96)   82944       ['activation_16[0][0]']          \n",
            "                                                                                                  \n",
            " conv2d_18 (Conv2D)             (None, 35, 35, 64)   16384       ['average_pooling2d_1[0][0]']    \n",
            "                                                                                                  \n",
            " batch_normalization_12 (BatchN  (None, 35, 35, 64)  192         ['conv2d_12[0][0]']              \n",
            " ormalization)                                                                                    \n",
            "                                                                                                  \n",
            " batch_normalization_14 (BatchN  (None, 35, 35, 64)  192         ['conv2d_14[0][0]']              \n",
            " ormalization)                                                                                    \n",
            "                                                                                                  \n",
            " batch_normalization_17 (BatchN  (None, 35, 35, 96)  288         ['conv2d_17[0][0]']              \n",
            " ormalization)                                                                                    \n",
            "                                                                                                  \n",
            " batch_normalization_18 (BatchN  (None, 35, 35, 64)  192         ['conv2d_18[0][0]']              \n",
            " ormalization)                                                                                    \n",
            "                                                                                                  \n",
            " activation_12 (Activation)     (None, 35, 35, 64)   0           ['batch_normalization_12[0][0]'] \n",
            "                                                                                                  \n",
            " activation_14 (Activation)     (None, 35, 35, 64)   0           ['batch_normalization_14[0][0]'] \n",
            "                                                                                                  \n",
            " activation_17 (Activation)     (None, 35, 35, 96)   0           ['batch_normalization_17[0][0]'] \n",
            "                                                                                                  \n",
            " activation_18 (Activation)     (None, 35, 35, 64)   0           ['batch_normalization_18[0][0]'] \n",
            "                                                                                                  \n",
            " mixed1 (Concatenate)           (None, 35, 35, 288)  0           ['activation_12[0][0]',          \n",
            "                                                                  'activation_14[0][0]',          \n",
            "                                                                  'activation_17[0][0]',          \n",
            "                                                                  'activation_18[0][0]']          \n",
            "                                                                                                  \n",
            " conv2d_22 (Conv2D)             (None, 35, 35, 64)   18432       ['mixed1[0][0]']                 \n",
            "                                                                                                  \n",
            " batch_normalization_22 (BatchN  (None, 35, 35, 64)  192         ['conv2d_22[0][0]']              \n",
            " ormalization)                                                                                    \n",
            "                                                                                                  \n",
            " activation_22 (Activation)     (None, 35, 35, 64)   0           ['batch_normalization_22[0][0]'] \n",
            "                                                                                                  \n",
            " conv2d_20 (Conv2D)             (None, 35, 35, 48)   13824       ['mixed1[0][0]']                 \n",
            "                                                                                                  \n",
            " conv2d_23 (Conv2D)             (None, 35, 35, 96)   55296       ['activation_22[0][0]']          \n",
            "                                                                                                  \n",
            " batch_normalization_20 (BatchN  (None, 35, 35, 48)  144         ['conv2d_20[0][0]']              \n",
            " ormalization)                                                                                    \n",
            "                                                                                                  \n",
            " batch_normalization_23 (BatchN  (None, 35, 35, 96)  288         ['conv2d_23[0][0]']              \n",
            " ormalization)                                                                                    \n",
            "                                                                                                  \n",
            " activation_20 (Activation)     (None, 35, 35, 48)   0           ['batch_normalization_20[0][0]'] \n",
            "                                                                                                  \n",
            " activation_23 (Activation)     (None, 35, 35, 96)   0           ['batch_normalization_23[0][0]'] \n",
            "                                                                                                  \n",
            " average_pooling2d_2 (AveragePo  (None, 35, 35, 288)  0          ['mixed1[0][0]']                 \n",
            " oling2D)                                                                                         \n",
            "                                                                                                  \n",
            " conv2d_19 (Conv2D)             (None, 35, 35, 64)   18432       ['mixed1[0][0]']                 \n",
            "                                                                                                  \n",
            " conv2d_21 (Conv2D)             (None, 35, 35, 64)   76800       ['activation_20[0][0]']          \n",
            "                                                                                                  \n",
            " conv2d_24 (Conv2D)             (None, 35, 35, 96)   82944       ['activation_23[0][0]']          \n",
            "                                                                                                  \n",
            " conv2d_25 (Conv2D)             (None, 35, 35, 64)   18432       ['average_pooling2d_2[0][0]']    \n",
            "                                                                                                  \n",
            " batch_normalization_19 (BatchN  (None, 35, 35, 64)  192         ['conv2d_19[0][0]']              \n",
            " ormalization)                                                                                    \n",
            "                                                                                                  \n",
            " batch_normalization_21 (BatchN  (None, 35, 35, 64)  192         ['conv2d_21[0][0]']              \n",
            " ormalization)                                                                                    \n",
            "                                                                                                  \n",
            " batch_normalization_24 (BatchN  (None, 35, 35, 96)  288         ['conv2d_24[0][0]']              \n",
            " ormalization)                                                                                    \n",
            "                                                                                                  \n",
            " batch_normalization_25 (BatchN  (None, 35, 35, 64)  192         ['conv2d_25[0][0]']              \n",
            " ormalization)                                                                                    \n",
            "                                                                                                  \n",
            " activation_19 (Activation)     (None, 35, 35, 64)   0           ['batch_normalization_19[0][0]'] \n",
            "                                                                                                  \n",
            " activation_21 (Activation)     (None, 35, 35, 64)   0           ['batch_normalization_21[0][0]'] \n",
            "                                                                                                  \n",
            " activation_24 (Activation)     (None, 35, 35, 96)   0           ['batch_normalization_24[0][0]'] \n",
            "                                                                                                  \n",
            " activation_25 (Activation)     (None, 35, 35, 64)   0           ['batch_normalization_25[0][0]'] \n",
            "                                                                                                  \n",
            " mixed2 (Concatenate)           (None, 35, 35, 288)  0           ['activation_19[0][0]',          \n",
            "                                                                  'activation_21[0][0]',          \n",
            "                                                                  'activation_24[0][0]',          \n",
            "                                                                  'activation_25[0][0]']          \n",
            "                                                                                                  \n",
            " conv2d_27 (Conv2D)             (None, 35, 35, 64)   18432       ['mixed2[0][0]']                 \n",
            "                                                                                                  \n",
            " batch_normalization_27 (BatchN  (None, 35, 35, 64)  192         ['conv2d_27[0][0]']              \n",
            " ormalization)                                                                                    \n",
            "                                                                                                  \n",
            " activation_27 (Activation)     (None, 35, 35, 64)   0           ['batch_normalization_27[0][0]'] \n",
            "                                                                                                  \n",
            " conv2d_28 (Conv2D)             (None, 35, 35, 96)   55296       ['activation_27[0][0]']          \n",
            "                                                                                                  \n",
            " batch_normalization_28 (BatchN  (None, 35, 35, 96)  288         ['conv2d_28[0][0]']              \n",
            " ormalization)                                                                                    \n",
            "                                                                                                  \n",
            " activation_28 (Activation)     (None, 35, 35, 96)   0           ['batch_normalization_28[0][0]'] \n",
            "                                                                                                  \n",
            " conv2d_26 (Conv2D)             (None, 17, 17, 384)  995328      ['mixed2[0][0]']                 \n",
            "                                                                                                  \n",
            " conv2d_29 (Conv2D)             (None, 17, 17, 96)   82944       ['activation_28[0][0]']          \n",
            "                                                                                                  \n",
            " batch_normalization_26 (BatchN  (None, 17, 17, 384)  1152       ['conv2d_26[0][0]']              \n",
            " ormalization)                                                                                    \n",
            "                                                                                                  \n",
            " batch_normalization_29 (BatchN  (None, 17, 17, 96)  288         ['conv2d_29[0][0]']              \n",
            " ormalization)                                                                                    \n",
            "                                                                                                  \n",
            " activation_26 (Activation)     (None, 17, 17, 384)  0           ['batch_normalization_26[0][0]'] \n",
            "                                                                                                  \n",
            " activation_29 (Activation)     (None, 17, 17, 96)   0           ['batch_normalization_29[0][0]'] \n",
            "                                                                                                  \n",
            " max_pooling2d_2 (MaxPooling2D)  (None, 17, 17, 288)  0          ['mixed2[0][0]']                 \n",
            "                                                                                                  \n",
            " mixed3 (Concatenate)           (None, 17, 17, 768)  0           ['activation_26[0][0]',          \n",
            "                                                                  'activation_29[0][0]',          \n",
            "                                                                  'max_pooling2d_2[0][0]']        \n",
            "                                                                                                  \n",
            " conv2d_34 (Conv2D)             (None, 17, 17, 128)  98304       ['mixed3[0][0]']                 \n",
            "                                                                                                  \n",
            " batch_normalization_34 (BatchN  (None, 17, 17, 128)  384        ['conv2d_34[0][0]']              \n",
            " ormalization)                                                                                    \n",
            "                                                                                                  \n",
            " activation_34 (Activation)     (None, 17, 17, 128)  0           ['batch_normalization_34[0][0]'] \n",
            "                                                                                                  \n",
            " conv2d_35 (Conv2D)             (None, 17, 17, 128)  114688      ['activation_34[0][0]']          \n",
            "                                                                                                  \n",
            " batch_normalization_35 (BatchN  (None, 17, 17, 128)  384        ['conv2d_35[0][0]']              \n",
            " ormalization)                                                                                    \n",
            "                                                                                                  \n",
            " activation_35 (Activation)     (None, 17, 17, 128)  0           ['batch_normalization_35[0][0]'] \n",
            "                                                                                                  \n",
            " conv2d_31 (Conv2D)             (None, 17, 17, 128)  98304       ['mixed3[0][0]']                 \n",
            "                                                                                                  \n",
            " conv2d_36 (Conv2D)             (None, 17, 17, 128)  114688      ['activation_35[0][0]']          \n",
            "                                                                                                  \n",
            " batch_normalization_31 (BatchN  (None, 17, 17, 128)  384        ['conv2d_31[0][0]']              \n",
            " ormalization)                                                                                    \n",
            "                                                                                                  \n",
            " batch_normalization_36 (BatchN  (None, 17, 17, 128)  384        ['conv2d_36[0][0]']              \n",
            " ormalization)                                                                                    \n",
            "                                                                                                  \n",
            " activation_31 (Activation)     (None, 17, 17, 128)  0           ['batch_normalization_31[0][0]'] \n",
            "                                                                                                  \n",
            " activation_36 (Activation)     (None, 17, 17, 128)  0           ['batch_normalization_36[0][0]'] \n",
            "                                                                                                  \n",
            " conv2d_32 (Conv2D)             (None, 17, 17, 128)  114688      ['activation_31[0][0]']          \n",
            "                                                                                                  \n",
            " conv2d_37 (Conv2D)             (None, 17, 17, 128)  114688      ['activation_36[0][0]']          \n",
            "                                                                                                  \n",
            " batch_normalization_32 (BatchN  (None, 17, 17, 128)  384        ['conv2d_32[0][0]']              \n",
            " ormalization)                                                                                    \n",
            "                                                                                                  \n",
            " batch_normalization_37 (BatchN  (None, 17, 17, 128)  384        ['conv2d_37[0][0]']              \n",
            " ormalization)                                                                                    \n",
            "                                                                                                  \n",
            " activation_32 (Activation)     (None, 17, 17, 128)  0           ['batch_normalization_32[0][0]'] \n",
            "                                                                                                  \n",
            " activation_37 (Activation)     (None, 17, 17, 128)  0           ['batch_normalization_37[0][0]'] \n",
            "                                                                                                  \n",
            " average_pooling2d_3 (AveragePo  (None, 17, 17, 768)  0          ['mixed3[0][0]']                 \n",
            " oling2D)                                                                                         \n",
            "                                                                                                  \n",
            " conv2d_30 (Conv2D)             (None, 17, 17, 192)  147456      ['mixed3[0][0]']                 \n",
            "                                                                                                  \n",
            " conv2d_33 (Conv2D)             (None, 17, 17, 192)  172032      ['activation_32[0][0]']          \n",
            "                                                                                                  \n",
            " conv2d_38 (Conv2D)             (None, 17, 17, 192)  172032      ['activation_37[0][0]']          \n",
            "                                                                                                  \n",
            " conv2d_39 (Conv2D)             (None, 17, 17, 192)  147456      ['average_pooling2d_3[0][0]']    \n",
            "                                                                                                  \n",
            " batch_normalization_30 (BatchN  (None, 17, 17, 192)  576        ['conv2d_30[0][0]']              \n",
            " ormalization)                                                                                    \n",
            "                                                                                                  \n",
            " batch_normalization_33 (BatchN  (None, 17, 17, 192)  576        ['conv2d_33[0][0]']              \n",
            " ormalization)                                                                                    \n",
            "                                                                                                  \n",
            " batch_normalization_38 (BatchN  (None, 17, 17, 192)  576        ['conv2d_38[0][0]']              \n",
            " ormalization)                                                                                    \n",
            "                                                                                                  \n",
            " batch_normalization_39 (BatchN  (None, 17, 17, 192)  576        ['conv2d_39[0][0]']              \n",
            " ormalization)                                                                                    \n",
            "                                                                                                  \n",
            " activation_30 (Activation)     (None, 17, 17, 192)  0           ['batch_normalization_30[0][0]'] \n",
            "                                                                                                  \n",
            " activation_33 (Activation)     (None, 17, 17, 192)  0           ['batch_normalization_33[0][0]'] \n",
            "                                                                                                  \n",
            " activation_38 (Activation)     (None, 17, 17, 192)  0           ['batch_normalization_38[0][0]'] \n",
            "                                                                                                  \n",
            " activation_39 (Activation)     (None, 17, 17, 192)  0           ['batch_normalization_39[0][0]'] \n",
            "                                                                                                  \n",
            " mixed4 (Concatenate)           (None, 17, 17, 768)  0           ['activation_30[0][0]',          \n",
            "                                                                  'activation_33[0][0]',          \n",
            "                                                                  'activation_38[0][0]',          \n",
            "                                                                  'activation_39[0][0]']          \n",
            "                                                                                                  \n",
            " conv2d_44 (Conv2D)             (None, 17, 17, 160)  122880      ['mixed4[0][0]']                 \n",
            "                                                                                                  \n",
            " batch_normalization_44 (BatchN  (None, 17, 17, 160)  480        ['conv2d_44[0][0]']              \n",
            " ormalization)                                                                                    \n",
            "                                                                                                  \n",
            " activation_44 (Activation)     (None, 17, 17, 160)  0           ['batch_normalization_44[0][0]'] \n",
            "                                                                                                  \n",
            " conv2d_45 (Conv2D)             (None, 17, 17, 160)  179200      ['activation_44[0][0]']          \n",
            "                                                                                                  \n",
            " batch_normalization_45 (BatchN  (None, 17, 17, 160)  480        ['conv2d_45[0][0]']              \n",
            " ormalization)                                                                                    \n",
            "                                                                                                  \n",
            " activation_45 (Activation)     (None, 17, 17, 160)  0           ['batch_normalization_45[0][0]'] \n",
            "                                                                                                  \n",
            " conv2d_41 (Conv2D)             (None, 17, 17, 160)  122880      ['mixed4[0][0]']                 \n",
            "                                                                                                  \n",
            " conv2d_46 (Conv2D)             (None, 17, 17, 160)  179200      ['activation_45[0][0]']          \n",
            "                                                                                                  \n",
            " batch_normalization_41 (BatchN  (None, 17, 17, 160)  480        ['conv2d_41[0][0]']              \n",
            " ormalization)                                                                                    \n",
            "                                                                                                  \n",
            " batch_normalization_46 (BatchN  (None, 17, 17, 160)  480        ['conv2d_46[0][0]']              \n",
            " ormalization)                                                                                    \n",
            "                                                                                                  \n",
            " activation_41 (Activation)     (None, 17, 17, 160)  0           ['batch_normalization_41[0][0]'] \n",
            "                                                                                                  \n",
            " activation_46 (Activation)     (None, 17, 17, 160)  0           ['batch_normalization_46[0][0]'] \n",
            "                                                                                                  \n",
            " conv2d_42 (Conv2D)             (None, 17, 17, 160)  179200      ['activation_41[0][0]']          \n",
            "                                                                                                  \n",
            " conv2d_47 (Conv2D)             (None, 17, 17, 160)  179200      ['activation_46[0][0]']          \n",
            "                                                                                                  \n",
            " batch_normalization_42 (BatchN  (None, 17, 17, 160)  480        ['conv2d_42[0][0]']              \n",
            " ormalization)                                                                                    \n",
            "                                                                                                  \n",
            " batch_normalization_47 (BatchN  (None, 17, 17, 160)  480        ['conv2d_47[0][0]']              \n",
            " ormalization)                                                                                    \n",
            "                                                                                                  \n",
            " activation_42 (Activation)     (None, 17, 17, 160)  0           ['batch_normalization_42[0][0]'] \n",
            "                                                                                                  \n",
            " activation_47 (Activation)     (None, 17, 17, 160)  0           ['batch_normalization_47[0][0]'] \n",
            "                                                                                                  \n",
            " average_pooling2d_4 (AveragePo  (None, 17, 17, 768)  0          ['mixed4[0][0]']                 \n",
            " oling2D)                                                                                         \n",
            "                                                                                                  \n",
            " conv2d_40 (Conv2D)             (None, 17, 17, 192)  147456      ['mixed4[0][0]']                 \n",
            "                                                                                                  \n",
            " conv2d_43 (Conv2D)             (None, 17, 17, 192)  215040      ['activation_42[0][0]']          \n",
            "                                                                                                  \n",
            " conv2d_48 (Conv2D)             (None, 17, 17, 192)  215040      ['activation_47[0][0]']          \n",
            "                                                                                                  \n",
            " conv2d_49 (Conv2D)             (None, 17, 17, 192)  147456      ['average_pooling2d_4[0][0]']    \n",
            "                                                                                                  \n",
            " batch_normalization_40 (BatchN  (None, 17, 17, 192)  576        ['conv2d_40[0][0]']              \n",
            " ormalization)                                                                                    \n",
            "                                                                                                  \n",
            " batch_normalization_43 (BatchN  (None, 17, 17, 192)  576        ['conv2d_43[0][0]']              \n",
            " ormalization)                                                                                    \n",
            "                                                                                                  \n",
            " batch_normalization_48 (BatchN  (None, 17, 17, 192)  576        ['conv2d_48[0][0]']              \n",
            " ormalization)                                                                                    \n",
            "                                                                                                  \n",
            " batch_normalization_49 (BatchN  (None, 17, 17, 192)  576        ['conv2d_49[0][0]']              \n",
            " ormalization)                                                                                    \n",
            "                                                                                                  \n",
            " activation_40 (Activation)     (None, 17, 17, 192)  0           ['batch_normalization_40[0][0]'] \n",
            "                                                                                                  \n",
            " activation_43 (Activation)     (None, 17, 17, 192)  0           ['batch_normalization_43[0][0]'] \n",
            "                                                                                                  \n",
            " activation_48 (Activation)     (None, 17, 17, 192)  0           ['batch_normalization_48[0][0]'] \n",
            "                                                                                                  \n",
            " activation_49 (Activation)     (None, 17, 17, 192)  0           ['batch_normalization_49[0][0]'] \n",
            "                                                                                                  \n",
            " mixed5 (Concatenate)           (None, 17, 17, 768)  0           ['activation_40[0][0]',          \n",
            "                                                                  'activation_43[0][0]',          \n",
            "                                                                  'activation_48[0][0]',          \n",
            "                                                                  'activation_49[0][0]']          \n",
            "                                                                                                  \n",
            " conv2d_54 (Conv2D)             (None, 17, 17, 160)  122880      ['mixed5[0][0]']                 \n",
            "                                                                                                  \n",
            " batch_normalization_54 (BatchN  (None, 17, 17, 160)  480        ['conv2d_54[0][0]']              \n",
            " ormalization)                                                                                    \n",
            "                                                                                                  \n",
            " activation_54 (Activation)     (None, 17, 17, 160)  0           ['batch_normalization_54[0][0]'] \n",
            "                                                                                                  \n",
            " conv2d_55 (Conv2D)             (None, 17, 17, 160)  179200      ['activation_54[0][0]']          \n",
            "                                                                                                  \n",
            " batch_normalization_55 (BatchN  (None, 17, 17, 160)  480        ['conv2d_55[0][0]']              \n",
            " ormalization)                                                                                    \n",
            "                                                                                                  \n",
            " activation_55 (Activation)     (None, 17, 17, 160)  0           ['batch_normalization_55[0][0]'] \n",
            "                                                                                                  \n",
            " conv2d_51 (Conv2D)             (None, 17, 17, 160)  122880      ['mixed5[0][0]']                 \n",
            "                                                                                                  \n",
            " conv2d_56 (Conv2D)             (None, 17, 17, 160)  179200      ['activation_55[0][0]']          \n",
            "                                                                                                  \n",
            " batch_normalization_51 (BatchN  (None, 17, 17, 160)  480        ['conv2d_51[0][0]']              \n",
            " ormalization)                                                                                    \n",
            "                                                                                                  \n",
            " batch_normalization_56 (BatchN  (None, 17, 17, 160)  480        ['conv2d_56[0][0]']              \n",
            " ormalization)                                                                                    \n",
            "                                                                                                  \n",
            " activation_51 (Activation)     (None, 17, 17, 160)  0           ['batch_normalization_51[0][0]'] \n",
            "                                                                                                  \n",
            " activation_56 (Activation)     (None, 17, 17, 160)  0           ['batch_normalization_56[0][0]'] \n",
            "                                                                                                  \n",
            " conv2d_52 (Conv2D)             (None, 17, 17, 160)  179200      ['activation_51[0][0]']          \n",
            "                                                                                                  \n",
            " conv2d_57 (Conv2D)             (None, 17, 17, 160)  179200      ['activation_56[0][0]']          \n",
            "                                                                                                  \n",
            " batch_normalization_52 (BatchN  (None, 17, 17, 160)  480        ['conv2d_52[0][0]']              \n",
            " ormalization)                                                                                    \n",
            "                                                                                                  \n",
            " batch_normalization_57 (BatchN  (None, 17, 17, 160)  480        ['conv2d_57[0][0]']              \n",
            " ormalization)                                                                                    \n",
            "                                                                                                  \n",
            " activation_52 (Activation)     (None, 17, 17, 160)  0           ['batch_normalization_52[0][0]'] \n",
            "                                                                                                  \n",
            " activation_57 (Activation)     (None, 17, 17, 160)  0           ['batch_normalization_57[0][0]'] \n",
            "                                                                                                  \n",
            " average_pooling2d_5 (AveragePo  (None, 17, 17, 768)  0          ['mixed5[0][0]']                 \n",
            " oling2D)                                                                                         \n",
            "                                                                                                  \n",
            " conv2d_50 (Conv2D)             (None, 17, 17, 192)  147456      ['mixed5[0][0]']                 \n",
            "                                                                                                  \n",
            " conv2d_53 (Conv2D)             (None, 17, 17, 192)  215040      ['activation_52[0][0]']          \n",
            "                                                                                                  \n",
            " conv2d_58 (Conv2D)             (None, 17, 17, 192)  215040      ['activation_57[0][0]']          \n",
            "                                                                                                  \n",
            " conv2d_59 (Conv2D)             (None, 17, 17, 192)  147456      ['average_pooling2d_5[0][0]']    \n",
            "                                                                                                  \n",
            " batch_normalization_50 (BatchN  (None, 17, 17, 192)  576        ['conv2d_50[0][0]']              \n",
            " ormalization)                                                                                    \n",
            "                                                                                                  \n",
            " batch_normalization_53 (BatchN  (None, 17, 17, 192)  576        ['conv2d_53[0][0]']              \n",
            " ormalization)                                                                                    \n",
            "                                                                                                  \n",
            " batch_normalization_58 (BatchN  (None, 17, 17, 192)  576        ['conv2d_58[0][0]']              \n",
            " ormalization)                                                                                    \n",
            "                                                                                                  \n",
            " batch_normalization_59 (BatchN  (None, 17, 17, 192)  576        ['conv2d_59[0][0]']              \n",
            " ormalization)                                                                                    \n",
            "                                                                                                  \n",
            " activation_50 (Activation)     (None, 17, 17, 192)  0           ['batch_normalization_50[0][0]'] \n",
            "                                                                                                  \n",
            " activation_53 (Activation)     (None, 17, 17, 192)  0           ['batch_normalization_53[0][0]'] \n",
            "                                                                                                  \n",
            " activation_58 (Activation)     (None, 17, 17, 192)  0           ['batch_normalization_58[0][0]'] \n",
            "                                                                                                  \n",
            " activation_59 (Activation)     (None, 17, 17, 192)  0           ['batch_normalization_59[0][0]'] \n",
            "                                                                                                  \n",
            " mixed6 (Concatenate)           (None, 17, 17, 768)  0           ['activation_50[0][0]',          \n",
            "                                                                  'activation_53[0][0]',          \n",
            "                                                                  'activation_58[0][0]',          \n",
            "                                                                  'activation_59[0][0]']          \n",
            "                                                                                                  \n",
            " conv2d_64 (Conv2D)             (None, 17, 17, 192)  147456      ['mixed6[0][0]']                 \n",
            "                                                                                                  \n",
            " batch_normalization_64 (BatchN  (None, 17, 17, 192)  576        ['conv2d_64[0][0]']              \n",
            " ormalization)                                                                                    \n",
            "                                                                                                  \n",
            " activation_64 (Activation)     (None, 17, 17, 192)  0           ['batch_normalization_64[0][0]'] \n",
            "                                                                                                  \n",
            " conv2d_65 (Conv2D)             (None, 17, 17, 192)  258048      ['activation_64[0][0]']          \n",
            "                                                                                                  \n",
            " batch_normalization_65 (BatchN  (None, 17, 17, 192)  576        ['conv2d_65[0][0]']              \n",
            " ormalization)                                                                                    \n",
            "                                                                                                  \n",
            " activation_65 (Activation)     (None, 17, 17, 192)  0           ['batch_normalization_65[0][0]'] \n",
            "                                                                                                  \n",
            " conv2d_61 (Conv2D)             (None, 17, 17, 192)  147456      ['mixed6[0][0]']                 \n",
            "                                                                                                  \n",
            " conv2d_66 (Conv2D)             (None, 17, 17, 192)  258048      ['activation_65[0][0]']          \n",
            "                                                                                                  \n",
            " batch_normalization_61 (BatchN  (None, 17, 17, 192)  576        ['conv2d_61[0][0]']              \n",
            " ormalization)                                                                                    \n",
            "                                                                                                  \n",
            " batch_normalization_66 (BatchN  (None, 17, 17, 192)  576        ['conv2d_66[0][0]']              \n",
            " ormalization)                                                                                    \n",
            "                                                                                                  \n",
            " activation_61 (Activation)     (None, 17, 17, 192)  0           ['batch_normalization_61[0][0]'] \n",
            "                                                                                                  \n",
            " activation_66 (Activation)     (None, 17, 17, 192)  0           ['batch_normalization_66[0][0]'] \n",
            "                                                                                                  \n",
            " conv2d_62 (Conv2D)             (None, 17, 17, 192)  258048      ['activation_61[0][0]']          \n",
            "                                                                                                  \n",
            " conv2d_67 (Conv2D)             (None, 17, 17, 192)  258048      ['activation_66[0][0]']          \n",
            "                                                                                                  \n",
            " batch_normalization_62 (BatchN  (None, 17, 17, 192)  576        ['conv2d_62[0][0]']              \n",
            " ormalization)                                                                                    \n",
            "                                                                                                  \n",
            " batch_normalization_67 (BatchN  (None, 17, 17, 192)  576        ['conv2d_67[0][0]']              \n",
            " ormalization)                                                                                    \n",
            "                                                                                                  \n",
            " activation_62 (Activation)     (None, 17, 17, 192)  0           ['batch_normalization_62[0][0]'] \n",
            "                                                                                                  \n",
            " activation_67 (Activation)     (None, 17, 17, 192)  0           ['batch_normalization_67[0][0]'] \n",
            "                                                                                                  \n",
            " average_pooling2d_6 (AveragePo  (None, 17, 17, 768)  0          ['mixed6[0][0]']                 \n",
            " oling2D)                                                                                         \n",
            "                                                                                                  \n",
            " conv2d_60 (Conv2D)             (None, 17, 17, 192)  147456      ['mixed6[0][0]']                 \n",
            "                                                                                                  \n",
            " conv2d_63 (Conv2D)             (None, 17, 17, 192)  258048      ['activation_62[0][0]']          \n",
            "                                                                                                  \n",
            " conv2d_68 (Conv2D)             (None, 17, 17, 192)  258048      ['activation_67[0][0]']          \n",
            "                                                                                                  \n",
            " conv2d_69 (Conv2D)             (None, 17, 17, 192)  147456      ['average_pooling2d_6[0][0]']    \n",
            "                                                                                                  \n",
            " batch_normalization_60 (BatchN  (None, 17, 17, 192)  576        ['conv2d_60[0][0]']              \n",
            " ormalization)                                                                                    \n",
            "                                                                                                  \n",
            " batch_normalization_63 (BatchN  (None, 17, 17, 192)  576        ['conv2d_63[0][0]']              \n",
            " ormalization)                                                                                    \n",
            "                                                                                                  \n",
            " batch_normalization_68 (BatchN  (None, 17, 17, 192)  576        ['conv2d_68[0][0]']              \n",
            " ormalization)                                                                                    \n",
            "                                                                                                  \n",
            " batch_normalization_69 (BatchN  (None, 17, 17, 192)  576        ['conv2d_69[0][0]']              \n",
            " ormalization)                                                                                    \n",
            "                                                                                                  \n",
            " activation_60 (Activation)     (None, 17, 17, 192)  0           ['batch_normalization_60[0][0]'] \n",
            "                                                                                                  \n",
            " activation_63 (Activation)     (None, 17, 17, 192)  0           ['batch_normalization_63[0][0]'] \n",
            "                                                                                                  \n",
            " activation_68 (Activation)     (None, 17, 17, 192)  0           ['batch_normalization_68[0][0]'] \n",
            "                                                                                                  \n",
            " activation_69 (Activation)     (None, 17, 17, 192)  0           ['batch_normalization_69[0][0]'] \n",
            "                                                                                                  \n",
            " mixed7 (Concatenate)           (None, 17, 17, 768)  0           ['activation_60[0][0]',          \n",
            "                                                                  'activation_63[0][0]',          \n",
            "                                                                  'activation_68[0][0]',          \n",
            "                                                                  'activation_69[0][0]']          \n",
            "                                                                                                  \n",
            " conv2d_72 (Conv2D)             (None, 17, 17, 192)  147456      ['mixed7[0][0]']                 \n",
            "                                                                                                  \n",
            " batch_normalization_72 (BatchN  (None, 17, 17, 192)  576        ['conv2d_72[0][0]']              \n",
            " ormalization)                                                                                    \n",
            "                                                                                                  \n",
            " activation_72 (Activation)     (None, 17, 17, 192)  0           ['batch_normalization_72[0][0]'] \n",
            "                                                                                                  \n",
            " conv2d_73 (Conv2D)             (None, 17, 17, 192)  258048      ['activation_72[0][0]']          \n",
            "                                                                                                  \n",
            " batch_normalization_73 (BatchN  (None, 17, 17, 192)  576        ['conv2d_73[0][0]']              \n",
            " ormalization)                                                                                    \n",
            "                                                                                                  \n",
            " activation_73 (Activation)     (None, 17, 17, 192)  0           ['batch_normalization_73[0][0]'] \n",
            "                                                                                                  \n",
            " conv2d_70 (Conv2D)             (None, 17, 17, 192)  147456      ['mixed7[0][0]']                 \n",
            "                                                                                                  \n",
            " conv2d_74 (Conv2D)             (None, 17, 17, 192)  258048      ['activation_73[0][0]']          \n",
            "                                                                                                  \n",
            " batch_normalization_70 (BatchN  (None, 17, 17, 192)  576        ['conv2d_70[0][0]']              \n",
            " ormalization)                                                                                    \n",
            "                                                                                                  \n",
            " batch_normalization_74 (BatchN  (None, 17, 17, 192)  576        ['conv2d_74[0][0]']              \n",
            " ormalization)                                                                                    \n",
            "                                                                                                  \n",
            " activation_70 (Activation)     (None, 17, 17, 192)  0           ['batch_normalization_70[0][0]'] \n",
            "                                                                                                  \n",
            " activation_74 (Activation)     (None, 17, 17, 192)  0           ['batch_normalization_74[0][0]'] \n",
            "                                                                                                  \n",
            " conv2d_71 (Conv2D)             (None, 8, 8, 320)    552960      ['activation_70[0][0]']          \n",
            "                                                                                                  \n",
            " conv2d_75 (Conv2D)             (None, 8, 8, 192)    331776      ['activation_74[0][0]']          \n",
            "                                                                                                  \n",
            " batch_normalization_71 (BatchN  (None, 8, 8, 320)   960         ['conv2d_71[0][0]']              \n",
            " ormalization)                                                                                    \n",
            "                                                                                                  \n",
            " batch_normalization_75 (BatchN  (None, 8, 8, 192)   576         ['conv2d_75[0][0]']              \n",
            " ormalization)                                                                                    \n",
            "                                                                                                  \n",
            " activation_71 (Activation)     (None, 8, 8, 320)    0           ['batch_normalization_71[0][0]'] \n",
            "                                                                                                  \n",
            " activation_75 (Activation)     (None, 8, 8, 192)    0           ['batch_normalization_75[0][0]'] \n",
            "                                                                                                  \n",
            " max_pooling2d_3 (MaxPooling2D)  (None, 8, 8, 768)   0           ['mixed7[0][0]']                 \n",
            "                                                                                                  \n",
            " mixed8 (Concatenate)           (None, 8, 8, 1280)   0           ['activation_71[0][0]',          \n",
            "                                                                  'activation_75[0][0]',          \n",
            "                                                                  'max_pooling2d_3[0][0]']        \n",
            "                                                                                                  \n",
            " conv2d_80 (Conv2D)             (None, 8, 8, 448)    573440      ['mixed8[0][0]']                 \n",
            "                                                                                                  \n",
            " batch_normalization_80 (BatchN  (None, 8, 8, 448)   1344        ['conv2d_80[0][0]']              \n",
            " ormalization)                                                                                    \n",
            "                                                                                                  \n",
            " activation_80 (Activation)     (None, 8, 8, 448)    0           ['batch_normalization_80[0][0]'] \n",
            "                                                                                                  \n",
            " conv2d_77 (Conv2D)             (None, 8, 8, 384)    491520      ['mixed8[0][0]']                 \n",
            "                                                                                                  \n",
            " conv2d_81 (Conv2D)             (None, 8, 8, 384)    1548288     ['activation_80[0][0]']          \n",
            "                                                                                                  \n",
            " batch_normalization_77 (BatchN  (None, 8, 8, 384)   1152        ['conv2d_77[0][0]']              \n",
            " ormalization)                                                                                    \n",
            "                                                                                                  \n",
            " batch_normalization_81 (BatchN  (None, 8, 8, 384)   1152        ['conv2d_81[0][0]']              \n",
            " ormalization)                                                                                    \n",
            "                                                                                                  \n",
            " activation_77 (Activation)     (None, 8, 8, 384)    0           ['batch_normalization_77[0][0]'] \n",
            "                                                                                                  \n",
            " activation_81 (Activation)     (None, 8, 8, 384)    0           ['batch_normalization_81[0][0]'] \n",
            "                                                                                                  \n",
            " conv2d_78 (Conv2D)             (None, 8, 8, 384)    442368      ['activation_77[0][0]']          \n",
            "                                                                                                  \n",
            " conv2d_79 (Conv2D)             (None, 8, 8, 384)    442368      ['activation_77[0][0]']          \n",
            "                                                                                                  \n",
            " conv2d_82 (Conv2D)             (None, 8, 8, 384)    442368      ['activation_81[0][0]']          \n",
            "                                                                                                  \n",
            " conv2d_83 (Conv2D)             (None, 8, 8, 384)    442368      ['activation_81[0][0]']          \n",
            "                                                                                                  \n",
            " average_pooling2d_7 (AveragePo  (None, 8, 8, 1280)  0           ['mixed8[0][0]']                 \n",
            " oling2D)                                                                                         \n",
            "                                                                                                  \n",
            " conv2d_76 (Conv2D)             (None, 8, 8, 320)    409600      ['mixed8[0][0]']                 \n",
            "                                                                                                  \n",
            " batch_normalization_78 (BatchN  (None, 8, 8, 384)   1152        ['conv2d_78[0][0]']              \n",
            " ormalization)                                                                                    \n",
            "                                                                                                  \n",
            " batch_normalization_79 (BatchN  (None, 8, 8, 384)   1152        ['conv2d_79[0][0]']              \n",
            " ormalization)                                                                                    \n",
            "                                                                                                  \n",
            " batch_normalization_82 (BatchN  (None, 8, 8, 384)   1152        ['conv2d_82[0][0]']              \n",
            " ormalization)                                                                                    \n",
            "                                                                                                  \n",
            " batch_normalization_83 (BatchN  (None, 8, 8, 384)   1152        ['conv2d_83[0][0]']              \n",
            " ormalization)                                                                                    \n",
            "                                                                                                  \n",
            " conv2d_84 (Conv2D)             (None, 8, 8, 192)    245760      ['average_pooling2d_7[0][0]']    \n",
            "                                                                                                  \n",
            " batch_normalization_76 (BatchN  (None, 8, 8, 320)   960         ['conv2d_76[0][0]']              \n",
            " ormalization)                                                                                    \n",
            "                                                                                                  \n",
            " activation_78 (Activation)     (None, 8, 8, 384)    0           ['batch_normalization_78[0][0]'] \n",
            "                                                                                                  \n",
            " activation_79 (Activation)     (None, 8, 8, 384)    0           ['batch_normalization_79[0][0]'] \n",
            "                                                                                                  \n",
            " activation_82 (Activation)     (None, 8, 8, 384)    0           ['batch_normalization_82[0][0]'] \n",
            "                                                                                                  \n",
            " activation_83 (Activation)     (None, 8, 8, 384)    0           ['batch_normalization_83[0][0]'] \n",
            "                                                                                                  \n",
            " batch_normalization_84 (BatchN  (None, 8, 8, 192)   576         ['conv2d_84[0][0]']              \n",
            " ormalization)                                                                                    \n",
            "                                                                                                  \n",
            " activation_76 (Activation)     (None, 8, 8, 320)    0           ['batch_normalization_76[0][0]'] \n",
            "                                                                                                  \n",
            " mixed9_0 (Concatenate)         (None, 8, 8, 768)    0           ['activation_78[0][0]',          \n",
            "                                                                  'activation_79[0][0]']          \n",
            "                                                                                                  \n",
            " concatenate (Concatenate)      (None, 8, 8, 768)    0           ['activation_82[0][0]',          \n",
            "                                                                  'activation_83[0][0]']          \n",
            "                                                                                                  \n",
            " activation_84 (Activation)     (None, 8, 8, 192)    0           ['batch_normalization_84[0][0]'] \n",
            "                                                                                                  \n",
            " mixed9 (Concatenate)           (None, 8, 8, 2048)   0           ['activation_76[0][0]',          \n",
            "                                                                  'mixed9_0[0][0]',               \n",
            "                                                                  'concatenate[0][0]',            \n",
            "                                                                  'activation_84[0][0]']          \n",
            "                                                                                                  \n",
            " conv2d_89 (Conv2D)             (None, 8, 8, 448)    917504      ['mixed9[0][0]']                 \n",
            "                                                                                                  \n",
            " batch_normalization_89 (BatchN  (None, 8, 8, 448)   1344        ['conv2d_89[0][0]']              \n",
            " ormalization)                                                                                    \n",
            "                                                                                                  \n",
            " activation_89 (Activation)     (None, 8, 8, 448)    0           ['batch_normalization_89[0][0]'] \n",
            "                                                                                                  \n",
            " conv2d_86 (Conv2D)             (None, 8, 8, 384)    786432      ['mixed9[0][0]']                 \n",
            "                                                                                                  \n",
            " conv2d_90 (Conv2D)             (None, 8, 8, 384)    1548288     ['activation_89[0][0]']          \n",
            "                                                                                                  \n",
            " batch_normalization_86 (BatchN  (None, 8, 8, 384)   1152        ['conv2d_86[0][0]']              \n",
            " ormalization)                                                                                    \n",
            "                                                                                                  \n",
            " batch_normalization_90 (BatchN  (None, 8, 8, 384)   1152        ['conv2d_90[0][0]']              \n",
            " ormalization)                                                                                    \n",
            "                                                                                                  \n",
            " activation_86 (Activation)     (None, 8, 8, 384)    0           ['batch_normalization_86[0][0]'] \n",
            "                                                                                                  \n",
            " activation_90 (Activation)     (None, 8, 8, 384)    0           ['batch_normalization_90[0][0]'] \n",
            "                                                                                                  \n",
            " conv2d_87 (Conv2D)             (None, 8, 8, 384)    442368      ['activation_86[0][0]']          \n",
            "                                                                                                  \n",
            " conv2d_88 (Conv2D)             (None, 8, 8, 384)    442368      ['activation_86[0][0]']          \n",
            "                                                                                                  \n",
            " conv2d_91 (Conv2D)             (None, 8, 8, 384)    442368      ['activation_90[0][0]']          \n",
            "                                                                                                  \n",
            " conv2d_92 (Conv2D)             (None, 8, 8, 384)    442368      ['activation_90[0][0]']          \n",
            "                                                                                                  \n",
            " average_pooling2d_8 (AveragePo  (None, 8, 8, 2048)  0           ['mixed9[0][0]']                 \n",
            " oling2D)                                                                                         \n",
            "                                                                                                  \n",
            " conv2d_85 (Conv2D)             (None, 8, 8, 320)    655360      ['mixed9[0][0]']                 \n",
            "                                                                                                  \n",
            " batch_normalization_87 (BatchN  (None, 8, 8, 384)   1152        ['conv2d_87[0][0]']              \n",
            " ormalization)                                                                                    \n",
            "                                                                                                  \n",
            " batch_normalization_88 (BatchN  (None, 8, 8, 384)   1152        ['conv2d_88[0][0]']              \n",
            " ormalization)                                                                                    \n",
            "                                                                                                  \n",
            " batch_normalization_91 (BatchN  (None, 8, 8, 384)   1152        ['conv2d_91[0][0]']              \n",
            " ormalization)                                                                                    \n",
            "                                                                                                  \n",
            " batch_normalization_92 (BatchN  (None, 8, 8, 384)   1152        ['conv2d_92[0][0]']              \n",
            " ormalization)                                                                                    \n",
            "                                                                                                  \n",
            " conv2d_93 (Conv2D)             (None, 8, 8, 192)    393216      ['average_pooling2d_8[0][0]']    \n",
            "                                                                                                  \n",
            " batch_normalization_85 (BatchN  (None, 8, 8, 320)   960         ['conv2d_85[0][0]']              \n",
            " ormalization)                                                                                    \n",
            "                                                                                                  \n",
            " activation_87 (Activation)     (None, 8, 8, 384)    0           ['batch_normalization_87[0][0]'] \n",
            "                                                                                                  \n",
            " activation_88 (Activation)     (None, 8, 8, 384)    0           ['batch_normalization_88[0][0]'] \n",
            "                                                                                                  \n",
            " activation_91 (Activation)     (None, 8, 8, 384)    0           ['batch_normalization_91[0][0]'] \n",
            "                                                                                                  \n",
            " activation_92 (Activation)     (None, 8, 8, 384)    0           ['batch_normalization_92[0][0]'] \n",
            "                                                                                                  \n",
            " batch_normalization_93 (BatchN  (None, 8, 8, 192)   576         ['conv2d_93[0][0]']              \n",
            " ormalization)                                                                                    \n",
            "                                                                                                  \n",
            " activation_85 (Activation)     (None, 8, 8, 320)    0           ['batch_normalization_85[0][0]'] \n",
            "                                                                                                  \n",
            " mixed9_1 (Concatenate)         (None, 8, 8, 768)    0           ['activation_87[0][0]',          \n",
            "                                                                  'activation_88[0][0]']          \n",
            "                                                                                                  \n",
            " concatenate_1 (Concatenate)    (None, 8, 8, 768)    0           ['activation_91[0][0]',          \n",
            "                                                                  'activation_92[0][0]']          \n",
            "                                                                                                  \n",
            " activation_93 (Activation)     (None, 8, 8, 192)    0           ['batch_normalization_93[0][0]'] \n",
            "                                                                                                  \n",
            " mixed10 (Concatenate)          (None, 8, 8, 2048)   0           ['activation_85[0][0]',          \n",
            "                                                                  'mixed9_1[0][0]',               \n",
            "                                                                  'concatenate_1[0][0]',          \n",
            "                                                                  'activation_93[0][0]']          \n",
            "                                                                                                  \n",
            " flatten (Flatten)              (None, 131072)       0           ['mixed10[0][0]']                \n",
            "                                                                                                  \n",
            " dense (Dense)                  (None, 1024)         134218752   ['flatten[0][0]']                \n",
            "                                                                                                  \n",
            " dropout (Dropout)              (None, 1024)         0           ['dense[0][0]']                  \n",
            "                                                                                                  \n",
            " dense_1 (Dense)                (None, 7)            7175        ['dropout[0][0]']                \n",
            "                                                                                                  \n",
            "==================================================================================================\n",
            "Total params: 156,028,711\n",
            "Trainable params: 134,225,927\n",
            "Non-trainable params: 21,802,784\n",
            "__________________________________________________________________________________________________\n"
          ]
        }
      ],
      "source": [
        "import keras\n",
        "x = Flatten()(inception_v3.output)\n",
        "#x = keras.layers.Dropout(0.2)(x)\n",
        "x = Dense(1024, activation='relu')(x)\n",
        "x = keras.layers.Dropout(0.3)(x)\n",
        "#x = Dense(512, activation='relu')(x)\n",
        "#x = keras.layers.Dropout(0.4)(x)\n",
        "prediction = Dense(7, activation='softmax')(x)\n",
        "\n",
        "model = Model(inputs=inception_v3.input, outputs=prediction)\n",
        "\n",
        "# view the structure of the model\n",
        "model.summary()\n",
        "model.compile(\n",
        "  loss='categorical_crossentropy',\n",
        "  optimizer='adam',\n",
        "  metrics=['accuracy']\n",
        ")"
      ]
    },
    {
      "cell_type": "code",
      "execution_count": null,
      "metadata": {
        "colab": {
          "base_uri": "https://localhost:8080/"
        },
        "id": "bInWxRTcZIjq",
        "outputId": "f5b7c268-d933-4660-dcd1-7ee2695f1467"
      },
      "outputs": [
        {
          "output_type": "stream",
          "name": "stdout",
          "text": [
            "Found 3985 images belonging to 7 classes.\n"
          ]
        }
      ],
      "source": [
        "from keras.preprocessing.image import ImageDataGenerator\n",
        "\n",
        "train_datagen = ImageDataGenerator(rescale = 1./255\n",
        "                              #horizontal_flip=False,\n",
        "                              #vertical_flip=False,\n",
        "                              #featurewise_center=True,\n",
        "                     #featurewise_std_normalization=True,\n",
        "                     #rotation_range=20,\n",
        "                     #width_shift_range=0.01,\n",
        "                     #height_shift_range=0.01,\n",
        "                     #zoom_range=0.2\n",
        "                            #featurewise_std_normalization=True\n",
        "                                  )\n",
        "\n",
        "\n",
        "\n",
        "val_datagen = ImageDataGenerator(rescale = 1./255)\n",
        "\n",
        "#training_set = train_datagen.flow_from_directory('/content/output/train',\n",
        "                                                 #target_size = (299, 299),\n",
        "                                                 #batch_size = 64,\n",
        "                                                 #class_mode = 'categorical',\n",
        "                                                 #shuffle=True\n",
        "                                                 #)\n",
        "validation_set = val_datagen.flow_from_directory('/content/output/val',\n",
        "                                            target_size = (299, 299),\n",
        "                                            batch_size = 64,\n",
        "                                            class_mode = 'categorical',\n",
        "                                            shuffle=False)"
      ]
    },
    {
      "cell_type": "code",
      "execution_count": null,
      "metadata": {
        "colab": {
          "base_uri": "https://localhost:8080/"
        },
        "id": "EAwvtT_5jslI",
        "outputId": "0ae5e52c-3316-49ae-e50d-8053066ee018"
      },
      "outputs": [
        {
          "name": "stdout",
          "output_type": "stream",
          "text": [
            "Epoch 1/25\n",
            "317/317 [==============================] - 195s 573ms/step - loss: 6.2701 - accuracy: 0.7342 - val_loss: 0.5561 - val_accuracy: 0.7965\n",
            "Epoch 2/25\n",
            "317/317 [==============================] - 177s 557ms/step - loss: 0.4511 - accuracy: 0.8290 - val_loss: 0.4317 - val_accuracy: 0.8464\n",
            "Epoch 3/25\n",
            "317/317 [==============================] - 175s 552ms/step - loss: 0.3632 - accuracy: 0.8660 - val_loss: 0.3921 - val_accuracy: 0.8595\n",
            "Epoch 4/25\n",
            "317/317 [==============================] - 176s 553ms/step - loss: 0.3039 - accuracy: 0.8879 - val_loss: 0.3681 - val_accuracy: 0.8683\n",
            "Epoch 5/25\n",
            "317/317 [==============================] - 174s 550ms/step - loss: 0.2924 - accuracy: 0.8923 - val_loss: 0.4811 - val_accuracy: 0.8439\n",
            "Epoch 6/25\n",
            "317/317 [==============================] - 175s 553ms/step - loss: 0.3277 - accuracy: 0.8779 - val_loss: 0.4091 - val_accuracy: 0.8683\n",
            "Epoch 7/25\n",
            "317/317 [==============================] - 175s 553ms/step - loss: 0.2658 - accuracy: 0.8996 - val_loss: 0.4487 - val_accuracy: 0.8407\n",
            "Epoch 8/25\n",
            "317/317 [==============================] - 175s 552ms/step - loss: 0.2744 - accuracy: 0.9002 - val_loss: 0.3769 - val_accuracy: 0.8715\n",
            "Epoch 9/25\n",
            "317/317 [==============================] - 175s 550ms/step - loss: 0.2425 - accuracy: 0.9093 - val_loss: 0.4095 - val_accuracy: 0.8846\n",
            "Epoch 10/25\n",
            "317/317 [==============================] - 173s 547ms/step - loss: 0.2219 - accuracy: 0.9166 - val_loss: 0.3969 - val_accuracy: 0.8768\n",
            "Epoch 11/25\n",
            "317/317 [==============================] - 172s 543ms/step - loss: 0.2304 - accuracy: 0.9133 - val_loss: 0.3847 - val_accuracy: 0.8876\n",
            "Epoch 12/25\n",
            "317/317 [==============================] - 174s 550ms/step - loss: 0.2542 - accuracy: 0.9067 - val_loss: 0.4458 - val_accuracy: 0.8645\n",
            "Epoch 13/25\n",
            "317/317 [==============================] - 171s 539ms/step - loss: 0.2150 - accuracy: 0.9209 - val_loss: 0.4844 - val_accuracy: 0.8668\n",
            "Epoch 14/25\n",
            "317/317 [==============================] - 171s 538ms/step - loss: 0.1973 - accuracy: 0.9262 - val_loss: 0.3987 - val_accuracy: 0.8811\n",
            "Epoch 15/25\n",
            "317/317 [==============================] - 170s 535ms/step - loss: 0.1869 - accuracy: 0.9299 - val_loss: 0.4264 - val_accuracy: 0.8783\n",
            "Epoch 16/25\n",
            "317/317 [==============================] - 172s 542ms/step - loss: 0.1969 - accuracy: 0.9289 - val_loss: 0.4950 - val_accuracy: 0.8765\n",
            "Epoch 17/25\n",
            "317/317 [==============================] - 173s 544ms/step - loss: 0.2131 - accuracy: 0.9222 - val_loss: 0.4404 - val_accuracy: 0.8760\n",
            "Epoch 18/25\n",
            "317/317 [==============================] - 173s 545ms/step - loss: 0.1802 - accuracy: 0.9311 - val_loss: 0.4657 - val_accuracy: 0.8891\n",
            "Epoch 19/25\n",
            "317/317 [==============================] - 171s 540ms/step - loss: 0.1545 - accuracy: 0.9432 - val_loss: 0.4409 - val_accuracy: 0.8846\n",
            "Epoch 20/25\n",
            "317/317 [==============================] - 172s 542ms/step - loss: 0.1469 - accuracy: 0.9473 - val_loss: 0.4779 - val_accuracy: 0.8901\n",
            "Epoch 21/25\n",
            "317/317 [==============================] - 171s 539ms/step - loss: 0.1486 - accuracy: 0.9436 - val_loss: 0.5467 - val_accuracy: 0.8898\n",
            "Epoch 22/25\n",
            "317/317 [==============================] - 173s 545ms/step - loss: 0.1288 - accuracy: 0.9523 - val_loss: 0.5166 - val_accuracy: 0.8843\n",
            "Epoch 23/25\n",
            "317/317 [==============================] - 173s 545ms/step - loss: 0.1365 - accuracy: 0.9511 - val_loss: 0.5018 - val_accuracy: 0.8816\n",
            "Epoch 24/25\n",
            "317/317 [==============================] - 171s 540ms/step - loss: 0.1685 - accuracy: 0.9386 - val_loss: 0.5172 - val_accuracy: 0.8823\n",
            "Epoch 25/25\n",
            "317/317 [==============================] - 170s 536ms/step - loss: 0.1709 - accuracy: 0.9420 - val_loss: 0.6050 - val_accuracy: 0.8760\n",
            "4434.5040628910065\n"
          ]
        }
      ],
      "source": [
        "start = time.time()\n",
        "\n",
        "\n",
        "r=model.fit(training_set,\n",
        "                        validation_data=validation_set,\n",
        "                          steps_per_epoch=len(training_set),\n",
        "                            epochs=25,\n",
        "                            validation_steps=len(validation_set)\n",
        "\n",
        "            )\n",
        "\n",
        "end = time.time()\n",
        "elapsed = end - start\n",
        "print( elapsed)"
      ]
    },
    {
      "cell_type": "code",
      "execution_count": null,
      "metadata": {
        "colab": {
          "base_uri": "https://localhost:8080/",
          "height": 573
        },
        "id": "Z2eI-5mj8O2l",
        "outputId": "d309ac21-69f6-4d0b-c331-5c814e139f76"
      },
      "outputs": [
        {
          "data": {
            "image/png": "[encoded data removed]",
            "text/plain": [
              "<Figure size 432x288 with 1 Axes>"
            ]
          },
          "metadata": {},
          "output_type": "display_data"
        },
        {
          "data": {
            "image/png": "[encoded data removed]",
            "text/plain": [
              "<Figure size 432x288 with 1 Axes>"
            ]
          },
          "metadata": {},
          "output_type": "display_data"
        }
      ],
      "source": [
        "# plot the loss\n",
        "import matplotlib.pyplot as plt\n",
        "plt.plot(r.history['loss'], label='train loss')\n",
        "plt.plot(r.history['val_loss'], label='val loss')\n",
        "plt.legend()\n",
        "\n",
        "plt.ylabel('Loss')\n",
        "plt.xlabel('Epoch')\n",
        "plt.title('Inception-v3 Loss Curve')\n",
        "plt.savefig('LossVal_loss_inception1.png')\n",
        "plt.show()\n",
        "\n",
        "# plot the accuracy\n",
        "plt.plot(r.history['accuracy'], label='train acc')\n",
        "plt.plot(r.history['val_accuracy'], label='val acc')\n",
        "plt.legend()\n",
        "\n",
        "plt.ylabel('Accuracy')\n",
        "plt.xlabel('Epoch')\n",
        "plt.title('Inception-v3 Accuracy Curve')\n",
        "plt.savefig('AccVal_acc_inceptionv3.png')\n",
        "plt.show()"
      ]
    },
    {
      "cell_type": "code",
      "execution_count": null,
      "metadata": {
        "colab": {
          "base_uri": "https://localhost:8080/"
        },
        "id": "JNi-f-4zZImF",
        "outputId": "b684d6a8-6dca-4611-aa8c-3a4e0f762ae8"
      },
      "outputs": [
        {
          "name": "stdout",
          "output_type": "stream",
          "text": [
            "Epoch 1/25\n",
            "317/317 [==============================] - 175s 539ms/step - loss: 5.8742 - accuracy: 0.7314 - val_loss: 0.5389 - val_accuracy: 0.8153\n",
            "Epoch 2/25\n",
            "317/317 [==============================] - 167s 528ms/step - loss: 0.4565 - accuracy: 0.8306 - val_loss: 0.4694 - val_accuracy: 0.8269\n",
            "Epoch 3/25\n",
            "317/317 [==============================] - 167s 527ms/step - loss: 0.3685 - accuracy: 0.8624 - val_loss: 0.4019 - val_accuracy: 0.8612\n",
            "Epoch 4/25\n",
            "317/317 [==============================] - 166s 523ms/step - loss: 0.3484 - accuracy: 0.8690 - val_loss: 0.5716 - val_accuracy: 0.8105\n",
            "Epoch 5/25\n",
            "317/317 [==============================] - 166s 524ms/step - loss: 0.3075 - accuracy: 0.8863 - val_loss: 0.3564 - val_accuracy: 0.8813\n",
            "Epoch 6/25\n",
            "317/317 [==============================] - 165s 520ms/step - loss: 0.2687 - accuracy: 0.8971 - val_loss: 0.4150 - val_accuracy: 0.8635\n",
            "Epoch 7/25\n",
            "317/317 [==============================] - 168s 529ms/step - loss: 0.2515 - accuracy: 0.9056 - val_loss: 0.4255 - val_accuracy: 0.8617\n",
            "Epoch 8/25\n",
            "317/317 [==============================] - 165s 520ms/step - loss: 0.2125 - accuracy: 0.9186 - val_loss: 0.4258 - val_accuracy: 0.8725\n",
            "Epoch 9/25\n",
            "317/317 [==============================] - 166s 523ms/step - loss: 0.2132 - accuracy: 0.9216 - val_loss: 0.4501 - val_accuracy: 0.8710\n",
            "Epoch 10/25\n",
            "317/317 [==============================] - 166s 524ms/step - loss: 0.2328 - accuracy: 0.9128 - val_loss: 0.4249 - val_accuracy: 0.8743\n",
            "Epoch 11/25\n",
            "317/317 [==============================] - 166s 522ms/step - loss: 0.2248 - accuracy: 0.9159 - val_loss: 0.4527 - val_accuracy: 0.8758\n",
            "Epoch 12/25\n",
            "317/317 [==============================] - 165s 521ms/step - loss: 0.2232 - accuracy: 0.9179 - val_loss: 0.4549 - val_accuracy: 0.8770\n",
            "Epoch 13/25\n",
            "317/317 [==============================] - 166s 522ms/step - loss: 0.1903 - accuracy: 0.9299 - val_loss: 0.5719 - val_accuracy: 0.8590\n",
            "Epoch 14/25\n",
            "317/317 [==============================] - 166s 525ms/step - loss: 0.1873 - accuracy: 0.9313 - val_loss: 0.5282 - val_accuracy: 0.8607\n",
            "Epoch 15/25\n",
            "317/317 [==============================] - 166s 522ms/step - loss: 0.1853 - accuracy: 0.9323 - val_loss: 0.4607 - val_accuracy: 0.8831\n",
            "Epoch 16/25\n",
            "317/317 [==============================] - 164s 517ms/step - loss: 0.1417 - accuracy: 0.9459 - val_loss: 0.5387 - val_accuracy: 0.8876\n",
            "Epoch 17/25\n",
            "317/317 [==============================] - 166s 524ms/step - loss: 0.1814 - accuracy: 0.9313 - val_loss: 0.5797 - val_accuracy: 0.8713\n",
            "Epoch 18/25\n",
            "317/317 [==============================] - 165s 521ms/step - loss: 0.1703 - accuracy: 0.9393 - val_loss: 0.4688 - val_accuracy: 0.8831\n",
            "Epoch 19/25\n",
            "317/317 [==============================] - 166s 523ms/step - loss: 0.1393 - accuracy: 0.9502 - val_loss: 0.5078 - val_accuracy: 0.8793\n",
            "Epoch 20/25\n",
            "317/317 [==============================] - 165s 520ms/step - loss: 0.1937 - accuracy: 0.9284 - val_loss: 0.5238 - val_accuracy: 0.8710\n",
            "Epoch 21/25\n",
            "317/317 [==============================] - 164s 518ms/step - loss: 0.1988 - accuracy: 0.9270 - val_loss: 0.5725 - val_accuracy: 0.8881\n",
            "Epoch 22/25\n",
            "317/317 [==============================] - 165s 521ms/step - loss: 0.1885 - accuracy: 0.9334 - val_loss: 0.5163 - val_accuracy: 0.8878\n",
            "Epoch 23/25\n",
            "317/317 [==============================] - 164s 518ms/step - loss: 0.1567 - accuracy: 0.9428 - val_loss: 0.5829 - val_accuracy: 0.8795\n",
            "Epoch 24/25\n",
            "317/317 [==============================] - 165s 519ms/step - loss: 0.1521 - accuracy: 0.9451 - val_loss: 0.5277 - val_accuracy: 0.8861\n",
            "Epoch 25/25\n",
            "317/317 [==============================] - 164s 517ms/step - loss: 0.1496 - accuracy: 0.9485 - val_loss: 0.6094 - val_accuracy: 0.8906\n",
            "4293.982706308365\n"
          ]
        }
      ],
      "source": [
        "start = time.time()\n",
        "\n",
        "\n",
        "r=model.fit(training_set,\n",
        "                        validation_data=validation_set,\n",
        "                          steps_per_epoch=len(training_set),\n",
        "                            epochs=25,\n",
        "                            validation_steps=len(validation_set)\n",
        "\n",
        "            )\n",
        "\n",
        "end = time.time()\n",
        "elapsed = end - start\n",
        "print( elapsed)"
      ]
    },
    {
      "cell_type": "code",
      "execution_count": null,
      "metadata": {
        "id": "gMY5QELYJJpw"
      },
      "outputs": [],
      "source": [
        "model.save('inception.h5')"
      ]
    },
    {
      "cell_type": "code",
      "execution_count": null,
      "metadata": {
        "colab": {
          "base_uri": "https://localhost:8080/",
          "height": 573
        },
        "id": "EbK4-IuOZIoe",
        "outputId": "d8fac2e9-a2a7-4a23-c564-8dc494a14dd7"
      },
      "outputs": [
        {
          "data": {
            "image/png": "[encoded data removed]",
            "text/plain": [
              "<Figure size 432x288 with 1 Axes>"
            ]
          },
          "metadata": {},
          "output_type": "display_data"
        },
        {
          "data": {
            "image/png": "[encoded data removed]",
            "text/plain": [
              "<Figure size 432x288 with 1 Axes>"
            ]
          },
          "metadata": {},
          "output_type": "display_data"
        }
      ],
      "source": [
        "# plot the loss\n",
        "import matplotlib.pyplot as plt\n",
        "plt.plot(r.history['loss'], label='train loss')\n",
        "plt.plot(r.history['val_loss'], label='val loss')\n",
        "plt.legend()\n",
        "\n",
        "plt.ylabel('Loss')\n",
        "plt.xlabel('Epoch')\n",
        "plt.title('Inception-v3 Loss Curve')\n",
        "plt.savefig('LossVal_loss_inception1.png')\n",
        "plt.show()\n",
        "\n",
        "# plot the accuracy\n",
        "plt.plot(r.history['accuracy'], label='train acc')\n",
        "plt.plot(r.history['val_accuracy'], label='val acc')\n",
        "plt.legend()\n",
        "\n",
        "plt.ylabel('Accuracy')\n",
        "plt.xlabel('Epoch')\n",
        "plt.title('Inception-v3 Accuracy Curve')\n",
        "plt.savefig('AccVal_acc_inceptionv3.png')\n",
        "plt.show()"
      ]
    },
    {
      "cell_type": "code",
      "execution_count": null,
      "metadata": {
        "colab": {
          "base_uri": "https://localhost:8080/"
        },
        "id": "u1DxuD2HR3cx",
        "outputId": "826c6822-bcf3-4ddf-eb7c-7b7bb49fc376"
      },
      "outputs": [
        {
          "name": "stdout",
          "output_type": "stream",
          "text": [
            "63/63 [==============================] - 31s 476ms/step\n",
            "Total Testing  Time: 42.42034435272217\n"
          ]
        }
      ],
      "source": [
        "start=time.time()\n",
        "final = model.predict(validation_set)\n",
        "end = time.time()\n",
        "elapsed = end - start\n",
        "print(\"Total Testing  Time:\", elapsed)"
      ]
    },
    {
      "cell_type": "code",
      "execution_count": null,
      "metadata": {
        "colab": {
          "base_uri": "https://localhost:8080/"
        },
        "id": "GfDRcgJiZIq-",
        "outputId": "2a5f2ac9-9011-4da7-c9a4-79e37d800ae9"
      },
      "outputs": [
        {
          "name": "stdout",
          "output_type": "stream",
          "text": [
            "63/63 [==============================] - 24s 384ms/step - loss: 0.6094 - accuracy: 0.8906\n",
            "Validation Loss = 0.6094122529029846\n",
            "Validation Accuracy = 0.890589714050293\n",
            "Total Time: 24.834845542907715\n"
          ]
        }
      ],
      "source": [
        "start = time.time()\n",
        "preds = model.evaluate(validation_set)#validation_generator\n",
        "print (\"Validation Loss = \" + str(preds[0]))\n",
        "print (\"Validation Accuracy = \" + str(preds[1]))\n",
        "end = time.time()\n",
        "elapsed = end - start\n",
        "print(\"Total Time:\", elapsed)"
      ]
    },
    {
      "cell_type": "code",
      "source": [
        "\"del %USERPROFILE%.keras\\models*\""
      ],
      "metadata": {
        "colab": {
          "base_uri": "https://localhost:8080/",
          "height": 36
        },
        "id": "w08Ea465DQoz",
        "outputId": "80f4e0ce-d867-4295-ee90-12b2ed8d4d44"
      },
      "execution_count": null,
      "outputs": [
        {
          "output_type": "execute_result",
          "data": {
            "text/plain": [
              "'del %USERPROFILE%.keras\\\\models*'"
            ],
            "application/vnd.google.colaboratory.intrinsic+json": {
              "type": "string"
            }
          },
          "metadata": {},
          "execution_count": 12
        }
      ]
    },
    {
      "cell_type": "code",
      "source": [
        "import tensorflow as tf\n",
        "\n",
        "new_model = tf.keras.models.load_model('inception.h5')\n",
        "\n",
        "# Show the model architecture\n",
        "new_model.summary()"
      ],
      "metadata": {
        "id": "TB6vuNmg-SGn"
      },
      "execution_count": null,
      "outputs": []
    },
    {
      "cell_type": "code",
      "execution_count": null,
      "metadata": {
        "id": "bawVw67EZIuW"
      },
      "outputs": [],
      "source": [
        "import numpy as np\n",
        "from sklearn.metrics import confusion_matrix,classification_report\n",
        "batch_size = 64\n",
        "num_of_test_samples = 3985\n",
        "predictions = model.predict_generator(validation_set,  num_of_test_samples // batch_size+1)\n",
        "\n",
        "y_pred = np.argmax(predictions, axis=1)\n",
        "\n",
        "\n",
        "true_classes = validation_set.classes\n",
        "\n",
        "class_labels = list(validation_set.class_indices.keys())\n",
        "\n",
        "print(class_labels)\n",
        "\n",
        "print(confusion_matrix(validation_set.classes, y_pred))\n",
        "\n",
        "report = classification_report(true_classes, y_pred, target_names=class_labels)\n",
        "print(report)"
      ]
    },
    {
      "cell_type": "code",
      "execution_count": null,
      "metadata": {
        "colab": {
          "base_uri": "https://localhost:8080/",
          "height": 467
        },
        "id": "biQpYDetW3lw",
        "outputId": "91d2fb20-a3a8-4ecf-d309-3f9024a66b7c"
      },
      "outputs": [
        {
          "data": {
            "image/png": "[encoded data removed]",
            "text/plain": [
              "<Figure size 576x432 with 2 Axes>"
            ]
          },
          "metadata": {},
          "output_type": "display_data"
        }
      ],
      "source": [
        "import numpy as np\n",
        "\n",
        "\n",
        "def plot_confusion_matrix(cm,\n",
        "                          target_names,\n",
        "                          title='Confusion matrix',\n",
        "                          cmap=None,\n",
        "                          normalize=True):\n",
        "\n",
        "    import matplotlib.pyplot as plt\n",
        "    import numpy as np\n",
        "    import itertools\n",
        "\n",
        "    accuracy = np.trace(cm) / float(np.sum(cm))\n",
        "    misclass = 1 - accuracy\n",
        "\n",
        "    if cmap is None:\n",
        "        cmap = plt.get_cmap('Blues')\n",
        "\n",
        "    plt.figure(figsize=(8, 6))\n",
        "    plt.imshow(cm, interpolation='nearest', cmap=cmap)\n",
        "    plt.title(title)\n",
        "    plt.colorbar()\n",
        "\n",
        "    if target_names is not None:\n",
        "        tick_marks = np.arange(len(target_names))\n",
        "        plt.xticks(tick_marks, target_names, rotation=45)\n",
        "        plt.yticks(tick_marks, target_names)\n",
        "\n",
        "    if normalize:\n",
        "        cm = cm.astype('float') / cm.sum(axis=1)[:, np.newaxis]\n",
        "\n",
        "\n",
        "    thresh = cm.max() / 1.5 if normalize else cm.max() / 2\n",
        "    for i, j in itertools.product(range(cm.shape[0]), range(cm.shape[1])):\n",
        "        if normalize:\n",
        "            plt.text(j, i, \"{:0.4f}\".format(cm[i, j]),\n",
        "                     horizontalalignment=\"center\",\n",
        "                     color=\"white\" if cm[i, j] > thresh else \"black\")\n",
        "        else:\n",
        "            plt.text(j, i, \"{:,}\".format(cm[i, j]),\n",
        "                     horizontalalignment=\"center\",\n",
        "                     color=\"white\" if cm[i, j] > thresh else \"black\")\n",
        "\n",
        "\n",
        "    plt.tight_layout()\n",
        "    plt.ylabel('True label')\n",
        "    plt.xlabel('Predicted label\\naccuracy={:0.4f}; misclass={:0.4f}'.format(accuracy, misclass))\n",
        "    plt.savefig('Inception_v3_confusion_matrix.png')\n",
        "\n",
        "\n",
        "plot_confusion_matrix(cm = np.array ([[446 ,  0 ,  4  , 0 ,  0  , 0 , 56],\n",
        " [  0 ,645 ,  6 , 37 , 26 , 10 ,  0],\n",
        " [  0,   0 ,255 , 55,  27,   1 ,  0],\n",
        " [  0,  18,  11, 653,  40,   2 ,  0],\n",
        " [  0  , 9 ,  7,  51, 646  , 7   ,4],\n",
        " [  0 ,  7 ,  5  , 1 ,  3 ,684,   0],\n",
        " [ 25 ,  2,   0 ,  0 , 21 ,  1 ,220]]),\n",
        "                      normalize    = False,\n",
        "                      target_names = ['Bacterial Pneumonia', 'COVID', 'Fibrosis', 'Lung_Opacity', 'Normal', 'Tuberculosis', 'Viral Pneumonia'],\n",
        "                      title = \"Inception-v3 Confusion Matrix\")\n",
        "\n"
      ]
    },
    {
      "cell_type": "code",
      "execution_count": null,
      "metadata": {
        "id": "1bCvlkekW3oX"
      },
      "outputs": [],
      "source": [
        "import math\n",
        "number_of_examples = len(validation_set.filenames)\n",
        "number_of_generator_calls = math.ceil(number_of_examples / (1.0 * 64))\n",
        "# 1.0 above is to skip integer division\n",
        "\n",
        "test_labels = []\n",
        "test_images = []\n",
        "for i in range(0,int(number_of_generator_calls)):\n",
        "    test_labels.extend(np.array(validation_set[i][1]))\n",
        "\n",
        "for i in range(0,int(number_of_generator_calls)):\n",
        "    test_images.extend(np.array(validation_set[i][0]))"
      ]
    },
    {
      "cell_type": "code",
      "execution_count": null,
      "metadata": {
        "id": "geb4RtIFWNIS"
      },
      "outputs": [],
      "source": [
        "new_labels = []\n",
        "for i in range(0,3985):\n",
        "  new_labels.append(np.argmax(predictions[i]))"
      ]
    },
    {
      "cell_type": "code",
      "execution_count": null,
      "metadata": {
        "id": "CcQ_5qG8WNK3"
      },
      "outputs": [],
      "source": [
        "newtest_labels = []\n",
        "for i in range(0,3985):\n",
        "  newtest_labels.append(np.argmax(test_labels[i]))"
      ]
    },
    {
      "cell_type": "code",
      "execution_count": null,
      "metadata": {
        "id": "NbAxEL5rWNNd"
      },
      "outputs": [],
      "source": [
        "from sklearn import metrics\n",
        "import matplotlib.pyplot as plt\n",
        "from itertools import cycle\n",
        "from scipy import interp\n",
        "noofClasses = 7\n",
        "\n",
        "score = model.evaluate(validation_set, verbose=0)\n",
        "print('Test Score = ', score[0])\n",
        "print('Test Accuracy = ', score[1])\n",
        "from sklearn.metrics import confusion_matrix, classification_report, roc_auc_score, roc_curve, auc\n",
        "\n",
        "\n",
        "# Get the confusion matrix\n",
        "\n",
        "score = metrics.accuracy_score(y_true=newtest_labels, y_pred=new_labels)\n",
        "print(\"Accuracy score: {}\".format(score))\n",
        "pred_prob =model.predict_generator(validation_set,  num_of_test_samples // batch_size+1)\n",
        "\n",
        "c = roc_auc_score(newtest_labels, pred_prob, multi_class='ovo')\n",
        "print(\"AUC:\", c)\n",
        "# Compute ROC curve and ROC area for each class\n",
        "fpr = {}\n",
        "tpr = {}\n",
        "roc_auc = {}\n",
        "thresh = {}\n",
        "lw = 2\n",
        "precision = {}\n",
        "recall = {}\n",
        "for i in range(noofClasses):\n",
        "    fpr[i], tpr[i], thresh[i] = roc_curve(newtest_labels, pred_prob[:, i], pos_label=i)\n",
        "    precision[i], recall[i], _ = roc_curve(newtest_labels, pred_prob[:, i], pos_label=i)\n",
        "    roc_auc[i] = auc(fpr[i], tpr[i])\n",
        "\n",
        "\n",
        "n_classes = 7\n",
        "\n",
        "# First aggregate all false positive rates\n",
        "all_fpr = np.unique(np.concatenate([fpr[i] for i in range(n_classes)]))\n",
        "\n",
        "# Then interpolate all ROC curves at this points\n",
        "mean_tpr = np.zeros_like(all_fpr)\n",
        "for i in range(n_classes):\n",
        "    mean_tpr += interp(all_fpr, fpr[i], tpr[i])\n",
        "\n",
        "# Finally average it and compute AUC\n",
        "mean_tpr /= n_classes\n",
        "\n",
        "fpr[\"macro\"] = all_fpr\n",
        "tpr[\"macro\"] = mean_tpr\n",
        "roc_auc[\"macro\"] = auc(fpr[\"macro\"], tpr[\"macro\"])\n",
        "\n",
        "# Plot all ROC curves\n",
        "plt.figure()\n",
        "\n",
        "colors = cycle(['green', 'darkorange', 'cornflowerblue', 'yellow','red','blue','purple'])\n",
        "for i, color in zip(range(n_classes), colors):\n",
        "    plt.plot(fpr[i], tpr[i], color=color, lw=lw, label='ROC curve of class {0} (AUC = {1:0.4f})'\n",
        "                                                       ''.format(i, roc_auc[i]))\n",
        "\n",
        "plt.plot([0, 1], [0, 1], 'k--', lw=lw)\n",
        "plt.xlim([0.0, 1.0])\n",
        "plt.ylim([0.0, 1.05])\n",
        "plt.xlabel('False Positive Rate')\n",
        "plt.ylabel('True Positive Rate')\n",
        "plt.title('Receiver operating characteristic curve for Inception-v3')\n",
        "plt.legend(loc=\"lower right\")\n",
        "plt.savefig(\"ROC_inception_v3.png\")\n",
        "plt.show()\n"
      ]
    },
    {
      "cell_type": "code",
      "execution_count": null,
      "metadata": {
        "id": "QoSZl2wAWNQG"
      },
      "outputs": [],
      "source": [
        "#VGG-16\n",
        "from keras.models import Sequential\n",
        "\n",
        "import keras\n",
        "from keras.layers import Conv2D, MaxPool2D, Flatten, Dense, InputLayer, BatchNormalization, Dropout\n",
        "from keras.utils import np_utils\n",
        "\n",
        "from keras.callbacks import LearningRateScheduler, ModelCheckpoint\n",
        "from keras.preprocessing.image import ImageDataGenerator\n",
        "from keras.regularizers import l2\n",
        "import tensorflow as tf\n",
        "from tensorflow.keras.applications.vgg16 import VGG16\n",
        "from tensorflow.keras.applications.vgg16 import preprocess_input"
      ]
    },
    {
      "cell_type": "code",
      "execution_count": null,
      "metadata": {
        "colab": {
          "base_uri": "https://localhost:8080/"
        },
        "id": "gQ_zmZ7dIIzP",
        "outputId": "8bb2d024-8822-4102-84c1-2f00a4df340a"
      },
      "outputs": [
        {
          "output_type": "stream",
          "name": "stdout",
          "text": [
            "Downloading data from https://storage.googleapis.com/tensorflow/keras-applications/vgg16/vgg16_weights_tf_dim_ordering_tf_kernels_notop.h5\n",
            "58889256/58889256 [==============================] - 4s 0us/step\n"
          ]
        }
      ],
      "source": [
        "IMAGE_SIZE=[224,224]\n",
        "vgg = VGG16(input_shape=IMAGE_SIZE + [3], weights='imagenet', include_top=False)\n",
        "#do not train the pre-trained layers of VGG-16\n",
        "for layer in vgg.layers:\n",
        "    layer.trainable = False"
      ]
    },
    {
      "cell_type": "code",
      "execution_count": null,
      "metadata": {
        "colab": {
          "base_uri": "https://localhost:8080/"
        },
        "id": "MkU3vsxRII11",
        "outputId": "f94e8b03-7da9-489a-e75d-5c7943d56310"
      },
      "outputs": [
        {
          "output_type": "stream",
          "name": "stdout",
          "text": [
            "Model: \"model_2\"\n",
            "_________________________________________________________________\n",
            " Layer (type)                Output Shape              Param #   \n",
            "=================================================================\n",
            " input_2 (InputLayer)        [(None, 224, 224, 3)]     0         \n",
            "                                                                 \n",
            " block1_conv1 (Conv2D)       (None, 224, 224, 64)      1792      \n",
            "                                                                 \n",
            " block1_conv2 (Conv2D)       (None, 224, 224, 64)      36928     \n",
            "                                                                 \n",
            " block1_pool (MaxPooling2D)  (None, 112, 112, 64)      0         \n",
            "                                                                 \n",
            " block2_conv1 (Conv2D)       (None, 112, 112, 128)     73856     \n",
            "                                                                 \n",
            " block2_conv2 (Conv2D)       (None, 112, 112, 128)     147584    \n",
            "                                                                 \n",
            " block2_pool (MaxPooling2D)  (None, 56, 56, 128)       0         \n",
            "                                                                 \n",
            " block3_conv1 (Conv2D)       (None, 56, 56, 256)       295168    \n",
            "                                                                 \n",
            " block3_conv2 (Conv2D)       (None, 56, 56, 256)       590080    \n",
            "                                                                 \n",
            " block3_conv3 (Conv2D)       (None, 56, 56, 256)       590080    \n",
            "                                                                 \n",
            " block3_pool (MaxPooling2D)  (None, 28, 28, 256)       0         \n",
            "                                                                 \n",
            " block4_conv1 (Conv2D)       (None, 28, 28, 512)       1180160   \n",
            "                                                                 \n",
            " block4_conv2 (Conv2D)       (None, 28, 28, 512)       2359808   \n",
            "                                                                 \n",
            " block4_conv3 (Conv2D)       (None, 28, 28, 512)       2359808   \n",
            "                                                                 \n",
            " block4_pool (MaxPooling2D)  (None, 14, 14, 512)       0         \n",
            "                                                                 \n",
            " block5_conv1 (Conv2D)       (None, 14, 14, 512)       2359808   \n",
            "                                                                 \n",
            " block5_conv2 (Conv2D)       (None, 14, 14, 512)       2359808   \n",
            "                                                                 \n",
            " block5_conv3 (Conv2D)       (None, 14, 14, 512)       2359808   \n",
            "                                                                 \n",
            " block5_pool (MaxPooling2D)  (None, 7, 7, 512)         0         \n",
            "                                                                 \n",
            " flatten_2 (Flatten)         (None, 25088)             0         \n",
            "                                                                 \n",
            " dense_4 (Dense)             (None, 1024)              25691136  \n",
            "                                                                 \n",
            " dropout_2 (Dropout)         (None, 1024)              0         \n",
            "                                                                 \n",
            " dense_5 (Dense)             (None, 7)                 7175      \n",
            "                                                                 \n",
            "=================================================================\n",
            "Total params: 40,412,999\n",
            "Trainable params: 25,698,311\n",
            "Non-trainable params: 14,714,688\n",
            "_________________________________________________________________\n"
          ]
        }
      ],
      "source": [
        "x = Flatten()(vgg.output)\n",
        "x = Dense(1024, activation='relu')(x)\n",
        "x = keras.layers.Dropout(0.5)(x)\n",
        "#x = Dense(512, activation='relu')(x)\n",
        "#x = keras.layers.Dropout(0.3)(x)\n",
        "#adding output layer.Softmax classifier is used as it is multi-class classification\n",
        "prediction = Dense(7, activation='softmax')(x)\n",
        "\n",
        "model = Model(inputs=vgg.input, outputs=prediction)\n",
        "\n",
        "\n",
        "# view the structure of the model\n",
        "model.summary()"
      ]
    },
    {
      "cell_type": "code",
      "execution_count": null,
      "metadata": {
        "id": "Nff9ui4u-Z4i"
      },
      "outputs": [],
      "source": [
        "model.compile(\n",
        "  loss='categorical_crossentropy',\n",
        "  optimizer='adam',\n",
        "  metrics=['accuracy']\n",
        ")"
      ]
    },
    {
      "cell_type": "code",
      "execution_count": null,
      "metadata": {
        "colab": {
          "base_uri": "https://localhost:8080/"
        },
        "id": "5-0_PfOa_AY1",
        "outputId": "fb76df39-4e0a-4fd8-ccec-d77e8db76086"
      },
      "outputs": [
        {
          "output_type": "stream",
          "name": "stdout",
          "text": [
            "Found 3985 images belonging to 7 classes.\n"
          ]
        }
      ],
      "source": [
        "from keras.preprocessing.image import ImageDataGenerator\n",
        "\n",
        "train_datagen = ImageDataGenerator(rescale = 1./255\n",
        "                              #horizontal_flip=False,\n",
        "                              #vertical_flip=False,\n",
        "                              #featurewise_center=True,\n",
        "                     #featurewise_std_normalization=True,\n",
        "                     #rotation_range=20,\n",
        "                     #width_shift_range=0.01,\n",
        "                     #height_shift_range=0.01,\n",
        "                     #zoom_range=0.2\n",
        "                            #featurewise_std_normalization=True\n",
        "                                  )\n",
        "\n",
        "\n",
        "\n",
        "val_datagen = ImageDataGenerator(rescale = 1./255)\n",
        "\n",
        "#training_set = train_datagen.flow_from_directory('/content/output/train',\n",
        "                                                 #target_size = (224, 224),\n",
        "                                                 #batch_size = 64,\n",
        "                                                 #class_mode = 'categorical',\n",
        "                                                 #shuffle=False\n",
        "                                                 #)\n",
        "validation_set = val_datagen.flow_from_directory('/content/output/val',\n",
        "                                            target_size = (224, 224),\n",
        "                                            batch_size = 64,\n",
        "                                            class_mode = 'categorical',\n",
        "                                            shuffle=False)"
      ]
    },
    {
      "cell_type": "code",
      "execution_count": null,
      "metadata": {
        "colab": {
          "base_uri": "https://localhost:8080/"
        },
        "id": "OFrTULFP_Ag0",
        "outputId": "f2c60ee4-ed6d-45c8-c837-c7781149f1fe"
      },
      "outputs": [
        {
          "name": "stdout",
          "output_type": "stream",
          "text": [
            "Epoch 1/25\n",
            "317/317 [==============================] - 164s 514ms/step - loss: 0.9912 - accuracy: 0.7241 - val_loss: 0.5118 - val_accuracy: 0.8161\n",
            "Epoch 2/25\n",
            "317/317 [==============================] - 161s 508ms/step - loss: 0.5050 - accuracy: 0.8128 - val_loss: 0.4438 - val_accuracy: 0.8432\n",
            "Epoch 3/25\n",
            "317/317 [==============================] - 161s 508ms/step - loss: 0.4476 - accuracy: 0.8324 - val_loss: 0.4015 - val_accuracy: 0.8412\n",
            "Epoch 4/25\n",
            "317/317 [==============================] - 161s 509ms/step - loss: 0.4079 - accuracy: 0.8415 - val_loss: 0.3836 - val_accuracy: 0.8582\n",
            "Epoch 5/25\n",
            "317/317 [==============================] - 161s 508ms/step - loss: 0.3856 - accuracy: 0.8520 - val_loss: 0.4062 - val_accuracy: 0.8464\n",
            "Epoch 6/25\n",
            "317/317 [==============================] - 162s 509ms/step - loss: 0.3852 - accuracy: 0.8537 - val_loss: 0.3914 - val_accuracy: 0.8459\n",
            "Epoch 7/25\n",
            "317/317 [==============================] - 161s 507ms/step - loss: 0.3904 - accuracy: 0.8494 - val_loss: 0.3724 - val_accuracy: 0.8617\n",
            "Epoch 8/25\n",
            "317/317 [==============================] - 162s 512ms/step - loss: 0.3675 - accuracy: 0.8576 - val_loss: 0.3756 - val_accuracy: 0.8552\n",
            "Epoch 9/25\n",
            "317/317 [==============================] - 161s 508ms/step - loss: 0.3589 - accuracy: 0.8590 - val_loss: 0.3797 - val_accuracy: 0.8547\n",
            "Epoch 10/25\n",
            "317/317 [==============================] - 160s 505ms/step - loss: 0.3153 - accuracy: 0.8764 - val_loss: 0.3548 - val_accuracy: 0.8685\n",
            "Epoch 11/25\n",
            "317/317 [==============================] - 160s 505ms/step - loss: 0.3242 - accuracy: 0.8727 - val_loss: 0.3428 - val_accuracy: 0.8725\n",
            "Epoch 12/25\n",
            "317/317 [==============================] - 161s 507ms/step - loss: 0.3106 - accuracy: 0.8758 - val_loss: 0.3339 - val_accuracy: 0.8793\n",
            "Epoch 13/25\n",
            "317/317 [==============================] - 160s 506ms/step - loss: 0.2943 - accuracy: 0.8859 - val_loss: 0.3355 - val_accuracy: 0.8790\n",
            "Epoch 14/25\n",
            "317/317 [==============================] - 161s 507ms/step - loss: 0.2960 - accuracy: 0.8802 - val_loss: 0.3454 - val_accuracy: 0.8740\n",
            "Epoch 15/25\n",
            "317/317 [==============================] - 161s 507ms/step - loss: 0.2880 - accuracy: 0.8855 - val_loss: 0.3635 - val_accuracy: 0.8610\n",
            "Epoch 16/25\n",
            "317/317 [==============================] - 162s 509ms/step - loss: 0.2895 - accuracy: 0.8846 - val_loss: 0.3730 - val_accuracy: 0.8760\n",
            "Epoch 17/25\n",
            "317/317 [==============================] - 162s 509ms/step - loss: 0.2739 - accuracy: 0.8877 - val_loss: 0.3328 - val_accuracy: 0.8843\n",
            "Epoch 18/25\n",
            "317/317 [==============================] - 162s 510ms/step - loss: 0.2606 - accuracy: 0.8924 - val_loss: 0.3615 - val_accuracy: 0.8816\n",
            "Epoch 19/25\n",
            "317/317 [==============================] - 176s 556ms/step - loss: 0.2424 - accuracy: 0.9036 - val_loss: 0.3401 - val_accuracy: 0.8806\n",
            "Epoch 20/25\n",
            "317/317 [==============================] - 170s 536ms/step - loss: 0.2424 - accuracy: 0.9030 - val_loss: 0.3362 - val_accuracy: 0.8790\n",
            "Epoch 21/25\n",
            "317/317 [==============================] - 167s 527ms/step - loss: 0.2334 - accuracy: 0.9058 - val_loss: 0.3040 - val_accuracy: 0.9004\n",
            "Epoch 22/25\n",
            "317/317 [==============================] - 162s 510ms/step - loss: 0.2287 - accuracy: 0.9077 - val_loss: 0.3119 - val_accuracy: 0.8951\n",
            "Epoch 23/25\n",
            "317/317 [==============================] - 161s 507ms/step - loss: 0.2327 - accuracy: 0.9063 - val_loss: 0.3628 - val_accuracy: 0.8858\n",
            "Epoch 24/25\n",
            "317/317 [==============================] - 161s 508ms/step - loss: 0.2191 - accuracy: 0.9118 - val_loss: 0.3268 - val_accuracy: 0.8966\n",
            "Epoch 25/25\n",
            "317/317 [==============================] - 160s 506ms/step - loss: 0.2137 - accuracy: 0.9128 - val_loss: 0.3595 - val_accuracy: 0.8833\n",
            "4184.907253742218\n"
          ]
        }
      ],
      "source": [
        "start = time.time()\n",
        "\n",
        "\n",
        "r=model.fit(training_set,\n",
        "                        validation_data=validation_set,\n",
        "                          steps_per_epoch=len(training_set),\n",
        "                            epochs=25,\n",
        "                            validation_steps=len(validation_set)\n",
        "            #callbacks=[callbacks]\n",
        "            )\n",
        "\n",
        "end = time.time()\n",
        "elapsed = end - start\n",
        "print( elapsed)\n"
      ]
    },
    {
      "cell_type": "code",
      "execution_count": null,
      "metadata": {
        "colab": {
          "base_uri": "https://localhost:8080/",
          "height": 573
        },
        "id": "bRRwfkomQ_zU",
        "outputId": "d3a107c6-9584-4f88-f1ed-c16bd6ee018e"
      },
      "outputs": [
        {
          "data": {
            "image/png": "[encoded data removed]",
            "text/plain": [
              "<Figure size 432x288 with 1 Axes>"
            ]
          },
          "metadata": {},
          "output_type": "display_data"
        },
        {
          "data": {
            "image/png": "[encoded data removed]",
            "text/plain": [
              "<Figure size 432x288 with 1 Axes>"
            ]
          },
          "metadata": {},
          "output_type": "display_data"
        }
      ],
      "source": [
        "# plot the loss\n",
        "import matplotlib.pyplot as plt\n",
        "plt.plot(r.history['loss'], label='train loss')\n",
        "plt.plot(r.history['val_loss'], label='val loss')\n",
        "plt.legend()\n",
        "\n",
        "plt.ylabel('Loss')\n",
        "plt.xlabel('Epoch')\n",
        "plt.title('VGG-16 Loss Curve')\n",
        "plt.savefig('LossVal_loss_vgg_16.png')\n",
        "plt.show()\n",
        "\n",
        "# plot the accuracy\n",
        "plt.plot(r.history['accuracy'], label='train acc')\n",
        "plt.plot(r.history['val_accuracy'], label='val acc')\n",
        "plt.legend()\n",
        "\n",
        "plt.ylabel('Accuracy')\n",
        "plt.xlabel('Epoch')\n",
        "plt.title('VGG-16 Accuracy Curve')\n",
        "plt.savefig('AccVal_acc_vgg_16.png')\n",
        "plt.show()"
      ]
    },
    {
      "cell_type": "code",
      "execution_count": null,
      "metadata": {
        "colab": {
          "base_uri": "https://localhost:8080/"
        },
        "id": "nlqadsymgDUd",
        "outputId": "453eecef-f0d4-41aa-8b3c-4b31cf45d9e3"
      },
      "outputs": [
        {
          "name": "stdout",
          "output_type": "stream",
          "text": [
            "63/63 [==============================] - 24s 385ms/step\n",
            "Total Testing  Time: 24.73496723175049\n"
          ]
        }
      ],
      "source": [
        "start=time.time()\n",
        "final = model.predict(validation_set)\n",
        "end = time.time()\n",
        "elapsed = end - start\n",
        "print(\"Total Testing  Time:\", elapsed)"
      ]
    },
    {
      "cell_type": "code",
      "execution_count": null,
      "metadata": {
        "colab": {
          "base_uri": "https://localhost:8080/"
        },
        "id": "BeoXiWbvgDWy",
        "outputId": "81007db9-9474-4d94-9f53-4dd84a1abc56"
      },
      "outputs": [
        {
          "name": "stderr",
          "output_type": "stream",
          "text": [
            "/usr/local/lib/python3.7/dist-packages/ipykernel_launcher.py:5: UserWarning: `Model.predict_generator` is deprecated and will be removed in a future version. Please use `Model.predict`, which supports generators.\n",
            "  \"\"\"\n"
          ]
        },
        {
          "name": "stdout",
          "output_type": "stream",
          "text": [
            "['Bacterial Pneumonia', 'COVID', 'Fibrosis', 'Lung_Opacity', 'Normal', 'Tuberculosis', 'Viral Pneumonia']\n",
            "[[458   2   0   0   0   1  45]\n",
            " [  1 695   1  19   4   4   0]\n",
            " [  0  12 207  81  34   4   0]\n",
            " [  0  16   8 668  32   0   0]\n",
            " [  0  17  14  89 588   4  12]\n",
            " [  0   8   1   1   1 689   0]\n",
            " [ 40   2   0   0  11   1 215]]\n",
            "                     precision    recall  f1-score   support\n",
            "\n",
            "Bacterial Pneumonia       0.92      0.91      0.91       506\n",
            "              COVID       0.92      0.96      0.94       724\n",
            "           Fibrosis       0.90      0.61      0.73       338\n",
            "       Lung_Opacity       0.78      0.92      0.84       724\n",
            "             Normal       0.88      0.81      0.84       724\n",
            "       Tuberculosis       0.98      0.98      0.98       700\n",
            "    Viral Pneumonia       0.79      0.80      0.79       269\n",
            "\n",
            "           accuracy                           0.88      3985\n",
            "          macro avg       0.88      0.86      0.86      3985\n",
            "       weighted avg       0.89      0.88      0.88      3985\n",
            "\n"
          ]
        }
      ],
      "source": [
        "import numpy as np\n",
        "from sklearn.metrics import confusion_matrix,classification_report\n",
        "batch_size = 64\n",
        "num_of_test_samples = 3985\n",
        "predictions = model.predict_generator(validation_set,  num_of_test_samples // batch_size+1)\n",
        "\n",
        "y_pred = np.argmax(predictions, axis=1)\n",
        "\n",
        "\n",
        "true_classes = validation_set.classes\n",
        "\n",
        "class_labels = list(validation_set.class_indices.keys())\n",
        "\n",
        "print(class_labels)\n",
        "\n",
        "print(confusion_matrix(validation_set.classes, y_pred))\n",
        "\n",
        "report = classification_report(true_classes, y_pred, target_names=class_labels)\n",
        "print(report)"
      ]
    },
    {
      "cell_type": "code",
      "execution_count": null,
      "metadata": {
        "colab": {
          "base_uri": "https://localhost:8080/",
          "height": 467
        },
        "id": "0jseZkWrgDZT",
        "outputId": "e28ba474-2cca-4fc2-f350-e56899b5821d"
      },
      "outputs": [
        {
          "data": {
            "image/png": "[encoded data removed]",
            "text/plain": [
              "<Figure size 576x432 with 2 Axes>"
            ]
          },
          "metadata": {},
          "output_type": "display_data"
        }
      ],
      "source": [
        "import numpy as np\n",
        "\n",
        "\n",
        "def plot_confusion_matrix(cm,\n",
        "                          target_names,\n",
        "                          title='Confusion matrix',\n",
        "                          cmap=None,\n",
        "                          normalize=True):\n",
        "\n",
        "    import matplotlib.pyplot as plt\n",
        "    import numpy as np\n",
        "    import itertools\n",
        "\n",
        "    accuracy = np.trace(cm) / float(np.sum(cm))\n",
        "    misclass = 1 - accuracy\n",
        "\n",
        "    if cmap is None:\n",
        "        cmap = plt.get_cmap('Blues')\n",
        "\n",
        "    plt.figure(figsize=(8, 6))\n",
        "    plt.imshow(cm, interpolation='nearest', cmap=cmap)\n",
        "    plt.title(title)\n",
        "    plt.colorbar()\n",
        "\n",
        "    if target_names is not None:\n",
        "        tick_marks = np.arange(len(target_names))\n",
        "        plt.xticks(tick_marks, target_names, rotation=45)\n",
        "        plt.yticks(tick_marks, target_names)\n",
        "\n",
        "    if normalize:\n",
        "        cm = cm.astype('float') / cm.sum(axis=1)[:, np.newaxis]\n",
        "\n",
        "\n",
        "    thresh = cm.max() / 1.5 if normalize else cm.max() / 2\n",
        "    for i, j in itertools.product(range(cm.shape[0]), range(cm.shape[1])):\n",
        "        if normalize:\n",
        "            plt.text(j, i, \"{:0.4f}\".format(cm[i, j]),\n",
        "                     horizontalalignment=\"center\",\n",
        "                     color=\"white\" if cm[i, j] > thresh else \"black\")\n",
        "        else:\n",
        "            plt.text(j, i, \"{:,}\".format(cm[i, j]),\n",
        "                     horizontalalignment=\"center\",\n",
        "                     color=\"white\" if cm[i, j] > thresh else \"black\")\n",
        "\n",
        "\n",
        "    plt.tight_layout()\n",
        "    plt.ylabel('True label')\n",
        "    plt.xlabel('Predicted label\\naccuracy={:0.4f}; misclass={:0.4f}'.format(accuracy, misclass))\n",
        "    plt.savefig('Confusion_Matrix_VGG-16.png')\n",
        "    plt.show()\n",
        "\n",
        "plot_confusion_matrix(cm = np.array ([[458 ,  2  , 0 ,  0 ,  0 ,  1 , 45],\n",
        " [  1, 695,   1,  19  , 4 ,  4 ,  0],\n",
        " [  0 , 12, 207,  81 , 34  , 4 ,  0],\n",
        " [  0 , 16 ,  8 ,668  ,32  , 0 ,  0],\n",
        " [  0 , 17 , 14 , 89 ,588 ,  4 , 12],\n",
        " [  0 ,  8 ,  1,   1 ,  1 ,689,   0],\n",
        " [ 40  , 2 ,  0 ,  0 , 11,   1, 215]]),\n",
        "                      normalize    = False,\n",
        "                      target_names = ['Bacterial Pneumonia', 'COVID', 'Fibrosis', 'Lung_Opacity', 'Normal', 'Tuberculosis', 'Viral Pneumonia'],\n",
        "                      title = \"VGG-16 Confusion Matrix\")"
      ]
    },
    {
      "cell_type": "code",
      "execution_count": null,
      "metadata": {
        "id": "EaT0WK0cgDcd"
      },
      "outputs": [],
      "source": [
        "import math\n",
        "number_of_examples = len(validation_set.filenames)\n",
        "number_of_generator_calls = math.ceil(number_of_examples / (1.0 * 64))\n",
        "# 1.0 above is to skip integer division\n",
        "\n",
        "test_labels = []\n",
        "test_images = []\n",
        "for i in range(0,int(number_of_generator_calls)):\n",
        "    test_labels.extend(np.array(validation_set[i][1]))\n",
        "\n",
        "for i in range(0,int(number_of_generator_calls)):\n",
        "    test_images.extend(np.array(validation_set[i][0]))"
      ]
    },
    {
      "cell_type": "code",
      "execution_count": null,
      "metadata": {
        "id": "LlkWudrlgDey"
      },
      "outputs": [],
      "source": [
        "new_labels = []\n",
        "for i in range(0,3985):\n",
        "  new_labels.append(np.argmax(predictions[i]))"
      ]
    },
    {
      "cell_type": "code",
      "execution_count": null,
      "metadata": {
        "id": "kxYmOn9DgDik"
      },
      "outputs": [],
      "source": [
        "newtest_labels = []\n",
        "for i in range(0,3985):\n",
        "  newtest_labels.append(np.argmax(test_labels[i]))"
      ]
    },
    {
      "cell_type": "code",
      "execution_count": null,
      "metadata": {
        "colab": {
          "base_uri": "https://localhost:8080/",
          "height": 426
        },
        "id": "zGDeMP3EgEcg",
        "outputId": "8c01ae66-77d6-4cbb-d49b-c7ffff3da6ad"
      },
      "outputs": [
        {
          "name": "stdout",
          "output_type": "stream",
          "text": [
            "Test Score =  0.3594542145729065\n",
            "Test Accuracy =  0.8833124041557312\n",
            "Accuracy score: 0.8833124215809285\n"
          ]
        },
        {
          "name": "stderr",
          "output_type": "stream",
          "text": [
            "/usr/local/lib/python3.7/dist-packages/ipykernel_launcher.py:17: UserWarning: `Model.predict_generator` is deprecated and will be removed in a future version. Please use `Model.predict`, which supports generators.\n"
          ]
        },
        {
          "name": "stdout",
          "output_type": "stream",
          "text": [
            "AUC: 0.9885043275034425\n"
          ]
        },
        {
          "name": "stderr",
          "output_type": "stream",
          "text": [
            "/usr/local/lib/python3.7/dist-packages/ipykernel_launcher.py:43: DeprecationWarning: scipy.interp is deprecated and will be removed in SciPy 2.0.0, use numpy.interp instead\n"
          ]
        },
        {
          "data": {
            "image/png": "[encoded data removed]",
            "text/plain": [
              "<Figure size 432x288 with 1 Axes>"
            ]
          },
          "metadata": {},
          "output_type": "display_data"
        }
      ],
      "source": [
        "from sklearn import metrics\n",
        "import matplotlib.pyplot as plt\n",
        "from itertools import cycle\n",
        "from scipy import interp\n",
        "noofClasses = 7\n",
        "\n",
        "score = model.evaluate(validation_set, verbose=0)\n",
        "print('Test Score = ', score[0])\n",
        "print('Test Accuracy = ', score[1])\n",
        "from sklearn.metrics import confusion_matrix, classification_report, roc_auc_score, roc_curve, auc\n",
        "\n",
        "\n",
        "# Get the confusion matrix\n",
        "\n",
        "score = metrics.accuracy_score(y_true=newtest_labels, y_pred=new_labels)\n",
        "print(\"Accuracy score: {}\".format(score))\n",
        "pred_prob =model.predict_generator(validation_set,  num_of_test_samples // batch_size+1)\n",
        "\n",
        "c = roc_auc_score(newtest_labels, pred_prob, multi_class='ovo')\n",
        "print(\"AUC:\", c)\n",
        "# Compute ROC curve and ROC area for each class\n",
        "fpr = {}\n",
        "tpr = {}\n",
        "roc_auc = {}\n",
        "thresh = {}\n",
        "lw = 2\n",
        "precision = {}\n",
        "recall = {}\n",
        "for i in range(noofClasses):\n",
        "    fpr[i], tpr[i], thresh[i] = roc_curve(newtest_labels, pred_prob[:, i], pos_label=i)\n",
        "    precision[i], recall[i], _ = roc_curve(newtest_labels, pred_prob[:, i], pos_label=i)\n",
        "    roc_auc[i] = auc(fpr[i], tpr[i])\n",
        "\n",
        "\n",
        "n_classes = 7\n",
        "\n",
        "# First aggregate all false positive rates\n",
        "all_fpr = np.unique(np.concatenate([fpr[i] for i in range(n_classes)]))\n",
        "\n",
        "# Then interpolate all ROC curves at this points\n",
        "mean_tpr = np.zeros_like(all_fpr)\n",
        "for i in range(n_classes):\n",
        "    mean_tpr += interp(all_fpr, fpr[i], tpr[i])\n",
        "\n",
        "# Finally average it and compute AUC\n",
        "mean_tpr /= n_classes\n",
        "\n",
        "fpr[\"macro\"] = all_fpr\n",
        "tpr[\"macro\"] = mean_tpr\n",
        "roc_auc[\"macro\"] = auc(fpr[\"macro\"], tpr[\"macro\"])\n",
        "\n",
        "# Plot all ROC curves\n",
        "plt.figure()\n",
        "\n",
        "colors = cycle(['green', 'darkorange', 'cornflowerblue', 'yellow','red','blue'])\n",
        "for i, color in zip(range(n_classes), colors):\n",
        "    plt.plot(fpr[i], tpr[i], color=color, lw=lw, label='ROC curve of class {0} (AUC = {1:0.4f})'\n",
        "                                                       ''.format(i, roc_auc[i]))\n",
        "\n",
        "plt.plot([0, 1], [0, 1], 'k--', lw=lw)\n",
        "plt.xlim([0.0, 1.0])\n",
        "plt.ylim([0.0, 1.05])\n",
        "plt.xlabel('False Positive Rate')\n",
        "plt.ylabel('True Positive Rate')\n",
        "plt.title('Receiver operating characteristic curve for VGG-16')\n",
        "plt.legend(loc=\"lower right\")\n",
        "plt.savefig(\"VGG-16_roc.png\")\n",
        "plt.show()\n"
      ]
    },
    {
      "cell_type": "code",
      "execution_count": null,
      "metadata": {
        "id": "yKBGj9tUgEel"
      },
      "outputs": [],
      "source": []
    },
    {
      "cell_type": "code",
      "execution_count": null,
      "metadata": {
        "id": "uZM5h-_-gEh7"
      },
      "outputs": [],
      "source": []
    },
    {
      "cell_type": "code",
      "execution_count": null,
      "metadata": {
        "id": "NqOgEDFXfTWm"
      },
      "outputs": [],
      "source": [
        "start=time.time()\n",
        "final = model.predict(validation_set)\n",
        "end = time.time()\n",
        "elapsed = end - start\n",
        "print(\"Total Testing  Time:\", elapsed)"
      ]
    },
    {
      "cell_type": "code",
      "execution_count": null,
      "metadata": {
        "id": "FDW2uq02-Ttt"
      },
      "outputs": [],
      "source": [
        "#VGG-19\n",
        "from keras.models import Sequential\n",
        "\n",
        "import keras\n",
        "from keras.layers import Conv2D, MaxPool2D, Flatten, Dense, InputLayer, BatchNormalization, Dropout\n",
        "from keras.utils import np_utils\n",
        "\n",
        "from keras.callbacks import LearningRateScheduler, ModelCheckpoint\n",
        "from keras.preprocessing.image import ImageDataGenerator\n",
        "from keras.regularizers import l2\n",
        "import tensorflow as tf\n",
        "from tensorflow.keras.applications.vgg19 import VGG19\n",
        "from tensorflow.keras.applications.vgg19 import preprocess_input"
      ]
    },
    {
      "cell_type": "code",
      "execution_count": null,
      "metadata": {
        "id": "eRfNrXLEWNSx"
      },
      "outputs": [],
      "source": [
        "IMAGE_SIZE=[224,224]\n",
        "vgg = VGG19(input_shape=IMAGE_SIZE + [3], weights='imagenet', include_top=False)\n",
        "#do not train the pre-trained layers of VGG-19\n",
        "for layer in vgg.layers:\n",
        "    layer.trainable = False"
      ]
    },
    {
      "cell_type": "code",
      "execution_count": null,
      "metadata": {
        "colab": {
          "base_uri": "https://localhost:8080/"
        },
        "id": "zLp8Lf1lWNVk",
        "outputId": "322a5b8e-ff08-4da4-dff9-41c949a81e09"
      },
      "outputs": [
        {
          "name": "stdout",
          "output_type": "stream",
          "text": [
            "Model: \"model_6\"\n",
            "_________________________________________________________________\n",
            " Layer (type)                Output Shape              Param #   \n",
            "=================================================================\n",
            " input_3 (InputLayer)        [(None, 224, 224, 3)]     0         \n",
            "                                                                 \n",
            " block1_conv1 (Conv2D)       (None, 224, 224, 64)      1792      \n",
            "                                                                 \n",
            " block1_conv2 (Conv2D)       (None, 224, 224, 64)      36928     \n",
            "                                                                 \n",
            " block1_pool (MaxPooling2D)  (None, 112, 112, 64)      0         \n",
            "                                                                 \n",
            " block2_conv1 (Conv2D)       (None, 112, 112, 128)     73856     \n",
            "                                                                 \n",
            " block2_conv2 (Conv2D)       (None, 112, 112, 128)     147584    \n",
            "                                                                 \n",
            " block2_pool (MaxPooling2D)  (None, 56, 56, 128)       0         \n",
            "                                                                 \n",
            " block3_conv1 (Conv2D)       (None, 56, 56, 256)       295168    \n",
            "                                                                 \n",
            " block3_conv2 (Conv2D)       (None, 56, 56, 256)       590080    \n",
            "                                                                 \n",
            " block3_conv3 (Conv2D)       (None, 56, 56, 256)       590080    \n",
            "                                                                 \n",
            " block3_conv4 (Conv2D)       (None, 56, 56, 256)       590080    \n",
            "                                                                 \n",
            " block3_pool (MaxPooling2D)  (None, 28, 28, 256)       0         \n",
            "                                                                 \n",
            " block4_conv1 (Conv2D)       (None, 28, 28, 512)       1180160   \n",
            "                                                                 \n",
            " block4_conv2 (Conv2D)       (None, 28, 28, 512)       2359808   \n",
            "                                                                 \n",
            " block4_conv3 (Conv2D)       (None, 28, 28, 512)       2359808   \n",
            "                                                                 \n",
            " block4_conv4 (Conv2D)       (None, 28, 28, 512)       2359808   \n",
            "                                                                 \n",
            " block4_pool (MaxPooling2D)  (None, 14, 14, 512)       0         \n",
            "                                                                 \n",
            " block5_conv1 (Conv2D)       (None, 14, 14, 512)       2359808   \n",
            "                                                                 \n",
            " block5_conv2 (Conv2D)       (None, 14, 14, 512)       2359808   \n",
            "                                                                 \n",
            " block5_conv3 (Conv2D)       (None, 14, 14, 512)       2359808   \n",
            "                                                                 \n",
            " block5_conv4 (Conv2D)       (None, 14, 14, 512)       2359808   \n",
            "                                                                 \n",
            " block5_pool (MaxPooling2D)  (None, 7, 7, 512)         0         \n",
            "                                                                 \n",
            " flatten_6 (Flatten)         (None, 25088)             0         \n",
            "                                                                 \n",
            " dense_12 (Dense)            (None, 1024)              25691136  \n",
            "                                                                 \n",
            " dropout_6 (Dropout)         (None, 1024)              0         \n",
            "                                                                 \n",
            " dense_13 (Dense)            (None, 7)                 7175      \n",
            "                                                                 \n",
            "=================================================================\n",
            "Total params: 45,722,695\n",
            "Trainable params: 25,698,311\n",
            "Non-trainable params: 20,024,384\n",
            "_________________________________________________________________\n"
          ]
        }
      ],
      "source": [
        "x = Flatten()(vgg.output)\n",
        "x = Dense(1024, activation='relu')(x)\n",
        "x = keras.layers.Dropout(0.2)(x)\n",
        "#x = Dense(512, activation='relu')(x)\n",
        "#x = keras.layers.Dropout(0.2)(x)\n",
        "#adding output layer.Softmax classifier is used as it is multi-class classification\n",
        "prediction = Dense(7, activation='softmax')(x)\n",
        "\n",
        "model = Model(inputs=vgg.input, outputs=prediction)\n",
        "\n",
        "\n",
        "# view the structure of the model\n",
        "model.summary()"
      ]
    },
    {
      "cell_type": "code",
      "execution_count": null,
      "metadata": {
        "id": "AX8_6xKJWNYq"
      },
      "outputs": [],
      "source": [
        "model.compile(\n",
        "  loss='categorical_crossentropy',\n",
        "  optimizer='adam',\n",
        "  metrics=['accuracy']\n",
        ")"
      ]
    },
    {
      "cell_type": "code",
      "execution_count": null,
      "metadata": {
        "colab": {
          "base_uri": "https://localhost:8080/"
        },
        "id": "r7-qCHp0Xsdq",
        "outputId": "0d6b6ecd-d409-4202-9d0a-0fde14e994c7"
      },
      "outputs": [
        {
          "name": "stdout",
          "output_type": "stream",
          "text": [
            "Found 20244 images belonging to 7 classes.\n",
            "Found 3985 images belonging to 7 classes.\n"
          ]
        }
      ],
      "source": [
        "from keras.preprocessing.image import ImageDataGenerator\n",
        "\n",
        "train_datagen = ImageDataGenerator(rescale = 1./255\n",
        "                              #horizontal_flip=False,\n",
        "                              #vertical_flip=False,\n",
        "                              #featurewise_center=True,\n",
        "                     #featurewise_std_normalization=True,\n",
        "                     #rotation_range=20,\n",
        "                     #width_shift_range=0.01,\n",
        "                     #height_shift_range=0.01,\n",
        "                     #zoom_range=0.2\n",
        "                            #featurewise_std_normalization=True\n",
        "                                  )\n",
        "\n",
        "\n",
        "\n",
        "val_datagen = ImageDataGenerator(rescale = 1./255)\n",
        "\n",
        "training_set = train_datagen.flow_from_directory('/content/output/train',\n",
        "                                                 target_size = (224, 224),\n",
        "                                                 batch_size = 64,\n",
        "                                                 class_mode = 'categorical',\n",
        "                                                 shuffle=True\n",
        "                                                 )\n",
        "validation_set = val_datagen.flow_from_directory('/content/output/val',\n",
        "                                            target_size = (224, 224),\n",
        "                                            batch_size = 64,\n",
        "                                            class_mode = 'categorical',\n",
        "                                            shuffle=True)"
      ]
    },
    {
      "cell_type": "code",
      "execution_count": null,
      "metadata": {
        "colab": {
          "background_save": true,
          "base_uri": "https://localhost:8080/"
        },
        "id": "e30se23nZUjs",
        "outputId": "22f58b12-13a2-4551-e3e7-89d10ed45e2d"
      },
      "outputs": [
        {
          "name": "stdout",
          "output_type": "stream",
          "text": [
            "Epoch 1/25\n",
            "317/317 [==============================] - 167s 525ms/step - loss: 1.2014 - accuracy: 0.7374 - val_loss: 0.5885 - val_accuracy: 0.7819\n",
            "Epoch 2/25\n",
            "317/317 [==============================] - 166s 523ms/step - loss: 0.4069 - accuracy: 0.8557 - val_loss: 0.5300 - val_accuracy: 0.8030\n",
            "Epoch 3/25\n",
            "317/317 [==============================] - 165s 521ms/step - loss: 0.3443 - accuracy: 0.8744 - val_loss: 0.4241 - val_accuracy: 0.8444\n",
            "Epoch 4/25\n",
            "317/317 [==============================] - 165s 519ms/step - loss: 0.3033 - accuracy: 0.8908 - val_loss: 0.3415 - val_accuracy: 0.8710\n",
            "Epoch 5/25\n",
            "317/317 [==============================] - 164s 518ms/step - loss: 0.2736 - accuracy: 0.8987 - val_loss: 0.3320 - val_accuracy: 0.8770\n",
            "Epoch 6/25\n",
            "317/317 [==============================] - 164s 515ms/step - loss: 0.2473 - accuracy: 0.9095 - val_loss: 0.3052 - val_accuracy: 0.8873\n",
            "Epoch 7/25\n",
            "317/317 [==============================] - 163s 515ms/step - loss: 0.2447 - accuracy: 0.9078 - val_loss: 0.3724 - val_accuracy: 0.8642\n",
            "Epoch 8/25\n",
            "317/317 [==============================] - 163s 512ms/step - loss: 0.2237 - accuracy: 0.9184 - val_loss: 0.2906 - val_accuracy: 0.8936\n",
            "Epoch 9/25\n",
            "317/317 [==============================] - 162s 511ms/step - loss: 0.2308 - accuracy: 0.9142 - val_loss: 0.3071 - val_accuracy: 0.8888\n",
            "Epoch 10/25\n",
            "317/317 [==============================] - 163s 514ms/step - loss: 0.2124 - accuracy: 0.9190 - val_loss: 0.3029 - val_accuracy: 0.8918\n",
            "Epoch 11/25\n",
            "317/317 [==============================] - 163s 515ms/step - loss: 0.2175 - accuracy: 0.9186 - val_loss: 0.3056 - val_accuracy: 0.8886\n",
            "Epoch 12/25\n",
            "317/317 [==============================] - 164s 517ms/step - loss: 0.1934 - accuracy: 0.9285 - val_loss: 0.3927 - val_accuracy: 0.8637\n",
            "Epoch 13/25\n",
            "317/317 [==============================] - 164s 516ms/step - loss: 0.1816 - accuracy: 0.9326 - val_loss: 0.3362 - val_accuracy: 0.8806\n",
            "Epoch 14/25\n",
            "317/317 [==============================] - 163s 513ms/step - loss: 0.2071 - accuracy: 0.9229 - val_loss: 0.2832 - val_accuracy: 0.9036\n",
            "Epoch 15/25\n",
            "317/317 [==============================] - 164s 516ms/step - loss: 0.1801 - accuracy: 0.9318 - val_loss: 0.2875 - val_accuracy: 0.9041\n",
            "Epoch 16/25\n",
            "317/317 [==============================] - 164s 518ms/step - loss: 0.1958 - accuracy: 0.9251 - val_loss: 0.3344 - val_accuracy: 0.8856\n",
            "Epoch 17/25\n",
            "317/317 [==============================] - 164s 517ms/step - loss: 0.1991 - accuracy: 0.9241 - val_loss: 0.3655 - val_accuracy: 0.8668\n",
            "Epoch 18/25\n",
            "317/317 [==============================] - 164s 517ms/step - loss: 0.2505 - accuracy: 0.9018 - val_loss: 0.3463 - val_accuracy: 0.8748\n",
            "Epoch 19/25\n",
            "317/317 [==============================] - 162s 510ms/step - loss: 0.2121 - accuracy: 0.9156 - val_loss: 0.3042 - val_accuracy: 0.8946\n",
            "Epoch 20/25\n",
            "317/317 [==============================] - 162s 510ms/step - loss: 0.1883 - accuracy: 0.9261 - val_loss: 0.2902 - val_accuracy: 0.8971\n",
            "Epoch 21/25\n",
            "317/317 [==============================] - 162s 510ms/step - loss: 0.1962 - accuracy: 0.9232 - val_loss: 0.3491 - val_accuracy: 0.8878\n",
            "Epoch 22/25\n",
            "317/317 [==============================] - 162s 510ms/step - loss: 0.1647 - accuracy: 0.9365 - val_loss: 0.3098 - val_accuracy: 0.8946\n",
            "Epoch 23/25\n",
            "317/317 [==============================] - 161s 509ms/step - loss: 0.1536 - accuracy: 0.9385 - val_loss: 0.3666 - val_accuracy: 0.8763\n",
            "Epoch 24/25\n",
            "317/317 [==============================] - 162s 511ms/step - loss: 0.1852 - accuracy: 0.9275 - val_loss: 0.3524 - val_accuracy: 0.8836\n",
            "Epoch 25/25\n",
            "317/317 [==============================] - 162s 511ms/step - loss: 0.1864 - accuracy: 0.9266 - val_loss: 0.3415 - val_accuracy: 0.8921\n",
            "4200.55104136467\n"
          ]
        }
      ],
      "source": [
        "start = time.time()\n",
        "\n",
        "\n",
        "r=model.fit(training_set,\n",
        "                        validation_data=validation_set,\n",
        "                          steps_per_epoch=len(training_set),\n",
        "                            epochs=25,\n",
        "                            validation_steps=len(validation_set)\n",
        "            #callbacks=[callbacks]\n",
        "            )\n",
        "\n",
        "end = time.time()\n",
        "elapsed = end - start\n",
        "print( elapsed)"
      ]
    },
    {
      "cell_type": "code",
      "execution_count": null,
      "metadata": {
        "colab": {
          "background_save": true
        },
        "id": "DhD4llP4KXxD",
        "outputId": "bbb8e0ee-3454-4afc-97cf-08c92bf2313a"
      },
      "outputs": [
        {
          "data": {
            "image/png": "[encoded data removed]",
            "text/plain": [
              "<Figure size 432x288 with 1 Axes>"
            ]
          },
          "metadata": {},
          "output_type": "display_data"
        },
        {
          "data": {
            "image/png": "[encoded data removed]",
            "text/plain": [
              "<Figure size 432x288 with 1 Axes>"
            ]
          },
          "metadata": {},
          "output_type": "display_data"
        }
      ],
      "source": [
        "# plot the loss\n",
        "import matplotlib.pyplot as plt\n",
        "plt.plot(r.history['loss'], label='train loss')\n",
        "plt.plot(r.history['val_loss'], label='val loss')\n",
        "plt.legend()\n",
        "\n",
        "plt.ylabel('Loss')\n",
        "plt.xlabel('Epoch')\n",
        "plt.title('VGG-19 Loss Curve')\n",
        "plt.savefig('LossVal_loss_vgg_19.png')\n",
        "plt.show()\n",
        "\n",
        "# plot the accuracy\n",
        "plt.plot(r.history['accuracy'], label='train acc')\n",
        "plt.plot(r.history['val_accuracy'], label='val acc')\n",
        "plt.legend()\n",
        "\n",
        "plt.ylabel('Accuracy')\n",
        "plt.xlabel('Epoch')\n",
        "plt.title('VGG-19 Accuracy Curve')\n",
        "plt.savefig('AccVal_acc_vgg_19.png')\n",
        "plt.show()"
      ]
    },
    {
      "cell_type": "code",
      "execution_count": null,
      "metadata": {
        "colab": {
          "base_uri": "https://localhost:8080/"
        },
        "id": "cw-rLoaB9aJV",
        "outputId": "b1b8ad4b-1fd2-49bb-8272-a9e4c2cc88eb"
      },
      "outputs": [
        {
          "name": "stdout",
          "output_type": "stream",
          "text": [
            "Epoch 1/25\n",
            "317/317 [==============================] - 226s 695ms/step - loss: 1.1464 - accuracy: 0.7413 - val_loss: 0.6461 - val_accuracy: 0.7666\n",
            "Epoch 2/25\n",
            "317/317 [==============================] - 187s 590ms/step - loss: 0.4083 - accuracy: 0.8544 - val_loss: 0.4025 - val_accuracy: 0.8492\n",
            "Epoch 3/25\n",
            "317/317 [==============================] - 183s 576ms/step - loss: 0.3323 - accuracy: 0.8756 - val_loss: 0.3604 - val_accuracy: 0.8745\n",
            "Epoch 4/25\n",
            "317/317 [==============================] - 179s 565ms/step - loss: 0.2788 - accuracy: 0.8977 - val_loss: 0.3564 - val_accuracy: 0.8650\n",
            "Epoch 5/25\n",
            "317/317 [==============================] - 178s 561ms/step - loss: 0.2740 - accuracy: 0.8983 - val_loss: 0.3455 - val_accuracy: 0.8790\n",
            "Epoch 6/25\n",
            "317/317 [==============================] - 180s 566ms/step - loss: 0.2487 - accuracy: 0.9084 - val_loss: 0.3046 - val_accuracy: 0.8893\n",
            "Epoch 7/25\n",
            "317/317 [==============================] - 180s 567ms/step - loss: 0.2357 - accuracy: 0.9126 - val_loss: 0.3231 - val_accuracy: 0.8823\n",
            "Epoch 8/25\n",
            "317/317 [==============================] - 180s 567ms/step - loss: 0.2272 - accuracy: 0.9184 - val_loss: 0.3063 - val_accuracy: 0.8908\n",
            "Epoch 9/25\n",
            "317/317 [==============================] - 179s 565ms/step - loss: 0.2050 - accuracy: 0.9230 - val_loss: 0.3865 - val_accuracy: 0.8625\n",
            "Epoch 10/25\n",
            "317/317 [==============================] - 178s 561ms/step - loss: 0.2202 - accuracy: 0.9188 - val_loss: 0.3456 - val_accuracy: 0.8738\n",
            "Epoch 11/25\n",
            "317/317 [==============================] - 178s 561ms/step - loss: 0.1975 - accuracy: 0.9273 - val_loss: 0.3190 - val_accuracy: 0.8818\n",
            "Epoch 12/25\n",
            "317/317 [==============================] - 178s 561ms/step - loss: 0.2079 - accuracy: 0.9231 - val_loss: 0.3615 - val_accuracy: 0.8728\n",
            "Epoch 13/25\n",
            "317/317 [==============================] - 176s 556ms/step - loss: 0.1906 - accuracy: 0.9307 - val_loss: 0.3351 - val_accuracy: 0.8846\n",
            "Epoch 14/25\n",
            "317/317 [==============================] - 177s 557ms/step - loss: 0.1854 - accuracy: 0.9315 - val_loss: 0.2839 - val_accuracy: 0.9011\n",
            "Epoch 15/25\n",
            "317/317 [==============================] - 177s 557ms/step - loss: 0.1792 - accuracy: 0.9342 - val_loss: 0.3544 - val_accuracy: 0.8823\n",
            "Epoch 16/25\n",
            "317/317 [==============================] - 177s 558ms/step - loss: 0.2042 - accuracy: 0.9238 - val_loss: 0.3870 - val_accuracy: 0.8627\n",
            "Epoch 17/25\n",
            "317/317 [==============================] - 177s 559ms/step - loss: 0.1998 - accuracy: 0.9216 - val_loss: 0.3323 - val_accuracy: 0.8836\n",
            "Epoch 18/25\n",
            "317/317 [==============================] - 177s 557ms/step - loss: 0.2009 - accuracy: 0.9249 - val_loss: 0.3002 - val_accuracy: 0.9006\n",
            "Epoch 19/25\n",
            "317/317 [==============================] - 176s 556ms/step - loss: 0.1938 - accuracy: 0.9254 - val_loss: 0.3808 - val_accuracy: 0.8695\n",
            "Epoch 20/25\n",
            "317/317 [==============================] - 176s 555ms/step - loss: 0.1596 - accuracy: 0.9379 - val_loss: 0.4063 - val_accuracy: 0.8710\n",
            "Epoch 21/25\n",
            "317/317 [==============================] - 176s 555ms/step - loss: 0.1589 - accuracy: 0.9377 - val_loss: 0.3702 - val_accuracy: 0.8843\n",
            "Epoch 22/25\n",
            "317/317 [==============================] - 176s 555ms/step - loss: 0.1594 - accuracy: 0.9403 - val_loss: 0.3263 - val_accuracy: 0.8903\n",
            "Epoch 23/25\n",
            "317/317 [==============================] - 175s 552ms/step - loss: 0.1646 - accuracy: 0.9358 - val_loss: 0.3138 - val_accuracy: 0.8996\n",
            "Epoch 24/25\n",
            "317/317 [==============================] - 176s 555ms/step - loss: 0.1582 - accuracy: 0.9385 - val_loss: 0.3164 - val_accuracy: 0.9016\n",
            "Epoch 25/25\n",
            "317/317 [==============================] - 176s 556ms/step - loss: 0.1356 - accuracy: 0.9467 - val_loss: 0.3119 - val_accuracy: 0.9041\n",
            "4561.138449430466\n"
          ]
        }
      ],
      "source": [
        "start = time.time()\n",
        "\n",
        "\n",
        "r=model.fit(training_set,\n",
        "                        validation_data=validation_set,\n",
        "                          steps_per_epoch=len(training_set),\n",
        "                            epochs=25,\n",
        "                            validation_steps=len(validation_set)\n",
        "            #callbacks=[callbacks]\n",
        "            )\n",
        "\n",
        "end = time.time()\n",
        "elapsed = end - start\n",
        "print( elapsed)\n",
        "\n"
      ]
    },
    {
      "cell_type": "code",
      "execution_count": null,
      "metadata": {
        "id": "o2paLDwAX46l"
      },
      "outputs": [],
      "source": [
        "model.save('vgg-19.h5')"
      ]
    },
    {
      "cell_type": "code",
      "execution_count": null,
      "metadata": {
        "colab": {
          "base_uri": "https://localhost:8080/",
          "height": 573
        },
        "id": "f3yCq9JTX49E",
        "outputId": "3380b8d7-9780-4fdb-c1e1-34137add423b"
      },
      "outputs": [
        {
          "data": {
            "image/png": "[encoded data removed]",
            "text/plain": [
              "<Figure size 432x288 with 1 Axes>"
            ]
          },
          "metadata": {},
          "output_type": "display_data"
        },
        {
          "data": {
            "image/png": "[encoded data removed]",
            "text/plain": [
              "<Figure size 432x288 with 1 Axes>"
            ]
          },
          "metadata": {},
          "output_type": "display_data"
        }
      ],
      "source": [
        "# plot the loss\n",
        "import matplotlib.pyplot as plt\n",
        "plt.plot(r.history['loss'], label='train loss')\n",
        "plt.plot(r.history['val_loss'], label='val loss')\n",
        "plt.legend()\n",
        "\n",
        "plt.ylabel('Loss')\n",
        "plt.xlabel('Epoch')\n",
        "plt.title('VGG-19 Loss Curve')\n",
        "plt.savefig('LossVal_loss_vgg_19.png')\n",
        "plt.show()\n",
        "\n",
        "# plot the accuracy\n",
        "plt.plot(r.history['accuracy'], label='train acc')\n",
        "plt.plot(r.history['val_accuracy'], label='val acc')\n",
        "plt.legend()\n",
        "\n",
        "plt.ylabel('Accuracy')\n",
        "plt.xlabel('Epoch')\n",
        "plt.title('VGG-19 Accuracy Curve')\n",
        "plt.savefig('AccVal_acc_vgg_19.png')\n",
        "plt.show()"
      ]
    },
    {
      "cell_type": "code",
      "execution_count": null,
      "metadata": {
        "colab": {
          "base_uri": "https://localhost:8080/"
        },
        "id": "JcYFcgtTX5Ac",
        "outputId": "4efe5767-de25-4b18-dd6f-a03cb99c0fcb"
      },
      "outputs": [
        {
          "name": "stdout",
          "output_type": "stream",
          "text": [
            "63/63 [==============================] - 27s 425ms/step\n",
            "Total Testing  Time: 27.297649383544922\n"
          ]
        }
      ],
      "source": [
        "start=time.time()\n",
        "final = model.predict(validation_set)\n",
        "end = time.time()\n",
        "elapsed = end - start\n",
        "print(\"Total Testing  Time:\", elapsed)"
      ]
    },
    {
      "cell_type": "code",
      "execution_count": null,
      "metadata": {
        "colab": {
          "base_uri": "https://localhost:8080/"
        },
        "id": "yc_syxX7Y9Rl",
        "outputId": "2fcb5ed4-2011-4ae7-99d3-cc5f53f02d22"
      },
      "outputs": [
        {
          "name": "stderr",
          "output_type": "stream",
          "text": [
            "/usr/local/lib/python3.7/dist-packages/ipykernel_launcher.py:5: UserWarning: `Model.predict_generator` is deprecated and will be removed in a future version. Please use `Model.predict`, which supports generators.\n",
            "  \"\"\"\n"
          ]
        },
        {
          "name": "stdout",
          "output_type": "stream",
          "text": [
            "['Bacterial Pneumonia', 'COVID', 'Fibrosis', 'Lung_Opacity', 'Normal', 'Tuberculosis', 'Viral Pneumonia']\n",
            "[[485   0   0   0   1   0  20]\n",
            " [  5 662  10  24  18   5   0]\n",
            " [  0   5 285  21  26   1   0]\n",
            " [  0   7  28 636  53   0   0]\n",
            " [  3   9  17  51 635   3   6]\n",
            " [  0   7   0   3   8 682   0]\n",
            " [ 37   3   0   0  11   0 218]]\n",
            "                     precision    recall  f1-score   support\n",
            "\n",
            "Bacterial Pneumonia       0.92      0.96      0.94       506\n",
            "              COVID       0.96      0.91      0.93       724\n",
            "           Fibrosis       0.84      0.84      0.84       338\n",
            "       Lung_Opacity       0.87      0.88      0.87       724\n",
            "             Normal       0.84      0.88      0.86       724\n",
            "       Tuberculosis       0.99      0.97      0.98       700\n",
            "    Viral Pneumonia       0.89      0.81      0.85       269\n",
            "\n",
            "           accuracy                           0.90      3985\n",
            "          macro avg       0.90      0.89      0.90      3985\n",
            "       weighted avg       0.91      0.90      0.90      3985\n",
            "\n"
          ]
        }
      ],
      "source": [
        "import numpy as np\n",
        "from sklearn.metrics import confusion_matrix,classification_report\n",
        "batch_size = 64\n",
        "num_of_test_samples = 3985\n",
        "predictions = model.predict_generator(validation_set,  num_of_test_samples // batch_size+1)\n",
        "\n",
        "y_pred = np.argmax(predictions, axis=1)\n",
        "\n",
        "\n",
        "true_classes = validation_set.classes\n",
        "\n",
        "class_labels = list(validation_set.class_indices.keys())\n",
        "\n",
        "print(class_labels)\n",
        "\n",
        "print(confusion_matrix(validation_set.classes, y_pred))\n",
        "\n",
        "report = classification_report(true_classes, y_pred, target_names=class_labels)\n",
        "print(report)"
      ]
    },
    {
      "cell_type": "code",
      "execution_count": null,
      "metadata": {
        "colab": {
          "base_uri": "https://localhost:8080/",
          "height": 455
        },
        "id": "mww25xVUY9UD",
        "outputId": "f703a25c-1ab5-4c78-b2a7-fb1acdd130b7"
      },
      "outputs": [
        {
          "output_type": "display_data",
          "data": {
            "text/plain": [
              "<Figure size 576x432 with 2 Axes>"
            ],
            "image/png": "[encoded data removed]"
          },
          "metadata": {
            "needs_background": "light"
          }
        }
      ],
      "source": [
        "import numpy as np\n",
        "\n",
        "\n",
        "def plot_confusion_matrix(cm,\n",
        "                          target_names,\n",
        "                          title='Confusion matrix',\n",
        "                          cmap=None,\n",
        "                          normalize=True):\n",
        "\n",
        "    import matplotlib.pyplot as plt\n",
        "    import numpy as np\n",
        "    import itertools\n",
        "\n",
        "    accuracy = np.trace(cm) / float(np.sum(cm))\n",
        "    misclass = 1 - accuracy\n",
        "\n",
        "    if cmap is None:\n",
        "        cmap = plt.get_cmap('Blues')\n",
        "\n",
        "    plt.figure(figsize=(8, 6))\n",
        "    plt.imshow(cm, interpolation='nearest', cmap=cmap)\n",
        "    plt.title(title)\n",
        "    plt.colorbar()\n",
        "\n",
        "    if target_names is not None:\n",
        "        tick_marks = np.arange(len(target_names))\n",
        "        plt.xticks(tick_marks, target_names, rotation=45)\n",
        "        plt.yticks(tick_marks, target_names)\n",
        "\n",
        "    if normalize:\n",
        "        cm = cm.astype('float') / cm.sum(axis=1)[:, np.newaxis]\n",
        "\n",
        "\n",
        "    thresh = cm.max() / 1.5 if normalize else cm.max() / 2\n",
        "    for i, j in itertools.product(range(cm.shape[0]), range(cm.shape[1])):\n",
        "        if normalize:\n",
        "            plt.text(j, i, \"{:0.4f}\".format(cm[i, j]),\n",
        "                     horizontalalignment=\"center\",\n",
        "                     color=\"white\" if cm[i, j] > thresh else \"black\")\n",
        "        else:\n",
        "            plt.text(j, i, \"{:,}\".format(cm[i, j]),\n",
        "                     horizontalalignment=\"center\",\n",
        "                     color=\"white\" if cm[i, j] > thresh else \"black\")\n",
        "\n",
        "\n",
        "    plt.tight_layout()\n",
        "    plt.ylabel('True label')\n",
        "    plt.xlabel('Predicted label')\n",
        "    plt.savefig('Confusion_Matrix_VGG-19.png')\n",
        "    plt.show()\n",
        "\n",
        "plot_confusion_matrix(cm = np.array ([[485 ,  0  , 0   ,0  , 1   ,0 , 20],\n",
        " [  5 ,662,  10,  24 , 18 ,  5 ,  0],\n",
        " [  0,   5 ,285 , 21 , 26 ,  1 ,  0],\n",
        " [  0  , 7 , 28 ,636 , 53 ,  0  , 0],\n",
        " [  3  , 9 , 17,  51, 635 ,  3 ,  6],\n",
        " [  0   ,7  , 0   ,3  , 8, 682 ,  0],\n",
        " [ 37  , 3   ,0  , 0 , 11 ,  0, 218]]),\n",
        "                      normalize    = False,\n",
        "                      target_names = ['Bacterial Pneumonia', 'COVID', 'Fibrosis', 'Lung_Opacity', 'Normal', 'Tuberculosis', 'Viral Pneumonia'],\n",
        "                      title = \"VGG-19 Confusion Matrix\")"
      ]
    },
    {
      "cell_type": "code",
      "execution_count": null,
      "metadata": {
        "id": "MyAIfyysY9Xg"
      },
      "outputs": [],
      "source": [
        "import math\n",
        "number_of_examples = len(validation_set.filenames)\n",
        "number_of_generator_calls = math.ceil(number_of_examples / (1.0 * 64))\n",
        "# 1.0 above is to skip integer division\n",
        "\n",
        "test_labels = []\n",
        "test_images = []\n",
        "for i in range(0,int(number_of_generator_calls)):\n",
        "    test_labels.extend(np.array(validation_set[i][1]))\n",
        "\n",
        "for i in range(0,int(number_of_generator_calls)):\n",
        "    test_images.extend(np.array(validation_set[i][0]))"
      ]
    },
    {
      "cell_type": "code",
      "execution_count": null,
      "metadata": {
        "id": "dP7deh_GXsgM"
      },
      "outputs": [],
      "source": [
        "new_labels = []\n",
        "for i in range(0,3985):\n",
        "  new_labels.append(np.argmax(predictions[i]))"
      ]
    },
    {
      "cell_type": "code",
      "execution_count": null,
      "metadata": {
        "id": "sPmXogQ0ZUfT"
      },
      "outputs": [],
      "source": [
        "newtest_labels = []\n",
        "for i in range(0,3985):\n",
        "  newtest_labels.append(np.argmax(test_labels[i]))"
      ]
    },
    {
      "cell_type": "code",
      "execution_count": null,
      "metadata": {
        "colab": {
          "base_uri": "https://localhost:8080/",
          "height": 426
        },
        "id": "unDFX5bRZUh9",
        "outputId": "18823966-8e42-4be9-953f-e1df9082c235"
      },
      "outputs": [
        {
          "name": "stdout",
          "output_type": "stream",
          "text": [
            "Test Score =  0.31192517280578613\n",
            "Test Accuracy =  0.9041405320167542\n",
            "Accuracy score: 0.9041405269761607\n"
          ]
        },
        {
          "name": "stderr",
          "output_type": "stream",
          "text": [
            "/usr/local/lib/python3.7/dist-packages/ipykernel_launcher.py:17: UserWarning: `Model.predict_generator` is deprecated and will be removed in a future version. Please use `Model.predict`, which supports generators.\n"
          ]
        },
        {
          "name": "stdout",
          "output_type": "stream",
          "text": [
            "AUC: 0.9909773811447161\n"
          ]
        },
        {
          "name": "stderr",
          "output_type": "stream",
          "text": [
            "/usr/local/lib/python3.7/dist-packages/ipykernel_launcher.py:43: DeprecationWarning: scipy.interp is deprecated and will be removed in SciPy 2.0.0, use numpy.interp instead\n"
          ]
        },
        {
          "data": {
            "image/png": "[encoded data removed]",
            "text/plain": [
              "<Figure size 432x288 with 1 Axes>"
            ]
          },
          "metadata": {},
          "output_type": "display_data"
        }
      ],
      "source": [
        "from sklearn import metrics\n",
        "import matplotlib.pyplot as plt\n",
        "from itertools import cycle\n",
        "from scipy import interp\n",
        "noofClasses = 7\n",
        "\n",
        "score = model.evaluate(validation_set, verbose=0)\n",
        "print('Test Score = ', score[0])\n",
        "print('Test Accuracy = ', score[1])\n",
        "from sklearn.metrics import confusion_matrix, classification_report, roc_auc_score, roc_curve, auc\n",
        "\n",
        "\n",
        "# Get the confusion matrix\n",
        "\n",
        "score = metrics.accuracy_score(y_true=newtest_labels, y_pred=new_labels)\n",
        "print(\"Accuracy score: {}\".format(score))\n",
        "pred_prob =model.predict_generator(validation_set,  num_of_test_samples // batch_size+1)\n",
        "\n",
        "c = roc_auc_score(newtest_labels, pred_prob, multi_class='ovo')\n",
        "print(\"AUC:\", c)\n",
        "# Compute ROC curve and ROC area for each class\n",
        "fpr = {}\n",
        "tpr = {}\n",
        "roc_auc = {}\n",
        "thresh = {}\n",
        "lw = 2\n",
        "precision = {}\n",
        "recall = {}\n",
        "for i in range(noofClasses):\n",
        "    fpr[i], tpr[i], thresh[i] = roc_curve(newtest_labels, pred_prob[:, i], pos_label=i)\n",
        "    precision[i], recall[i], _ = roc_curve(newtest_labels, pred_prob[:, i], pos_label=i)\n",
        "    roc_auc[i] = auc(fpr[i], tpr[i])\n",
        "\n",
        "\n",
        "n_classes = 7\n",
        "\n",
        "# First aggregate all false positive rates\n",
        "all_fpr = np.unique(np.concatenate([fpr[i] for i in range(n_classes)]))\n",
        "\n",
        "# Then interpolate all ROC curves at this points\n",
        "mean_tpr = np.zeros_like(all_fpr)\n",
        "for i in range(n_classes):\n",
        "    mean_tpr += interp(all_fpr, fpr[i], tpr[i])\n",
        "\n",
        "# Finally average it and compute AUC\n",
        "mean_tpr /= n_classes\n",
        "\n",
        "fpr[\"macro\"] = all_fpr\n",
        "tpr[\"macro\"] = mean_tpr\n",
        "roc_auc[\"macro\"] = auc(fpr[\"macro\"], tpr[\"macro\"])\n",
        "\n",
        "# Plot all ROC curves\n",
        "plt.figure()\n",
        "\n",
        "colors = cycle(['green', 'darkorange', 'cornflowerblue', 'yellow','red','blue'])\n",
        "for i, color in zip(range(n_classes), colors):\n",
        "    plt.plot(fpr[i], tpr[i], color=color, lw=lw, label='ROC curve of class {0} (AUC = {1:0.4f})'\n",
        "                                                       ''.format(i, roc_auc[i]))\n",
        "\n",
        "plt.plot([0, 1], [0, 1], 'k--', lw=lw)\n",
        "plt.xlim([0.0, 1.0])\n",
        "plt.ylim([0.0, 1.05])\n",
        "plt.xlabel('False Positive Rate')\n",
        "plt.ylabel('True Positive Rate')\n",
        "plt.title('Receiver operating characteristic curve for VGG-19')\n",
        "plt.legend(loc=\"lower right\")\n",
        "plt.savefig(\"VGG-19_roc.png\")\n",
        "plt.show()\n"
      ]
    },
    {
      "cell_type": "code",
      "execution_count": null,
      "metadata": {
        "id": "Ta_mxQ2nZUka"
      },
      "outputs": [],
      "source": []
    },
    {
      "cell_type": "code",
      "execution_count": null,
      "metadata": {
        "colab": {
          "base_uri": "https://localhost:8080/",
          "height": 354
        },
        "id": "V6Ua1KcdZUnG",
        "outputId": "d9fc5760-e01a-42ad-f405-6e921c6859cc"
      },
      "outputs": [
        {
          "data": {
            "text/plain": [
              "<BarContainer object of 4 artists>"
            ]
          },
          "execution_count": 1,
          "metadata": {},
          "output_type": "execute_result"
        },
        {
          "data": {
            "image/png": "[encoded data removed]",
            "text/plain": [
              "<Figure size 432x288 with 1 Axes>"
            ]
          },
          "metadata": {},
          "output_type": "display_data"
        }
      ],
      "source": [
        "import numpy as np\n",
        "import matplotlib.pyplot as plt\n",
        "data = [[30, 25, 50, 20],\n",
        "[40, 23, 51, 17],\n",
        "[35, 22, 45, 19]]\n",
        "X = np.arange(4)\n",
        "fig = plt.figure()\n",
        "ax = fig.add_axes([0,0,1,1])\n",
        "ax.bar(X + 0.00, data[0], color = 'b', width = 0.25)\n",
        "ax.bar(X + 0.25, data[1], color = 'g', width = 0.25)\n",
        "ax.bar(X + 0.50, data[2], color = 'r', width = 0.25)"
      ]
    },
    {
      "cell_type": "code",
      "execution_count": null,
      "metadata": {
        "colab": {
          "base_uri": "https://localhost:8080/",
          "height": 502
        },
        "id": "cWe0VXeqZUp1",
        "outputId": "5a54184d-7f6f-4231-a4c8-830de4625c4b"
      },
      "outputs": [
        {
          "data": {
            "image/png": "[encoded data removed]",
            "text/plain": [
              "<Figure size 864x576 with 1 Axes>"
            ]
          },
          "metadata": {},
          "output_type": "display_data"
        }
      ],
      "source": [
        "import numpy as np\n",
        "import matplotlib.pyplot as plt\n",
        "\n",
        "# set width of bar\n",
        "barWidth = 0.25\n",
        "fig = plt.subplots(figsize =(12, 8))\n",
        "\n",
        "# set height of bar\n",
        "Train = [62.74, 69.75, 76.02, 71.57]\n",
        "Test = [22.37,24.73,27.20,42.42]\n",
        "bars4=Train+Test\n",
        "\n",
        "\n",
        "# Set position of bar on X axis\n",
        "br1 = np.arange(len(Train))\n",
        "br2 = [x + barWidth for x in br1]\n",
        "r4=br1+br2\n",
        "\n",
        "\n",
        "# Make the plot\n",
        "plt.bar(br1, Train, color ='r', width = barWidth,\n",
        "        edgecolor ='grey', label ='Training Time (Minute)')\n",
        "plt.bar(br2, Test, color ='g', width = barWidth,\n",
        "        edgecolor ='grey', label ='Testing Time (Second)')\n",
        "\n",
        "# Adding Xticks\n",
        "plt.xlabel('Used Models', fontweight ='bold', fontsize = 15)\n",
        "plt.ylabel('Time', fontweight ='bold', fontsize = 15)\n",
        "plt.xticks([r + barWidth for r in range(len(Train))],\n",
        "        ['2D-CNN', 'VGG-16', 'VGG-19', 'Inception-v3'])\n",
        "label = ['62.74', '22.37', '69.75', '24.73', '76.02', '27.20', '71.57', '42.42']\n",
        "\n",
        "for i in range(len(r4)):\n",
        "    plt.text(x = r4[i]-0.4 , y = bars4[i]+0.2, s = label[i], size = 12)\n",
        "\n",
        "\n",
        "plt.legend()\n",
        "plt.grid()\n",
        "plt.show()"
      ]
    },
    {
      "cell_type": "code",
      "execution_count": null,
      "metadata": {
        "id": "SycQ6Xo3ZUsm"
      },
      "outputs": [],
      "source": []
    },
    {
      "cell_type": "code",
      "execution_count": null,
      "metadata": {
        "id": "ksciPuJBZUv_"
      },
      "outputs": [],
      "source": []
    },
    {
      "cell_type": "code",
      "execution_count": null,
      "metadata": {
        "id": "L6FldNUlXsjL"
      },
      "outputs": [],
      "source": []
    },
    {
      "cell_type": "code",
      "execution_count": null,
      "metadata": {
        "id": "Dud1QiQQXsmR"
      },
      "outputs": [],
      "source": []
    },
    {
      "cell_type": "code",
      "execution_count": null,
      "metadata": {
        "id": "ntifmuKuXsqH"
      },
      "outputs": [],
      "source": []
    },
    {
      "cell_type": "code",
      "execution_count": null,
      "metadata": {
        "id": "NZA6FLyqW3qv"
      },
      "outputs": [],
      "source": []
    },
    {
      "cell_type": "code",
      "execution_count": null,
      "metadata": {
        "id": "xOSmNq-iW3uN"
      },
      "outputs": [],
      "source": []
    }
  ],
  "metadata": {
    "accelerator": "GPU",
    "colab": {
      "provenance": []
    },
    "gpuClass": "standard",
    "kernelspec": {
      "display_name": "Python 3",
      "name": "python3"
    },
    "language_info": {
      "name": "python"
    }
  },
  "nbformat": 4,
  "nbformat_minor": 0
}